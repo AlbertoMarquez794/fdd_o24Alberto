{
 "cells": [
  {
   "cell_type": "code",
   "execution_count": 76,
   "metadata": {},
   "outputs": [],
   "source": [
    "import polars as pl\n",
    "import numpy as np\n",
    "import random\n",
    "from datetime import datetime, timedelta"
   ]
  },
  {
   "cell_type": "markdown",
   "metadata": {},
   "source": [
    "# Descripcion"
   ]
  },
  {
   "cell_type": "markdown",
   "metadata": {},
   "source": [
    "Los datos son notificaciones de dispositivos GPS en Mexico. En promedio generan notificaciones automatizadas cada 5 minutos si el carro esta encendido, y 30 si esta apagado.  \n",
    "\n",
    "Cada notificacion esta acompannada de un evento de lo que esta ocurriendo, y trae la latitud y longitud.  \n",
    "\n",
    "El objetico es predecir si un vehiculo esta siendo robado de acuerdo a sus notificaciones, por lo que el primer paso seria limpiar datos y hacer ingenieria de variables.\n",
    "\n",
    "Trata de hacerlo **lazy** si puedes."
   ]
  },
  {
   "cell_type": "code",
   "execution_count": 77,
   "metadata": {},
   "outputs": [],
   "source": [
    "def generate_dummy_data(num_cars, start_time, end_time, working_hours_interval, non_working_hours_interval):\n",
    "    data = []\n",
    "\n",
    "    # Define the latitude and longitude ranges for Mexico\n",
    "    min_latitude, max_latitude = 14.5388, 32.7186\n",
    "    min_longitude, max_longitude = -118.4662, -86.7104\n",
    "\n",
    "    for car_id in range(num_cars):\n",
    "        current_time = start_time\n",
    "\n",
    "        # Generate random initial latitude and longitude for each car\n",
    "        latitude = random.uniform(min_latitude, max_latitude)\n",
    "        longitude = random.uniform(min_longitude, max_longitude)\n",
    "\n",
    "        while current_time < end_time:\n",
    "            if current_time.weekday() < 5 and 9 <= current_time.hour < 17:\n",
    "                # Working hours (Monday to Friday, 9 AM to 5 PM)\n",
    "                interval = working_hours_interval\n",
    "            else:\n",
    "                # Non-working hours\n",
    "                interval = non_working_hours_interval\n",
    "\n",
    "            # Generate notification with 99% probability\n",
    "            if random.random() < 0.99:\n",
    "                notification = random.choice([\"low_fuel\", \"tire_pressure\", \"engine_check\", None])\n",
    "                data.append((f\"car_{car_id}\", current_time.isoformat(), latitude, longitude, notification))\n",
    "\n",
    "            # Generate additional notifications between intervals\n",
    "            while True:\n",
    "                additional_interval = random.expovariate(1 / (interval / 2))\n",
    "                additional_time = current_time + timedelta(minutes=additional_interval)\n",
    "                if additional_time >= current_time + timedelta(minutes=interval):\n",
    "                    break\n",
    "                notification = random.choice([\"low_fuel\", \"tire_pressure\", \"engine_check\", None])\n",
    "                data.append((f\"car_{car_id}\", additional_time.isoformat(), latitude, longitude, notification))\n",
    "\n",
    "            # Update latitude and longitude for car movement\n",
    "            latitude += random.uniform(-0.01, 0.01)\n",
    "            longitude += random.uniform(-0.01, 0.01)\n",
    "\n",
    "            # Check if the car is among the 1% that can have 100 notifications within 5 minutes\n",
    "            if random.random() < 0.01:\n",
    "                burst_start_time = current_time + timedelta(minutes=random.uniform(0, interval))\n",
    "                burst_end_time = burst_start_time + timedelta(minutes=5)\n",
    "                while current_time < burst_end_time:\n",
    "                    notification = random.choice([\"low_fuel\", \"tire_pressure\", \"engine_check\", None])\n",
    "                    data.append((f\"car_{car_id}\", current_time.isoformat(), latitude, longitude, notification))\n",
    "                    current_time += timedelta(seconds=random.uniform(1, 10))\n",
    "\n",
    "            current_time += timedelta(minutes=interval)\n",
    "\n",
    "    # Create a Polars DataFrame from the generated data\n",
    "    df = pl.DataFrame(\n",
    "        {\n",
    "            \"car_id\": [record[0] for record in data],\n",
    "            \"timestamp\": [record[1] for record in data],\n",
    "            \"latitude\": [record[2] for record in data],\n",
    "            \"longitude\": [record[3] for record in data],\n",
    "            \"notification\": [record[4] for record in data],\n",
    "        }\n",
    "    )\n",
    "\n",
    "    return df.lazy()"
   ]
  },
  {
   "cell_type": "code",
   "execution_count": 78,
   "metadata": {},
   "outputs": [
    {
     "name": "stdout",
     "output_type": "stream",
     "text": [
      "naive plan: (run LazyFrame.explain(optimized=True) to see the optimized plan)\n",
      "\n",
      "SLICE[offset: 0, len: 5]\n",
      "  DF [\"car_id\", \"timestamp\", \"latitude\", \"longitude\"]; PROJECT */5 COLUMNS; SELECTION: \"None\"\n"
     ]
    }
   ],
   "source": [
    "num_cars = 2 # Number of cars\n",
    "start_time = datetime(2023, 1, 1, 0, 0, 0)  # Start of the week\n",
    "end_time = start_time + timedelta(weeks=1)  # End of the week\n",
    "working_hours_interval = 5  # Interval of 5 minutes during working hours\n",
    "non_working_hours_interval = 30  # Interval of 30 minutes during non-working hours\n",
    "\n",
    "# Generate the dummy data\n",
    "data = generate_dummy_data(num_cars, start_time, end_time, working_hours_interval, non_working_hours_interval)\n",
    "\n",
    "# Print the first few rows of the generated data\n",
    "print(data.head(5))"
   ]
  },
  {
   "cell_type": "code",
   "execution_count": null,
   "metadata": {},
   "outputs": [],
   "source": []
  },
  {
   "cell_type": "markdown",
   "metadata": {},
   "source": [
    "## Limpieza de datos"
   ]
  },
  {
   "cell_type": "markdown",
   "metadata": {},
   "source": [
    "### Timestamp"
   ]
  },
  {
   "cell_type": "markdown",
   "metadata": {},
   "source": [
    "Convierte el `timestamp` que actualmente es string a formato de tiempo en polars"
   ]
  },
  {
   "cell_type": "code",
   "execution_count": 79,
   "metadata": {},
   "outputs": [],
   "source": [
    "data = data.with_columns(\n",
    "    pl.when(pl.col(\"timestamp\").str.contains(r\"\\.\"))\n",
    "    .then(pl.col(\"timestamp\"))\n",
    "    .otherwise(pl.col(\"timestamp\") + \".000000\")\n",
    "    .alias(\"timestamp\")\n",
    ")\n",
    "data = data.with_columns(pl.col(\"timestamp\").str.strptime(pl.Datetime, \"%Y-%m-%dT%H:%M:%S%.f\"))"
   ]
  },
  {
   "cell_type": "code",
   "execution_count": 80,
   "metadata": {},
   "outputs": [
    {
     "data": {
      "text/plain": [
       "[Datetime(time_unit='ns', time_zone=None)]"
      ]
     },
     "execution_count": 80,
     "metadata": {},
     "output_type": "execute_result"
    }
   ],
   "source": [
    "data.select('timestamp').dtypes"
   ]
  },
  {
   "cell_type": "markdown",
   "metadata": {},
   "source": [
    "Los datos son notificaciones de dispositivos GPS en Mexico. En promedio generan notificaciones automatizadas cada 5 minutos si el carro esta encendido, y 30 si esta apagado.  \n",
    "\n",
    "Cada notificacion esta acompannada de un evento de lo que esta ocurriendo, y trae la latitud y longitud.  \n",
    "\n",
    "El objetico es predecir si un vehiculo esta siendo robado de acuerdo a sus notificaciones, por lo que el primer paso seria limpiar datos y hacer ingenieria de variables.\n",
    "\n",
    "Trata de hacerlo **lazy** si puedes."
   ]
  },
  {
   "cell_type": "markdown",
   "metadata": {},
   "source": [
    "Dado que va a entrar a un modelo de machine learning es encesario que todas las variables sean numericas, y esten en formnato tidy. Cada observacion en una fila, y cada variable en una columna. Por lo tanto se decidio crear estadisticos y agregar los datos a intervalos uniformes de `x` minutos.  \n",
    "\n",
    "Por ejemplo, colapsar toda la informacion que ocurrion en el intervalo, como el numero de notificaciones en esos 5 minutos, el promedio entre notificaciones, y el tipo de notificaciones."
   ]
  },
  {
   "cell_type": "markdown",
   "metadata": {},
   "source": [
    "### Ingenieria de variables"
   ]
  },
  {
   "cell_type": "markdown",
   "metadata": {},
   "source": [
    "Existen varias formas de hacer esto, puedes hacerlo con `group_by` primero para crear las nuevas variables, o `group_by` (`rolling`, `dynamic`) usando operaciones sobre listas. Utiliza claude o chat_gpt"
   ]
  },
  {
   "cell_type": "markdown",
   "metadata": {},
   "source": [
    "1. Crea una nueva variable que compute la diferencia de tiempo entre notificaciones del mismo vehiculo. Piensa como lo vas a hacer. Llama a esta variable `notification_time`\n",
    "   \n"
   ]
  },
  {
   "cell_type": "code",
   "execution_count": 81,
   "metadata": {},
   "outputs": [
    {
     "name": "stdout",
     "output_type": "stream",
     "text": [
      "shape: (12_603, 5)\n",
      "┌────────┬────────────────────────────┬───────────┬─────────────┬───────────────┐\n",
      "│ car_id ┆ timestamp                  ┆ latitude  ┆ longitude   ┆ notification  │\n",
      "│ ---    ┆ ---                        ┆ ---       ┆ ---         ┆ ---           │\n",
      "│ str    ┆ datetime[ns]               ┆ f64       ┆ f64         ┆ str           │\n",
      "╞════════╪════════════════════════════╪═══════════╪═════════════╪═══════════════╡\n",
      "│ car_0  ┆ 2023-01-01 00:00:00        ┆ 26.122443 ┆ -116.580611 ┆ null          │\n",
      "│ car_0  ┆ 2023-01-01 00:30:00        ┆ 26.122375 ┆ -116.578975 ┆ low_fuel      │\n",
      "│ car_0  ┆ 2023-01-01 00:39:53.710416 ┆ 26.122375 ┆ -116.578975 ┆ tire_pressure │\n",
      "│ car_0  ┆ 2023-01-01 00:40:52.213535 ┆ 26.122375 ┆ -116.578975 ┆ low_fuel      │\n",
      "│ car_0  ┆ 2023-01-01 01:00:00        ┆ 26.11961  ┆ -116.58178  ┆ null          │\n",
      "│ …      ┆ …                          ┆ …         ┆ …           ┆ …             │\n",
      "│ car_1  ┆ 2023-01-07 23:57:43.425317 ┆ 21.756305 ┆ -89.552457  ┆ engine_check  │\n",
      "│ car_1  ┆ 2023-01-07 23:59:20.391772 ┆ 21.756305 ┆ -89.552457  ┆ low_fuel      │\n",
      "│ car_1  ┆ 2023-01-08 00:07:50.078915 ┆ 21.756305 ┆ -89.552457  ┆ low_fuel      │\n",
      "│ car_1  ┆ 2023-01-07 23:53:44.853418 ┆ 21.756305 ┆ -89.552457  ┆ tire_pressure │\n",
      "│ car_1  ┆ 2023-01-07 23:53:29.702486 ┆ 21.756305 ┆ -89.552457  ┆ tire_pressure │\n",
      "└────────┴────────────────────────────┴───────────┴─────────────┴───────────────┘\n"
     ]
    }
   ],
   "source": [
    "print(data.collect())"
   ]
  },
  {
   "cell_type": "code",
   "execution_count": 82,
   "metadata": {},
   "outputs": [],
   "source": [
    "data = (data\n",
    "    .sort(['car_id', 'timestamp'])\n",
    "    .with_columns([\n",
    "        pl.col('timestamp').diff().over('car_id').fill_null(pl.duration(nanoseconds=0)).alias('notification_time')\n",
    "    ])\n",
    ")"
   ]
  },
  {
   "cell_type": "code",
   "execution_count": 83,
   "metadata": {},
   "outputs": [
    {
     "name": "stdout",
     "output_type": "stream",
     "text": [
      "shape: (12_603, 6)\n",
      "┌────────┬─────────────────────┬───────────┬─────────────┬───────────────┬───────────────────┐\n",
      "│ car_id ┆ timestamp           ┆ latitude  ┆ longitude   ┆ notification  ┆ notification_time │\n",
      "│ ---    ┆ ---                 ┆ ---       ┆ ---         ┆ ---           ┆ ---               │\n",
      "│ str    ┆ datetime[ns]        ┆ f64       ┆ f64         ┆ str           ┆ duration[ns]      │\n",
      "╞════════╪═════════════════════╪═══════════╪═════════════╪═══════════════╪═══════════════════╡\n",
      "│ car_0  ┆ 2023-01-01 00:00:00 ┆ 26.122443 ┆ -116.580611 ┆ null          ┆ 0ns               │\n",
      "│ car_0  ┆ 2023-01-01 00:30:00 ┆ 26.122375 ┆ -116.578975 ┆ low_fuel      ┆ 30m               │\n",
      "│ car_0  ┆ 2023-01-01          ┆ 26.122375 ┆ -116.578975 ┆ tire_pressure ┆ 9m 53s 710416µs   │\n",
      "│        ┆ 00:39:53.710416     ┆           ┆             ┆               ┆                   │\n",
      "│ car_0  ┆ 2023-01-01          ┆ 26.122375 ┆ -116.578975 ┆ low_fuel      ┆ 58s 503119µs      │\n",
      "│        ┆ 00:40:52.213535     ┆           ┆             ┆               ┆                   │\n",
      "│ car_0  ┆ 2023-01-01 01:00:00 ┆ 26.11961  ┆ -116.58178  ┆ null          ┆ 19m 7s 786465µs   │\n",
      "│ …      ┆ …                   ┆ …         ┆ …           ┆ …             ┆ …                 │\n",
      "│ car_1  ┆ 2023-01-07          ┆ 21.756305 ┆ -89.552457  ┆ engine_check  ┆ 3m 43s 586169µs   │\n",
      "│        ┆ 23:57:43.425317     ┆           ┆             ┆               ┆                   │\n",
      "│ car_1  ┆ 2023-01-07          ┆ 21.756305 ┆ -89.552457  ┆ low_fuel      ┆ 1m 36s 966455µs   │\n",
      "│        ┆ 23:59:20.391772     ┆           ┆             ┆               ┆                   │\n",
      "│ car_1  ┆ 2023-01-08          ┆ 21.756305 ┆ -89.552457  ┆ null          ┆ 3m 22s 418397µs   │\n",
      "│        ┆ 00:02:42.810169     ┆           ┆             ┆               ┆                   │\n",
      "│ car_1  ┆ 2023-01-08          ┆ 21.756305 ┆ -89.552457  ┆ low_fuel      ┆ 5m 7s 268746µs    │\n",
      "│        ┆ 00:07:50.078915     ┆           ┆             ┆               ┆                   │\n",
      "│ car_1  ┆ 2023-01-08          ┆ 21.756305 ┆ -89.552457  ┆ low_fuel      ┆ 4m 56s 809720µs   │\n",
      "│        ┆ 00:12:46.888635     ┆           ┆             ┆               ┆                   │\n",
      "└────────┴─────────────────────┴───────────┴─────────────┴───────────────┴───────────────────┘\n"
     ]
    }
   ],
   "source": [
    "print(data.collect())"
   ]
  },
  {
   "cell_type": "markdown",
   "metadata": {},
   "source": [
    "2. Crea una nueva variable que compute la distancia que viajo el vehiculo desde la ultima notificacion. Llamala `distance`"
   ]
  },
  {
   "cell_type": "code",
   "execution_count": 84,
   "metadata": {},
   "outputs": [],
   "source": [
    "import numpy as np\n",
    "\n",
    "def haversine(lat1, lon1, lat2, lon2):\n",
    "    # rodio de la tierra en km\n",
    "    R = 6371.0\n",
    "\n",
    "    # Convertir a radianes\n",
    "    lat1, lon1, lat2, lon2 = np.radians([lat1, lon1, lat2, lon2])\n",
    "\n",
    "    # diferencias\n",
    "    dlat = lat2 - lat1\n",
    "    dlon = lon2 - lon1\n",
    "\n",
    "    # formula de haversine\n",
    "    a = np.sin(dlat / 2)**2 + np.cos(lat1) * np.cos(lat2) * np.sin(dlon / 2)**2\n",
    "    c = 2 * np.arctan2(np.sqrt(a), np.sqrt(1 - a))\n",
    "    distance = R * c\n",
    "    return distance"
   ]
  },
  {
   "cell_type": "code",
   "execution_count": 85,
   "metadata": {},
   "outputs": [],
   "source": [
    "#calculamos la distancia entre dos puntos\n",
    "data = data.with_columns(\n",
    "    pl.when(pl.col(\"car_id\") == pl.col(\"car_id\").shift(1))\n",
    "    .then(\n",
    "        haversine(\n",
    "            pl.col(\"latitude\"),\n",
    "            pl.col(\"longitude\"),\n",
    "            pl.col(\"latitude\").shift(1),\n",
    "            pl.col(\"longitude\").shift(1)\n",
    "        )\n",
    "    )\n",
    "    .otherwise(pl.lit(0))\n",
    "    .alias(\"distance\")\n",
    ")"
   ]
  },
  {
   "cell_type": "code",
   "execution_count": 86,
   "metadata": {},
   "outputs": [
    {
     "name": "stdout",
     "output_type": "stream",
     "text": [
      "shape: (12_603, 7)\n",
      "┌────────┬──────────────────┬───────────┬─────────────┬───────────────┬─────────────────┬──────────┐\n",
      "│ car_id ┆ timestamp        ┆ latitude  ┆ longitude   ┆ notification  ┆ notification_ti ┆ distance │\n",
      "│ ---    ┆ ---              ┆ ---       ┆ ---         ┆ ---           ┆ me              ┆ ---      │\n",
      "│ str    ┆ datetime[ns]     ┆ f64       ┆ f64         ┆ str           ┆ ---             ┆ f64      │\n",
      "│        ┆                  ┆           ┆             ┆               ┆ duration[ns]    ┆          │\n",
      "╞════════╪══════════════════╪═══════════╪═════════════╪═══════════════╪═════════════════╪══════════╡\n",
      "│ car_0  ┆ 2023-01-01       ┆ 26.122443 ┆ -116.580611 ┆ null          ┆ 0ns             ┆ 0.0      │\n",
      "│        ┆ 00:00:00         ┆           ┆             ┆               ┆                 ┆          │\n",
      "│ car_0  ┆ 2023-01-01       ┆ 26.122375 ┆ -116.578975 ┆ low_fuel      ┆ 30m             ┆ 0.163503 │\n",
      "│        ┆ 00:30:00         ┆           ┆             ┆               ┆                 ┆          │\n",
      "│ car_0  ┆ 2023-01-01       ┆ 26.122375 ┆ -116.578975 ┆ tire_pressure ┆ 9m 53s 710416µs ┆ 0.0      │\n",
      "│        ┆ 00:39:53.710416  ┆           ┆             ┆               ┆                 ┆          │\n",
      "│ car_0  ┆ 2023-01-01       ┆ 26.122375 ┆ -116.578975 ┆ low_fuel      ┆ 58s 503119µs    ┆ 0.0      │\n",
      "│        ┆ 00:40:52.213535  ┆           ┆             ┆               ┆                 ┆          │\n",
      "│ car_0  ┆ 2023-01-01       ┆ 26.11961  ┆ -116.58178  ┆ null          ┆ 19m 7s 786465µs ┆ 0.415789 │\n",
      "│        ┆ 01:00:00         ┆           ┆             ┆               ┆                 ┆          │\n",
      "│ …      ┆ …                ┆ …         ┆ …           ┆ …             ┆ …               ┆ …        │\n",
      "│ car_1  ┆ 2023-01-07       ┆ 21.756305 ┆ -89.552457  ┆ engine_check  ┆ 3m 43s 586169µs ┆ 0.0      │\n",
      "│        ┆ 23:57:43.425317  ┆           ┆             ┆               ┆                 ┆          │\n",
      "│ car_1  ┆ 2023-01-07       ┆ 21.756305 ┆ -89.552457  ┆ low_fuel      ┆ 1m 36s 966455µs ┆ 0.0      │\n",
      "│        ┆ 23:59:20.391772  ┆           ┆             ┆               ┆                 ┆          │\n",
      "│ car_1  ┆ 2023-01-08       ┆ 21.756305 ┆ -89.552457  ┆ null          ┆ 3m 22s 418397µs ┆ 0.0      │\n",
      "│        ┆ 00:02:42.810169  ┆           ┆             ┆               ┆                 ┆          │\n",
      "│ car_1  ┆ 2023-01-08       ┆ 21.756305 ┆ -89.552457  ┆ low_fuel      ┆ 5m 7s 268746µs  ┆ 0.0      │\n",
      "│        ┆ 00:07:50.078915  ┆           ┆             ┆               ┆                 ┆          │\n",
      "│ car_1  ┆ 2023-01-08       ┆ 21.756305 ┆ -89.552457  ┆ low_fuel      ┆ 4m 56s 809720µs ┆ 0.0      │\n",
      "│        ┆ 00:12:46.888635  ┆           ┆             ┆               ┆                 ┆          │\n",
      "└────────┴──────────────────┴───────────┴─────────────┴───────────────┴─────────────────┴──────────┘\n"
     ]
    }
   ],
   "source": [
    "print(data.collect())"
   ]
  },
  {
   "cell_type": "markdown",
   "metadata": {},
   "source": [
    "3. Crea intervalos de `x` minutos por carro. Como el numero de notificaciones en esos intervalos no es uniforme tienes que buscar funciones de polars especificas, pero ademas tienen que ser por vehiculo, pues tienen que ser del mismo. Revisa las funciones de `group_by` `dynamic` y `rolling`.\n",
    "   1. Computa la media, mediana, varianza, max y min de `notification_time` los intervalos de `x` minutos\n",
    "   2. Computa la media, mediana, varianza, max y min de `distance`\n"
   ]
  },
  {
   "cell_type": "code",
   "execution_count": 87,
   "metadata": {},
   "outputs": [],
   "source": [
    "intervalo = \"5m\""
   ]
  },
  {
   "cell_type": "code",
   "execution_count": 88,
   "metadata": {},
   "outputs": [
    {
     "name": "stdout",
     "output_type": "stream",
     "text": [
      "shape: (2_765, 7)\n",
      "┌────────┬──────────────┬──────────────┬──────────────┬──────────────┬──────────────┬──────────────┐\n",
      "│ car_id ┆ timestamp    ┆ media        ┆ mediana      ┆ varianza     ┆ max          ┆ min          │\n",
      "│ ---    ┆ ---          ┆ ---          ┆ ---          ┆ ---          ┆ ---          ┆ ---          │\n",
      "│ str    ┆ datetime[ns] ┆ duration[ns] ┆ duration[ns] ┆ duration[ns] ┆ duration[ns] ┆ duration[ns] │\n",
      "╞════════╪══════════════╪══════════════╪══════════════╪══════════════╪══════════════╪══════════════╡\n",
      "│ car_0  ┆ 2022-12-31   ┆ 0ns          ┆ 0ns          ┆ null         ┆ 0ns          ┆ 0ns          │\n",
      "│        ┆ 23:55:00     ┆              ┆              ┆              ┆              ┆              │\n",
      "│ car_0  ┆ 2023-01-01   ┆ 0ns          ┆ 0ns          ┆ null         ┆ 0ns          ┆ 0ns          │\n",
      "│        ┆ 00:00:00     ┆              ┆              ┆              ┆              ┆              │\n",
      "│ car_0  ┆ 2023-01-01   ┆ 30m          ┆ 30m          ┆ null         ┆ 30m          ┆ 30m          │\n",
      "│        ┆ 00:25:00     ┆              ┆              ┆              ┆              ┆              │\n",
      "│ car_0  ┆ 2023-01-01   ┆ 30m          ┆ 30m          ┆ null         ┆ 30m          ┆ 30m          │\n",
      "│        ┆ 00:30:00     ┆              ┆              ┆              ┆              ┆              │\n",
      "│ car_0  ┆ 2023-01-01   ┆ 9m 53s       ┆ 9m 53s       ┆ null         ┆ 9m 53s       ┆ 9m 53s       │\n",
      "│        ┆ 00:35:00     ┆ 710416µs     ┆ 710416µs     ┆              ┆ 710416µs     ┆ 710416µs     │\n",
      "│ …      ┆ …            ┆ …            ┆ …            ┆ …            ┆ …            ┆ …            │\n",
      "│ car_1  ┆ 2023-01-07   ┆ 1m 24s       ┆ 15s 150932µs ┆ null         ┆ 3m 42s       ┆ 14s 985730µs │\n",
      "│        ┆ 23:50:00     ┆ 326258µs     ┆              ┆              ┆ 842112µs     ┆              │\n",
      "│ car_1  ┆ 2023-01-07   ┆ 2m 40s       ┆ 2m 40s       ┆ null         ┆ 3m 43s       ┆ 1m 36s       │\n",
      "│        ┆ 23:55:00     ┆ 276312µs     ┆ 276312µs     ┆              ┆ 586169µs     ┆ 966455µs     │\n",
      "│ car_1  ┆ 2023-01-08   ┆ 3m 22s       ┆ 3m 22s       ┆ null         ┆ 3m 22s       ┆ 3m 22s       │\n",
      "│        ┆ 00:00:00     ┆ 418397µs     ┆ 418397µs     ┆              ┆ 418397µs     ┆ 418397µs     │\n",
      "│ car_1  ┆ 2023-01-08   ┆ 5m 7s        ┆ 5m 7s        ┆ null         ┆ 5m 7s        ┆ 5m 7s        │\n",
      "│        ┆ 00:05:00     ┆ 268746µs     ┆ 268746µs     ┆              ┆ 268746µs     ┆ 268746µs     │\n",
      "│ car_1  ┆ 2023-01-08   ┆ 4m 56s       ┆ 4m 56s       ┆ null         ┆ 4m 56s       ┆ 4m 56s       │\n",
      "│        ┆ 00:10:00     ┆ 809720µs     ┆ 809720µs     ┆              ┆ 809720µs     ┆ 809720µs     │\n",
      "└────────┴──────────────┴──────────────┴──────────────┴──────────────┴──────────────┴──────────────┘\n"
     ]
    }
   ],
   "source": [
    "# Agrupar por 'car_id' y por intervalos de tiempo en 'timestamp'\n",
    "info_notificacion = data.group_by_dynamic(\n",
    "    group_by=\"car_id\", index_column=\"timestamp\", every=intervalo, period=intervalo, closed=\"both\", include_boundaries=True\n",
    ").agg([\n",
    "    pl.col(\"notification_time\").mean().alias(\"media\"),\n",
    "    pl.col(\"notification_time\").median().alias(\"mediana\"),\n",
    "    pl.col(\"notification_time\").var().alias(\"varianza\"),\n",
    "    pl.col(\"notification_time\").max().alias(\"max\"),\n",
    "    pl.col(\"notification_time\").min().alias(\"min\")\n",
    "])\n",
    "\n",
    "print(info_notificacion.select('car_id', 'timestamp', 'media', 'mediana', 'varianza', 'max', 'min').collect())"
   ]
  },
  {
   "cell_type": "code",
   "execution_count": 89,
   "metadata": {},
   "outputs": [
    {
     "name": "stdout",
     "output_type": "stream",
     "text": [
      "shape: (2_765, 7)\n",
      "┌────────┬─────────────────────┬──────────┬──────────┬──────────┬──────────┬──────────┐\n",
      "│ car_id ┆ timestamp           ┆ media    ┆ mediana  ┆ varianza ┆ max      ┆ min      │\n",
      "│ ---    ┆ ---                 ┆ ---      ┆ ---      ┆ ---      ┆ ---      ┆ ---      │\n",
      "│ str    ┆ datetime[ns]        ┆ f64      ┆ f64      ┆ f64      ┆ f64      ┆ f64      │\n",
      "╞════════╪═════════════════════╪══════════╪══════════╪══════════╪══════════╪══════════╡\n",
      "│ car_0  ┆ 2022-12-31 23:55:00 ┆ 0.0      ┆ 0.0      ┆ null     ┆ 0.0      ┆ 0.0      │\n",
      "│ car_0  ┆ 2023-01-01 00:00:00 ┆ 0.0      ┆ 0.0      ┆ null     ┆ 0.0      ┆ 0.0      │\n",
      "│ car_0  ┆ 2023-01-01 00:25:00 ┆ 0.163503 ┆ 0.163503 ┆ null     ┆ 0.163503 ┆ 0.163503 │\n",
      "│ car_0  ┆ 2023-01-01 00:30:00 ┆ 0.163503 ┆ 0.163503 ┆ null     ┆ 0.163503 ┆ 0.163503 │\n",
      "│ car_0  ┆ 2023-01-01 00:35:00 ┆ 0.0      ┆ 0.0      ┆ null     ┆ 0.0      ┆ 0.0      │\n",
      "│ …      ┆ …                   ┆ …        ┆ …        ┆ …        ┆ …        ┆ …        │\n",
      "│ car_1  ┆ 2023-01-07 23:50:00 ┆ 0.0      ┆ 0.0      ┆ 0.0      ┆ 0.0      ┆ 0.0      │\n",
      "│ car_1  ┆ 2023-01-07 23:55:00 ┆ 0.0      ┆ 0.0      ┆ 0.0      ┆ 0.0      ┆ 0.0      │\n",
      "│ car_1  ┆ 2023-01-08 00:00:00 ┆ 0.0      ┆ 0.0      ┆ null     ┆ 0.0      ┆ 0.0      │\n",
      "│ car_1  ┆ 2023-01-08 00:05:00 ┆ 0.0      ┆ 0.0      ┆ null     ┆ 0.0      ┆ 0.0      │\n",
      "│ car_1  ┆ 2023-01-08 00:10:00 ┆ 0.0      ┆ 0.0      ┆ null     ┆ 0.0      ┆ 0.0      │\n",
      "└────────┴─────────────────────┴──────────┴──────────┴──────────┴──────────┴──────────┘\n"
     ]
    }
   ],
   "source": [
    "info_distancia = data.group_by_dynamic(\n",
    "group_by=\"car_id\", index_column=\"timestamp\", every=intervalo, period=intervalo, closed=\"both\", include_boundaries=True\n",
    ").agg([\n",
    "    pl.col(\"distance\").mean().alias(\"media\"),\n",
    "    pl.col(\"distance\").median().alias(\"mediana\"),\n",
    "    pl.col(\"distance\").var().alias(\"varianza\"),\n",
    "    pl.col(\"distance\").max().alias(\"max\"),\n",
    "    pl.col(\"distance\").min().alias(\"min\")\n",
    "])\n",
    "\n",
    "print(info_distancia.select('car_id', 'timestamp', 'media', 'mediana', 'varianza', 'max', 'min').collect())"
   ]
  }
 ],
 "metadata": {
  "kernelspec": {
   "display_name": "itam",
   "language": "python",
   "name": "python3"
  },
  "language_info": {
   "codemirror_mode": {
    "name": "ipython",
    "version": 3
   },
   "file_extension": ".py",
   "mimetype": "text/x-python",
   "name": "python",
   "nbconvert_exporter": "python",
   "pygments_lexer": "ipython3",
   "version": "3.11.8"
  }
 },
 "nbformat": 4,
 "nbformat_minor": 2
}
