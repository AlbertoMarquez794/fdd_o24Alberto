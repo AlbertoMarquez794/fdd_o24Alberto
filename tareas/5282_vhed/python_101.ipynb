{
 "cells": [
  {
   "cell_type": "code",
   "execution_count": null,
   "id": "e27fe253",
   "metadata": {
    "scrolled": true
   },
   "outputs": [],
   "source": [
    "import numpy as np\n",
    "import time\n",
    "\n",
    "# Implementación con un bucle for tradicional sin desbordamiento de tipo\n",
    "def suma_cuadrados_for(n):\n",
    "    suma = 0\n",
    "    for i in range(1, n+1):\n",
    "        suma += i**2\n",
    "    return suma\n",
    "\n",
    "# Implementación vectorizada usando NumPy\n",
    "def suma_cuadrados_numpy(n):\n",
    "    numeros = np.arange(1, n+1)\n",
    "    suma = np.sum(numeros**2)\n",
    "    return suma\n",
    "\n",
    "# Definimos el valor de n\n",
    "n = 100000000\n",
    "\n",
    "# Calculamos la suma de cuadrados utilizando el método con bucle for tradicional\n",
    "inicio_for = time.time()\n",
    "resultado_for = suma_cuadrados_for(n)\n",
    "fin_for = time.time()\n",
    "tiempo_for = fin_for - inicio_for\n",
    "\n",
    "# Calculamos la suma de cuadrados utilizando la versión vectorizada con NumPy\n",
    "inicio_numpy = time.time()\n",
    "resultado_numpy = suma_cuadrados_numpy(n)\n",
    "fin_numpy = time.time()\n",
    "tiempo_numpy = fin_numpy - inicio_numpy\n",
    "\n",
    "# Imprimimos los resultados y los tiempos de ejecución\n",
    "print(\"Resultado usando bucle for tradicional:\", resultado_for)\n",
    "print(\"Tiempo usando bucle for tradicional:\", tiempo_for, \"segundos\")\n",
    "\n",
    "print(\"\\nResultado usando NumPy:\", resultado_numpy)\n",
    "print(\"Tiempo usando NumPy:\", tiempo_numpy, \"segundos\")\n"
   ]
  },
  {
   "cell_type": "code",
   "execution_count": null,
   "id": "92f2ae08",
   "metadata": {},
   "outputs": [],
   "source": [
    "from joblib import Parallel, delayed\n",
    "import numpy as np\n",
    "import time\n",
    "\n",
    "# Función para calcular el cuadrado de un número\n",
    "def calcular_cuadrado(numero):\n",
    "    return numero**2\n",
    "\n",
    "# Definición del valor de n\n",
    "n = 100000000\n",
    "\n",
    "# Paralelización del cálculo de los cuadrados usando joblib\n",
    "inicio_joblib = time.time()\n",
    "cuadrados = Parallel(n_jobs=-1)(delayed(calcular_cuadrado)(i) for i in range(1, n+1))\n",
    "fin_joblib = time.time()\n",
    "tiempo_joblib = fin_joblib - inicio_joblib\n",
    "\n",
    "# Suma de los cuadrados calculados\n",
    "resultado_joblib = np.sum(cuadrados)\n",
    "\n",
    "# Imprimir el resultado y el tiempo de ejecución\n",
    "print(\"Resultado usando joblib:\", resultado_joblib)\n",
    "print(\"Tiempo usando joblib:\", tiempo_joblib, \"segundos\")"
   ]
  },
  {
   "cell_type": "code",
   "execution_count": null,
   "id": "715f67f0",
   "metadata": {},
   "outputs": [],
   "source": []
  }
 ],
 "metadata": {
  "kernelspec": {
   "display_name": "Python 3 (ipykernel)",
   "language": "python",
   "name": "python3"
  },
  "language_info": {
   "codemirror_mode": {
    "name": "ipython",
    "version": 3
   },
   "file_extension": ".py",
   "mimetype": "text/x-python",
   "name": "python",
   "nbconvert_exporter": "python",
   "pygments_lexer": "ipython3",
   "version": "3.11.5"
  }
 },
 "nbformat": 4,
 "nbformat_minor": 5
}
