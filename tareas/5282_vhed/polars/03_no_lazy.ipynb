{
 "cells": [
  {
   "cell_type": "markdown",
   "metadata": {},
   "source": [
    "<a target=\"_blank\" href=\"https://colab.research.google.com/github/sonder-art/fdd_o23/blob/main/codigo/polars/03_no_lazy.ipynb\">\n",
    "  <img src=\"https://colab.research.google.com/assets/colab-badge.svg\" alt=\"Open In Colab\"/>\n",
    "</a>"
   ]
  },
  {
   "cell_type": "code",
   "execution_count": 3,
   "metadata": {},
   "outputs": [],
   "source": [
    "#!pip install polars"
   ]
  },
  {
   "cell_type": "code",
   "execution_count": 1,
   "metadata": {},
   "outputs": [],
   "source": [
    "import polars as pl\n",
    "import matplotlib.pyplot as plt"
   ]
  },
  {
   "cell_type": "markdown",
   "metadata": {},
   "source": [
    "# Visualizacion de Datos\n"
   ]
  },
  {
   "cell_type": "code",
   "execution_count": 3,
   "metadata": {},
   "outputs": [],
   "source": [
    "# Crear un DataFrame\n",
    "df = pl.DataFrame({\n",
    "    \"x\": [1, 2, 3, 4, 5],\n",
    "    \"y\": [5, 4, 3, 2, 1]\n",
    "})\n",
    "\n",
    "# Intento de graficar usando evaluación perezosa - Esto no funcionará\n",
    "lazy_df = df.lazy()\n",
    "#plt.plot(lazy_df.select(\"x\"), lazy_df.select(\"y\"))  # Error: No se puede acceder a los datos directamente\n",
    "#plt.show()\n"
   ]
  },
  {
   "cell_type": "markdown",
   "metadata": {},
   "source": [
    "# Operaciones Interactivas o de Tiempo Real"
   ]
  },
  {
   "cell_type": "code",
   "execution_count": 5,
   "metadata": {},
   "outputs": [
    {
     "data": {
      "text/html": [
       "<i>naive plan: (run <b>LazyFrame.explain(optimized=True)</b> to see the optimized plan)</i>\n",
       "    <p></p>\n",
       "    <div>FILTER [(col(\"x\")) == (String(3))] FROM<p></p>DF [\"x\", \"y\"]; PROJECT */2 COLUMNS; SELECTION: \"None\"</div>"
      ],
      "text/plain": [
       "<LazyFrame [2 cols, {\"x\": Int64, \"y\": Int64}] at 0x10F01A900>"
      ]
     },
     "execution_count": 5,
     "metadata": {},
     "output_type": "execute_result"
    }
   ],
   "source": [
    "# Supongamos que necesitamos una entrada del usuario basada en los datos\n",
    "lazy_df = df.lazy()\n",
    "user_input = input(\"Ingrese un valor basado en la columna 'x': \")  # Supone que el usuario necesita ver los datos\n",
    "filtered_df = lazy_df.filter(pl.col(\"x\") == user_input)  # Esto no funcionará correctamente\n",
    "filtered_df"
   ]
  },
  {
   "cell_type": "markdown",
   "metadata": {},
   "source": [
    "# Debugging"
   ]
  },
  {
   "cell_type": "code",
   "execution_count": 6,
   "metadata": {},
   "outputs": [
    {
     "name": "stdout",
     "output_type": "stream",
     "text": [
      "shape: (5, 2)\n",
      "┌─────┬─────┐\n",
      "│ x   ┆ y   │\n",
      "│ --- ┆ --- │\n",
      "│ f64 ┆ i64 │\n",
      "╞═════╪═════╡\n",
      "│ inf ┆ 5   │\n",
      "│ inf ┆ 4   │\n",
      "│ inf ┆ 3   │\n",
      "│ inf ┆ 2   │\n",
      "│ inf ┆ 1   │\n",
      "└─────┴─────┘\n"
     ]
    }
   ],
   "source": [
    "lazy_df = df.lazy().with_columns(pl.col(\"x\") / 0)  # Supongamos que hay un error aquí\n",
    "\n",
    "# El error no se revelará hasta que se ejecute la operación\n",
    "try:\n",
    "    print(lazy_df.collect())  # Aquí se revelará el error\n",
    "except ZeroDivisionError:\n",
    "    print(\"Error de división por cero detectado\")\n"
   ]
  }
 ],
 "metadata": {
  "kernelspec": {
   "display_name": ".venv",
   "language": "python",
   "name": "python3"
  },
  "language_info": {
   "codemirror_mode": {
    "name": "ipython",
    "version": 3
   },
   "file_extension": ".py",
   "mimetype": "text/x-python",
   "name": "python",
   "nbconvert_exporter": "python",
   "pygments_lexer": "ipython3",
   "version": "3.12.1"
  }
 },
 "nbformat": 4,
 "nbformat_minor": 2
}
