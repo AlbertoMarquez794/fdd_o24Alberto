{
 "cells": [
  {
   "cell_type": "markdown",
   "metadata": {},
   "source": [
    "<a target=\"_blank\" href=\"https://colab.research.google.com/github/sonder-art/fdd_o23/blob/main/codigo/polars/00_polars_pandas_time.ipynb\">\n",
    "  <img src=\"https://colab.research.google.com/assets/colab-badge.svg\" alt=\"Open In Colab\"/>\n",
    "</a>"
   ]
  },
  {
   "cell_type": "code",
   "execution_count": 4,
   "metadata": {},
   "outputs": [
    {
     "name": "stdout",
     "output_type": "stream",
     "text": [
      "Collecting pyarrow\n",
      "  Downloading pyarrow-15.0.2-cp312-cp312-macosx_10_15_x86_64.whl.metadata (3.0 kB)\n",
      "Requirement already satisfied: numpy<2,>=1.16.6 in /Users/vic/Fuentes_de_Datos/.venv/lib/python3.12/site-packages (from pyarrow) (1.26.4)\n",
      "Downloading pyarrow-15.0.2-cp312-cp312-macosx_10_15_x86_64.whl (27.1 MB)\n",
      "\u001b[2K   \u001b[90m━━━━━━━━━━━━━━━━━━━━━━━━━━━━━━━━━━━━━━━━\u001b[0m \u001b[32m27.1/27.1 MB\u001b[0m \u001b[31m2.9 MB/s\u001b[0m eta \u001b[36m0:00:00\u001b[0m00:01\u001b[0m00:01\u001b[0m\n",
      "\u001b[?25hInstalling collected packages: pyarrow\n",
      "Successfully installed pyarrow-15.0.2\n",
      "Note: you may need to restart the kernel to use updated packages.\n"
     ]
    }
   ],
   "source": [
    "#%pip install polars\n",
    "%pip install pyarrow"
   ]
  },
  {
   "cell_type": "code",
   "execution_count": 1,
   "metadata": {},
   "outputs": [],
   "source": [
    "import pandas as pd\n",
    "import polars as pl\n",
    "import numpy as np\n"
   ]
  },
  {
   "cell_type": "code",
   "execution_count": 2,
   "metadata": {},
   "outputs": [],
   "source": [
    "# Configuramos el número de filas\n",
    "num_rows = 10_000_000\n",
    "\n",
    "# Creamos un DataFrame de pandas\n",
    "df_pandas = pd.DataFrame({\n",
    "    \"A\": np.random.rand(num_rows),\n",
    "    \"B\": np.random.randint(0, 100, num_rows)\n",
    "})\n",
    "\n",
    "# Convertimos el DataFrame de pandas a un DataFrame de Polars\n",
    "df_polars = pl.from_pandas(df_pandas)\n"
   ]
  },
  {
   "cell_type": "markdown",
   "metadata": {},
   "source": [
    "# Operaciones a comparar"
   ]
  },
  {
   "cell_type": "code",
   "execution_count": 3,
   "metadata": {},
   "outputs": [],
   "source": [
    "import timeit\n"
   ]
  },
  {
   "cell_type": "markdown",
   "metadata": {},
   "source": [
    "## Filtrado"
   ]
  },
  {
   "cell_type": "code",
   "execution_count": 6,
   "metadata": {},
   "outputs": [
    {
     "name": "stdout",
     "output_type": "stream",
     "text": [
      "Pandas Filtrado: 0.3012490559485741 segundos\n",
      "Polars Filtrado: 0.06714620703132823 segundos\n"
     ]
    }
   ],
   "source": [
    "\n",
    "# Filtrado en pandas\n",
    "def filter_pandas():\n",
    "    return df_pandas[df_pandas[\"A\"] < 0.5]\n",
    "\n",
    "# Filtrado en Polars\n",
    "def filter_polars():\n",
    "    return df_polars.filter(pl.col(\"A\") < 0.5)\n",
    "\n",
    "time_pandas_filter = timeit.timeit(filter_pandas, number=1)\n",
    "time_polars_filter = timeit.timeit(filter_polars, number=1)\n",
    "\n",
    "print(f\"Pandas Filtrado: {time_pandas_filter} segundos\")\n",
    "print(f\"Polars Filtrado: {time_polars_filter} segundos\")\n"
   ]
  },
  {
   "cell_type": "markdown",
   "metadata": {},
   "source": [
    "## Agregacion"
   ]
  },
  {
   "cell_type": "code",
   "execution_count": 7,
   "metadata": {},
   "outputs": [
    {
     "name": "stdout",
     "output_type": "stream",
     "text": [
      "Pandas Agregación: 0.2875659679993987 segundos\n",
      "Polars Agregación: 0.18364001403097063 segundos\n"
     ]
    },
    {
     "name": "stderr",
     "output_type": "stream",
     "text": [
      "/var/folders/20/32nt1tgd7dn17l8pghpkyhhc0000gn/T/ipykernel_4117/870000003.py:7: DeprecationWarning: `groupby` is deprecated. It has been renamed to `group_by`.\n",
      "  return df_polars.groupby(\"B\").agg(pl.col(\"A\").mean())\n"
     ]
    }
   ],
   "source": [
    "# Agregación en pandas\n",
    "def aggregate_pandas():\n",
    "    return df_pandas.groupby(\"B\").agg({\"A\": \"mean\"})\n",
    "\n",
    "# Agregación en Polars\n",
    "def aggregate_polars():\n",
    "    return df_polars.groupby(\"B\").agg(pl.col(\"A\").mean())\n",
    "\n",
    "time_pandas_agg = timeit.timeit(aggregate_pandas, number=1)\n",
    "time_polars_agg = timeit.timeit(aggregate_polars, number=1)\n",
    "\n",
    "print(f\"Pandas Agregación: {time_pandas_agg} segundos\")\n",
    "print(f\"Polars Agregación: {time_polars_agg} segundos\")\n"
   ]
  },
  {
   "cell_type": "markdown",
   "metadata": {},
   "source": [
    "## Operaciones Columna"
   ]
  },
  {
   "cell_type": "code",
   "execution_count": 10,
   "metadata": {},
   "outputs": [
    {
     "name": "stdout",
     "output_type": "stream",
     "text": [
      "Pandas Operaciones de Columna: 0.14730444602901116 segundos\n",
      "Polars Operaciones de Columna: 0.14770600403426215 segundos\n"
     ]
    }
   ],
   "source": [
    "# Operaciones de columna en pandas\n",
    "def column_ops_pandas():\n",
    "    df_pandas[\"C\"] = df_pandas[\"A\"] + df_pandas[\"B\"]\n",
    "\n",
    "# Operaciones de columna en Polars\n",
    "def column_ops_polars():\n",
    "    df_polars.with_columns((pl.col(\"A\") + pl.col(\"B\")).alias(\"C\"))\n",
    "\n",
    "time_pandas_col_ops = timeit.timeit(column_ops_pandas, number=1)\n",
    "time_polars_col_ops = timeit.timeit(column_ops_polars, number=1)\n",
    "\n",
    "print(f\"Pandas Operaciones de Columna: {time_pandas_col_ops} segundos\")\n",
    "print(f\"Polars Operaciones de Columna: {time_polars_col_ops} segundos\")\n"
   ]
  },
  {
   "cell_type": "markdown",
   "metadata": {},
   "source": [
    "# Guardar Datos"
   ]
  },
  {
   "cell_type": "code",
   "execution_count": 11,
   "metadata": {},
   "outputs": [],
   "source": [
    "import os"
   ]
  },
  {
   "cell_type": "code",
   "execution_count": 12,
   "metadata": {},
   "outputs": [
    {
     "name": "stdout",
     "output_type": "stream",
     "text": [
      "Tiempo de escritura en CSV (pandas): 46.661004607973155 segundos\n",
      "Tamaño del archivo CSV: 403522989 bytes\n"
     ]
    }
   ],
   "source": [
    "def write_csv_pandas():\n",
    "    df_pandas.to_csv(\"data_pandas.csv\", index=False)\n",
    "\n",
    "time_write_csv_pandas = timeit.timeit(write_csv_pandas, number=1)\n",
    "print(f\"Tiempo de escritura en CSV (pandas): {time_write_csv_pandas} segundos\")\n",
    "\n",
    "# Tamaño del archivo CSV\n",
    "size_csv = os.path.getsize(\"data_pandas.csv\")\n",
    "print(f\"Tamaño del archivo CSV: {size_csv} bytes\")\n"
   ]
  },
  {
   "cell_type": "code",
   "execution_count": 14,
   "metadata": {},
   "outputs": [
    {
     "name": "stdout",
     "output_type": "stream",
     "text": [
      "Tiempo de escritura en Parquet (Polars): 0.799399143026676 segundos\n",
      "Tamaño del archivo Parquet: 86367149 bytes\n"
     ]
    }
   ],
   "source": [
    "def write_parquet_polars():\n",
    "    df_polars.write_parquet(\"data_polars.parquet\")\n",
    "\n",
    "time_write_parquet_polars = timeit.timeit(write_parquet_polars, number=1)\n",
    "print(f\"Tiempo de escritura en Parquet (Polars): {time_write_parquet_polars} segundos\")\n",
    "\n",
    "# Tamaño del archivo Parquet\n",
    "size_parquet = os.path.getsize(\"data_polars.parquet\")\n",
    "print(f\"Tamaño del archivo Parquet: {size_parquet} bytes\")\n"
   ]
  },
  {
   "cell_type": "markdown",
   "metadata": {},
   "source": [
    "## Leer Datos"
   ]
  },
  {
   "cell_type": "code",
   "execution_count": 15,
   "metadata": {},
   "outputs": [
    {
     "name": "stdout",
     "output_type": "stream",
     "text": [
      "Tiempo de lectura desde CSV (pandas): 6.4184087659814395 segundos\n"
     ]
    }
   ],
   "source": [
    "def read_csv_pandas():\n",
    "    pd.read_csv(\"data_pandas.csv\")\n",
    "\n",
    "time_read_csv_pandas = timeit.timeit(read_csv_pandas, number=1)\n",
    "print(f\"Tiempo de lectura desde CSV (pandas): {time_read_csv_pandas} segundos\")\n"
   ]
  },
  {
   "cell_type": "code",
   "execution_count": 16,
   "metadata": {},
   "outputs": [
    {
     "name": "stdout",
     "output_type": "stream",
     "text": [
      "Tiempo de lectura desde Parquet (Polars): 0.8147201460087672 segundos\n"
     ]
    }
   ],
   "source": [
    "def read_parquet_polars():\n",
    "    pl.read_parquet(\"data_polars.parquet\")\n",
    "\n",
    "time_read_parquet_polars = timeit.timeit(read_parquet_polars, number=1)\n",
    "print(f\"Tiempo de lectura desde Parquet (Polars): {time_read_parquet_polars} segundos\")\n"
   ]
  },
  {
   "cell_type": "code",
   "execution_count": null,
   "metadata": {},
   "outputs": [],
   "source": []
  }
 ],
 "metadata": {
  "kernelspec": {
   "display_name": ".venv",
   "language": "python",
   "name": "python3"
  },
  "language_info": {
   "codemirror_mode": {
    "name": "ipython",
    "version": 3
   },
   "file_extension": ".py",
   "mimetype": "text/x-python",
   "name": "python",
   "nbconvert_exporter": "python",
   "pygments_lexer": "ipython3",
   "version": "3.12.1"
  }
 },
 "nbformat": 4,
 "nbformat_minor": 2
}
