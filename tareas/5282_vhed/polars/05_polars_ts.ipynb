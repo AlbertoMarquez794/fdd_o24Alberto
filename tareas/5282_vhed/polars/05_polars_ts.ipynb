{
 "cells": [
  {
   "cell_type": "code",
   "execution_count": 1,
   "metadata": {},
   "outputs": [],
   "source": [
    "import polars as pl\n",
    "import numpy as np\n",
    "import random\n",
    "from datetime import datetime, timedelta"
   ]
  },
  {
   "cell_type": "markdown",
   "metadata": {},
   "source": [
    "# Descripcion"
   ]
  },
  {
   "cell_type": "markdown",
   "metadata": {},
   "source": [
    "Los datos son notificaciones de dispositivos GPS en Mexico. En promedio generan notificaciones automatizadas cada 5 minutos si el carro esta encendido, y 30 si esta apagado.  \n",
    "\n",
    "Cada notificacion esta acompannada de un evento de lo que esta ocurriendo, y trae la latitud y longitud.  \n",
    "\n",
    "El objetico es predecir si un vehiculo esta siendo robado de acuerdo a sus notificaciones, por lo que el primer paso seria limpiar datos y hacer ingenieria de variables.\n",
    "\n",
    "Trata de hacerlo **lazy** si puedes."
   ]
  },
  {
   "cell_type": "code",
   "execution_count": 2,
   "metadata": {},
   "outputs": [],
   "source": [
    "def generate_dummy_data(num_cars, start_time, end_time, working_hours_interval, non_working_hours_interval):\n",
    "    data = []\n",
    "\n",
    "    # Define the latitude and longitude ranges for Mexico\n",
    "    min_latitude, max_latitude = 14.5388, 32.7186\n",
    "    min_longitude, max_longitude = -118.4662, -86.7104\n",
    "\n",
    "    for car_id in range(num_cars):\n",
    "        current_time = start_time\n",
    "\n",
    "        # Generate random initial latitude and longitude for each car\n",
    "        latitude = random.uniform(min_latitude, max_latitude)\n",
    "        longitude = random.uniform(min_longitude, max_longitude)\n",
    "\n",
    "        while current_time < end_time:\n",
    "            if current_time.weekday() < 5 and 9 <= current_time.hour < 17:\n",
    "                # Working hours (Monday to Friday, 9 AM to 5 PM)\n",
    "                interval = working_hours_interval\n",
    "            else:\n",
    "                # Non-working hours\n",
    "                interval = non_working_hours_interval\n",
    "\n",
    "            # Generate notification with 99% probability\n",
    "            if random.random() < 0.99:\n",
    "                notification = random.choice([\"low_fuel\", \"tire_pressure\", \"engine_check\", None])\n",
    "                data.append((f\"car_{car_id}\", current_time.isoformat(), latitude, longitude, notification))\n",
    "\n",
    "            # Generate additional notifications between intervals\n",
    "            while True:\n",
    "                additional_interval = random.expovariate(1 / (interval / 2))\n",
    "                additional_time = current_time + timedelta(minutes=additional_interval)\n",
    "                if additional_time >= current_time + timedelta(minutes=interval):\n",
    "                    break\n",
    "                notification = random.choice([\"low_fuel\", \"tire_pressure\", \"engine_check\", None])\n",
    "                data.append((f\"car_{car_id}\", additional_time.isoformat(), latitude, longitude, notification))\n",
    "\n",
    "            # Update latitude and longitude for car movement\n",
    "            latitude += random.uniform(-0.01, 0.01)\n",
    "            longitude += random.uniform(-0.01, 0.01)\n",
    "\n",
    "            # Check if the car is among the 1% that can have 100 notifications within 5 minutes\n",
    "            if random.random() < 0.01:\n",
    "                burst_start_time = current_time + timedelta(minutes=random.uniform(0, interval))\n",
    "                burst_end_time = burst_start_time + timedelta(minutes=5)\n",
    "                while current_time < burst_end_time:\n",
    "                    notification = random.choice([\"low_fuel\", \"tire_pressure\", \"engine_check\", None])\n",
    "                    data.append((f\"car_{car_id}\", current_time.isoformat(), latitude, longitude, notification))\n",
    "                    current_time += timedelta(seconds=random.uniform(1, 10))\n",
    "\n",
    "            current_time += timedelta(minutes=interval)\n",
    "\n",
    "    # Create a Polars DataFrame from the generated data\n",
    "    df = pl.DataFrame(\n",
    "        {\n",
    "            \"car_id\": [record[0] for record in data],\n",
    "            \"timestamp\": [record[1] for record in data],\n",
    "            \"latitude\": [record[2] for record in data],\n",
    "            \"longitude\": [record[3] for record in data],\n",
    "            \"notification\": [record[4] for record in data],\n",
    "        }\n",
    "    )\n",
    "\n",
    "    return df"
   ]
  },
  {
   "cell_type": "code",
   "execution_count": 3,
   "metadata": {},
   "outputs": [
    {
     "data": {
      "text/html": [
       "<div><style>\n",
       ".dataframe > thead > tr,\n",
       ".dataframe > tbody > tr {\n",
       "  text-align: right;\n",
       "  white-space: pre-wrap;\n",
       "}\n",
       "</style>\n",
       "<small>shape: (5, 5)</small><table border=\"1\" class=\"dataframe\"><thead><tr><th>car_id</th><th>timestamp</th><th>latitude</th><th>longitude</th><th>notification</th></tr><tr><td>str</td><td>str</td><td>f64</td><td>f64</td><td>str</td></tr></thead><tbody><tr><td>&quot;car_0&quot;</td><td>&quot;2023-01-01T00:…</td><td>26.365421</td><td>-96.060872</td><td>null</td></tr><tr><td>&quot;car_0&quot;</td><td>&quot;2023-01-01T00:…</td><td>26.365421</td><td>-96.060872</td><td>null</td></tr><tr><td>&quot;car_0&quot;</td><td>&quot;2023-01-01T00:…</td><td>26.365421</td><td>-96.060872</td><td>&quot;engine_check&quot;</td></tr><tr><td>&quot;car_0&quot;</td><td>&quot;2023-01-01T00:…</td><td>26.365421</td><td>-96.060872</td><td>&quot;engine_check&quot;</td></tr><tr><td>&quot;car_0&quot;</td><td>&quot;2023-01-01T00:…</td><td>26.365421</td><td>-96.060872</td><td>&quot;engine_check&quot;</td></tr></tbody></table></div>"
      ],
      "text/plain": [
       "shape: (5, 5)\n",
       "┌────────┬────────────────────────────┬───────────┬────────────┬──────────────┐\n",
       "│ car_id ┆ timestamp                  ┆ latitude  ┆ longitude  ┆ notification │\n",
       "│ ---    ┆ ---                        ┆ ---       ┆ ---        ┆ ---          │\n",
       "│ str    ┆ str                        ┆ f64       ┆ f64        ┆ str          │\n",
       "╞════════╪════════════════════════════╪═══════════╪════════════╪══════════════╡\n",
       "│ car_0  ┆ 2023-01-01T00:00:00        ┆ 26.365421 ┆ -96.060872 ┆ null         │\n",
       "│ car_0  ┆ 2023-01-01T00:12:38.307630 ┆ 26.365421 ┆ -96.060872 ┆ null         │\n",
       "│ car_0  ┆ 2023-01-01T00:18:24.826119 ┆ 26.365421 ┆ -96.060872 ┆ engine_check │\n",
       "│ car_0  ┆ 2023-01-01T00:14:15.447030 ┆ 26.365421 ┆ -96.060872 ┆ engine_check │\n",
       "│ car_0  ┆ 2023-01-01T00:06:29.547796 ┆ 26.365421 ┆ -96.060872 ┆ engine_check │\n",
       "└────────┴────────────────────────────┴───────────┴────────────┴──────────────┘"
      ]
     },
     "execution_count": 3,
     "metadata": {},
     "output_type": "execute_result"
    }
   ],
   "source": [
    "num_cars = 100\n",
    "start_time = datetime(2023, 1, 1, 0, 0, 0)  # Start of the week\n",
    "end_time = start_time + timedelta(weeks=1)  # End of the week\n",
    "working_hours_interval = 5  # Interval of 5 minutes during working hours\n",
    "non_working_hours_interval = 30  # Interval of 30 minutes during non-working hours\n",
    "\n",
    "# Generate the dummy data\n",
    "data = generate_dummy_data(num_cars, start_time, end_time, working_hours_interval, non_working_hours_interval)\n",
    "\n",
    "# Print the first few rows of the generated data\n",
    "\n",
    "data.head()"
   ]
  },
  {
   "cell_type": "markdown",
   "metadata": {},
   "source": [
    "## Limpieza de datos"
   ]
  },
  {
   "cell_type": "markdown",
   "metadata": {},
   "source": [
    "### Timestamp"
   ]
  },
  {
   "cell_type": "markdown",
   "metadata": {},
   "source": [
    "Convierte el `timestamp` que actualmente es string a formato de tiempo en polars"
   ]
  },
  {
   "cell_type": "code",
   "execution_count": 4,
   "metadata": {},
   "outputs": [
    {
     "data": {
      "text/html": [
       "<div><style>\n",
       ".dataframe > thead > tr,\n",
       ".dataframe > tbody > tr {\n",
       "  text-align: right;\n",
       "  white-space: pre-wrap;\n",
       "}\n",
       "</style>\n",
       "<small>shape: (5, 5)</small><table border=\"1\" class=\"dataframe\"><thead><tr><th>car_id</th><th>timestamp</th><th>latitude</th><th>longitude</th><th>notification</th></tr><tr><td>str</td><td>datetime[μs]</td><td>f64</td><td>f64</td><td>str</td></tr></thead><tbody><tr><td>&quot;car_0&quot;</td><td>2023-01-01 00:00:00</td><td>26.365421</td><td>-96.060872</td><td>null</td></tr><tr><td>&quot;car_0&quot;</td><td>2023-01-01 00:12:38.307630</td><td>26.365421</td><td>-96.060872</td><td>null</td></tr><tr><td>&quot;car_0&quot;</td><td>2023-01-01 00:18:24.826119</td><td>26.365421</td><td>-96.060872</td><td>&quot;engine_check&quot;</td></tr><tr><td>&quot;car_0&quot;</td><td>2023-01-01 00:14:15.447030</td><td>26.365421</td><td>-96.060872</td><td>&quot;engine_check&quot;</td></tr><tr><td>&quot;car_0&quot;</td><td>2023-01-01 00:06:29.547796</td><td>26.365421</td><td>-96.060872</td><td>&quot;engine_check&quot;</td></tr></tbody></table></div>"
      ],
      "text/plain": [
       "shape: (5, 5)\n",
       "┌────────┬────────────────────────────┬───────────┬────────────┬──────────────┐\n",
       "│ car_id ┆ timestamp                  ┆ latitude  ┆ longitude  ┆ notification │\n",
       "│ ---    ┆ ---                        ┆ ---       ┆ ---        ┆ ---          │\n",
       "│ str    ┆ datetime[μs]               ┆ f64       ┆ f64        ┆ str          │\n",
       "╞════════╪════════════════════════════╪═══════════╪════════════╪══════════════╡\n",
       "│ car_0  ┆ 2023-01-01 00:00:00        ┆ 26.365421 ┆ -96.060872 ┆ null         │\n",
       "│ car_0  ┆ 2023-01-01 00:12:38.307630 ┆ 26.365421 ┆ -96.060872 ┆ null         │\n",
       "│ car_0  ┆ 2023-01-01 00:18:24.826119 ┆ 26.365421 ┆ -96.060872 ┆ engine_check │\n",
       "│ car_0  ┆ 2023-01-01 00:14:15.447030 ┆ 26.365421 ┆ -96.060872 ┆ engine_check │\n",
       "│ car_0  ┆ 2023-01-01 00:06:29.547796 ┆ 26.365421 ┆ -96.060872 ┆ engine_check │\n",
       "└────────┴────────────────────────────┴───────────┴────────────┴──────────────┘"
      ]
     },
     "execution_count": 4,
     "metadata": {},
     "output_type": "execute_result"
    }
   ],
   "source": [
    "# Convertir el campo \"timestamp\" a formato de tiempo en Polars\n",
    "data = data.with_columns(pl.col(\"timestamp\").str.to_datetime())\n",
    "\n",
    "# Verificar la conversión\n",
    "data.head()\n"
   ]
  },
  {
   "cell_type": "code",
   "execution_count": 5,
   "metadata": {},
   "outputs": [
    {
     "data": {
      "text/html": [
       "<div><style>\n",
       ".dataframe > thead > tr,\n",
       ".dataframe > tbody > tr {\n",
       "  text-align: right;\n",
       "  white-space: pre-wrap;\n",
       "}\n",
       "</style>\n",
       "<small>shape: (634_569, 5)</small><table border=\"1\" class=\"dataframe\"><thead><tr><th>car_id</th><th>timestamp</th><th>latitude</th><th>longitude</th><th>notification</th></tr><tr><td>str</td><td>datetime[μs]</td><td>f64</td><td>f64</td><td>str</td></tr></thead><tbody><tr><td>&quot;car_0&quot;</td><td>2023-01-01 00:00:00</td><td>26.365421</td><td>-96.060872</td><td>null</td></tr><tr><td>&quot;car_0&quot;</td><td>2023-01-01 00:12:38.307630</td><td>26.365421</td><td>-96.060872</td><td>null</td></tr><tr><td>&quot;car_0&quot;</td><td>2023-01-01 00:18:24.826119</td><td>26.365421</td><td>-96.060872</td><td>&quot;engine_check&quot;</td></tr><tr><td>&quot;car_0&quot;</td><td>2023-01-01 00:14:15.447030</td><td>26.365421</td><td>-96.060872</td><td>&quot;engine_check&quot;</td></tr><tr><td>&quot;car_0&quot;</td><td>2023-01-01 00:06:29.547796</td><td>26.365421</td><td>-96.060872</td><td>&quot;engine_check&quot;</td></tr><tr><td>&hellip;</td><td>&hellip;</td><td>&hellip;</td><td>&hellip;</td><td>&hellip;</td></tr><tr><td>&quot;car_99&quot;</td><td>2023-01-07 23:16:46.596648</td><td>20.186539</td><td>-92.927617</td><td>&quot;tire_pressure&quot;</td></tr><tr><td>&quot;car_99&quot;</td><td>2023-01-07 23:25:23.811186</td><td>20.186539</td><td>-92.927617</td><td>&quot;tire_pressure&quot;</td></tr><tr><td>&quot;car_99&quot;</td><td>2023-01-07 23:44:30.012544</td><td>20.185603</td><td>-92.92265</td><td>&quot;engine_check&quot;</td></tr><tr><td>&quot;car_99&quot;</td><td>2023-01-07 23:47:53.929168</td><td>20.185603</td><td>-92.92265</td><td>&quot;engine_check&quot;</td></tr><tr><td>&quot;car_99&quot;</td><td>2023-01-07 23:49:47.470759</td><td>20.185603</td><td>-92.92265</td><td>null</td></tr></tbody></table></div>"
      ],
      "text/plain": [
       "shape: (634_569, 5)\n",
       "┌────────┬────────────────────────────┬───────────┬────────────┬───────────────┐\n",
       "│ car_id ┆ timestamp                  ┆ latitude  ┆ longitude  ┆ notification  │\n",
       "│ ---    ┆ ---                        ┆ ---       ┆ ---        ┆ ---           │\n",
       "│ str    ┆ datetime[μs]               ┆ f64       ┆ f64        ┆ str           │\n",
       "╞════════╪════════════════════════════╪═══════════╪════════════╪═══════════════╡\n",
       "│ car_0  ┆ 2023-01-01 00:00:00        ┆ 26.365421 ┆ -96.060872 ┆ null          │\n",
       "│ car_0  ┆ 2023-01-01 00:12:38.307630 ┆ 26.365421 ┆ -96.060872 ┆ null          │\n",
       "│ car_0  ┆ 2023-01-01 00:18:24.826119 ┆ 26.365421 ┆ -96.060872 ┆ engine_check  │\n",
       "│ car_0  ┆ 2023-01-01 00:14:15.447030 ┆ 26.365421 ┆ -96.060872 ┆ engine_check  │\n",
       "│ car_0  ┆ 2023-01-01 00:06:29.547796 ┆ 26.365421 ┆ -96.060872 ┆ engine_check  │\n",
       "│ …      ┆ …                          ┆ …         ┆ …          ┆ …             │\n",
       "│ car_99 ┆ 2023-01-07 23:16:46.596648 ┆ 20.186539 ┆ -92.927617 ┆ tire_pressure │\n",
       "│ car_99 ┆ 2023-01-07 23:25:23.811186 ┆ 20.186539 ┆ -92.927617 ┆ tire_pressure │\n",
       "│ car_99 ┆ 2023-01-07 23:44:30.012544 ┆ 20.185603 ┆ -92.92265  ┆ engine_check  │\n",
       "│ car_99 ┆ 2023-01-07 23:47:53.929168 ┆ 20.185603 ┆ -92.92265  ┆ engine_check  │\n",
       "│ car_99 ┆ 2023-01-07 23:49:47.470759 ┆ 20.185603 ┆ -92.92265  ┆ null          │\n",
       "└────────┴────────────────────────────┴───────────┴────────────┴───────────────┘"
      ]
     },
     "execution_count": 5,
     "metadata": {},
     "output_type": "execute_result"
    }
   ],
   "source": [
    "data"
   ]
  },
  {
   "cell_type": "markdown",
   "metadata": {},
   "source": [
    "### Ingenieria de variables"
   ]
  },
  {
   "cell_type": "markdown",
   "metadata": {},
   "source": [
    "Dado que va a entrar a un modelo de machine learning es necesario que todas las variables sean numericas, y esten en formnato tidy. Cada observacion en una fila, y cada variable en una columna. Por lo tanto se decidio crear estadisticos y agregar los datos a intervalos uniformes de `x` minutos.  \n",
    "\n",
    "Por ejemplo, colapsar toda la informacion que ocurrion en el intervalo, como el numero de notificaciones en esos 5 minutos, el promedio entre notificaciones, y el tipo de notificaciones."
   ]
  },
  {
   "cell_type": "markdown",
   "metadata": {},
   "source": [
    "Existen varias formas de hacer esto, puedes hacerlo con `group_by` primero para crear las nuevas variables, o `group_by` (`rolling`, `dynamic`) usando operaciones sobre listas. Utiliza claude o chat_gpt"
   ]
  },
  {
   "cell_type": "markdown",
   "metadata": {},
   "source": [
    "1. Crea una nueva variable que compute la diferencia de tiempo entre notificaciones del mismo vehiculo. Piensa como lo vas a hacer. Llama a esta variable `notification_time`\n",
    "   \n"
   ]
  },
  {
   "cell_type": "code",
   "execution_count": 6,
   "metadata": {},
   "outputs": [],
   "source": [
    "# Ordenar los registros por car_id y timestamp\n",
    "data = data.sort([\"car_id\", \"timestamp\"])\n",
    "\n",
    "data = data.with_columns(\n",
    "    pl.col(\"timestamp\")\n",
    "    .diff()\n",
    "    .over(\"car_id\")\n",
    "    .alias(\"notification_time\")\n",
    ")\n"
   ]
  },
  {
   "cell_type": "code",
   "execution_count": 7,
   "metadata": {},
   "outputs": [
    {
     "data": {
      "text/html": [
       "<div><style>\n",
       ".dataframe > thead > tr,\n",
       ".dataframe > tbody > tr {\n",
       "  text-align: right;\n",
       "  white-space: pre-wrap;\n",
       "}\n",
       "</style>\n",
       "<small>shape: (10, 6)</small><table border=\"1\" class=\"dataframe\"><thead><tr><th>car_id</th><th>timestamp</th><th>latitude</th><th>longitude</th><th>notification</th><th>notification_time</th></tr><tr><td>str</td><td>datetime[μs]</td><td>f64</td><td>f64</td><td>str</td><td>duration[μs]</td></tr></thead><tbody><tr><td>&quot;car_0&quot;</td><td>2023-01-07 20:58:02.906700</td><td>26.581662</td><td>-96.033041</td><td>&quot;engine_check&quot;</td><td>6s 668364µs</td></tr><tr><td>&quot;car_0&quot;</td><td>2023-01-07 20:59:14.287193</td><td>26.581662</td><td>-96.033041</td><td>&quot;engine_check&quot;</td><td>1m 11s 380493µs</td></tr><tr><td>&quot;car_0&quot;</td><td>2023-01-07 20:59:22.206289</td><td>26.581662</td><td>-96.033041</td><td>&quot;engine_check&quot;</td><td>7s 919096µs</td></tr><tr><td>&quot;car_0&quot;</td><td>2023-01-07 21:04:18.434912</td><td>26.581662</td><td>-96.033041</td><td>&quot;tire_pressure&quot;</td><td>4m 56s 228623µs</td></tr><tr><td>&quot;car_0&quot;</td><td>2023-01-07 21:08:09.963318</td><td>26.587337</td><td>-96.027698</td><td>&quot;low_fuel&quot;</td><td>3m 51s 528406µs</td></tr><tr><td>&quot;car_0&quot;</td><td>2023-01-07 21:08:11.810184</td><td>26.587337</td><td>-96.027698</td><td>&quot;low_fuel&quot;</td><td>1s 846866µs</td></tr><tr><td>&quot;car_0&quot;</td><td>2023-01-07 21:10:34.162185</td><td>26.587337</td><td>-96.027698</td><td>null</td><td>2m 22s 352001µs</td></tr><tr><td>&quot;car_0&quot;</td><td>2023-01-07 21:11:20.193687</td><td>26.587337</td><td>-96.027698</td><td>&quot;tire_pressure&quot;</td><td>46s 31502µs</td></tr><tr><td>&quot;car_0&quot;</td><td>2023-01-07 21:13:35.498107</td><td>26.587337</td><td>-96.027698</td><td>&quot;tire_pressure&quot;</td><td>2m 15s 304420µs</td></tr><tr><td>&quot;car_0&quot;</td><td>2023-01-07 21:17:25.188255</td><td>26.587337</td><td>-96.027698</td><td>&quot;engine_check&quot;</td><td>3m 49s 690148µs</td></tr></tbody></table></div>"
      ],
      "text/plain": [
       "shape: (10, 6)\n",
       "┌────────┬────────────────────────────┬───────────┬────────────┬───────────────┬───────────────────┐\n",
       "│ car_id ┆ timestamp                  ┆ latitude  ┆ longitude  ┆ notification  ┆ notification_time │\n",
       "│ ---    ┆ ---                        ┆ ---       ┆ ---        ┆ ---           ┆ ---               │\n",
       "│ str    ┆ datetime[μs]               ┆ f64       ┆ f64        ┆ str           ┆ duration[μs]      │\n",
       "╞════════╪════════════════════════════╪═══════════╪════════════╪═══════════════╪═══════════════════╡\n",
       "│ car_0  ┆ 2023-01-07 20:58:02.906700 ┆ 26.581662 ┆ -96.033041 ┆ engine_check  ┆ 6s 668364µs       │\n",
       "│ car_0  ┆ 2023-01-07 20:59:14.287193 ┆ 26.581662 ┆ -96.033041 ┆ engine_check  ┆ 1m 11s 380493µs   │\n",
       "│ car_0  ┆ 2023-01-07 20:59:22.206289 ┆ 26.581662 ┆ -96.033041 ┆ engine_check  ┆ 7s 919096µs       │\n",
       "│ car_0  ┆ 2023-01-07 21:04:18.434912 ┆ 26.581662 ┆ -96.033041 ┆ tire_pressure ┆ 4m 56s 228623µs   │\n",
       "│ car_0  ┆ 2023-01-07 21:08:09.963318 ┆ 26.587337 ┆ -96.027698 ┆ low_fuel      ┆ 3m 51s 528406µs   │\n",
       "│ car_0  ┆ 2023-01-07 21:08:11.810184 ┆ 26.587337 ┆ -96.027698 ┆ low_fuel      ┆ 1s 846866µs       │\n",
       "│ car_0  ┆ 2023-01-07 21:10:34.162185 ┆ 26.587337 ┆ -96.027698 ┆ null          ┆ 2m 22s 352001µs   │\n",
       "│ car_0  ┆ 2023-01-07 21:11:20.193687 ┆ 26.587337 ┆ -96.027698 ┆ tire_pressure ┆ 46s 31502µs       │\n",
       "│ car_0  ┆ 2023-01-07 21:13:35.498107 ┆ 26.587337 ┆ -96.027698 ┆ tire_pressure ┆ 2m 15s 304420µs   │\n",
       "│ car_0  ┆ 2023-01-07 21:17:25.188255 ┆ 26.587337 ┆ -96.027698 ┆ engine_check  ┆ 3m 49s 690148µs   │\n",
       "└────────┴────────────────────────────┴───────────┴────────────┴───────────────┴───────────────────┘"
      ]
     },
     "execution_count": 7,
     "metadata": {},
     "output_type": "execute_result"
    }
   ],
   "source": [
    "data[5840:5850]"
   ]
  },
  {
   "cell_type": "markdown",
   "metadata": {},
   "source": [
    "2. Crea una nueva variable que compute la distancia que viajo el vehiculo desde la ultima notificacion. Llamala `distance`"
   ]
  },
  {
   "cell_type": "code",
   "execution_count": 8,
   "metadata": {},
   "outputs": [],
   "source": [
    "import math\n",
    "\n",
    "#Se usará la fórmula de haversine para calcular la distancia en kilómetros entre dos puntos geográficos\n",
    "\n",
    "\n",
    "def haversine_distance(lat1, lon1, lat2, lon2):\n",
    "    \n",
    "    R = 6371  # Radio de la Tierra en kilómetros\n",
    "\n",
    "    if lat1 is None or lon1 is None or lat2 is None or lon2 is None:\n",
    "        return None\n",
    "\n",
    "    lat1_rad = math.radians(lat1)\n",
    "    lon1_rad = math.radians(lon1)\n",
    "    lat2_rad = math.radians(lat2)\n",
    "    lon2_rad = math.radians(lon2)\n",
    "\n",
    "    delta_lat = lat2_rad - lat1_rad\n",
    "    delta_lon = lon2_rad - lon1_rad\n",
    "\n",
    "    a = math.sin(delta_lat / 2) ** 2 + math.cos(lat1_rad) * math.cos(lat2_rad) * math.sin(delta_lon / 2) ** 2\n",
    "    c = 2 * math.atan2(math.sqrt(a), math.sqrt(1 - a))\n",
    "\n",
    "    return R * c\n",
    "\n"
   ]
  },
  {
   "cell_type": "code",
   "execution_count": 9,
   "metadata": {},
   "outputs": [],
   "source": [
    "# Crear la variable distance\n",
    "data = data.with_columns([\n",
    "    pl.col(\"latitude\").shift(1).over(\"car_id\").alias(\"prev_latitude\"),\n",
    "    pl.col(\"longitude\").shift(1).over(\"car_id\").alias(\"prev_longitude\"), \n",
    "])\n",
    "\n",
    "nueva = data.map_rows(lambda t: haversine_distance(t[2], t[3], t[6], t[7]))\n",
    "\n"
   ]
  },
  {
   "cell_type": "code",
   "execution_count": 10,
   "metadata": {},
   "outputs": [
    {
     "data": {
      "text/plain": [
       "polars.dataframe.frame.DataFrame"
      ]
     },
     "execution_count": 10,
     "metadata": {},
     "output_type": "execute_result"
    }
   ],
   "source": [
    "type(nueva)"
   ]
  },
  {
   "cell_type": "code",
   "execution_count": 11,
   "metadata": {},
   "outputs": [],
   "source": [
    "data=data.with_columns(pl.Series(name=\"distance\", values=nueva)) \n"
   ]
  },
  {
   "cell_type": "code",
   "execution_count": 12,
   "metadata": {},
   "outputs": [
    {
     "data": {
      "text/html": [
       "<div><style>\n",
       ".dataframe > thead > tr,\n",
       ".dataframe > tbody > tr {\n",
       "  text-align: right;\n",
       "  white-space: pre-wrap;\n",
       "}\n",
       "</style>\n",
       "<small>shape: (10, 9)</small><table border=\"1\" class=\"dataframe\"><thead><tr><th>car_id</th><th>timestamp</th><th>latitude</th><th>longitude</th><th>notification</th><th>notification_time</th><th>prev_latitude</th><th>prev_longitude</th><th>distance</th></tr><tr><td>str</td><td>datetime[μs]</td><td>f64</td><td>f64</td><td>str</td><td>duration[μs]</td><td>f64</td><td>f64</td><td>f64</td></tr></thead><tbody><tr><td>&quot;car_0&quot;</td><td>2023-01-07 20:58:02.906700</td><td>26.581662</td><td>-96.033041</td><td>&quot;engine_check&quot;</td><td>6s 668364µs</td><td>26.581662</td><td>-96.033041</td><td>0.0</td></tr><tr><td>&quot;car_0&quot;</td><td>2023-01-07 20:59:14.287193</td><td>26.581662</td><td>-96.033041</td><td>&quot;engine_check&quot;</td><td>1m 11s 380493µs</td><td>26.581662</td><td>-96.033041</td><td>0.0</td></tr><tr><td>&quot;car_0&quot;</td><td>2023-01-07 20:59:22.206289</td><td>26.581662</td><td>-96.033041</td><td>&quot;engine_check&quot;</td><td>7s 919096µs</td><td>26.581662</td><td>-96.033041</td><td>0.0</td></tr><tr><td>&quot;car_0&quot;</td><td>2023-01-07 21:04:18.434912</td><td>26.581662</td><td>-96.033041</td><td>&quot;tire_pressure&quot;</td><td>4m 56s 228623µs</td><td>26.581662</td><td>-96.033041</td><td>0.0</td></tr><tr><td>&quot;car_0&quot;</td><td>2023-01-07 21:08:09.963318</td><td>26.587337</td><td>-96.027698</td><td>&quot;low_fuel&quot;</td><td>3m 51s 528406µs</td><td>26.581662</td><td>-96.033041</td><td>0.824931</td></tr><tr><td>&quot;car_0&quot;</td><td>2023-01-07 21:08:11.810184</td><td>26.587337</td><td>-96.027698</td><td>&quot;low_fuel&quot;</td><td>1s 846866µs</td><td>26.587337</td><td>-96.027698</td><td>0.0</td></tr><tr><td>&quot;car_0&quot;</td><td>2023-01-07 21:10:34.162185</td><td>26.587337</td><td>-96.027698</td><td>null</td><td>2m 22s 352001µs</td><td>26.587337</td><td>-96.027698</td><td>0.0</td></tr><tr><td>&quot;car_0&quot;</td><td>2023-01-07 21:11:20.193687</td><td>26.587337</td><td>-96.027698</td><td>&quot;tire_pressure&quot;</td><td>46s 31502µs</td><td>26.587337</td><td>-96.027698</td><td>0.0</td></tr><tr><td>&quot;car_0&quot;</td><td>2023-01-07 21:13:35.498107</td><td>26.587337</td><td>-96.027698</td><td>&quot;tire_pressure&quot;</td><td>2m 15s 304420µs</td><td>26.587337</td><td>-96.027698</td><td>0.0</td></tr><tr><td>&quot;car_0&quot;</td><td>2023-01-07 21:17:25.188255</td><td>26.587337</td><td>-96.027698</td><td>&quot;engine_check&quot;</td><td>3m 49s 690148µs</td><td>26.587337</td><td>-96.027698</td><td>0.0</td></tr></tbody></table></div>"
      ],
      "text/plain": [
       "shape: (10, 9)\n",
       "┌────────┬────────────┬───────────┬────────────┬───┬────────────┬───────────┬───────────┬──────────┐\n",
       "│ car_id ┆ timestamp  ┆ latitude  ┆ longitude  ┆ … ┆ notificati ┆ prev_lati ┆ prev_long ┆ distance │\n",
       "│ ---    ┆ ---        ┆ ---       ┆ ---        ┆   ┆ on_time    ┆ tude      ┆ itude     ┆ ---      │\n",
       "│ str    ┆ datetime[μ ┆ f64       ┆ f64        ┆   ┆ ---        ┆ ---       ┆ ---       ┆ f64      │\n",
       "│        ┆ s]         ┆           ┆            ┆   ┆ duration[μ ┆ f64       ┆ f64       ┆          │\n",
       "│        ┆            ┆           ┆            ┆   ┆ s]         ┆           ┆           ┆          │\n",
       "╞════════╪════════════╪═══════════╪════════════╪═══╪════════════╪═══════════╪═══════════╪══════════╡\n",
       "│ car_0  ┆ 2023-01-07 ┆ 26.581662 ┆ -96.033041 ┆ … ┆ 6s         ┆ 26.581662 ┆ -96.03304 ┆ 0.0      │\n",
       "│        ┆ 20:58:02.9 ┆           ┆            ┆   ┆ 668364µs   ┆           ┆ 1         ┆          │\n",
       "│        ┆ 06700      ┆           ┆            ┆   ┆            ┆           ┆           ┆          │\n",
       "│ car_0  ┆ 2023-01-07 ┆ 26.581662 ┆ -96.033041 ┆ … ┆ 1m 11s     ┆ 26.581662 ┆ -96.03304 ┆ 0.0      │\n",
       "│        ┆ 20:59:14.2 ┆           ┆            ┆   ┆ 380493µs   ┆           ┆ 1         ┆          │\n",
       "│        ┆ 87193      ┆           ┆            ┆   ┆            ┆           ┆           ┆          │\n",
       "│ car_0  ┆ 2023-01-07 ┆ 26.581662 ┆ -96.033041 ┆ … ┆ 7s         ┆ 26.581662 ┆ -96.03304 ┆ 0.0      │\n",
       "│        ┆ 20:59:22.2 ┆           ┆            ┆   ┆ 919096µs   ┆           ┆ 1         ┆          │\n",
       "│        ┆ 06289      ┆           ┆            ┆   ┆            ┆           ┆           ┆          │\n",
       "│ car_0  ┆ 2023-01-07 ┆ 26.581662 ┆ -96.033041 ┆ … ┆ 4m 56s     ┆ 26.581662 ┆ -96.03304 ┆ 0.0      │\n",
       "│        ┆ 21:04:18.4 ┆           ┆            ┆   ┆ 228623µs   ┆           ┆ 1         ┆          │\n",
       "│        ┆ 34912      ┆           ┆            ┆   ┆            ┆           ┆           ┆          │\n",
       "│ car_0  ┆ 2023-01-07 ┆ 26.587337 ┆ -96.027698 ┆ … ┆ 3m 51s     ┆ 26.581662 ┆ -96.03304 ┆ 0.824931 │\n",
       "│        ┆ 21:08:09.9 ┆           ┆            ┆   ┆ 528406µs   ┆           ┆ 1         ┆          │\n",
       "│        ┆ 63318      ┆           ┆            ┆   ┆            ┆           ┆           ┆          │\n",
       "│ car_0  ┆ 2023-01-07 ┆ 26.587337 ┆ -96.027698 ┆ … ┆ 1s         ┆ 26.587337 ┆ -96.02769 ┆ 0.0      │\n",
       "│        ┆ 21:08:11.8 ┆           ┆            ┆   ┆ 846866µs   ┆           ┆ 8         ┆          │\n",
       "│        ┆ 10184      ┆           ┆            ┆   ┆            ┆           ┆           ┆          │\n",
       "│ car_0  ┆ 2023-01-07 ┆ 26.587337 ┆ -96.027698 ┆ … ┆ 2m 22s     ┆ 26.587337 ┆ -96.02769 ┆ 0.0      │\n",
       "│        ┆ 21:10:34.1 ┆           ┆            ┆   ┆ 352001µs   ┆           ┆ 8         ┆          │\n",
       "│        ┆ 62185      ┆           ┆            ┆   ┆            ┆           ┆           ┆          │\n",
       "│ car_0  ┆ 2023-01-07 ┆ 26.587337 ┆ -96.027698 ┆ … ┆ 46s        ┆ 26.587337 ┆ -96.02769 ┆ 0.0      │\n",
       "│        ┆ 21:11:20.1 ┆           ┆            ┆   ┆ 31502µs    ┆           ┆ 8         ┆          │\n",
       "│        ┆ 93687      ┆           ┆            ┆   ┆            ┆           ┆           ┆          │\n",
       "│ car_0  ┆ 2023-01-07 ┆ 26.587337 ┆ -96.027698 ┆ … ┆ 2m 15s     ┆ 26.587337 ┆ -96.02769 ┆ 0.0      │\n",
       "│        ┆ 21:13:35.4 ┆           ┆            ┆   ┆ 304420µs   ┆           ┆ 8         ┆          │\n",
       "│        ┆ 98107      ┆           ┆            ┆   ┆            ┆           ┆           ┆          │\n",
       "│ car_0  ┆ 2023-01-07 ┆ 26.587337 ┆ -96.027698 ┆ … ┆ 3m 49s     ┆ 26.587337 ┆ -96.02769 ┆ 0.0      │\n",
       "│        ┆ 21:17:25.1 ┆           ┆            ┆   ┆ 690148µs   ┆           ┆ 8         ┆          │\n",
       "│        ┆ 88255      ┆           ┆            ┆   ┆            ┆           ┆           ┆          │\n",
       "└────────┴────────────┴───────────┴────────────┴───┴────────────┴───────────┴───────────┴──────────┘"
      ]
     },
     "execution_count": 12,
     "metadata": {},
     "output_type": "execute_result"
    }
   ],
   "source": [
    "data[5840:5850]\n"
   ]
  },
  {
   "cell_type": "code",
   "execution_count": 13,
   "metadata": {},
   "outputs": [
    {
     "data": {
      "text/plain": [
       "[String,\n",
       " Datetime(time_unit='us', time_zone=None),\n",
       " Float64,\n",
       " Float64,\n",
       " String,\n",
       " Duration(time_unit='us'),\n",
       " Float64,\n",
       " Float64,\n",
       " Float64]"
      ]
     },
     "execution_count": 13,
     "metadata": {},
     "output_type": "execute_result"
    }
   ],
   "source": [
    "data.dtypes"
   ]
  },
  {
   "cell_type": "code",
   "execution_count": 14,
   "metadata": {},
   "outputs": [
    {
     "data": {
      "text/plain": [
       "['car_id',\n",
       " 'timestamp',\n",
       " 'latitude',\n",
       " 'longitude',\n",
       " 'notification',\n",
       " 'notification_time',\n",
       " 'prev_latitude',\n",
       " 'prev_longitude',\n",
       " 'distance']"
      ]
     },
     "execution_count": 14,
     "metadata": {},
     "output_type": "execute_result"
    }
   ],
   "source": [
    "data.columns"
   ]
  },
  {
   "cell_type": "markdown",
   "metadata": {},
   "source": [
    "3. Crea intervalos de `x` minutos por carro. Como el numero de notificaciones en esos intervalos no es uniforme tienes que buscar funciones de polars especificas, pero ademas tienen que ser por vehiculo, pues tienen que ser del mismo. Revisa las funciones de `group_by` `dynamic` y `rolling`.\n",
    "   1. Computa la media, mediana, varianza, max y min de `notification_time` los intervalos de `x` minutos\n",
    "   2. Computa la media, mediana, varianza, max y min de `distance`\n"
   ]
  },
  {
   "cell_type": "code",
   "execution_count": 15,
   "metadata": {},
   "outputs": [
    {
     "name": "stdout",
     "output_type": "stream",
     "text": [
      "Datetime(time_unit='us', time_zone=None)\n"
     ]
    }
   ],
   "source": [
    "print(data.dtypes[1])"
   ]
  },
  {
   "cell_type": "markdown",
   "metadata": {},
   "source": [
    "Profe, lo intenté hcer con group_by_dynamic y de verdad no me salía. Claude me sugirió que lo hiciera con un group_by normal, y creo que el resultado que me dió es bueno, sin embargo, tuve que ir creando los intervalos a mano. Sé que no es lo más eficiente, pero al menos encontré una solución que funcionó, por lo que espero lo considere"
   ]
  },
  {
   "cell_type": "code",
   "execution_count": 33,
   "metadata": {},
   "outputs": [
    {
     "name": "stderr",
     "output_type": "stream",
     "text": [
      "/var/folders/20/32nt1tgd7dn17l8pghpkyhhc0000gn/T/ipykernel_3528/3031122534.py:7: DeprecationWarning: `groupby` is deprecated. It has been renamed to `group_by`.\n",
      "  data2 = data.groupby([\"car_id\", \"intervalo_manual\"])\n"
     ]
    }
   ],
   "source": [
    "x=\"5m\"\n",
    "\n",
    "data = data.with_columns(\n",
    "    pl.col(\"timestamp\").dt.truncate(x).alias(\"intervalo_manual\")\n",
    ")\n",
    "\n",
    "data2 = data.groupby([\"car_id\", \"intervalo_manual\"])\n",
    "\n",
    "\n"
   ]
  },
  {
   "cell_type": "code",
   "execution_count": 34,
   "metadata": {},
   "outputs": [
    {
     "name": "stderr",
     "output_type": "stream",
     "text": [
      "/var/folders/20/32nt1tgd7dn17l8pghpkyhhc0000gn/T/ipykernel_3528/4096314768.py:3: DeprecationWarning: `seconds` is deprecated. It has been renamed to `total_seconds`.\n",
      "  pl.col(\"notification_time\").dt.seconds().mean().alias(\"mean\"),\n",
      "/var/folders/20/32nt1tgd7dn17l8pghpkyhhc0000gn/T/ipykernel_3528/4096314768.py:4: DeprecationWarning: `seconds` is deprecated. It has been renamed to `total_seconds`.\n",
      "  pl.col(\"notification_time\").dt.seconds().median().alias(\"median\"),\n",
      "/var/folders/20/32nt1tgd7dn17l8pghpkyhhc0000gn/T/ipykernel_3528/4096314768.py:5: DeprecationWarning: `seconds` is deprecated. It has been renamed to `total_seconds`.\n",
      "  pl.col(\"notification_time\").dt.seconds().var().alias(\"variance\"),\n",
      "/var/folders/20/32nt1tgd7dn17l8pghpkyhhc0000gn/T/ipykernel_3528/4096314768.py:6: DeprecationWarning: `seconds` is deprecated. It has been renamed to `total_seconds`.\n",
      "  pl.col(\"notification_time\").dt.seconds().max().alias(\"max\"),\n",
      "/var/folders/20/32nt1tgd7dn17l8pghpkyhhc0000gn/T/ipykernel_3528/4096314768.py:7: DeprecationWarning: `seconds` is deprecated. It has been renamed to `total_seconds`.\n",
      "  pl.col(\"notification_time\").dt.seconds().min().alias(\"min\"),\n"
     ]
    },
    {
     "data": {
      "text/html": [
       "<div><style>\n",
       ".dataframe > thead > tr,\n",
       ".dataframe > tbody > tr {\n",
       "  text-align: right;\n",
       "  white-space: pre-wrap;\n",
       "}\n",
       "</style>\n",
       "<small>shape: (133_757, 7)</small><table border=\"1\" class=\"dataframe\"><thead><tr><th>car_id</th><th>intervalo_manual</th><th>mean</th><th>median</th><th>variance</th><th>max</th><th>min</th></tr><tr><td>str</td><td>datetime[μs]</td><td>f64</td><td>f64</td><td>f64</td><td>i64</td><td>i64</td></tr></thead><tbody><tr><td>&quot;car_0&quot;</td><td>2023-01-01 00:00:00</td><td>46.5</td><td>46.5</td><td>2520.5</td><td>82</td><td>11</td></tr><tr><td>&quot;car_0&quot;</td><td>2023-01-01 00:05:00</td><td>147.666667</td><td>148.0</td><td>4160.333333</td><td>212</td><td>83</td></tr><tr><td>&quot;car_0&quot;</td><td>2023-01-01 00:10:00</td><td>52.833333</td><td>53.5</td><td>872.566667</td><td>87</td><td>2</td></tr><tr><td>&quot;car_0&quot;</td><td>2023-01-01 00:15:00</td><td>246.0</td><td>246.0</td><td>null</td><td>246</td><td>246</td></tr><tr><td>&quot;car_0&quot;</td><td>2023-01-01 00:30:00</td><td>177.0</td><td>57.0</td><td>85378.5</td><td>695</td><td>6</td></tr><tr><td>&hellip;</td><td>&hellip;</td><td>&hellip;</td><td>&hellip;</td><td>&hellip;</td><td>&hellip;</td><td>&hellip;</td></tr><tr><td>&quot;car_99&quot;</td><td>2023-01-07 23:10:00</td><td>1068.0</td><td>1068.0</td><td>null</td><td>1068</td><td>1068</td></tr><tr><td>&quot;car_99&quot;</td><td>2023-01-07 23:15:00</td><td>136.0</td><td>136.0</td><td>null</td><td>136</td><td>136</td></tr><tr><td>&quot;car_99&quot;</td><td>2023-01-07 23:25:00</td><td>517.0</td><td>517.0</td><td>null</td><td>517</td><td>517</td></tr><tr><td>&quot;car_99&quot;</td><td>2023-01-07 23:40:00</td><td>1146.0</td><td>1146.0</td><td>null</td><td>1146</td><td>1146</td></tr><tr><td>&quot;car_99&quot;</td><td>2023-01-07 23:45:00</td><td>158.0</td><td>158.0</td><td>4050.0</td><td>203</td><td>113</td></tr></tbody></table></div>"
      ],
      "text/plain": [
       "shape: (133_757, 7)\n",
       "┌────────┬─────────────────────┬────────────┬────────┬─────────────┬──────┬──────┐\n",
       "│ car_id ┆ intervalo_manual    ┆ mean       ┆ median ┆ variance    ┆ max  ┆ min  │\n",
       "│ ---    ┆ ---                 ┆ ---        ┆ ---    ┆ ---         ┆ ---  ┆ ---  │\n",
       "│ str    ┆ datetime[μs]        ┆ f64        ┆ f64    ┆ f64         ┆ i64  ┆ i64  │\n",
       "╞════════╪═════════════════════╪════════════╪════════╪═════════════╪══════╪══════╡\n",
       "│ car_0  ┆ 2023-01-01 00:00:00 ┆ 46.5       ┆ 46.5   ┆ 2520.5      ┆ 82   ┆ 11   │\n",
       "│ car_0  ┆ 2023-01-01 00:05:00 ┆ 147.666667 ┆ 148.0  ┆ 4160.333333 ┆ 212  ┆ 83   │\n",
       "│ car_0  ┆ 2023-01-01 00:10:00 ┆ 52.833333  ┆ 53.5   ┆ 872.566667  ┆ 87   ┆ 2    │\n",
       "│ car_0  ┆ 2023-01-01 00:15:00 ┆ 246.0      ┆ 246.0  ┆ null        ┆ 246  ┆ 246  │\n",
       "│ car_0  ┆ 2023-01-01 00:30:00 ┆ 177.0      ┆ 57.0   ┆ 85378.5     ┆ 695  ┆ 6    │\n",
       "│ …      ┆ …                   ┆ …          ┆ …      ┆ …           ┆ …    ┆ …    │\n",
       "│ car_99 ┆ 2023-01-07 23:10:00 ┆ 1068.0     ┆ 1068.0 ┆ null        ┆ 1068 ┆ 1068 │\n",
       "│ car_99 ┆ 2023-01-07 23:15:00 ┆ 136.0      ┆ 136.0  ┆ null        ┆ 136  ┆ 136  │\n",
       "│ car_99 ┆ 2023-01-07 23:25:00 ┆ 517.0      ┆ 517.0  ┆ null        ┆ 517  ┆ 517  │\n",
       "│ car_99 ┆ 2023-01-07 23:40:00 ┆ 1146.0     ┆ 1146.0 ┆ null        ┆ 1146 ┆ 1146 │\n",
       "│ car_99 ┆ 2023-01-07 23:45:00 ┆ 158.0      ┆ 158.0  ┆ 4050.0      ┆ 203  ┆ 113  │\n",
       "└────────┴─────────────────────┴────────────┴────────┴─────────────┴──────┴──────┘"
      ]
     },
     "execution_count": 34,
     "metadata": {},
     "output_type": "execute_result"
    }
   ],
   "source": [
    "#3.1\n",
    "stats = data2.agg([\n",
    "    pl.col(\"notification_time\").dt.seconds().mean().alias(\"mean\"),\n",
    "    pl.col(\"notification_time\").dt.seconds().median().alias(\"median\"),\n",
    "    pl.col(\"notification_time\").dt.seconds().var().alias(\"variance\"),\n",
    "    pl.col(\"notification_time\").dt.seconds().max().alias(\"max\"),\n",
    "    pl.col(\"notification_time\").dt.seconds().min().alias(\"min\"),\n",
    "])\n",
    "\n",
    "stats=stats.sort([\"car_id\", \"intervalo_manual\"])\n",
    "stats"
   ]
  },
  {
   "cell_type": "code",
   "execution_count": 36,
   "metadata": {},
   "outputs": [
    {
     "data": {
      "text/html": [
       "<div><style>\n",
       ".dataframe > thead > tr,\n",
       ".dataframe > tbody > tr {\n",
       "  text-align: right;\n",
       "  white-space: pre-wrap;\n",
       "}\n",
       "</style>\n",
       "<small>shape: (133_757, 7)</small><table border=\"1\" class=\"dataframe\"><thead><tr><th>car_id</th><th>intervalo_manual</th><th>mean_distance</th><th>median_distance</th><th>variance_distance</th><th>max_distance</th><th>min_distance</th></tr><tr><td>str</td><td>datetime[μs]</td><td>f64</td><td>f64</td><td>f64</td><td>f64</td><td>f64</td></tr></thead><tbody><tr><td>&quot;car_0&quot;</td><td>2023-01-01 00:00:00</td><td>0.0</td><td>0.0</td><td>0.0</td><td>0.0</td><td>0.0</td></tr><tr><td>&quot;car_0&quot;</td><td>2023-01-01 00:05:00</td><td>0.0</td><td>0.0</td><td>0.0</td><td>0.0</td><td>0.0</td></tr><tr><td>&quot;car_0&quot;</td><td>2023-01-01 00:10:00</td><td>0.0</td><td>0.0</td><td>0.0</td><td>0.0</td><td>0.0</td></tr><tr><td>&quot;car_0&quot;</td><td>2023-01-01 00:15:00</td><td>0.0</td><td>0.0</td><td>null</td><td>0.0</td><td>0.0</td></tr><tr><td>&quot;car_0&quot;</td><td>2023-01-01 00:30:00</td><td>0.195676</td><td>0.0</td><td>0.191446</td><td>0.978382</td><td>0.0</td></tr><tr><td>&hellip;</td><td>&hellip;</td><td>&hellip;</td><td>&hellip;</td><td>&hellip;</td><td>&hellip;</td><td>&hellip;</td></tr><tr><td>&quot;car_99&quot;</td><td>2023-01-07 23:10:00</td><td>0.758479</td><td>0.758479</td><td>null</td><td>0.758479</td><td>0.758479</td></tr><tr><td>&quot;car_99&quot;</td><td>2023-01-07 23:15:00</td><td>0.0</td><td>0.0</td><td>null</td><td>0.0</td><td>0.0</td></tr><tr><td>&quot;car_99&quot;</td><td>2023-01-07 23:25:00</td><td>0.0</td><td>0.0</td><td>null</td><td>0.0</td><td>0.0</td></tr><tr><td>&quot;car_99&quot;</td><td>2023-01-07 23:40:00</td><td>0.52871</td><td>0.52871</td><td>null</td><td>0.52871</td><td>0.52871</td></tr><tr><td>&quot;car_99&quot;</td><td>2023-01-07 23:45:00</td><td>0.0</td><td>0.0</td><td>0.0</td><td>0.0</td><td>0.0</td></tr></tbody></table></div>"
      ],
      "text/plain": [
       "shape: (133_757, 7)\n",
       "┌────────┬──────────────┬──────────────┬──────────────┬──────────────┬──────────────┬──────────────┐\n",
       "│ car_id ┆ intervalo_ma ┆ mean_distanc ┆ median_dista ┆ variance_dis ┆ max_distance ┆ min_distance │\n",
       "│ ---    ┆ nual         ┆ e            ┆ nce          ┆ tance        ┆ ---          ┆ ---          │\n",
       "│ str    ┆ ---          ┆ ---          ┆ ---          ┆ ---          ┆ f64          ┆ f64          │\n",
       "│        ┆ datetime[μs] ┆ f64          ┆ f64          ┆ f64          ┆              ┆              │\n",
       "╞════════╪══════════════╪══════════════╪══════════════╪══════════════╪══════════════╪══════════════╡\n",
       "│ car_0  ┆ 2023-01-01   ┆ 0.0          ┆ 0.0          ┆ 0.0          ┆ 0.0          ┆ 0.0          │\n",
       "│        ┆ 00:00:00     ┆              ┆              ┆              ┆              ┆              │\n",
       "│ car_0  ┆ 2023-01-01   ┆ 0.0          ┆ 0.0          ┆ 0.0          ┆ 0.0          ┆ 0.0          │\n",
       "│        ┆ 00:05:00     ┆              ┆              ┆              ┆              ┆              │\n",
       "│ car_0  ┆ 2023-01-01   ┆ 0.0          ┆ 0.0          ┆ 0.0          ┆ 0.0          ┆ 0.0          │\n",
       "│        ┆ 00:10:00     ┆              ┆              ┆              ┆              ┆              │\n",
       "│ car_0  ┆ 2023-01-01   ┆ 0.0          ┆ 0.0          ┆ null         ┆ 0.0          ┆ 0.0          │\n",
       "│        ┆ 00:15:00     ┆              ┆              ┆              ┆              ┆              │\n",
       "│ car_0  ┆ 2023-01-01   ┆ 0.195676     ┆ 0.0          ┆ 0.191446     ┆ 0.978382     ┆ 0.0          │\n",
       "│        ┆ 00:30:00     ┆              ┆              ┆              ┆              ┆              │\n",
       "│ …      ┆ …            ┆ …            ┆ …            ┆ …            ┆ …            ┆ …            │\n",
       "│ car_99 ┆ 2023-01-07   ┆ 0.758479     ┆ 0.758479     ┆ null         ┆ 0.758479     ┆ 0.758479     │\n",
       "│        ┆ 23:10:00     ┆              ┆              ┆              ┆              ┆              │\n",
       "│ car_99 ┆ 2023-01-07   ┆ 0.0          ┆ 0.0          ┆ null         ┆ 0.0          ┆ 0.0          │\n",
       "│        ┆ 23:15:00     ┆              ┆              ┆              ┆              ┆              │\n",
       "│ car_99 ┆ 2023-01-07   ┆ 0.0          ┆ 0.0          ┆ null         ┆ 0.0          ┆ 0.0          │\n",
       "│        ┆ 23:25:00     ┆              ┆              ┆              ┆              ┆              │\n",
       "│ car_99 ┆ 2023-01-07   ┆ 0.52871      ┆ 0.52871      ┆ null         ┆ 0.52871      ┆ 0.52871      │\n",
       "│        ┆ 23:40:00     ┆              ┆              ┆              ┆              ┆              │\n",
       "│ car_99 ┆ 2023-01-07   ┆ 0.0          ┆ 0.0          ┆ 0.0          ┆ 0.0          ┆ 0.0          │\n",
       "│        ┆ 23:45:00     ┆              ┆              ┆              ┆              ┆              │\n",
       "└────────┴──────────────┴──────────────┴──────────────┴──────────────┴──────────────┴──────────────┘"
      ]
     },
     "execution_count": 36,
     "metadata": {},
     "output_type": "execute_result"
    }
   ],
   "source": [
    "#3.2\n",
    "stats2 = data2.agg([\n",
    "    pl.col(\"distance\").mean().alias(\"mean_distance\"),\n",
    "    pl.col(\"distance\").median().alias(\"median_distance\"),\n",
    "    pl.col(\"distance\").var().alias(\"variance_distance\"),\n",
    "    pl.col(\"distance\").max().alias(\"max_distance\"),\n",
    "    pl.col(\"distance\").min().alias(\"min_distance\"),\n",
    "])\n",
    "\n",
    "stats2 = stats2.sort([\"car_id\", \"intervalo_manual\"])\n",
    "stats2\n"
   ]
  },
  {
   "cell_type": "code",
   "execution_count": null,
   "metadata": {},
   "outputs": [],
   "source": []
  }
 ],
 "metadata": {
  "kernelspec": {
   "display_name": "itam",
   "language": "python",
   "name": "python3"
  },
  "language_info": {
   "codemirror_mode": {
    "name": "ipython",
    "version": 3
   },
   "file_extension": ".py",
   "mimetype": "text/x-python",
   "name": "python",
   "nbconvert_exporter": "python",
   "pygments_lexer": "ipython3",
   "version": "3.12.3"
  }
 },
 "nbformat": 4,
 "nbformat_minor": 2
}
