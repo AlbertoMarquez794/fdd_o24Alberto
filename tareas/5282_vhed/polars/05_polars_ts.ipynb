{
 "cells": [
  {
   "cell_type": "code",
   "execution_count": 1,
   "metadata": {},
   "outputs": [],
   "source": [
    "import polars as pl\n",
    "import numpy as np\n",
    "import random\n",
    "from datetime import datetime, timedelta"
   ]
  },
  {
   "cell_type": "markdown",
   "metadata": {},
   "source": [
    "# Descripcion"
   ]
  },
  {
   "cell_type": "markdown",
   "metadata": {},
   "source": [
    "Los datos son notificaciones de dispositivos GPS en Mexico. En promedio generan notificaciones automatizadas cada 5 minutos si el carro esta encendido, y 30 si esta apagado.  \n",
    "\n",
    "Cada notificacion esta acompannada de un evento de lo que esta ocurriendo, y trae la latitud y longitud.  \n",
    "\n",
    "El objetico es predecir si un vehiculo esta siendo robado de acuerdo a sus notificaciones, por lo que el primer paso seria limpiar datos y hacer ingenieria de variables.\n",
    "\n",
    "Trata de hacerlo **lazy** si puedes."
   ]
  },
  {
   "cell_type": "code",
   "execution_count": 19,
   "metadata": {},
   "outputs": [],
   "source": [
    "def generate_dummy_data(num_cars, start_time, end_time, working_hours_interval, non_working_hours_interval):\n",
    "    data = []\n",
    "\n",
    "    # Define the latitude and longitude ranges for Mexico\n",
    "    min_latitude, max_latitude = 14.5388, 32.7186\n",
    "    min_longitude, max_longitude = -118.4662, -86.7104\n",
    "\n",
    "    for car_id in range(num_cars):\n",
    "        current_time = start_time\n",
    "\n",
    "        # Generate random initial latitude and longitude for each car\n",
    "        latitude = random.uniform(min_latitude, max_latitude)\n",
    "        longitude = random.uniform(min_longitude, max_longitude)\n",
    "\n",
    "        while current_time < end_time:\n",
    "            if current_time.weekday() < 5 and 9 <= current_time.hour < 17:\n",
    "                # Working hours (Monday to Friday, 9 AM to 5 PM)\n",
    "                interval = working_hours_interval\n",
    "            else:\n",
    "                # Non-working hours\n",
    "                interval = non_working_hours_interval\n",
    "\n",
    "            # Generate notification with 99% probability\n",
    "            if random.random() < 0.99:\n",
    "                notification = random.choice([\"low_fuel\", \"tire_pressure\", \"engine_check\", None])\n",
    "                data.append((f\"car_{car_id}\", current_time.isoformat(), latitude, longitude, notification))\n",
    "\n",
    "            # Generate additional notifications between intervals\n",
    "            while True:\n",
    "                additional_interval = random.expovariate(1 / (interval / 2))\n",
    "                additional_time = current_time + timedelta(minutes=additional_interval)\n",
    "                if additional_time >= current_time + timedelta(minutes=interval):\n",
    "                    break\n",
    "                notification = random.choice([\"low_fuel\", \"tire_pressure\", \"engine_check\", None])\n",
    "                data.append((f\"car_{car_id}\", additional_time.isoformat(), latitude, longitude, notification))\n",
    "\n",
    "            # Update latitude and longitude for car movement\n",
    "            latitude += random.uniform(-0.01, 0.01)\n",
    "            longitude += random.uniform(-0.01, 0.01)\n",
    "\n",
    "            # Check if the car is among the 1% that can have 100 notifications within 5 minutes\n",
    "            if random.random() < 0.01:\n",
    "                burst_start_time = current_time + timedelta(minutes=random.uniform(0, interval))\n",
    "                burst_end_time = burst_start_time + timedelta(minutes=5)\n",
    "                while current_time < burst_end_time:\n",
    "                    notification = random.choice([\"low_fuel\", \"tire_pressure\", \"engine_check\", None])\n",
    "                    data.append((f\"car_{car_id}\", current_time.isoformat(), latitude, longitude, notification))\n",
    "                    current_time += timedelta(seconds=random.uniform(1, 10))\n",
    "\n",
    "            current_time += timedelta(minutes=interval)\n",
    "\n",
    "    # Create a Polars DataFrame from the generated data\n",
    "    df = pl.DataFrame(\n",
    "        {\n",
    "            \"car_id\": [record[0] for record in data],\n",
    "            \"timestamp\": [record[1] for record in data],\n",
    "            \"latitude\": [record[2] for record in data],\n",
    "            \"longitude\": [record[3] for record in data],\n",
    "            \"notification\": [record[4] for record in data],\n",
    "        }\n",
    "    )\n",
    "\n",
    "    return df"
   ]
  },
  {
   "cell_type": "code",
   "execution_count": 34,
   "metadata": {},
   "outputs": [
    {
     "data": {
      "text/html": [
       "<div><style>\n",
       ".dataframe > thead > tr,\n",
       ".dataframe > tbody > tr {\n",
       "  text-align: right;\n",
       "  white-space: pre-wrap;\n",
       "}\n",
       "</style>\n",
       "<small>shape: (5, 5)</small><table border=\"1\" class=\"dataframe\"><thead><tr><th>car_id</th><th>timestamp</th><th>latitude</th><th>longitude</th><th>notification</th></tr><tr><td>str</td><td>str</td><td>f64</td><td>f64</td><td>str</td></tr></thead><tbody><tr><td>&quot;car_0&quot;</td><td>&quot;2023-01-01T00:…</td><td>30.206461</td><td>-93.13935</td><td>&quot;low_fuel&quot;</td></tr><tr><td>&quot;car_0&quot;</td><td>&quot;2023-01-01T00:…</td><td>30.206461</td><td>-93.13935</td><td>&quot;engine_check&quot;</td></tr><tr><td>&quot;car_0&quot;</td><td>&quot;2023-01-01T00:…</td><td>30.206461</td><td>-93.13935</td><td>null</td></tr><tr><td>&quot;car_0&quot;</td><td>&quot;2023-01-01T00:…</td><td>30.206461</td><td>-93.13935</td><td>&quot;low_fuel&quot;</td></tr><tr><td>&quot;car_0&quot;</td><td>&quot;2023-01-01T00:…</td><td>30.206461</td><td>-93.13935</td><td>&quot;tire_pressure&quot;</td></tr></tbody></table></div>"
      ],
      "text/plain": [
       "shape: (5, 5)\n",
       "┌────────┬────────────────────────────┬───────────┬───────────┬───────────────┐\n",
       "│ car_id ┆ timestamp                  ┆ latitude  ┆ longitude ┆ notification  │\n",
       "│ ---    ┆ ---                        ┆ ---       ┆ ---       ┆ ---           │\n",
       "│ str    ┆ str                        ┆ f64       ┆ f64       ┆ str           │\n",
       "╞════════╪════════════════════════════╪═══════════╪═══════════╪═══════════════╡\n",
       "│ car_0  ┆ 2023-01-01T00:00:00        ┆ 30.206461 ┆ -93.13935 ┆ low_fuel      │\n",
       "│ car_0  ┆ 2023-01-01T00:05:05.585111 ┆ 30.206461 ┆ -93.13935 ┆ engine_check  │\n",
       "│ car_0  ┆ 2023-01-01T00:11:05.552180 ┆ 30.206461 ┆ -93.13935 ┆ null          │\n",
       "│ car_0  ┆ 2023-01-01T00:05:34.802998 ┆ 30.206461 ┆ -93.13935 ┆ low_fuel      │\n",
       "│ car_0  ┆ 2023-01-01T00:00:55.586302 ┆ 30.206461 ┆ -93.13935 ┆ tire_pressure │\n",
       "└────────┴────────────────────────────┴───────────┴───────────┴───────────────┘"
      ]
     },
     "execution_count": 34,
     "metadata": {},
     "output_type": "execute_result"
    }
   ],
   "source": [
    "num_cars = 100\n",
    "start_time = datetime(2023, 1, 1, 0, 0, 0)  # Start of the week\n",
    "end_time = start_time + timedelta(weeks=1)  # End of the week\n",
    "working_hours_interval = 5  # Interval of 5 minutes during working hours\n",
    "non_working_hours_interval = 30  # Interval of 30 minutes during non-working hours\n",
    "\n",
    "# Generate the dummy data\n",
    "data = generate_dummy_data(num_cars, start_time, end_time, working_hours_interval, non_working_hours_interval)\n",
    "\n",
    "# Print the first few rows of the generated data\n",
    "\n",
    "data.head()"
   ]
  },
  {
   "cell_type": "markdown",
   "metadata": {},
   "source": [
    "## Limpieza de datos"
   ]
  },
  {
   "cell_type": "markdown",
   "metadata": {},
   "source": [
    "### Timestamp"
   ]
  },
  {
   "cell_type": "markdown",
   "metadata": {},
   "source": [
    "Convierte el `timestamp` que actualmente es string a formato de tiempo en polars"
   ]
  },
  {
   "cell_type": "code",
   "execution_count": 35,
   "metadata": {},
   "outputs": [
    {
     "data": {
      "text/html": [
       "<div><style>\n",
       ".dataframe > thead > tr,\n",
       ".dataframe > tbody > tr {\n",
       "  text-align: right;\n",
       "  white-space: pre-wrap;\n",
       "}\n",
       "</style>\n",
       "<small>shape: (5, 5)</small><table border=\"1\" class=\"dataframe\"><thead><tr><th>car_id</th><th>timestamp</th><th>latitude</th><th>longitude</th><th>notification</th></tr><tr><td>str</td><td>datetime[μs]</td><td>f64</td><td>f64</td><td>str</td></tr></thead><tbody><tr><td>&quot;car_0&quot;</td><td>2023-01-01 00:00:00</td><td>30.206461</td><td>-93.13935</td><td>&quot;low_fuel&quot;</td></tr><tr><td>&quot;car_0&quot;</td><td>2023-01-01 00:05:05.585111</td><td>30.206461</td><td>-93.13935</td><td>&quot;engine_check&quot;</td></tr><tr><td>&quot;car_0&quot;</td><td>2023-01-01 00:11:05.552180</td><td>30.206461</td><td>-93.13935</td><td>null</td></tr><tr><td>&quot;car_0&quot;</td><td>2023-01-01 00:05:34.802998</td><td>30.206461</td><td>-93.13935</td><td>&quot;low_fuel&quot;</td></tr><tr><td>&quot;car_0&quot;</td><td>2023-01-01 00:00:55.586302</td><td>30.206461</td><td>-93.13935</td><td>&quot;tire_pressure&quot;</td></tr></tbody></table></div>"
      ],
      "text/plain": [
       "shape: (5, 5)\n",
       "┌────────┬────────────────────────────┬───────────┬───────────┬───────────────┐\n",
       "│ car_id ┆ timestamp                  ┆ latitude  ┆ longitude ┆ notification  │\n",
       "│ ---    ┆ ---                        ┆ ---       ┆ ---       ┆ ---           │\n",
       "│ str    ┆ datetime[μs]               ┆ f64       ┆ f64       ┆ str           │\n",
       "╞════════╪════════════════════════════╪═══════════╪═══════════╪═══════════════╡\n",
       "│ car_0  ┆ 2023-01-01 00:00:00        ┆ 30.206461 ┆ -93.13935 ┆ low_fuel      │\n",
       "│ car_0  ┆ 2023-01-01 00:05:05.585111 ┆ 30.206461 ┆ -93.13935 ┆ engine_check  │\n",
       "│ car_0  ┆ 2023-01-01 00:11:05.552180 ┆ 30.206461 ┆ -93.13935 ┆ null          │\n",
       "│ car_0  ┆ 2023-01-01 00:05:34.802998 ┆ 30.206461 ┆ -93.13935 ┆ low_fuel      │\n",
       "│ car_0  ┆ 2023-01-01 00:00:55.586302 ┆ 30.206461 ┆ -93.13935 ┆ tire_pressure │\n",
       "└────────┴────────────────────────────┴───────────┴───────────┴───────────────┘"
      ]
     },
     "execution_count": 35,
     "metadata": {},
     "output_type": "execute_result"
    }
   ],
   "source": [
    "# Convertir el campo \"timestamp\" a formato de tiempo en Polars\n",
    "data = data.with_columns(pl.col(\"timestamp\").str.to_datetime())\n",
    "\n",
    "# Verificar la conversión\n",
    "data.head()\n",
    "\n",
    "\n"
   ]
  },
  {
   "cell_type": "code",
   "execution_count": 36,
   "metadata": {},
   "outputs": [
    {
     "data": {
      "text/html": [
       "<div><style>\n",
       ".dataframe > thead > tr,\n",
       ".dataframe > tbody > tr {\n",
       "  text-align: right;\n",
       "  white-space: pre-wrap;\n",
       "}\n",
       "</style>\n",
       "<small>shape: (626_407, 5)</small><table border=\"1\" class=\"dataframe\"><thead><tr><th>car_id</th><th>timestamp</th><th>latitude</th><th>longitude</th><th>notification</th></tr><tr><td>str</td><td>datetime[μs]</td><td>f64</td><td>f64</td><td>str</td></tr></thead><tbody><tr><td>&quot;car_0&quot;</td><td>2023-01-01 00:00:00</td><td>30.206461</td><td>-93.13935</td><td>&quot;low_fuel&quot;</td></tr><tr><td>&quot;car_0&quot;</td><td>2023-01-01 00:05:05.585111</td><td>30.206461</td><td>-93.13935</td><td>&quot;engine_check&quot;</td></tr><tr><td>&quot;car_0&quot;</td><td>2023-01-01 00:11:05.552180</td><td>30.206461</td><td>-93.13935</td><td>null</td></tr><tr><td>&quot;car_0&quot;</td><td>2023-01-01 00:05:34.802998</td><td>30.206461</td><td>-93.13935</td><td>&quot;low_fuel&quot;</td></tr><tr><td>&quot;car_0&quot;</td><td>2023-01-01 00:00:55.586302</td><td>30.206461</td><td>-93.13935</td><td>&quot;tire_pressure&quot;</td></tr><tr><td>&hellip;</td><td>&hellip;</td><td>&hellip;</td><td>&hellip;</td><td>&hellip;</td></tr><tr><td>&quot;car_99&quot;</td><td>2023-01-07 23:37:12.435082</td><td>23.724843</td><td>-91.947559</td><td>&quot;tire_pressure&quot;</td></tr><tr><td>&quot;car_99&quot;</td><td>2023-01-07 23:46:46.035791</td><td>23.724843</td><td>-91.947559</td><td>&quot;engine_check&quot;</td></tr><tr><td>&quot;car_99&quot;</td><td>2023-01-07 23:43:14.621928</td><td>23.724843</td><td>-91.947559</td><td>&quot;low_fuel&quot;</td></tr><tr><td>&quot;car_99&quot;</td><td>2023-01-07 23:43:12.522197</td><td>23.724843</td><td>-91.947559</td><td>null</td></tr><tr><td>&quot;car_99&quot;</td><td>2023-01-07 23:38:59.415688</td><td>23.724843</td><td>-91.947559</td><td>null</td></tr></tbody></table></div>"
      ],
      "text/plain": [
       "shape: (626_407, 5)\n",
       "┌────────┬────────────────────────────┬───────────┬────────────┬───────────────┐\n",
       "│ car_id ┆ timestamp                  ┆ latitude  ┆ longitude  ┆ notification  │\n",
       "│ ---    ┆ ---                        ┆ ---       ┆ ---        ┆ ---           │\n",
       "│ str    ┆ datetime[μs]               ┆ f64       ┆ f64        ┆ str           │\n",
       "╞════════╪════════════════════════════╪═══════════╪════════════╪═══════════════╡\n",
       "│ car_0  ┆ 2023-01-01 00:00:00        ┆ 30.206461 ┆ -93.13935  ┆ low_fuel      │\n",
       "│ car_0  ┆ 2023-01-01 00:05:05.585111 ┆ 30.206461 ┆ -93.13935  ┆ engine_check  │\n",
       "│ car_0  ┆ 2023-01-01 00:11:05.552180 ┆ 30.206461 ┆ -93.13935  ┆ null          │\n",
       "│ car_0  ┆ 2023-01-01 00:05:34.802998 ┆ 30.206461 ┆ -93.13935  ┆ low_fuel      │\n",
       "│ car_0  ┆ 2023-01-01 00:00:55.586302 ┆ 30.206461 ┆ -93.13935  ┆ tire_pressure │\n",
       "│ …      ┆ …                          ┆ …         ┆ …          ┆ …             │\n",
       "│ car_99 ┆ 2023-01-07 23:37:12.435082 ┆ 23.724843 ┆ -91.947559 ┆ tire_pressure │\n",
       "│ car_99 ┆ 2023-01-07 23:46:46.035791 ┆ 23.724843 ┆ -91.947559 ┆ engine_check  │\n",
       "│ car_99 ┆ 2023-01-07 23:43:14.621928 ┆ 23.724843 ┆ -91.947559 ┆ low_fuel      │\n",
       "│ car_99 ┆ 2023-01-07 23:43:12.522197 ┆ 23.724843 ┆ -91.947559 ┆ null          │\n",
       "│ car_99 ┆ 2023-01-07 23:38:59.415688 ┆ 23.724843 ┆ -91.947559 ┆ null          │\n",
       "└────────┴────────────────────────────┴───────────┴────────────┴───────────────┘"
      ]
     },
     "execution_count": 36,
     "metadata": {},
     "output_type": "execute_result"
    }
   ],
   "source": [
    "data"
   ]
  },
  {
   "cell_type": "markdown",
   "metadata": {},
   "source": [
    "### Ingenieria de variables"
   ]
  },
  {
   "cell_type": "markdown",
   "metadata": {},
   "source": [
    "Dado que va a entrar a un modelo de machine learning es necesario que todas las variables sean numericas, y esten en formnato tidy. Cada observacion en una fila, y cada variable en una columna. Por lo tanto se decidio crear estadisticos y agregar los datos a intervalos uniformes de `x` minutos.  \n",
    "\n",
    "Por ejemplo, colapsar toda la informacion que ocurrion en el intervalo, como el numero de notificaciones en esos 5 minutos, el promedio entre notificaciones, y el tipo de notificaciones."
   ]
  },
  {
   "cell_type": "markdown",
   "metadata": {},
   "source": [
    "Existen varias formas de hacer esto, puedes hacerlo con `group_by` primero para crear las nuevas variables, o `group_by` (`rolling`, `dynamic`) usando operaciones sobre listas. Utiliza claude o chat_gpt"
   ]
  },
  {
   "cell_type": "markdown",
   "metadata": {},
   "source": [
    "1. Crea una nueva variable que compute la diferencia de tiempo entre notificaciones del mismo vehiculo. Piensa como lo vas a hacer. Llama a esta variable `notification_time`\n",
    "   \n"
   ]
  },
  {
   "cell_type": "code",
   "execution_count": 49,
   "metadata": {},
   "outputs": [],
   "source": [
    "# Ordenar los registros por car_id y timestamp\n",
    "data = data.sort([\"car_id\", \"timestamp\"])\n",
    "\n",
    "# Crear la variable notification_time\n",
    "data = data.with_columns(\n",
    "    pl.col(\"timestamp\")\n",
    "    .diff()\n",
    "    .over(\"car_id\")\n",
    "    .alias(\"lag\")\n",
    ")\n"
   ]
  },
  {
   "cell_type": "code",
   "execution_count": 73,
   "metadata": {},
   "outputs": [
    {
     "data": {
      "text/html": [
       "<div><style>\n",
       ".dataframe > thead > tr,\n",
       ".dataframe > tbody > tr {\n",
       "  text-align: right;\n",
       "  white-space: pre-wrap;\n",
       "}\n",
       "</style>\n",
       "<small>shape: (10, 7)</small><table border=\"1\" class=\"dataframe\"><thead><tr><th>car_id</th><th>timestamp</th><th>latitude</th><th>longitude</th><th>notification</th><th>notification_time</th><th>lag</th></tr><tr><td>str</td><td>datetime[μs]</td><td>f64</td><td>f64</td><td>str</td><td>duration[μs]</td><td>duration[μs]</td></tr></thead><tbody><tr><td>&quot;car_0&quot;</td><td>2023-01-07 23:12:18.343967</td><td>30.282041</td><td>-92.941785</td><td>null</td><td>2m 34s 474349µs</td><td>2m 34s 474349µs</td></tr><tr><td>&quot;car_0&quot;</td><td>2023-01-07 23:12:26.483369</td><td>30.282041</td><td>-92.941785</td><td>null</td><td>8s 139402µs</td><td>8s 139402µs</td></tr><tr><td>&quot;car_0&quot;</td><td>2023-01-07 23:39:02.859781</td><td>30.282824</td><td>-92.935575</td><td>&quot;tire_pressure&quot;</td><td>26m 36s 376412µs</td><td>26m 36s 376412µs</td></tr><tr><td>&quot;car_0&quot;</td><td>2023-01-07 23:39:41.158192</td><td>30.282824</td><td>-92.935575</td><td>&quot;engine_check&quot;</td><td>38s 298411µs</td><td>38s 298411µs</td></tr><tr><td>&quot;car_0&quot;</td><td>2023-01-07 23:41:31.114332</td><td>30.282824</td><td>-92.935575</td><td>&quot;tire_pressure&quot;</td><td>1m 49s 956140µs</td><td>1m 49s 956140µs</td></tr><tr><td>&quot;car_1&quot;</td><td>2023-01-01 00:00:00</td><td>29.303973</td><td>-89.9679</td><td>&quot;engine_check&quot;</td><td>null</td><td>null</td></tr><tr><td>&quot;car_1&quot;</td><td>2023-01-01 00:30:00</td><td>29.309837</td><td>-89.965361</td><td>null</td><td>30m</td><td>30m</td></tr><tr><td>&quot;car_1&quot;</td><td>2023-01-01 00:36:39.080965</td><td>29.309837</td><td>-89.965361</td><td>&quot;engine_check&quot;</td><td>6m 39s 80965µs</td><td>6m 39s 80965µs</td></tr><tr><td>&quot;car_1&quot;</td><td>2023-01-01 00:45:40.669972</td><td>29.309837</td><td>-89.965361</td><td>&quot;low_fuel&quot;</td><td>9m 1s 589007µs</td><td>9m 1s 589007µs</td></tr><tr><td>&quot;car_1&quot;</td><td>2023-01-01 00:57:34.433239</td><td>29.309837</td><td>-89.965361</td><td>&quot;low_fuel&quot;</td><td>11m 53s 763267µs</td><td>11m 53s 763267µs</td></tr></tbody></table></div>"
      ],
      "text/plain": [
       "shape: (10, 7)\n",
       "┌────────┬────────────────┬───────────┬────────────┬───────────────┬───────────────┬───────────────┐\n",
       "│ car_id ┆ timestamp      ┆ latitude  ┆ longitude  ┆ notification  ┆ notification_ ┆ lag           │\n",
       "│ ---    ┆ ---            ┆ ---       ┆ ---        ┆ ---           ┆ time          ┆ ---           │\n",
       "│ str    ┆ datetime[μs]   ┆ f64       ┆ f64        ┆ str           ┆ ---           ┆ duration[μs]  │\n",
       "│        ┆                ┆           ┆            ┆               ┆ duration[μs]  ┆               │\n",
       "╞════════╪════════════════╪═══════════╪════════════╪═══════════════╪═══════════════╪═══════════════╡\n",
       "│ car_0  ┆ 2023-01-07 23: ┆ 30.282041 ┆ -92.941785 ┆ null          ┆ 2m 34s        ┆ 2m 34s        │\n",
       "│        ┆ 12:18.343967   ┆           ┆            ┆               ┆ 474349µs      ┆ 474349µs      │\n",
       "│ car_0  ┆ 2023-01-07 23: ┆ 30.282041 ┆ -92.941785 ┆ null          ┆ 8s 139402µs   ┆ 8s 139402µs   │\n",
       "│        ┆ 12:26.483369   ┆           ┆            ┆               ┆               ┆               │\n",
       "│ car_0  ┆ 2023-01-07 23: ┆ 30.282824 ┆ -92.935575 ┆ tire_pressure ┆ 26m 36s       ┆ 26m 36s       │\n",
       "│        ┆ 39:02.859781   ┆           ┆            ┆               ┆ 376412µs      ┆ 376412µs      │\n",
       "│ car_0  ┆ 2023-01-07 23: ┆ 30.282824 ┆ -92.935575 ┆ engine_check  ┆ 38s 298411µs  ┆ 38s 298411µs  │\n",
       "│        ┆ 39:41.158192   ┆           ┆            ┆               ┆               ┆               │\n",
       "│ car_0  ┆ 2023-01-07 23: ┆ 30.282824 ┆ -92.935575 ┆ tire_pressure ┆ 1m 49s        ┆ 1m 49s        │\n",
       "│        ┆ 41:31.114332   ┆           ┆            ┆               ┆ 956140µs      ┆ 956140µs      │\n",
       "│ car_1  ┆ 2023-01-01     ┆ 29.303973 ┆ -89.9679   ┆ engine_check  ┆ null          ┆ null          │\n",
       "│        ┆ 00:00:00       ┆           ┆            ┆               ┆               ┆               │\n",
       "│ car_1  ┆ 2023-01-01     ┆ 29.309837 ┆ -89.965361 ┆ null          ┆ 30m           ┆ 30m           │\n",
       "│        ┆ 00:30:00       ┆           ┆            ┆               ┆               ┆               │\n",
       "│ car_1  ┆ 2023-01-01 00: ┆ 29.309837 ┆ -89.965361 ┆ engine_check  ┆ 6m 39s        ┆ 6m 39s        │\n",
       "│        ┆ 36:39.080965   ┆           ┆            ┆               ┆ 80965µs       ┆ 80965µs       │\n",
       "│ car_1  ┆ 2023-01-01 00: ┆ 29.309837 ┆ -89.965361 ┆ low_fuel      ┆ 9m 1s         ┆ 9m 1s         │\n",
       "│        ┆ 45:40.669972   ┆           ┆            ┆               ┆ 589007µs      ┆ 589007µs      │\n",
       "│ car_1  ┆ 2023-01-01 00: ┆ 29.309837 ┆ -89.965361 ┆ low_fuel      ┆ 11m 53s       ┆ 11m 53s       │\n",
       "│        ┆ 57:34.433239   ┆           ┆            ┆               ┆ 763267µs      ┆ 763267µs      │\n",
       "└────────┴────────────────┴───────────┴────────────┴───────────────┴───────────────┴───────────────┘"
      ]
     },
     "execution_count": 73,
     "metadata": {},
     "output_type": "execute_result"
    }
   ],
   "source": [
    "data[6335:6345]"
   ]
  },
  {
   "cell_type": "markdown",
   "metadata": {},
   "source": [
    "2. Crea una nueva variable que compute la distancia que viajo el vehiculo desde la ultima notificacion. Llamala `distance`"
   ]
  },
  {
   "cell_type": "code",
   "execution_count": null,
   "metadata": {},
   "outputs": [],
   "source": []
  },
  {
   "cell_type": "markdown",
   "metadata": {},
   "source": [
    "3. Crea intervalos de `x` minutos por carro. Como el numero de notificaciones en esos intervalos no es uniforme tienes que buscar funciones de polars especificas, pero ademas tienen que ser por vehiculo, pues tienen que ser del mismo. Revisa las funciones de `group_by` `dynamic` y `rolling`.\n",
    "   1. Computa la media, mediana, varianza, max y min de `notification_time` los intervalos de `x` minutos\n",
    "   2. Computa la media, mediana, varianza, max y min de `distance`\n"
   ]
  },
  {
   "cell_type": "code",
   "execution_count": null,
   "metadata": {},
   "outputs": [],
   "source": []
  }
 ],
 "metadata": {
  "kernelspec": {
   "display_name": "itam",
   "language": "python",
   "name": "python3"
  },
  "language_info": {
   "codemirror_mode": {
    "name": "ipython",
    "version": 3
   },
   "file_extension": ".py",
   "mimetype": "text/x-python",
   "name": "python",
   "nbconvert_exporter": "python",
   "pygments_lexer": "ipython3",
   "version": "3.12.1"
  }
 },
 "nbformat": 4,
 "nbformat_minor": 2
}
