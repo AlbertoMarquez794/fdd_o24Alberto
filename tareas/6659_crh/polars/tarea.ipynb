{
 "cells": [
  {
   "cell_type": "code",
   "execution_count": 68,
   "metadata": {},
   "outputs": [],
   "source": [
    "import polars as pl\n",
    "import numpy as np\n",
    "import random\n",
    "from datetime import datetime, timedelta\n",
    "import math"
   ]
  },
  {
   "cell_type": "markdown",
   "metadata": {},
   "source": [
    "# Descripcion"
   ]
  },
  {
   "cell_type": "markdown",
   "metadata": {},
   "source": [
    "Los datos son notificaciones de dispositivos GPS en Mexico. En promedio generan notificaciones automatizadas cada 5 minutos si el carro esta encendido, y 30 si esta apagado.  \n",
    "\n",
    "Cada notificacion esta acompannada de un evento de lo que esta ocurriendo, y trae la latitud y longitud.  \n",
    "\n",
    "El objetico es predecir si un vehiculo esta siendo robado de acuerdo a sus notificaciones, por lo que el primer paso seria limpiar datos y hacer ingenieria de variables.\n",
    "\n",
    "Trata de hacerlo **lazy** si puedes."
   ]
  },
  {
   "cell_type": "code",
   "execution_count": 69,
   "metadata": {},
   "outputs": [],
   "source": [
    "def generate_dummy_data(num_cars, start_time, end_time, working_hours_interval, non_working_hours_interval):\n",
    "    data = []\n",
    "\n",
    "    # Define the latitude and longitude ranges for Mexico\n",
    "    min_latitude, max_latitude = 14.5388, 32.7186\n",
    "    min_longitude, max_longitude = -118.4662, -86.7104\n",
    "\n",
    "    for car_id in range(num_cars):\n",
    "        current_time = start_time\n",
    "\n",
    "        # Generate random initial latitude and longitude for each car\n",
    "        latitude = random.uniform(min_latitude, max_latitude)\n",
    "        longitude = random.uniform(min_longitude, max_longitude)\n",
    "\n",
    "        while current_time < end_time:\n",
    "            if current_time.weekday() < 5 and 9 <= current_time.hour < 17:\n",
    "                # Working hours (Monday to Friday, 9 AM to 5 PM)\n",
    "                interval = working_hours_interval\n",
    "            else:\n",
    "                # Non-working hours\n",
    "                interval = non_working_hours_interval\n",
    "\n",
    "            # Generate notification with 99% probability\n",
    "            if random.random() < 0.99:\n",
    "                notification = random.choice([\"low_fuel\", \"tire_pressure\", \"engine_check\", None])\n",
    "                data.append((f\"car_{car_id}\", current_time.isoformat(), latitude, longitude, notification))\n",
    "\n",
    "            # Generate additional notifications between intervals\n",
    "            while True:\n",
    "                additional_interval = random.expovariate(1 / (interval / 2))\n",
    "                additional_time = current_time + timedelta(minutes=additional_interval)\n",
    "                if additional_time >= current_time + timedelta(minutes=interval):\n",
    "                    break\n",
    "                notification = random.choice([\"low_fuel\", \"tire_pressure\", \"engine_check\", None])\n",
    "                data.append((f\"car_{car_id}\", additional_time.isoformat(), latitude, longitude, notification))\n",
    "\n",
    "            # Update latitude and longitude for car movement\n",
    "            latitude += random.uniform(-0.01, 0.01)\n",
    "            longitude += random.uniform(-0.01, 0.01)\n",
    "\n",
    "            # Check if the car is among the 1% that can have 100 notifications within 5 minutes\n",
    "            if random.random() < 0.01:\n",
    "                burst_start_time = current_time + timedelta(minutes=random.uniform(0, interval))\n",
    "                burst_end_time = burst_start_time + timedelta(minutes=5)\n",
    "                while current_time < burst_end_time:\n",
    "                    notification = random.choice([\"low_fuel\", \"tire_pressure\", \"engine_check\", None])\n",
    "                    data.append((f\"car_{car_id}\", current_time.isoformat(), latitude, longitude, notification))\n",
    "                    current_time += timedelta(seconds=random.uniform(1, 10))\n",
    "\n",
    "            current_time += timedelta(minutes=interval)\n",
    "\n",
    "    # Create a Polars DataFrame from the generated data\n",
    "    df = pl.DataFrame(\n",
    "        {\n",
    "            \"car_id\": [record[0] for record in data],\n",
    "            \"timestamp\": [record[1] for record in data],\n",
    "            \"latitude\": [record[2] for record in data],\n",
    "            \"longitude\": [record[3] for record in data],\n",
    "            \"notification\": [record[4] for record in data],\n",
    "        }\n",
    "    )\n",
    "\n",
    "    return df.lazy()"
   ]
  },
  {
   "cell_type": "code",
   "execution_count": 70,
   "metadata": {},
   "outputs": [
    {
     "name": "stdout",
     "output_type": "stream",
     "text": [
      "shape: (5, 5)\n",
      "┌────────┬────────────────────────────┬───────────┬─────────────┬───────────────┐\n",
      "│ car_id ┆ timestamp                  ┆ latitude  ┆ longitude   ┆ notification  │\n",
      "│ ---    ┆ ---                        ┆ ---       ┆ ---         ┆ ---           │\n",
      "│ str    ┆ str                        ┆ f64       ┆ f64         ┆ str           │\n",
      "╞════════╪════════════════════════════╪═══════════╪═════════════╪═══════════════╡\n",
      "│ car_0  ┆ 2023-01-01T00:00:00        ┆ 23.160743 ┆ -115.938862 ┆ engine_check  │\n",
      "│ car_0  ┆ 2023-01-01T00:28:07.958717 ┆ 23.160743 ┆ -115.938862 ┆ tire_pressure │\n",
      "│ car_0  ┆ 2023-01-01T00:02:26.435841 ┆ 23.160743 ┆ -115.938862 ┆ low_fuel      │\n",
      "│ car_0  ┆ 2023-01-01T00:13:04.851675 ┆ 23.160743 ┆ -115.938862 ┆ engine_check  │\n",
      "│ car_0  ┆ 2023-01-01T00:22:41.305753 ┆ 23.160743 ┆ -115.938862 ┆ engine_check  │\n",
      "└────────┴────────────────────────────┴───────────┴─────────────┴───────────────┘\n"
     ]
    }
   ],
   "source": [
    "num_cars = 100\n",
    "start_time = datetime(2023, 1, 1, 0, 0, 0)  # Start of the week\n",
    "end_time = start_time + timedelta(weeks=1)  # End of the week\n",
    "working_hours_interval = 5  # Interval of 5 minutes during working hours\n",
    "non_working_hours_interval = 30  # Interval of 30 minutes during non-working hours\n",
    "\n",
    "# Generate the dummy data\n",
    "data = generate_dummy_data(num_cars, start_time, end_time, working_hours_interval, non_working_hours_interval)\n",
    "\n",
    "# Print the first few rows of the generated data\n",
    "print(data.collect().head())"
   ]
  },
  {
   "cell_type": "markdown",
   "metadata": {},
   "source": [
    "## Limpieza de datos"
   ]
  },
  {
   "cell_type": "markdown",
   "metadata": {},
   "source": [
    "### Timestamp"
   ]
  },
  {
   "cell_type": "markdown",
   "metadata": {},
   "source": [
    "Convierte el `timestamp` que actualmente es string a formato de tiempo en polars"
   ]
  },
  {
   "cell_type": "code",
   "execution_count": 71,
   "metadata": {},
   "outputs": [
    {
     "name": "stdout",
     "output_type": "stream",
     "text": [
      "shape: (633_100, 5)\n",
      "┌────────┬────────────────────────────┬───────────┬─────────────┬───────────────┐\n",
      "│ car_id ┆ timestamp                  ┆ latitude  ┆ longitude   ┆ notification  │\n",
      "│ ---    ┆ ---                        ┆ ---       ┆ ---         ┆ ---           │\n",
      "│ str    ┆ datetime[μs]               ┆ f64       ┆ f64         ┆ str           │\n",
      "╞════════╪════════════════════════════╪═══════════╪═════════════╪═══════════════╡\n",
      "│ car_0  ┆ 2023-01-01 00:00:00        ┆ 23.160743 ┆ -115.938862 ┆ engine_check  │\n",
      "│ car_0  ┆ 2023-01-01 00:28:07.958717 ┆ 23.160743 ┆ -115.938862 ┆ tire_pressure │\n",
      "│ car_0  ┆ 2023-01-01 00:02:26.435841 ┆ 23.160743 ┆ -115.938862 ┆ low_fuel      │\n",
      "│ car_0  ┆ 2023-01-01 00:13:04.851675 ┆ 23.160743 ┆ -115.938862 ┆ engine_check  │\n",
      "│ car_0  ┆ 2023-01-01 00:22:41.305753 ┆ 23.160743 ┆ -115.938862 ┆ engine_check  │\n",
      "│ …      ┆ …                          ┆ …         ┆ …           ┆ …             │\n",
      "│ car_99 ┆ 2023-01-07 23:39:40.902173 ┆ 29.574764 ┆ -109.55883  ┆ null          │\n",
      "│ car_99 ┆ 2023-01-07 23:50:03.153642 ┆ 29.574764 ┆ -109.55883  ┆ null          │\n",
      "│ car_99 ┆ 2023-01-07 23:50:43.306866 ┆ 29.574764 ┆ -109.55883  ┆ engine_check  │\n",
      "│ car_99 ┆ 2023-01-08 00:01:19.210345 ┆ 29.574764 ┆ -109.55883  ┆ engine_check  │\n",
      "│ car_99 ┆ 2023-01-07 23:34:03.301678 ┆ 29.574764 ┆ -109.55883  ┆ low_fuel      │\n",
      "└────────┴────────────────────────────┴───────────┴─────────────┴───────────────┘\n"
     ]
    }
   ],
   "source": [
    "data = data.with_columns(pl.col(\"timestamp\").cast(pl.Datetime))\n",
    "print(data.collect())"
   ]
  },
  {
   "cell_type": "markdown",
   "metadata": {},
   "source": [
    "### Ingenieria de variables"
   ]
  },
  {
   "cell_type": "markdown",
   "metadata": {},
   "source": [
    "Dado que va a entrar a un modelo de machine learning es encesario que todas las variables sean numericas, y esten en formnato tidy. Cada observacion en una fila, y cada variable en una columna. Por lo tanto se decidio crear estadisticos y agregar los datos a intervalos uniformes de `x` minutos.  \n",
    "\n",
    "Por ejemplo, colapsar toda la informacion que ocurrion en el intervalo, como el numero de notificaciones en esos 5 minutos, el promedio entre notificaciones, y el tipo de notificaciones."
   ]
  },
  {
   "cell_type": "markdown",
   "metadata": {},
   "source": [
    "Existen varias formas de hacer esto, puedes hacerlo con `group_by` primero para crear las nuevas variables, o `group_by` (`rolling`, `dynamic`) usando operaciones sobre listas. Utiliza claude o chat_gpt"
   ]
  },
  {
   "cell_type": "markdown",
   "metadata": {},
   "source": [
    "1. Crea una nueva variable que compute la diferencia de tiempo entre notificaciones del mismo vehiculo. Piensa como lo vas a hacer. Llama a esta variable `notification_time`\n",
    "   \n"
   ]
  },
  {
   "cell_type": "code",
   "execution_count": 72,
   "metadata": {},
   "outputs": [
    {
     "name": "stdout",
     "output_type": "stream",
     "text": [
      "shape: (633_100, 6)\n",
      "┌────────┬────────────────────────────┬───────────┬─────────────┬──────────────┬───────────────────┐\n",
      "│ car_id ┆ timestamp                  ┆ latitude  ┆ longitude   ┆ notification ┆ notification_time │\n",
      "│ ---    ┆ ---                        ┆ ---       ┆ ---         ┆ ---          ┆ ---               │\n",
      "│ str    ┆ datetime[μs]               ┆ f64       ┆ f64         ┆ str          ┆ duration[μs]      │\n",
      "╞════════╪════════════════════════════╪═══════════╪═════════════╪══════════════╪═══════════════════╡\n",
      "│ car_0  ┆ 2023-01-01 00:00:00        ┆ 23.15476  ┆ -115.946026 ┆ low_fuel     ┆ null              │\n",
      "│ car_0  ┆ 2023-01-01 00:00:00        ┆ 23.160743 ┆ -115.938862 ┆ engine_check ┆ 0µs               │\n",
      "│ car_0  ┆ 2023-01-01 00:00:03.828298 ┆ 23.15476  ┆ -115.946026 ┆ engine_check ┆ 3s 828298µs       │\n",
      "│ car_0  ┆ 2023-01-01 00:00:07.526891 ┆ 23.15476  ┆ -115.946026 ┆ null         ┆ 3s 698593µs       │\n",
      "│ car_0  ┆ 2023-01-01 00:00:11.628824 ┆ 23.15476  ┆ -115.946026 ┆ null         ┆ 4s 101933µs       │\n",
      "│ …      ┆ …                          ┆ …         ┆ …           ┆ …            ┆ …                 │\n",
      "│ car_99 ┆ 2023-01-07 23:42:01.465248 ┆ 29.574764 ┆ -109.55883  ┆ engine_check ┆ 29s 266688µs      │\n",
      "│ car_99 ┆ 2023-01-07 23:47:48.691063 ┆ 29.574764 ┆ -109.55883  ┆ null         ┆ 5m 47s 225815µs   │\n",
      "│ car_99 ┆ 2023-01-07 23:50:03.153642 ┆ 29.574764 ┆ -109.55883  ┆ null         ┆ 2m 14s 462579µs   │\n",
      "│ car_99 ┆ 2023-01-07 23:50:43.306866 ┆ 29.574764 ┆ -109.55883  ┆ engine_check ┆ 40s 153224µs      │\n",
      "│ car_99 ┆ 2023-01-08 00:01:19.210345 ┆ 29.574764 ┆ -109.55883  ┆ engine_check ┆ 10m 35s 903479µs  │\n",
      "└────────┴────────────────────────────┴───────────┴─────────────┴──────────────┴───────────────────┘\n"
     ]
    }
   ],
   "source": [
    "data = data.sort('car_id', 'timestamp')\n",
    "data = data.with_columns([\n",
    "    pl.col(\"timestamp\").cast(pl.Datetime),\n",
    "    pl.col(\"timestamp\").cast(pl.Datetime).diff().over(pl.col(\"car_id\").rle_id()).alias(\"notification_time\")\n",
    "])\n",
    "\n",
    "print(data.collect())"
   ]
  },
  {
   "cell_type": "markdown",
   "metadata": {},
   "source": [
    "2. Crea una nueva variable que compute la distancia que viajo el vehiculo desde la ultima notificacion. Llamala `distance`"
   ]
  },
  {
   "cell_type": "code",
   "execution_count": 73,
   "metadata": {},
   "outputs": [
    {
     "name": "stdout",
     "output_type": "stream",
     "text": [
      "shape: (633_100, 8)\n",
      "┌────────┬────────────┬───────────┬────────────┬────────────┬────────────┬────────────┬────────────┐\n",
      "│ car_id ┆ timestamp  ┆ latitude  ┆ longitude  ┆ notificati ┆ notificati ┆ delta_lati ┆ delta_long │\n",
      "│ ---    ┆ ---        ┆ ---       ┆ ---        ┆ on         ┆ on_time    ┆ tude       ┆ itude      │\n",
      "│ str    ┆ datetime[μ ┆ f64       ┆ f64        ┆ ---        ┆ ---        ┆ ---        ┆ ---        │\n",
      "│        ┆ s]         ┆           ┆            ┆ str        ┆ duration[μ ┆ f64        ┆ f64        │\n",
      "│        ┆            ┆           ┆            ┆            ┆ s]         ┆            ┆            │\n",
      "╞════════╪════════════╪═══════════╪════════════╪════════════╪════════════╪════════════╪════════════╡\n",
      "│ car_0  ┆ 2023-01-01 ┆ 23.15476  ┆ -115.94602 ┆ low_fuel   ┆ null       ┆ null       ┆ null       │\n",
      "│        ┆ 00:00:00   ┆           ┆ 6          ┆            ┆            ┆            ┆            │\n",
      "│ car_0  ┆ 2023-01-01 ┆ 23.160743 ┆ -115.93886 ┆ engine_che ┆ 0µs        ┆ 0.005983   ┆ 0.007164   │\n",
      "│        ┆ 00:00:00   ┆           ┆ 2          ┆ ck         ┆            ┆            ┆            │\n",
      "│ car_0  ┆ 2023-01-01 ┆ 23.15476  ┆ -115.94602 ┆ engine_che ┆ 3s         ┆ -0.005983  ┆ -0.007164  │\n",
      "│        ┆ 00:00:03.8 ┆           ┆ 6          ┆ ck         ┆ 828298µs   ┆            ┆            │\n",
      "│        ┆ 28298      ┆           ┆            ┆            ┆            ┆            ┆            │\n",
      "│ car_0  ┆ 2023-01-01 ┆ 23.15476  ┆ -115.94602 ┆ null       ┆ 3s         ┆ 0.0        ┆ 0.0        │\n",
      "│        ┆ 00:00:07.5 ┆           ┆ 6          ┆            ┆ 698593µs   ┆            ┆            │\n",
      "│        ┆ 26891      ┆           ┆            ┆            ┆            ┆            ┆            │\n",
      "│ car_0  ┆ 2023-01-01 ┆ 23.15476  ┆ -115.94602 ┆ null       ┆ 4s         ┆ 0.0        ┆ 0.0        │\n",
      "│        ┆ 00:00:11.6 ┆           ┆ 6          ┆            ┆ 101933µs   ┆            ┆            │\n",
      "│        ┆ 28824      ┆           ┆            ┆            ┆            ┆            ┆            │\n",
      "│ …      ┆ …          ┆ …         ┆ …          ┆ …          ┆ …          ┆ …          ┆ …          │\n",
      "│ car_99 ┆ 2023-01-07 ┆ 29.574764 ┆ -109.55883 ┆ engine_che ┆ 29s        ┆ 0.0        ┆ 0.0        │\n",
      "│        ┆ 23:42:01.4 ┆           ┆            ┆ ck         ┆ 266688µs   ┆            ┆            │\n",
      "│        ┆ 65248      ┆           ┆            ┆            ┆            ┆            ┆            │\n",
      "│ car_99 ┆ 2023-01-07 ┆ 29.574764 ┆ -109.55883 ┆ null       ┆ 5m 47s     ┆ 0.0        ┆ 0.0        │\n",
      "│        ┆ 23:47:48.6 ┆           ┆            ┆            ┆ 225815µs   ┆            ┆            │\n",
      "│        ┆ 91063      ┆           ┆            ┆            ┆            ┆            ┆            │\n",
      "│ car_99 ┆ 2023-01-07 ┆ 29.574764 ┆ -109.55883 ┆ null       ┆ 2m 14s     ┆ 0.0        ┆ 0.0        │\n",
      "│        ┆ 23:50:03.1 ┆           ┆            ┆            ┆ 462579µs   ┆            ┆            │\n",
      "│        ┆ 53642      ┆           ┆            ┆            ┆            ┆            ┆            │\n",
      "│ car_99 ┆ 2023-01-07 ┆ 29.574764 ┆ -109.55883 ┆ engine_che ┆ 40s        ┆ 0.0        ┆ 0.0        │\n",
      "│        ┆ 23:50:43.3 ┆           ┆            ┆ ck         ┆ 153224µs   ┆            ┆            │\n",
      "│        ┆ 06866      ┆           ┆            ┆            ┆            ┆            ┆            │\n",
      "│ car_99 ┆ 2023-01-08 ┆ 29.574764 ┆ -109.55883 ┆ engine_che ┆ 10m 35s    ┆ 0.0        ┆ 0.0        │\n",
      "│        ┆ 00:01:19.2 ┆           ┆            ┆ ck         ┆ 903479µs   ┆            ┆            │\n",
      "│        ┆ 10345      ┆           ┆            ┆            ┆            ┆            ┆            │\n",
      "└────────┴────────────┴───────────┴────────────┴────────────┴────────────┴────────────┴────────────┘\n"
     ]
    }
   ],
   "source": [
    "data = data.with_columns([\n",
    "    pl.col(\"latitude\").diff().over(\"car_id\").alias(\"delta_latitude\"),\n",
    "    pl.col(\"longitude\").diff().over(\"car_id\").alias(\"delta_longitude\"),\n",
    "])\n",
    "print(data.collect())"
   ]
  },
  {
   "cell_type": "code",
   "execution_count": 74,
   "metadata": {},
   "outputs": [],
   "source": [
    "def harvesine(groups):\n",
    "    earth_radius = 6371.0\n",
    "\n",
    "    delta_lat = groups[0].to_numpy()\n",
    "    delta_lon = groups[1].to_numpy()\n",
    "\n",
    "    delta_lat = [math.radians(x) for x in delta_lat]\n",
    "    delta_lon = [math.radians(x) for x in delta_lon]\n",
    "\n",
    "    a = [(math.sin(lat / 2))**2 + math.cos(lat) * (math.sin(lon / 2))**2 for lat, lon in zip(delta_lat, delta_lon)]\n",
    "    c = [2 * math.atan2(math.sqrt(x), math.sqrt(1 - x)) for x in a]\n",
    "    distance = [earth_radius * x for x in c]\n",
    "\n",
    "    return pl.Series(distance)\n"
   ]
  },
  {
   "cell_type": "code",
   "execution_count": 75,
   "metadata": {},
   "outputs": [
    {
     "name": "stdout",
     "output_type": "stream",
     "text": [
      "shape: (633_100, 9)\n",
      "┌────────┬────────────┬───────────┬────────────┬───┬────────────┬───────────┬───────────┬──────────┐\n",
      "│ car_id ┆ timestamp  ┆ latitude  ┆ longitude  ┆ … ┆ notificati ┆ delta_lat ┆ delta_lon ┆ distance │\n",
      "│ ---    ┆ ---        ┆ ---       ┆ ---        ┆   ┆ on_time    ┆ itude     ┆ gitude    ┆ ---      │\n",
      "│ str    ┆ datetime[μ ┆ f64       ┆ f64        ┆   ┆ ---        ┆ ---       ┆ ---       ┆ f64      │\n",
      "│        ┆ s]         ┆           ┆            ┆   ┆ duration[μ ┆ f64       ┆ f64       ┆          │\n",
      "│        ┆            ┆           ┆            ┆   ┆ s]         ┆           ┆           ┆          │\n",
      "╞════════╪════════════╪═══════════╪════════════╪═══╪════════════╪═══════════╪═══════════╪══════════╡\n",
      "│ car_0  ┆ 2023-01-01 ┆ 23.15476  ┆ -115.94602 ┆ … ┆ null       ┆ null      ┆ null      ┆ NaN      │\n",
      "│        ┆ 00:00:00   ┆           ┆ 6          ┆   ┆            ┆           ┆           ┆          │\n",
      "│ car_0  ┆ 2023-01-01 ┆ 23.160743 ┆ -115.93886 ┆ … ┆ 0µs        ┆ 0.005983  ┆ 0.007164  ┆ 1.037819 │\n",
      "│        ┆ 00:00:00   ┆           ┆ 2          ┆   ┆            ┆           ┆           ┆          │\n",
      "│ car_0  ┆ 2023-01-01 ┆ 23.15476  ┆ -115.94602 ┆ … ┆ 3s         ┆ -0.005983 ┆ -0.007164 ┆ 1.037819 │\n",
      "│        ┆ 00:00:03.8 ┆           ┆ 6          ┆   ┆ 828298µs   ┆           ┆           ┆          │\n",
      "│        ┆ 28298      ┆           ┆            ┆   ┆            ┆           ┆           ┆          │\n",
      "│ car_0  ┆ 2023-01-01 ┆ 23.15476  ┆ -115.94602 ┆ … ┆ 3s         ┆ 0.0       ┆ 0.0       ┆ 0.0      │\n",
      "│        ┆ 00:00:07.5 ┆           ┆ 6          ┆   ┆ 698593µs   ┆           ┆           ┆          │\n",
      "│        ┆ 26891      ┆           ┆            ┆   ┆            ┆           ┆           ┆          │\n",
      "│ car_0  ┆ 2023-01-01 ┆ 23.15476  ┆ -115.94602 ┆ … ┆ 4s         ┆ 0.0       ┆ 0.0       ┆ 0.0      │\n",
      "│        ┆ 00:00:11.6 ┆           ┆ 6          ┆   ┆ 101933µs   ┆           ┆           ┆          │\n",
      "│        ┆ 28824      ┆           ┆            ┆   ┆            ┆           ┆           ┆          │\n",
      "│ …      ┆ …          ┆ …         ┆ …          ┆ … ┆ …          ┆ …         ┆ …         ┆ …        │\n",
      "│ car_99 ┆ 2023-01-07 ┆ 29.574764 ┆ -109.55883 ┆ … ┆ 29s        ┆ 0.0       ┆ 0.0       ┆ 0.0      │\n",
      "│        ┆ 23:42:01.4 ┆           ┆            ┆   ┆ 266688µs   ┆           ┆           ┆          │\n",
      "│        ┆ 65248      ┆           ┆            ┆   ┆            ┆           ┆           ┆          │\n",
      "│ car_99 ┆ 2023-01-07 ┆ 29.574764 ┆ -109.55883 ┆ … ┆ 5m 47s     ┆ 0.0       ┆ 0.0       ┆ 0.0      │\n",
      "│        ┆ 23:47:48.6 ┆           ┆            ┆   ┆ 225815µs   ┆           ┆           ┆          │\n",
      "│        ┆ 91063      ┆           ┆            ┆   ┆            ┆           ┆           ┆          │\n",
      "│ car_99 ┆ 2023-01-07 ┆ 29.574764 ┆ -109.55883 ┆ … ┆ 2m 14s     ┆ 0.0       ┆ 0.0       ┆ 0.0      │\n",
      "│        ┆ 23:50:03.1 ┆           ┆            ┆   ┆ 462579µs   ┆           ┆           ┆          │\n",
      "│        ┆ 53642      ┆           ┆            ┆   ┆            ┆           ┆           ┆          │\n",
      "│ car_99 ┆ 2023-01-07 ┆ 29.574764 ┆ -109.55883 ┆ … ┆ 40s        ┆ 0.0       ┆ 0.0       ┆ 0.0      │\n",
      "│        ┆ 23:50:43.3 ┆           ┆            ┆   ┆ 153224µs   ┆           ┆           ┆          │\n",
      "│        ┆ 06866      ┆           ┆            ┆   ┆            ┆           ┆           ┆          │\n",
      "│ car_99 ┆ 2023-01-08 ┆ 29.574764 ┆ -109.55883 ┆ … ┆ 10m 35s    ┆ 0.0       ┆ 0.0       ┆ 0.0      │\n",
      "│        ┆ 00:01:19.2 ┆           ┆            ┆   ┆ 903479µs   ┆           ┆           ┆          │\n",
      "│        ┆ 10345      ┆           ┆            ┆   ┆            ┆           ┆           ┆          │\n",
      "└────────┴────────────┴───────────┴────────────┴───┴────────────┴───────────┴───────────┴──────────┘\n"
     ]
    }
   ],
   "source": [
    "data = data.with_columns([pl.map_groups([\"delta_latitude\", \"delta_longitude\"], harvesine).alias(\"distance\")])\n",
    "print(data.collect())"
   ]
  },
  {
   "cell_type": "markdown",
   "metadata": {},
   "source": [
    "3. Crea intervalos de `x` minutos por carro. Como el numero de notificaciones en esos intervalos no es uniforme tienes que buscar funciones de polars especificas, pero ademas tienen que ser por vehiculo, pues tienen que ser del mismo. Revisa las funciones de `group_by` `dynamic` y `rolling`.\n",
    "   1. Computa la media, mediana, varianza, max y min de `notification_time` los intervalos de `x` minutos\n",
    "   2. Computa la media, mediana, varianza, max y min de `distance`\n"
   ]
  },
  {
   "cell_type": "code",
   "execution_count": 76,
   "metadata": {},
   "outputs": [],
   "source": [
    "data = data.with_columns(pl.col('timestamp').dt.truncate('2h').alias('interval'))\n"
   ]
  },
  {
   "cell_type": "code",
   "execution_count": 77,
   "metadata": {},
   "outputs": [
    {
     "name": "stdout",
     "output_type": "stream",
     "text": [
      "shape: (8_444, 10)\n",
      "┌────────┬────────────┬────────────┬───────────┬───┬───────────┬───────────┬───────────┬───────────┐\n",
      "│ car_id ┆ interval   ┆ notificati ┆ notificat ┆ … ┆ distance_ ┆ distance_ ┆ distance_ ┆ desviacio │\n",
      "│ ---    ┆ ---        ┆ on_time_pr ┆ ion_time_ ┆   ┆ promedio  ┆ minimo    ┆ maximo    ┆ n_distanc │\n",
      "│ str    ┆ datetime[μ ┆ omedio     ┆ minimo    ┆   ┆ ---       ┆ ---       ┆ ---       ┆ e         │\n",
      "│        ┆ s]         ┆ ---        ┆ ---       ┆   ┆ f64       ┆ f64       ┆ f64       ┆ ---       │\n",
      "│        ┆            ┆ duration[μ ┆ duration[ ┆   ┆           ┆           ┆           ┆ f64       │\n",
      "│        ┆            ┆ s]         ┆ μs]       ┆   ┆           ┆           ┆           ┆           │\n",
      "╞════════╪════════════╪════════════╪═══════════╪═══╪═══════════╪═══════════╪═══════════╪═══════════╡\n",
      "│ car_0  ┆ 2023-01-01 ┆ 25s        ┆ 0µs       ┆ … ┆ NaN       ┆ 0.0       ┆ 1.13609   ┆ NaN       │\n",
      "│        ┆ 00:00:00   ┆ 983105µs   ┆           ┆   ┆           ┆           ┆           ┆           │\n",
      "│ car_0  ┆ 2023-01-01 ┆ 5m 45s     ┆ 5s        ┆ … ┆ 0.200743  ┆ 0.0       ┆ 1.379119  ┆ 0.434134  │\n",
      "│        ┆ 02:00:00   ┆ 886028µs   ┆ 58150µs   ┆   ┆           ┆           ┆           ┆           │\n",
      "│ car_0  ┆ 2023-01-01 ┆ 3m 11s     ┆ 2s        ┆ … ┆ 0.098143  ┆ 0.0       ┆ 1.205349  ┆ 0.292518  │\n",
      "│        ┆ 04:00:00   ┆ 878621µs   ┆ 345631µs  ┆   ┆           ┆           ┆           ┆           │\n",
      "│ car_0  ┆ 2023-01-01 ┆ 3m 26s     ┆ 289189µs  ┆ … ┆ 0.062238  ┆ 0.0       ┆ 1.012027  ┆ 0.221488  │\n",
      "│        ┆ 06:00:00   ┆ 35620µs    ┆           ┆   ┆           ┆           ┆           ┆           │\n",
      "│ car_0  ┆ 2023-01-01 ┆ 4m 29s     ┆ 5s        ┆ … ┆ 0.091     ┆ 0.0       ┆ 1.00526   ┆ 0.242193  │\n",
      "│        ┆ 08:00:00   ┆ 42386µs    ┆ 962854µs  ┆   ┆           ┆           ┆           ┆           │\n",
      "│ …      ┆ …          ┆ …          ┆ …         ┆ … ┆ …         ┆ …         ┆ …         ┆ …         │\n",
      "│ car_99 ┆ 2023-01-07 ┆ 4m 32s     ┆ 3s        ┆ … ┆ 0.09435   ┆ 0.0       ┆ 1.102379  ┆ 0.259386  │\n",
      "│        ┆ 16:00:00   ┆ 269893µs   ┆ 343662µs  ┆   ┆           ┆           ┆           ┆           │\n",
      "│ car_99 ┆ 2023-01-07 ┆ 5m 4s      ┆ 6s        ┆ … ┆ 0.1498    ┆ 0.0       ┆ 1.258873  ┆ 0.366871  │\n",
      "│        ┆ 18:00:00   ┆ 643647µs   ┆ 996528µs  ┆   ┆           ┆           ┆           ┆           │\n",
      "│ car_99 ┆ 2023-01-07 ┆ 11m 16s    ┆ 7s        ┆ … ┆ 0.252047  ┆ 0.0       ┆ 0.878136  ┆ 0.360706  │\n",
      "│        ┆ 20:00:00   ┆ 118120µs   ┆ 621834µs  ┆   ┆           ┆           ┆           ┆           │\n",
      "│ car_99 ┆ 2023-01-07 ┆ 6m 34s     ┆ 14s       ┆ … ┆ 0.196366  ┆ 0.0       ┆ 1.410123  ┆ 0.426693  │\n",
      "│        ┆ 22:00:00   ┆ 506980µs   ┆ 235335µs  ┆   ┆           ┆           ┆           ┆           │\n",
      "│ car_99 ┆ 2023-01-08 ┆ 10m 35s    ┆ 10m 35s   ┆ … ┆ 0.0       ┆ 0.0       ┆ 0.0       ┆ null      │\n",
      "│        ┆ 00:00:00   ┆ 903479µs   ┆ 903479µs  ┆   ┆           ┆           ┆           ┆           │\n",
      "└────────┴────────────┴────────────┴───────────┴───┴───────────┴───────────┴───────────┴───────────┘\n"
     ]
    }
   ],
   "source": [
    "resultado = data.group_by(\"car_id\", \"interval\", maintain_order=True).agg([\n",
    "    pl.col(\"notification_time\").mean().alias(\"notification_time_promedio\"),\n",
    "    pl.col(\"notification_time\").min().alias(\"notification_time_minimo\"),\n",
    "    pl.col(\"notification_time\").max().alias(\"notification_time_maximo\"),\n",
    "    pl.col(\"notification_time\").std().alias(\"desviacion_notification_time\"),\n",
    "    pl.col(\"distance\").mean().alias(\"distance_promedio\"),\n",
    "    pl.col(\"distance\").min().alias(\"distance_minimo\"),\n",
    "    pl.col(\"distance\").max().alias(\"distance_maximo\"),\n",
    "    pl.col(\"distance\").std().alias(\"desviacion_distance\")\n",
    "])\n",
    "\n",
    "print(resultado.collect())"
   ]
  }
 ],
 "metadata": {
  "kernelspec": {
   "display_name": "itam",
   "language": "python",
   "name": "python3"
  },
  "language_info": {
   "codemirror_mode": {
    "name": "ipython",
    "version": 3
   },
   "file_extension": ".py",
   "mimetype": "text/x-python",
   "name": "python",
   "nbconvert_exporter": "python",
   "pygments_lexer": "ipython3",
   "version": "3.11.5"
  }
 },
 "nbformat": 4,
 "nbformat_minor": 2
}
