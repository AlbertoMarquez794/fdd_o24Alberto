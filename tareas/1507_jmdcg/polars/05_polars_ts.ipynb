{
 "cells": [
  {
   "cell_type": "code",
   "execution_count": 1,
   "metadata": {},
   "outputs": [
    {
     "name": "stderr",
     "output_type": "stream",
     "text": [
      "/Users/joss/Javier/github/itam/fdd_p24/.venv/lib/python3.10/site-packages/polars/_cpu_check.py:232: RuntimeWarning: Missing required CPU features.\n",
      "\n",
      "The following required CPU features were not detected:\n",
      "    fma\n",
      "Continuing to use this version of Polars on this processor will likely result in a crash.\n",
      "Install the `polars-lts-cpu` package instead of `polars` to run Polars with better compatibility.\n",
      "\n",
      "Hint: If you are on an Apple ARM machine (e.g. M1) this is likely due to running Python under Rosetta.\n",
      "It is recommended to install a native version of Python that does not run under Rosetta x86-64 emulation.\n",
      "\n",
      "If you believe this warning to be a false positive, you can set the `POLARS_SKIP_CPU_CHECK` environment variable to bypass this check.\n",
      "\n",
      "  warnings.warn(\n"
     ]
    }
   ],
   "source": [
    "import polars as pl\n",
    "import numpy as np\n",
    "import random\n",
    "from datetime import datetime, timedelta"
   ]
  },
  {
   "cell_type": "markdown",
   "metadata": {},
   "source": [
    "# Descripcion"
   ]
  },
  {
   "cell_type": "markdown",
   "metadata": {},
   "source": [
    "Los datos son notificaciones de dispositivos GPS en Mexico. En promedio generan notificaciones automatizadas cada 5 minutos si el carro esta encendido, y 30 si esta apagado.  \n",
    "\n",
    "Cada notificacion esta acompannada de un evento de lo que esta ocurriendo, y trae la latitud y longitud.  \n",
    "\n",
    "El objetivo es predecir si un vehiculo esta siendo robado de acuerdo a sus notificaciones, por lo que el primer paso seria limpiar datos y hacer ingenieria de variables.\n",
    "\n",
    "Trata de hacerlo **lazy** si puedes."
   ]
  },
  {
   "cell_type": "code",
   "execution_count": 2,
   "metadata": {},
   "outputs": [],
   "source": [
    "def generate_dummy_data(num_cars, start_time, end_time, working_hours_interval, non_working_hours_interval):\n",
    "    data = []\n",
    "\n",
    "    # Define the latitude and longitude ranges for Mexico\n",
    "    min_latitude, max_latitude = 14.5388, 32.7186\n",
    "    min_longitude, max_longitude = -118.4662, -86.7104\n",
    "\n",
    "    for car_id in range(num_cars):\n",
    "        current_time = start_time\n",
    "\n",
    "        # Generate random initial latitude and longitude for each car\n",
    "        latitude = random.uniform(min_latitude, max_latitude)\n",
    "        longitude = random.uniform(min_longitude, max_longitude)\n",
    "\n",
    "        while current_time < end_time:\n",
    "            if current_time.weekday() < 5 and 9 <= current_time.hour < 17:\n",
    "                # Working hours (Monday to Friday, 9 AM to 5 PM)\n",
    "                interval = working_hours_interval\n",
    "            else:\n",
    "                # Non-working hours\n",
    "                interval = non_working_hours_interval\n",
    "\n",
    "            # Generate notification with 99% probability\n",
    "            if random.random() < 0.99:\n",
    "                notification = random.choice([\"low_fuel\", \"tire_pressure\", \"engine_check\", None])\n",
    "                data.append((f\"car_{car_id}\", current_time.isoformat(), latitude, longitude, notification))\n",
    "\n",
    "            # Generate additional notifications between intervals\n",
    "            while True:\n",
    "                additional_interval = random.expovariate(1 / (interval / 2))\n",
    "                additional_time = current_time + timedelta(minutes=additional_interval)\n",
    "                if additional_time >= current_time + timedelta(minutes=interval):\n",
    "                    break\n",
    "                notification = random.choice([\"low_fuel\", \"tire_pressure\", \"engine_check\", None])\n",
    "                data.append((f\"car_{car_id}\", additional_time.isoformat(), latitude, longitude, notification))\n",
    "\n",
    "            # Update latitude and longitude for car movement\n",
    "            latitude += random.uniform(-0.01, 0.01)\n",
    "            longitude += random.uniform(-0.01, 0.01)\n",
    "\n",
    "            # Check if the car is among the 1% that can have 100 notifications within 5 minutes\n",
    "            if random.random() < 0.01:\n",
    "                burst_start_time = current_time + timedelta(minutes=random.uniform(0, interval))\n",
    "                burst_end_time = burst_start_time + timedelta(minutes=5)\n",
    "                while current_time < burst_end_time:\n",
    "                    notification = random.choice([\"low_fuel\", \"tire_pressure\", \"engine_check\", None])\n",
    "                    data.append((f\"car_{car_id}\", current_time.isoformat(), latitude, longitude, notification))\n",
    "                    current_time += timedelta(seconds=random.uniform(1, 10))\n",
    "\n",
    "            current_time += timedelta(minutes=interval)\n",
    "\n",
    "    # Create a Polars DataFrame from the generated data\n",
    "    df = pl.DataFrame(\n",
    "        {\n",
    "            \"car_id\": [record[0] for record in data],\n",
    "            \"timestamp\": [record[1] for record in data],\n",
    "            \"latitude\": [record[2] for record in data],\n",
    "            \"longitude\": [record[3] for record in data],\n",
    "            \"notification\": [record[4] for record in data],\n",
    "        }\n",
    "    )\n",
    "\n",
    "    return df.lazy()"
   ]
  },
  {
   "cell_type": "code",
   "execution_count": 8,
   "metadata": {},
   "outputs": [
    {
     "name": "stdout",
     "output_type": "stream",
     "text": [
      "naive plan: (run LazyFrame.explain(optimized=True) to see the optimized plan)\n",
      "\n",
      "SLICE[offset: 0, len: 5]\n",
      "  DF [\"car_id\", \"timestamp\", \"latitude\", \"longitude\"]; PROJECT */5 COLUMNS; SELECTION: \"None\"\n"
     ]
    }
   ],
   "source": [
    "num_cars = 1000\n",
    "start_time = datetime(2023, 1, 1, 0, 0, 0)  # Start of the week\n",
    "end_time = start_time + timedelta(weeks=1)  # End of the week\n",
    "working_hours_interval = 5  # Interval of 5 minutes during working hours\n",
    "non_working_hours_interval = 30  # Interval of 30 minutes during non-working hours\n",
    "\n",
    "# Generate the dummy data\n",
    "data = generate_dummy_data(num_cars, start_time, end_time, working_hours_interval, non_working_hours_interval)\n",
    "\n",
    "# Print the first few rows of the generated data\n",
    "print(data.head())"
   ]
  },
  {
   "cell_type": "markdown",
   "metadata": {},
   "source": [
    "## Limpieza de datos"
   ]
  },
  {
   "cell_type": "markdown",
   "metadata": {},
   "source": [
    "### Timestamp"
   ]
  },
  {
   "cell_type": "markdown",
   "metadata": {},
   "source": [
    "Convierte el `timestamp` que actualmente es string a formato de tiempo en polars"
   ]
  },
  {
   "cell_type": "code",
   "execution_count": 22,
   "metadata": {},
   "outputs": [
    {
     "data": {
      "text/html": [
       "<div><style>\n",
       ".dataframe > thead > tr,\n",
       ".dataframe > tbody > tr {\n",
       "  text-align: right;\n",
       "  white-space: pre-wrap;\n",
       "}\n",
       "</style>\n",
       "<small>shape: (6_275_670, 5)</small><table border=\"1\" class=\"dataframe\"><thead><tr><th>car_id</th><th>timestamp</th><th>latitude</th><th>longitude</th><th>notification</th></tr><tr><td>str</td><td>datetime[μs]</td><td>f64</td><td>f64</td><td>str</td></tr></thead><tbody><tr><td>&quot;car_0&quot;</td><td>2023-01-01 00:00:00</td><td>29.525967</td><td>-116.100893</td><td>null</td></tr><tr><td>&quot;car_0&quot;</td><td>2023-01-01 00:28:30.482659</td><td>29.525967</td><td>-116.100893</td><td>&quot;engine_check&quot;</td></tr><tr><td>&quot;car_0&quot;</td><td>2023-01-01 00:03:23.570334</td><td>29.525967</td><td>-116.100893</td><td>&quot;low_fuel&quot;</td></tr><tr><td>&quot;car_0&quot;</td><td>2023-01-01 00:12:51.046725</td><td>29.525967</td><td>-116.100893</td><td>&quot;low_fuel&quot;</td></tr><tr><td>&quot;car_0&quot;</td><td>2023-01-01 00:02:03.451558</td><td>29.525967</td><td>-116.100893</td><td>&quot;low_fuel&quot;</td></tr><tr><td>&hellip;</td><td>&hellip;</td><td>&hellip;</td><td>&hellip;</td><td>&hellip;</td></tr><tr><td>&quot;car_999&quot;</td><td>2023-01-07 23:06:25.754419</td><td>14.886387</td><td>-103.366665</td><td>&quot;engine_check&quot;</td></tr><tr><td>&quot;car_999&quot;</td><td>2023-01-07 23:09:01.221859</td><td>14.886387</td><td>-103.366665</td><td>null</td></tr><tr><td>&quot;car_999&quot;</td><td>2023-01-07 23:33:18.709749</td><td>14.876938</td><td>-103.371203</td><td>&quot;low_fuel&quot;</td></tr><tr><td>&quot;car_999&quot;</td><td>2023-01-07 23:49:20.279183</td><td>14.876938</td><td>-103.371203</td><td>&quot;tire_pressure&quot;</td></tr><tr><td>&quot;car_999&quot;</td><td>2023-01-07 23:35:22.920610</td><td>14.876938</td><td>-103.371203</td><td>&quot;low_fuel&quot;</td></tr></tbody></table></div>"
      ],
      "text/plain": [
       "shape: (6_275_670, 5)\n",
       "┌─────────┬────────────────────────────┬───────────┬─────────────┬───────────────┐\n",
       "│ car_id  ┆ timestamp                  ┆ latitude  ┆ longitude   ┆ notification  │\n",
       "│ ---     ┆ ---                        ┆ ---       ┆ ---         ┆ ---           │\n",
       "│ str     ┆ datetime[μs]               ┆ f64       ┆ f64         ┆ str           │\n",
       "╞═════════╪════════════════════════════╪═══════════╪═════════════╪═══════════════╡\n",
       "│ car_0   ┆ 2023-01-01 00:00:00        ┆ 29.525967 ┆ -116.100893 ┆ null          │\n",
       "│ car_0   ┆ 2023-01-01 00:28:30.482659 ┆ 29.525967 ┆ -116.100893 ┆ engine_check  │\n",
       "│ car_0   ┆ 2023-01-01 00:03:23.570334 ┆ 29.525967 ┆ -116.100893 ┆ low_fuel      │\n",
       "│ car_0   ┆ 2023-01-01 00:12:51.046725 ┆ 29.525967 ┆ -116.100893 ┆ low_fuel      │\n",
       "│ car_0   ┆ 2023-01-01 00:02:03.451558 ┆ 29.525967 ┆ -116.100893 ┆ low_fuel      │\n",
       "│ …       ┆ …                          ┆ …         ┆ …           ┆ …             │\n",
       "│ car_999 ┆ 2023-01-07 23:06:25.754419 ┆ 14.886387 ┆ -103.366665 ┆ engine_check  │\n",
       "│ car_999 ┆ 2023-01-07 23:09:01.221859 ┆ 14.886387 ┆ -103.366665 ┆ null          │\n",
       "│ car_999 ┆ 2023-01-07 23:33:18.709749 ┆ 14.876938 ┆ -103.371203 ┆ low_fuel      │\n",
       "│ car_999 ┆ 2023-01-07 23:49:20.279183 ┆ 14.876938 ┆ -103.371203 ┆ tire_pressure │\n",
       "│ car_999 ┆ 2023-01-07 23:35:22.920610 ┆ 14.876938 ┆ -103.371203 ┆ low_fuel      │\n",
       "└─────────┴────────────────────────────┴───────────┴─────────────┴───────────────┘"
      ]
     },
     "execution_count": 22,
     "metadata": {},
     "output_type": "execute_result"
    }
   ],
   "source": [
    "data_ = data.with_columns(pl.col('timestamp').str.strptime(pl.Datetime))\n",
    "#data.head()\n",
    "data_.collect()"
   ]
  },
  {
   "cell_type": "markdown",
   "metadata": {},
   "source": [
    "### Ingenieria de variables"
   ]
  },
  {
   "cell_type": "markdown",
   "metadata": {},
   "source": [
    "Dado que va a entrar a un modelo de machine learning es encesario que todas las variables sean numericas, y esten en formnato tidy. Cada observacion en una fila, y cada variable en una columna. Por lo tanto se decidio crear estadisticos y agregar los datos a intervalos uniformes de `x` minutos.  \n",
    "\n",
    "Por ejemplo, colapsar toda la informacion que ocurrion en el intervalo, como el numero de notificaciones en esos 5 minutos, el promedio entre notificaciones, y el tipo de notificaciones."
   ]
  },
  {
   "cell_type": "markdown",
   "metadata": {},
   "source": [
    "Existen varias formas de hacer esto, puedes hacerlo con `group_by` primero para crear las nuevas variables, o `group_by` (`rolling`, `dynamic`) usando operaciones sobre listas. Utiliza claude o chat_gpt"
   ]
  },
  {
   "cell_type": "markdown",
   "metadata": {},
   "source": [
    "1. Crea una nueva variable que compute la diferencia de tiempo entre notificaciones del mismo vehiculo. Piensa como lo vas a hacer. Llama a esta variable `notification_time`\n",
    "   \n"
   ]
  },
  {
   "cell_type": "code",
   "execution_count": 32,
   "metadata": {},
   "outputs": [
    {
     "data": {
      "text/html": [
       "<div><style>\n",
       ".dataframe > thead > tr,\n",
       ".dataframe > tbody > tr {\n",
       "  text-align: right;\n",
       "  white-space: pre-wrap;\n",
       "}\n",
       "</style>\n",
       "<small>shape: (6_275_670, 6)</small><table border=\"1\" class=\"dataframe\"><thead><tr><th>car_id</th><th>timestamp</th><th>latitude</th><th>longitude</th><th>notification</th><th>notification_time</th></tr><tr><td>str</td><td>datetime[μs]</td><td>f64</td><td>f64</td><td>str</td><td>duration[μs]</td></tr></thead><tbody><tr><td>&quot;car_0&quot;</td><td>2023-01-01 00:00:00</td><td>29.525967</td><td>-116.100893</td><td>null</td><td>0µs</td></tr><tr><td>&quot;car_0&quot;</td><td>2023-01-01 00:01:33.313478</td><td>29.525967</td><td>-116.100893</td><td>&quot;low_fuel&quot;</td><td>1m 33s 313478µs</td></tr><tr><td>&quot;car_0&quot;</td><td>2023-01-01 00:02:03.451558</td><td>29.525967</td><td>-116.100893</td><td>&quot;low_fuel&quot;</td><td>30s 138080µs</td></tr><tr><td>&quot;car_0&quot;</td><td>2023-01-01 00:02:59.145638</td><td>29.525967</td><td>-116.100893</td><td>&quot;low_fuel&quot;</td><td>55s 694080µs</td></tr><tr><td>&quot;car_0&quot;</td><td>2023-01-01 00:03:23.570334</td><td>29.525967</td><td>-116.100893</td><td>&quot;low_fuel&quot;</td><td>24s 424696µs</td></tr><tr><td>&hellip;</td><td>&hellip;</td><td>&hellip;</td><td>&hellip;</td><td>&hellip;</td><td>&hellip;</td></tr><tr><td>&quot;car_999&quot;</td><td>2023-01-07 23:09:01.221859</td><td>14.886387</td><td>-103.366665</td><td>null</td><td>2m 35s 467440µs</td></tr><tr><td>&quot;car_999&quot;</td><td>2023-01-07 23:10:04.135211</td><td>14.886387</td><td>-103.366665</td><td>&quot;low_fuel&quot;</td><td>1m 2s 913352µs</td></tr><tr><td>&quot;car_999&quot;</td><td>2023-01-07 23:33:18.709749</td><td>14.876938</td><td>-103.371203</td><td>&quot;low_fuel&quot;</td><td>23m 14s 574538µs</td></tr><tr><td>&quot;car_999&quot;</td><td>2023-01-07 23:35:22.920610</td><td>14.876938</td><td>-103.371203</td><td>&quot;low_fuel&quot;</td><td>2m 4s 210861µs</td></tr><tr><td>&quot;car_999&quot;</td><td>2023-01-07 23:49:20.279183</td><td>14.876938</td><td>-103.371203</td><td>&quot;tire_pressure&quot;</td><td>13m 57s 358573µs</td></tr></tbody></table></div>"
      ],
      "text/plain": [
       "shape: (6_275_670, 6)\n",
       "┌─────────┬─────────────────────┬───────────┬─────────────┬───────────────┬───────────────────┐\n",
       "│ car_id  ┆ timestamp           ┆ latitude  ┆ longitude   ┆ notification  ┆ notification_time │\n",
       "│ ---     ┆ ---                 ┆ ---       ┆ ---         ┆ ---           ┆ ---               │\n",
       "│ str     ┆ datetime[μs]        ┆ f64       ┆ f64         ┆ str           ┆ duration[μs]      │\n",
       "╞═════════╪═════════════════════╪═══════════╪═════════════╪═══════════════╪═══════════════════╡\n",
       "│ car_0   ┆ 2023-01-01 00:00:00 ┆ 29.525967 ┆ -116.100893 ┆ null          ┆ 0µs               │\n",
       "│ car_0   ┆ 2023-01-01          ┆ 29.525967 ┆ -116.100893 ┆ low_fuel      ┆ 1m 33s 313478µs   │\n",
       "│         ┆ 00:01:33.313478     ┆           ┆             ┆               ┆                   │\n",
       "│ car_0   ┆ 2023-01-01          ┆ 29.525967 ┆ -116.100893 ┆ low_fuel      ┆ 30s 138080µs      │\n",
       "│         ┆ 00:02:03.451558     ┆           ┆             ┆               ┆                   │\n",
       "│ car_0   ┆ 2023-01-01          ┆ 29.525967 ┆ -116.100893 ┆ low_fuel      ┆ 55s 694080µs      │\n",
       "│         ┆ 00:02:59.145638     ┆           ┆             ┆               ┆                   │\n",
       "│ car_0   ┆ 2023-01-01          ┆ 29.525967 ┆ -116.100893 ┆ low_fuel      ┆ 24s 424696µs      │\n",
       "│         ┆ 00:03:23.570334     ┆           ┆             ┆               ┆                   │\n",
       "│ …       ┆ …                   ┆ …         ┆ …           ┆ …             ┆ …                 │\n",
       "│ car_999 ┆ 2023-01-07          ┆ 14.886387 ┆ -103.366665 ┆ null          ┆ 2m 35s 467440µs   │\n",
       "│         ┆ 23:09:01.221859     ┆           ┆             ┆               ┆                   │\n",
       "│ car_999 ┆ 2023-01-07          ┆ 14.886387 ┆ -103.366665 ┆ low_fuel      ┆ 1m 2s 913352µs    │\n",
       "│         ┆ 23:10:04.135211     ┆           ┆             ┆               ┆                   │\n",
       "│ car_999 ┆ 2023-01-07          ┆ 14.876938 ┆ -103.371203 ┆ low_fuel      ┆ 23m 14s 574538µs  │\n",
       "│         ┆ 23:33:18.709749     ┆           ┆             ┆               ┆                   │\n",
       "│ car_999 ┆ 2023-01-07          ┆ 14.876938 ┆ -103.371203 ┆ low_fuel      ┆ 2m 4s 210861µs    │\n",
       "│         ┆ 23:35:22.920610     ┆           ┆             ┆               ┆                   │\n",
       "│ car_999 ┆ 2023-01-07          ┆ 14.876938 ┆ -103.371203 ┆ tire_pressure ┆ 13m 57s 358573µs  │\n",
       "│         ┆ 23:49:20.279183     ┆           ┆             ┆               ┆                   │\n",
       "└─────────┴─────────────────────┴───────────┴─────────────┴───────────────┴───────────────────┘"
      ]
     },
     "execution_count": 32,
     "metadata": {},
     "output_type": "execute_result"
    }
   ],
   "source": [
    "data__ = (data_\n",
    "    .sort(['car_id', 'timestamp'])\n",
    "    .with_columns([\n",
    "        pl.col('timestamp').diff().over('car_id').fill_null(pl.duration(nanoseconds=0)).alias('notification_time')\n",
    "    ])\n",
    ")\n",
    "data__.collect()"
   ]
  },
  {
   "cell_type": "markdown",
   "metadata": {},
   "source": [
    "2. Crea una nueva variable que compute la distancia que viajo el vehiculo desde la ultima notificacion. Llamala `distance`"
   ]
  },
  {
   "cell_type": "code",
   "execution_count": 47,
   "metadata": {},
   "outputs": [],
   "source": [
    "import numpy as np\n",
    "\n",
    "def haversine(lat1, lon1, lat2, lon2):\n",
    "    # Convert latitude and longitude from degrees to radians\n",
    "    lat1_rad = np.radians(lat1)\n",
    "    lon1_rad = np.radians(lon1)\n",
    "    lat2_rad = np.radians(lat2)\n",
    "    lon2_rad = np.radians(lon2)\n",
    "    \n",
    "    # Haversine formula\n",
    "    dlon = lon2_rad - lon1_rad\n",
    "    dlat = lat2_rad - lat1_rad\n",
    "    a = np.sin(dlat/2)**2 + np.cos(lat1_rad) * np.cos(lat2_rad) * np.sin(dlon/2)**2\n",
    "    c = 2 * np.arctan2(np.sqrt(a), np.sqrt(1-a))\n",
    "    r = 6371  # Radius of the Earth in kilometers\n",
    "    distance = r * c\n",
    "    return distance\n"
   ]
  },
  {
   "cell_type": "code",
   "execution_count": 50,
   "metadata": {},
   "outputs": [
    {
     "data": {
      "text/html": [
       "<div><style>\n",
       ".dataframe > thead > tr,\n",
       ".dataframe > tbody > tr {\n",
       "  text-align: right;\n",
       "  white-space: pre-wrap;\n",
       "}\n",
       "</style>\n",
       "<small>shape: (6_275_670, 7)</small><table border=\"1\" class=\"dataframe\"><thead><tr><th>car_id</th><th>timestamp</th><th>latitude</th><th>longitude</th><th>notification</th><th>notification_time</th><th>distance_traveled</th></tr><tr><td>str</td><td>datetime[μs]</td><td>f64</td><td>f64</td><td>str</td><td>duration[μs]</td><td>f64</td></tr></thead><tbody><tr><td>&quot;car_0&quot;</td><td>2023-01-01 00:00:00</td><td>29.525967</td><td>-116.100893</td><td>null</td><td>0µs</td><td>0.0</td></tr><tr><td>&quot;car_0&quot;</td><td>2023-01-01 00:01:33.313478</td><td>29.525967</td><td>-116.100893</td><td>&quot;low_fuel&quot;</td><td>1m 33s 313478µs</td><td>0.0</td></tr><tr><td>&quot;car_0&quot;</td><td>2023-01-01 00:02:03.451558</td><td>29.525967</td><td>-116.100893</td><td>&quot;low_fuel&quot;</td><td>30s 138080µs</td><td>0.0</td></tr><tr><td>&quot;car_0&quot;</td><td>2023-01-01 00:02:59.145638</td><td>29.525967</td><td>-116.100893</td><td>&quot;low_fuel&quot;</td><td>55s 694080µs</td><td>0.0</td></tr><tr><td>&quot;car_0&quot;</td><td>2023-01-01 00:03:23.570334</td><td>29.525967</td><td>-116.100893</td><td>&quot;low_fuel&quot;</td><td>24s 424696µs</td><td>0.0</td></tr><tr><td>&hellip;</td><td>&hellip;</td><td>&hellip;</td><td>&hellip;</td><td>&hellip;</td><td>&hellip;</td><td>&hellip;</td></tr><tr><td>&quot;car_999&quot;</td><td>2023-01-07 23:09:01.221859</td><td>14.886387</td><td>-103.366665</td><td>null</td><td>2m 35s 467440µs</td><td>0.0</td></tr><tr><td>&quot;car_999&quot;</td><td>2023-01-07 23:10:04.135211</td><td>14.886387</td><td>-103.366665</td><td>&quot;low_fuel&quot;</td><td>1m 2s 913352µs</td><td>0.0</td></tr><tr><td>&quot;car_999&quot;</td><td>2023-01-07 23:33:18.709749</td><td>14.876938</td><td>-103.371203</td><td>&quot;low_fuel&quot;</td><td>23m 14s 574538µs</td><td>1.158328</td></tr><tr><td>&quot;car_999&quot;</td><td>2023-01-07 23:35:22.920610</td><td>14.876938</td><td>-103.371203</td><td>&quot;low_fuel&quot;</td><td>2m 4s 210861µs</td><td>0.0</td></tr><tr><td>&quot;car_999&quot;</td><td>2023-01-07 23:49:20.279183</td><td>14.876938</td><td>-103.371203</td><td>&quot;tire_pressure&quot;</td><td>13m 57s 358573µs</td><td>0.0</td></tr></tbody></table></div>"
      ],
      "text/plain": [
       "shape: (6_275_670, 7)\n",
       "┌─────────┬───────────────┬───────────┬─────────────┬───────────────┬───────────────┬──────────────┐\n",
       "│ car_id  ┆ timestamp     ┆ latitude  ┆ longitude   ┆ notification  ┆ notification_ ┆ distance_tra │\n",
       "│ ---     ┆ ---           ┆ ---       ┆ ---         ┆ ---           ┆ time          ┆ veled        │\n",
       "│ str     ┆ datetime[μs]  ┆ f64       ┆ f64         ┆ str           ┆ ---           ┆ ---          │\n",
       "│         ┆               ┆           ┆             ┆               ┆ duration[μs]  ┆ f64          │\n",
       "╞═════════╪═══════════════╪═══════════╪═════════════╪═══════════════╪═══════════════╪══════════════╡\n",
       "│ car_0   ┆ 2023-01-01    ┆ 29.525967 ┆ -116.100893 ┆ null          ┆ 0µs           ┆ 0.0          │\n",
       "│         ┆ 00:00:00      ┆           ┆             ┆               ┆               ┆              │\n",
       "│ car_0   ┆ 2023-01-01    ┆ 29.525967 ┆ -116.100893 ┆ low_fuel      ┆ 1m 33s        ┆ 0.0          │\n",
       "│         ┆ 00:01:33.3134 ┆           ┆             ┆               ┆ 313478µs      ┆              │\n",
       "│         ┆ 78            ┆           ┆             ┆               ┆               ┆              │\n",
       "│ car_0   ┆ 2023-01-01    ┆ 29.525967 ┆ -116.100893 ┆ low_fuel      ┆ 30s 138080µs  ┆ 0.0          │\n",
       "│         ┆ 00:02:03.4515 ┆           ┆             ┆               ┆               ┆              │\n",
       "│         ┆ 58            ┆           ┆             ┆               ┆               ┆              │\n",
       "│ car_0   ┆ 2023-01-01    ┆ 29.525967 ┆ -116.100893 ┆ low_fuel      ┆ 55s 694080µs  ┆ 0.0          │\n",
       "│         ┆ 00:02:59.1456 ┆           ┆             ┆               ┆               ┆              │\n",
       "│         ┆ 38            ┆           ┆             ┆               ┆               ┆              │\n",
       "│ car_0   ┆ 2023-01-01    ┆ 29.525967 ┆ -116.100893 ┆ low_fuel      ┆ 24s 424696µs  ┆ 0.0          │\n",
       "│         ┆ 00:03:23.5703 ┆           ┆             ┆               ┆               ┆              │\n",
       "│         ┆ 34            ┆           ┆             ┆               ┆               ┆              │\n",
       "│ …       ┆ …             ┆ …         ┆ …           ┆ …             ┆ …             ┆ …            │\n",
       "│ car_999 ┆ 2023-01-07    ┆ 14.886387 ┆ -103.366665 ┆ null          ┆ 2m 35s        ┆ 0.0          │\n",
       "│         ┆ 23:09:01.2218 ┆           ┆             ┆               ┆ 467440µs      ┆              │\n",
       "│         ┆ 59            ┆           ┆             ┆               ┆               ┆              │\n",
       "│ car_999 ┆ 2023-01-07    ┆ 14.886387 ┆ -103.366665 ┆ low_fuel      ┆ 1m 2s         ┆ 0.0          │\n",
       "│         ┆ 23:10:04.1352 ┆           ┆             ┆               ┆ 913352µs      ┆              │\n",
       "│         ┆ 11            ┆           ┆             ┆               ┆               ┆              │\n",
       "│ car_999 ┆ 2023-01-07    ┆ 14.876938 ┆ -103.371203 ┆ low_fuel      ┆ 23m 14s       ┆ 1.158328     │\n",
       "│         ┆ 23:33:18.7097 ┆           ┆             ┆               ┆ 574538µs      ┆              │\n",
       "│         ┆ 49            ┆           ┆             ┆               ┆               ┆              │\n",
       "│ car_999 ┆ 2023-01-07    ┆ 14.876938 ┆ -103.371203 ┆ low_fuel      ┆ 2m 4s         ┆ 0.0          │\n",
       "│         ┆ 23:35:22.9206 ┆           ┆             ┆               ┆ 210861µs      ┆              │\n",
       "│         ┆ 10            ┆           ┆             ┆               ┆               ┆              │\n",
       "│ car_999 ┆ 2023-01-07    ┆ 14.876938 ┆ -103.371203 ┆ tire_pressure ┆ 13m 57s       ┆ 0.0          │\n",
       "│         ┆ 23:49:20.2791 ┆           ┆             ┆               ┆ 358573µs      ┆              │\n",
       "│         ┆ 83            ┆           ┆             ┆               ┆               ┆              │\n",
       "└─────────┴───────────────┴───────────┴─────────────┴───────────────┴───────────────┴──────────────┘"
      ]
     },
     "execution_count": 50,
     "metadata": {},
     "output_type": "execute_result"
    }
   ],
   "source": [
    "data3 = (data__\n",
    "    .with_columns([\n",
    "        pl.col('latitude').diff().over('car_id').fill_null(0).alias('latitude2')\n",
    "    ])\n",
    ").with_columns([pl.col('longitude').diff().over('car_id').fill_null(0).alias('longitude2')])\n",
    "\n",
    "data3 = data3.with_columns(distance_traveled=haversine(pl.col('latitude'), pl.col('longitude'), pl.col('latitude')+pl.col('latitude2'), pl.col('longitude')+pl.col('longitude2')))\n",
    "data3 = data3.drop('latitude2').drop('longitude2')\n",
    "data3.collect()"
   ]
  },
  {
   "cell_type": "markdown",
   "metadata": {},
   "source": [
    "3. Crea intervalos de `x` minutos por carro. Como el numero de notificaciones en esos intervalos no es uniforme tienes que buscar funciones de polars especificas, pero ademas tienen que ser por vehiculo, pues tienen que ser del mismo. Revisa las funciones de `group_by` `dynamic` y `rolling`.\n",
    "   1. Computa la media, mediana, varianza, max y min de `notification_time` los intervalos de `x` minutos\n",
    "   2. Computa la media, mediana, varianza, max y min de `distance`\n"
   ]
  },
  {
   "cell_type": "code",
   "execution_count": 58,
   "metadata": {},
   "outputs": [
    {
     "data": {
      "text/html": [
       "<div><style>\n",
       ".dataframe > thead > tr,\n",
       ".dataframe > tbody > tr {\n",
       "  text-align: right;\n",
       "  white-space: pre-wrap;\n",
       "}\n",
       "</style>\n",
       "<small>shape: (1_000, 6)</small><table border=\"1\" class=\"dataframe\"><thead><tr><th>car_id</th><th>media</th><th>mediana</th><th>varianza</th><th>max</th><th>min</th></tr><tr><td>str</td><td>duration[μs]</td><td>duration[μs]</td><td>duration[μs]</td><td>duration[μs]</td><td>duration[μs]</td></tr></thead><tbody><tr><td>&quot;car_354&quot;</td><td>1m 36s 171345µs</td><td>20s 594727µs</td><td>621539d 14h 22m 21s 258224µs</td><td>49m 24s 995611µs</td><td>0µs</td></tr><tr><td>&quot;car_984&quot;</td><td>1m 50s 421194µs</td><td>27s 341949µs</td><td>658196d 14h 15m 392880µs</td><td>30m</td><td>0µs</td></tr><tr><td>&quot;car_925&quot;</td><td>1m 40s 321734µs</td><td>21s 494835µs</td><td>640553d 5h 2m 45s 85864µs</td><td>30m 12s 134542µs</td><td>0µs</td></tr><tr><td>&quot;car_842&quot;</td><td>1m 23s 342335µs</td><td>12s 513278µs</td><td>539997d 19h 35m 58s 438984µs</td><td>30m 9s 209196µs</td><td>0µs</td></tr><tr><td>&quot;car_530&quot;</td><td>1m 35s 389493µs</td><td>19s 361959µs</td><td>609094d 8h 18m 48s 49616µs</td><td>30m 9s 517998µs</td><td>0µs</td></tr><tr><td>&hellip;</td><td>&hellip;</td><td>&hellip;</td><td>&hellip;</td><td>&hellip;</td><td>&hellip;</td></tr><tr><td>&quot;car_836&quot;</td><td>1m 30s 16986µs</td><td>15s 646712µs</td><td>581559d 14h 23m 30s 546408µs</td><td>30m</td><td>0µs</td></tr><tr><td>&quot;car_678&quot;</td><td>1m 45s 837694µs</td><td>24s 600ms</td><td>663786d 5h 56m 15s 806808µs</td><td>34m 5s 863304µs</td><td>0µs</td></tr><tr><td>&quot;car_869&quot;</td><td>1m 30s 503356µs</td><td>19s 509980µs</td><td>548957d 18h 37m 23s 853752µs</td><td>33m 18s 371824µs</td><td>0µs</td></tr><tr><td>&quot;car_983&quot;</td><td>1m 44s 664402µs</td><td>24s 607289µs</td><td>669225d 45m 39s 705168µs</td><td>30m 43s 71301µs</td><td>0µs</td></tr><tr><td>&quot;car_474&quot;</td><td>1m 41s 101102µs</td><td>23s 506985µs</td><td>595991d 12h 53m 9s 814968µs</td><td>35m 16s 330815µs</td><td>0µs</td></tr></tbody></table></div>"
      ],
      "text/plain": [
       "shape: (1_000, 6)\n",
       "┌─────────┬─────────────────┬──────────────┬─────────────────────┬──────────────────┬──────────────┐\n",
       "│ car_id  ┆ media           ┆ mediana      ┆ varianza            ┆ max              ┆ min          │\n",
       "│ ---     ┆ ---             ┆ ---          ┆ ---                 ┆ ---              ┆ ---          │\n",
       "│ str     ┆ duration[μs]    ┆ duration[μs] ┆ duration[μs]        ┆ duration[μs]     ┆ duration[μs] │\n",
       "╞═════════╪═════════════════╪══════════════╪═════════════════════╪══════════════════╪══════════════╡\n",
       "│ car_354 ┆ 1m 36s 171345µs ┆ 20s 594727µs ┆ 621539d 14h 22m 21s ┆ 49m 24s 995611µs ┆ 0µs          │\n",
       "│         ┆                 ┆              ┆ 258224µs            ┆                  ┆              │\n",
       "│ car_984 ┆ 1m 50s 421194µs ┆ 27s 341949µs ┆ 658196d 14h 15m     ┆ 30m              ┆ 0µs          │\n",
       "│         ┆                 ┆              ┆ 392880µs            ┆                  ┆              │\n",
       "│ car_925 ┆ 1m 40s 321734µs ┆ 21s 494835µs ┆ 640553d 5h 2m 45s   ┆ 30m 12s 134542µs ┆ 0µs          │\n",
       "│         ┆                 ┆              ┆ 85864µs             ┆                  ┆              │\n",
       "│ car_842 ┆ 1m 23s 342335µs ┆ 12s 513278µs ┆ 539997d 19h 35m 58s ┆ 30m 9s 209196µs  ┆ 0µs          │\n",
       "│         ┆                 ┆              ┆ 438984µs            ┆                  ┆              │\n",
       "│ car_530 ┆ 1m 35s 389493µs ┆ 19s 361959µs ┆ 609094d 8h 18m 48s  ┆ 30m 9s 517998µs  ┆ 0µs          │\n",
       "│         ┆                 ┆              ┆ 49616µs             ┆                  ┆              │\n",
       "│ …       ┆ …               ┆ …            ┆ …                   ┆ …                ┆ …            │\n",
       "│ car_836 ┆ 1m 30s 16986µs  ┆ 15s 646712µs ┆ 581559d 14h 23m 30s ┆ 30m              ┆ 0µs          │\n",
       "│         ┆                 ┆              ┆ 546408µs            ┆                  ┆              │\n",
       "│ car_678 ┆ 1m 45s 837694µs ┆ 24s 600ms    ┆ 663786d 5h 56m 15s  ┆ 34m 5s 863304µs  ┆ 0µs          │\n",
       "│         ┆                 ┆              ┆ 806808µs            ┆                  ┆              │\n",
       "│ car_869 ┆ 1m 30s 503356µs ┆ 19s 509980µs ┆ 548957d 18h 37m 23s ┆ 33m 18s 371824µs ┆ 0µs          │\n",
       "│         ┆                 ┆              ┆ 853752µs            ┆                  ┆              │\n",
       "│ car_983 ┆ 1m 44s 664402µs ┆ 24s 607289µs ┆ 669225d 45m 39s     ┆ 30m 43s 71301µs  ┆ 0µs          │\n",
       "│         ┆                 ┆              ┆ 705168µs            ┆                  ┆              │\n",
       "│ car_474 ┆ 1m 41s 101102µs ┆ 23s 506985µs ┆ 595991d 12h 53m 9s  ┆ 35m 16s 330815µs ┆ 0µs          │\n",
       "│         ┆                 ┆              ┆ 814968µs            ┆                  ┆              │\n",
       "└─────────┴─────────────────┴──────────────┴─────────────────────┴──────────────────┴──────────────┘"
      ]
     },
     "execution_count": 58,
     "metadata": {},
     "output_type": "execute_result"
    }
   ],
   "source": [
    "agregaciones_time = data3.group_by(\"car_id\").agg([\n",
    "    pl.col(\"notification_time\").mean().alias(\"media\"),\n",
    "    pl.col(\"notification_time\").median().alias(\"mediana\"),\n",
    "    pl.col(\"notification_time\").var().alias(\"varianza\"),\n",
    "    pl.col(\"notification_time\").max().alias(\"max\"),\n",
    "    pl.col(\"notification_time\").min().alias(\"min\")\n",
    "])\n",
    "\n",
    "agregaciones_time.select('car_id', 'media', 'mediana', 'varianza', 'max', 'min').collect()"
   ]
  },
  {
   "cell_type": "code",
   "execution_count": 57,
   "metadata": {},
   "outputs": [
    {
     "data": {
      "text/html": [
       "<div><style>\n",
       ".dataframe > thead > tr,\n",
       ".dataframe > tbody > tr {\n",
       "  text-align: right;\n",
       "  white-space: pre-wrap;\n",
       "}\n",
       "</style>\n",
       "<small>shape: (1_000, 6)</small><table border=\"1\" class=\"dataframe\"><thead><tr><th>car_id</th><th>media</th><th>mediana</th><th>varianza</th><th>max</th><th>min</th></tr><tr><td>str</td><td>f64</td><td>f64</td><td>f64</td><td>f64</td><td>f64</td></tr></thead><tbody><tr><td>&quot;car_289&quot;</td><td>0.114402</td><td>0.0</td><td>0.094169</td><td>1.499893</td><td>0.0</td></tr><tr><td>&quot;car_584&quot;</td><td>0.109557</td><td>0.0</td><td>0.087686</td><td>1.435974</td><td>0.0</td></tr><tr><td>&quot;car_189&quot;</td><td>0.105199</td><td>0.0</td><td>0.086434</td><td>1.506046</td><td>0.0</td></tr><tr><td>&quot;car_579&quot;</td><td>0.111239</td><td>0.0</td><td>0.094135</td><td>1.511978</td><td>0.0</td></tr><tr><td>&quot;car_586&quot;</td><td>0.098517</td><td>0.0</td><td>0.082451</td><td>1.519779</td><td>0.0</td></tr><tr><td>&hellip;</td><td>&hellip;</td><td>&hellip;</td><td>&hellip;</td><td>&hellip;</td><td>&hellip;</td></tr><tr><td>&quot;car_435&quot;</td><td>0.103422</td><td>0.0</td><td>0.085683</td><td>1.46791</td><td>0.0</td></tr><tr><td>&quot;car_315&quot;</td><td>0.102957</td><td>0.0</td><td>0.086429</td><td>1.483347</td><td>0.0</td></tr><tr><td>&quot;car_923&quot;</td><td>0.106957</td><td>0.0</td><td>0.089423</td><td>1.486751</td><td>0.0</td></tr><tr><td>&quot;car_29&quot;</td><td>0.113535</td><td>0.0</td><td>0.09497</td><td>1.49767</td><td>0.0</td></tr><tr><td>&quot;car_472&quot;</td><td>0.107825</td><td>0.0</td><td>0.089742</td><td>1.63041</td><td>0.0</td></tr></tbody></table></div>"
      ],
      "text/plain": [
       "shape: (1_000, 6)\n",
       "┌─────────┬──────────┬─────────┬──────────┬──────────┬─────┐\n",
       "│ car_id  ┆ media    ┆ mediana ┆ varianza ┆ max      ┆ min │\n",
       "│ ---     ┆ ---      ┆ ---     ┆ ---      ┆ ---      ┆ --- │\n",
       "│ str     ┆ f64      ┆ f64     ┆ f64      ┆ f64      ┆ f64 │\n",
       "╞═════════╪══════════╪═════════╪══════════╪══════════╪═════╡\n",
       "│ car_289 ┆ 0.114402 ┆ 0.0     ┆ 0.094169 ┆ 1.499893 ┆ 0.0 │\n",
       "│ car_584 ┆ 0.109557 ┆ 0.0     ┆ 0.087686 ┆ 1.435974 ┆ 0.0 │\n",
       "│ car_189 ┆ 0.105199 ┆ 0.0     ┆ 0.086434 ┆ 1.506046 ┆ 0.0 │\n",
       "│ car_579 ┆ 0.111239 ┆ 0.0     ┆ 0.094135 ┆ 1.511978 ┆ 0.0 │\n",
       "│ car_586 ┆ 0.098517 ┆ 0.0     ┆ 0.082451 ┆ 1.519779 ┆ 0.0 │\n",
       "│ …       ┆ …        ┆ …       ┆ …        ┆ …        ┆ …   │\n",
       "│ car_435 ┆ 0.103422 ┆ 0.0     ┆ 0.085683 ┆ 1.46791  ┆ 0.0 │\n",
       "│ car_315 ┆ 0.102957 ┆ 0.0     ┆ 0.086429 ┆ 1.483347 ┆ 0.0 │\n",
       "│ car_923 ┆ 0.106957 ┆ 0.0     ┆ 0.089423 ┆ 1.486751 ┆ 0.0 │\n",
       "│ car_29  ┆ 0.113535 ┆ 0.0     ┆ 0.09497  ┆ 1.49767  ┆ 0.0 │\n",
       "│ car_472 ┆ 0.107825 ┆ 0.0     ┆ 0.089742 ┆ 1.63041  ┆ 0.0 │\n",
       "└─────────┴──────────┴─────────┴──────────┴──────────┴─────┘"
      ]
     },
     "execution_count": 57,
     "metadata": {},
     "output_type": "execute_result"
    }
   ],
   "source": [
    "agregaciones_distance = data3.group_by(\"car_id\").agg([\n",
    "    pl.col(\"distance_traveled\").mean().alias(\"media\"),\n",
    "    pl.col(\"distance_traveled\").median().alias(\"mediana\"),\n",
    "    pl.col(\"distance_traveled\").var().alias(\"varianza\"),\n",
    "    pl.col(\"distance_traveled\").max().alias(\"max\"),\n",
    "    pl.col(\"distance_traveled\").min().alias(\"min\")\n",
    "])\n",
    "\n",
    "agregaciones_distance.select('car_id', 'media', 'mediana', 'varianza', 'max', 'min').collect()"
   ]
  },
  {
   "cell_type": "code",
   "execution_count": null,
   "metadata": {},
   "outputs": [],
   "source": []
  }
 ],
 "metadata": {
  "kernelspec": {
   "display_name": "itam",
   "language": "python",
   "name": "python3"
  },
  "language_info": {
   "codemirror_mode": {
    "name": "ipython",
    "version": 3
   },
   "file_extension": ".py",
   "mimetype": "text/x-python",
   "name": "python",
   "nbconvert_exporter": "python",
   "pygments_lexer": "ipython3",
   "version": "3.10.4"
  }
 },
 "nbformat": 4,
 "nbformat_minor": 2
}
