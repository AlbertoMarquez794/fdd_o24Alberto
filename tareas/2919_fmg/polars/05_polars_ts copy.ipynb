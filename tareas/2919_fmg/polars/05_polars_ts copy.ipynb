{
 "cells": [
  {
   "cell_type": "code",
   "execution_count": 1,
   "metadata": {},
   "outputs": [],
   "source": [
    "import polars as pl\n",
    "import numpy as np\n",
    "import random\n",
    "from datetime import datetime, timedelta"
   ]
  },
  {
   "cell_type": "markdown",
   "metadata": {},
   "source": [
    "# Descripcion"
   ]
  },
  {
   "cell_type": "markdown",
   "metadata": {},
   "source": [
    "Los datos son notificaciones de dispositivos GPS en Mexico. En promedio generan notificaciones automatizadas cada 5 minutos si el carro esta encendido, y 30 si esta apagado.  \n",
    "\n",
    "Cada notificacion esta acompannada de un evento de lo que esta ocurriendo, y trae la latitud y longitud.  \n",
    "\n",
    "El objetico es predecir si un vehiculo esta siendo robado de acuerdo a sus notificaciones, por lo que el primer paso seria limpiar datos y hacer ingenieria de variables.\n",
    "\n",
    "Trata de hacerlo **lazy** si puedes."
   ]
  },
  {
   "cell_type": "code",
   "execution_count": 3,
   "metadata": {},
   "outputs": [],
   "source": [
    "def generate_dummy_data(num_cars, start_time, end_time, working_hours_interval, non_working_hours_interval):\n",
    "    data = []\n",
    "\n",
    "    # Define the latitude and longitude ranges for Mexico\n",
    "    min_latitude, max_latitude = 14.5388, 32.7186\n",
    "    min_longitude, max_longitude = -118.4662, -86.7104\n",
    "\n",
    "    for car_id in range(num_cars):\n",
    "        current_time = start_time\n",
    "\n",
    "        # Generate random initial latitude and longitude for each car\n",
    "        latitude = random.uniform(min_latitude, max_latitude)\n",
    "        longitude = random.uniform(min_longitude, max_longitude)\n",
    "\n",
    "        while current_time < end_time:\n",
    "            if current_time.weekday() < 5 and 9 <= current_time.hour < 17:\n",
    "                # Working hours (Monday to Friday, 9 AM to 5 PM)\n",
    "                interval = working_hours_interval\n",
    "            else:\n",
    "                # Non-working hours\n",
    "                interval = non_working_hours_interval\n",
    "\n",
    "            # Generate notification with 99% probability\n",
    "            if random.random() < 0.99:\n",
    "                notification = random.choice([\"low_fuel\", \"tire_pressure\", \"engine_check\", None])\n",
    "                data.append((f\"car_{car_id}\", current_time.isoformat(), latitude, longitude, notification))\n",
    "\n",
    "            # Generate additional notifications between intervals\n",
    "            while True:\n",
    "                additional_interval = random.expovariate(1 / (interval / 2))\n",
    "                additional_time = current_time + timedelta(minutes=additional_interval)\n",
    "                if additional_time >= current_time + timedelta(minutes=interval):\n",
    "                    break\n",
    "                notification = random.choice([\"low_fuel\", \"tire_pressure\", \"engine_check\", None])\n",
    "                data.append((f\"car_{car_id}\", additional_time.isoformat(), latitude, longitude, notification))\n",
    "\n",
    "            # Update latitude and longitude for car movement\n",
    "            latitude += random.uniform(-0.01, 0.01)\n",
    "            longitude += random.uniform(-0.01, 0.01)\n",
    "\n",
    "            # Check if the car is among the 1% that can have 100 notifications within 5 minutes\n",
    "            if random.random() < 0.01:\n",
    "                burst_start_time = current_time + timedelta(minutes=random.uniform(0, interval))\n",
    "                burst_end_time = burst_start_time + timedelta(minutes=5)\n",
    "                while current_time < burst_end_time:\n",
    "                    notification = random.choice([\"low_fuel\", \"tire_pressure\", \"engine_check\", None])\n",
    "                    data.append((f\"car_{car_id}\", current_time.isoformat(), latitude, longitude, notification))\n",
    "                    current_time += timedelta(seconds=random.uniform(1, 10))\n",
    "\n",
    "            current_time += timedelta(minutes=interval)\n",
    "\n",
    "    # Create a Polars DataFrame from the generated data\n",
    "    df = pl.DataFrame(\n",
    "        {\n",
    "            \"car_id\": [record[0] for record in data],\n",
    "            \"timestamp\": [record[1] for record in data],\n",
    "            \"latitude\": [record[2] for record in data],\n",
    "            \"longitude\": [record[3] for record in data],\n",
    "            \"notification\": [record[4] for record in data],\n",
    "        }\n",
    "    )\n",
    "\n",
    "    return df.lazy()"
   ]
  },
  {
   "cell_type": "code",
   "execution_count": 4,
   "metadata": {},
   "outputs": [
    {
     "name": "stdout",
     "output_type": "stream",
     "text": [
      "naive plan: (run LazyFrame.explain(optimized=True) to see the optimized plan)\n",
      "\n",
      "SLICE[offset: 0, len: 5]\n",
      "  DF [\"car_id\", \"timestamp\", \"latitude\", \"longitude\"]; PROJECT */5 COLUMNS; SELECTION: \"None\"\n"
     ]
    }
   ],
   "source": [
    "num_cars = 1000\n",
    "start_time = datetime(2023, 1, 1, 0, 0, 0)  # Start of the week\n",
    "end_time = start_time + timedelta(weeks=1)  # End of the week\n",
    "working_hours_interval = 5  # Interval of 5 minutes during working hours\n",
    "non_working_hours_interval = 30  # Interval of 30 minutes during non-working hours\n",
    "\n",
    "# Generate the dummy data\n",
    "data = generate_dummy_data(num_cars, start_time, end_time, working_hours_interval, non_working_hours_interval)\n",
    "\n",
    "# Print the first few rows of the generated data\n",
    "print(data.head())"
   ]
  },
  {
   "cell_type": "markdown",
   "metadata": {},
   "source": [
    "## Limpieza de datos"
   ]
  },
  {
   "cell_type": "markdown",
   "metadata": {},
   "source": [
    "### Timestamp"
   ]
  },
  {
   "cell_type": "markdown",
   "metadata": {},
   "source": [
    "Convierte el `timestamp` que actualmente es string a formato de tiempo en polars"
   ]
  },
  {
   "cell_type": "code",
   "execution_count": 5,
   "metadata": {},
   "outputs": [
    {
     "name": "stdout",
     "output_type": "stream",
     "text": [
      "shape: (6_301_972, 5)\n",
      "┌─────────┬────────────────────────────┬───────────┬─────────────┬───────────────┐\n",
      "│ car_id  ┆ timestamp                  ┆ latitude  ┆ longitude   ┆ notification  │\n",
      "│ ---     ┆ ---                        ┆ ---       ┆ ---         ┆ ---           │\n",
      "│ str     ┆ str                        ┆ f64       ┆ f64         ┆ str           │\n",
      "╞═════════╪════════════════════════════╪═══════════╪═════════════╪═══════════════╡\n",
      "│ car_0   ┆ 2023-01-01T00:00:00.000000 ┆ 26.60885  ┆ -100.078676 ┆ tire_pressure │\n",
      "│ car_0   ┆ 2023-01-01T00:12:04.511240 ┆ 26.60885  ┆ -100.078676 ┆ low_fuel      │\n",
      "│ car_0   ┆ 2023-01-01T00:23:08.340280 ┆ 26.60885  ┆ -100.078676 ┆ tire_pressure │\n",
      "│ car_0   ┆ 2023-01-01T00:14:44.273648 ┆ 26.60885  ┆ -100.078676 ┆ tire_pressure │\n",
      "│ car_0   ┆ 2023-01-01T00:17:39.259295 ┆ 26.60885  ┆ -100.078676 ┆ null          │\n",
      "│ …       ┆ …                          ┆ …         ┆ …           ┆ …             │\n",
      "│ car_999 ┆ 2023-01-07T23:56:48.615996 ┆ 14.684213 ┆ -106.464763 ┆ low_fuel      │\n",
      "│ car_999 ┆ 2023-01-08T00:02:26.966351 ┆ 14.684213 ┆ -106.464763 ┆ engine_check  │\n",
      "│ car_999 ┆ 2023-01-07T23:40:10.581229 ┆ 14.684213 ┆ -106.464763 ┆ low_fuel      │\n",
      "│ car_999 ┆ 2023-01-07T23:59:07.107473 ┆ 14.684213 ┆ -106.464763 ┆ null          │\n",
      "│ car_999 ┆ 2023-01-07T23:40:00.976725 ┆ 14.684213 ┆ -106.464763 ┆ engine_check  │\n",
      "└─────────┴────────────────────────────┴───────────┴─────────────┴───────────────┘\n"
     ]
    },
    {
     "name": "stderr",
     "output_type": "stream",
     "text": [
      "/var/folders/6m/qnd7j8zs6t5c1561jkd532gh0000gn/T/ipykernel_50067/3340590239.py:10: ChronoFormatWarning: Detected the pattern `.%f` in the chrono format string. This pattern should not be used to parse values after a decimal point. Use `%.f` instead. See the full specification: https://docs.rs/chrono/latest/chrono/format/strftime\n",
      "  data = data.with_columns(pl.col(\"timestamp\").str.strptime(pl.Datetime, \"%Y-%m-%dT%H:%M:%S.%f\"))\n"
     ]
    },
    {
     "name": "stdout",
     "output_type": "stream",
     "text": [
      "shape: (6_301_972, 5)\n",
      "┌─────────┬───────────────────────────────┬───────────┬─────────────┬───────────────┐\n",
      "│ car_id  ┆ timestamp                     ┆ latitude  ┆ longitude   ┆ notification  │\n",
      "│ ---     ┆ ---                           ┆ ---       ┆ ---         ┆ ---           │\n",
      "│ str     ┆ datetime[ns]                  ┆ f64       ┆ f64         ┆ str           │\n",
      "╞═════════╪═══════════════════════════════╪═══════════╪═════════════╪═══════════════╡\n",
      "│ car_0   ┆ 2023-01-01 00:00:00           ┆ 26.60885  ┆ -100.078676 ┆ tire_pressure │\n",
      "│ car_0   ┆ 2023-01-01 00:12:04.000511240 ┆ 26.60885  ┆ -100.078676 ┆ low_fuel      │\n",
      "│ car_0   ┆ 2023-01-01 00:23:08.000340280 ┆ 26.60885  ┆ -100.078676 ┆ tire_pressure │\n",
      "│ car_0   ┆ 2023-01-01 00:14:44.000273648 ┆ 26.60885  ┆ -100.078676 ┆ tire_pressure │\n",
      "│ car_0   ┆ 2023-01-01 00:17:39.000259295 ┆ 26.60885  ┆ -100.078676 ┆ null          │\n",
      "│ …       ┆ …                             ┆ …         ┆ …           ┆ …             │\n",
      "│ car_999 ┆ 2023-01-07 23:56:48.000615996 ┆ 14.684213 ┆ -106.464763 ┆ low_fuel      │\n",
      "│ car_999 ┆ 2023-01-08 00:02:26.000966351 ┆ 14.684213 ┆ -106.464763 ┆ engine_check  │\n",
      "│ car_999 ┆ 2023-01-07 23:40:10.000581229 ┆ 14.684213 ┆ -106.464763 ┆ low_fuel      │\n",
      "│ car_999 ┆ 2023-01-07 23:59:07.000107473 ┆ 14.684213 ┆ -106.464763 ┆ null          │\n",
      "│ car_999 ┆ 2023-01-07 23:40:00.000976725 ┆ 14.684213 ┆ -106.464763 ┆ engine_check  │\n",
      "└─────────┴───────────────────────────────┴───────────┴─────────────┴───────────────┘\n"
     ]
    }
   ],
   "source": [
    "data = data.with_columns(\n",
    "    pl.when(pl.col(\"timestamp\").str.contains(r\"\\.\"))\n",
    "    .then(pl.col(\"timestamp\"))\n",
    "    .otherwise(pl.col(\"timestamp\") + \".000000\")\n",
    "    .alias(\"timestamp\")\n",
    ")\n",
    "\n",
    "print(data.collect())\n",
    "\n",
    "data = data.with_columns(pl.col(\"timestamp\").str.strptime(pl.Datetime, \"%Y-%m-%dT%H:%M:%S.%f\"))\n",
    "print(data.collect())"
   ]
  },
  {
   "cell_type": "markdown",
   "metadata": {},
   "source": [
    "### Ingenieria de variables"
   ]
  },
  {
   "cell_type": "markdown",
   "metadata": {},
   "source": [
    "Dado que va a entrar a un modelo de machine learning es encesario que todas las variables sean numericas, y esten en formnato tidy. Cada observacion en una fila, y cada variable en una columna. Por lo tanto se decidio crear estadisticos y agregar los datos a intervalos uniformes de `x` minutos.  \n",
    "\n",
    "Por ejemplo, colapsar toda la informacion que ocurrion en el intervalo, como el numero de notificaciones en esos 5 minutos, el promedio entre notificaciones, y el tipo de notificaciones."
   ]
  },
  {
   "cell_type": "markdown",
   "metadata": {},
   "source": [
    "Existen varias formas de hacer esto, puedes hacerlo con `group_by` primero para crear las nuevas variables, o `group_by` (`rolling`, `dynamic`) usando operaciones sobre listas. Utiliza claude o chat_gpt"
   ]
  },
  {
   "cell_type": "markdown",
   "metadata": {},
   "source": [
    "1. Crea una nueva variable que compute la diferencia de tiempo entre notificaciones del mismo vehiculo. Piensa como lo vas a hacer. Llama a esta variable `notification_time`\n",
    "   \n"
   ]
  },
  {
   "cell_type": "code",
   "execution_count": null,
   "metadata": {},
   "outputs": [],
   "source": []
  },
  {
   "cell_type": "markdown",
   "metadata": {},
   "source": [
    "2. Crea una nueva variable que compute la distancia que viajo el vehiculo desde la ultima notificacion. Llamala `distance`"
   ]
  },
  {
   "cell_type": "code",
   "execution_count": null,
   "metadata": {},
   "outputs": [],
   "source": []
  },
  {
   "cell_type": "markdown",
   "metadata": {},
   "source": [
    "3. Crea intervalos de `x` minutos por carro. Como el numero de notificaciones en esos intervalos no es uniforme tienes que buscar funciones de polars especificas, pero ademas tienen que ser por vehiculo, pues tienen que ser del mismo. Revisa las funciones de `group_by` `dynamic` y `rolling`.\n",
    "   1. Computa la media, mediana, varianza, max y min de `notification_time` los intervalos de `x` minutos\n",
    "   2. Computa la media, mediana, varianza, max y min de `distance`\n"
   ]
  },
  {
   "cell_type": "code",
   "execution_count": null,
   "metadata": {},
   "outputs": [],
   "source": []
  }
 ],
 "metadata": {
  "kernelspec": {
   "display_name": "itam",
   "language": "python",
   "name": "python3"
  },
  "language_info": {
   "codemirror_mode": {
    "name": "ipython",
    "version": 3
   },
   "file_extension": ".py",
   "mimetype": "text/x-python",
   "name": "python",
   "nbconvert_exporter": "python",
   "pygments_lexer": "ipython3",
   "version": "3.9.6"
  }
 },
 "nbformat": 4,
 "nbformat_minor": 2
}
