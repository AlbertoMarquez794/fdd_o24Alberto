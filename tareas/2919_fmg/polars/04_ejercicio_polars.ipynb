{
 "cells": [
  {
   "cell_type": "markdown",
   "metadata": {},
   "source": [
    "<a target=\"_blank\" href=\"https://colab.research.google.com/github/sonder-art/fdd_o23/blob/main/codigo/polars/04_ejercicio_polars.ipynb\">\n",
    "  <img src=\"https://colab.research.google.com/assets/colab-badge.svg\" alt=\"Open In Colab\"/>\n",
    "</a>"
   ]
  },
  {
   "cell_type": "code",
   "execution_count": null,
   "metadata": {},
   "outputs": [],
   "source": [
    "#!pip install polars"
   ]
  },
  {
   "cell_type": "code",
   "execution_count": 3,
   "metadata": {},
   "outputs": [],
   "source": [
    "import polars as pl\n",
    "import random\n",
    "import string\n"
   ]
  },
  {
   "cell_type": "markdown",
   "metadata": {},
   "source": [
    "# Generacion de Datos"
   ]
  },
  {
   "cell_type": "code",
   "execution_count": null,
   "metadata": {},
   "outputs": [],
   "source": [
    "# Funciones auxiliares para generar datos\n",
    "def random_string(length=5):\n",
    "    letters = string.ascii_lowercase\n",
    "    return ''.join(random.choice(letters) for i in range(length))\n",
    "\n",
    "def generate_data(n=1000):\n",
    "    data = {\n",
    "        \"id_venta\": list(range(1, n + 1)),\n",
    "        \"producto\": [random_string() for _ in range(n)],\n",
    "        \"cantidad\": [random.randint(1, 20) for _ in range(n)],\n",
    "        \"precio_unitario\": [random.uniform(10, 100) for _ in range(n)],\n",
    "        \"fecha_venta\": [pl.Date(random.randint(2010, 2022), random.randint(1, 12), random.randint(1, 28)) for _ in range(n)],\n",
    "        \"cliente_id\": [random.randint(1000, 5000) for _ in range(n)]\n",
    "    }\n",
    "    return pl.DataFrame(data)\n",
    "\n",
    "# Generar el DataFrame\n",
    "df = generate_data()\n",
    "df.head()"
   ]
  },
  {
   "cell_type": "code",
   "execution_count": 5,
   "metadata": {},
   "outputs": [
    {
     "data": {
      "text/html": [
       "<i>naive plan: (run <b>LazyFrame.explain(optimized=True)</b> to see the optimized plan)</i>\n",
       "    <p></p>\n",
       "    <div>DF [\"id_venta\", \"producto\", \"cantidad\", \"precio_unitario\"]; PROJECT */6 COLUMNS; SELECTION: \"None\"</div>"
      ],
      "text/plain": [
       "<LazyFrame [6 cols, {\"id_venta\": Int64 … \"cliente_id\": Int64}] at 0x7FCCDC3B6690>"
      ]
     },
     "execution_count": 5,
     "metadata": {},
     "output_type": "execute_result"
    }
   ],
   "source": [
    "df = df.lazy()\n",
    "df"
   ]
  },
  {
   "cell_type": "markdown",
   "metadata": {},
   "source": [
    "# Limpieza de Datos"
   ]
  },
  {
   "cell_type": "markdown",
   "metadata": {},
   "source": [
    "Utilizando Polars en modo Lazy, realice las siguientes operaciones de limpieza y manipulación de datos:\n",
    "\n",
    "    1. `Filtrar` las ventas con cantidades menores a 5.\n",
    "    2. `Agregar` una nueva columna llamada total_venta, que sea el resultado de multiplicar cantidad por precio_unitario.\n",
    "    3. `Eliminar` la columna precio_unitario después de crear total_venta.\n",
    "    4. `Agrupar` los datos por producto y calcular el total vendido y la cantidad total vendida por producto.\n",
    "    5. `Ordenar` los resultados por el total vendido en orden descendente."
   ]
  },
  {
   "cell_type": "markdown",
   "metadata": {},
   "source": [
    "Todo esto lo debes de realizar en una sola linea de codigo"
   ]
  },
  {
   "cell_type": "code",
   "execution_count": null,
   "metadata": {},
   "outputs": [],
   "source": [
    "\n",
    "lazy_df = df.lazy()\n",
    "\n",
    "# Realizar las operaciones de limpieza y manipulación\n",
    "\n",
    "resultado = (\n",
    "    # Tu codigo aqui\n",
    "    lazy_df\n",
    "    \n",
    ")\n",
    "\n",
    "# Ejecutar y mostrar los resultados\n",
    "resultado_df = resultado.collect()\n",
    "print(resultado_df)\n"
   ]
  },
  {
   "cell_type": "markdown",
   "metadata": {},
   "source": [
    "# Guarda el resultado en un archivo `parquet`"
   ]
  },
  {
   "cell_type": "markdown",
   "metadata": {},
   "source": [
    "Guarda el resultado en un archivo parquet que se llame `resultados.parquet`"
   ]
  },
  {
   "cell_type": "code",
   "execution_count": null,
   "metadata": {},
   "outputs": [],
   "source": [
    "# Tu codigo aqui"
   ]
  },
  {
   "cell_type": "markdown",
   "metadata": {},
   "source": [
    "# Lee Parquet"
   ]
  },
  {
   "cell_type": "markdown",
   "metadata": {},
   "source": [
    "Crea codigo para leer en polars el archivo parquet"
   ]
  },
  {
   "cell_type": "code",
   "execution_count": null,
   "metadata": {},
   "outputs": [],
   "source": [
    "# Tu codigo aqui"
   ]
  }
 ],
 "metadata": {
  "kernelspec": {
   "display_name": ".venv",
   "language": "python",
   "name": "python3"
  },
  "language_info": {
   "codemirror_mode": {
    "name": "ipython",
    "version": 3
   },
   "file_extension": ".py",
   "mimetype": "text/x-python",
   "name": "python",
   "nbconvert_exporter": "python",
   "pygments_lexer": "ipython3",
   "version": "3.9.6"
  }
 },
 "nbformat": 4,
 "nbformat_minor": 2
}
