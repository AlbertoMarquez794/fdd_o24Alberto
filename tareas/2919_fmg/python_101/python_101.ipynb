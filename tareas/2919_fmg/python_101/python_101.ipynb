{
  "cells": [
    {
      "cell_type": "markdown",
      "metadata": {
        "id": "PRPWqb7IhCa5"
      },
      "source": [
        "# Ejercicicio Python"
      ]
    },
    {
      "cell_type": "markdown",
      "metadata": {
        "id": "K9mRHrgVgdF0"
      },
      "source": [
        "**For computacionalmente pesado**"
      ]
    },
    {
      "cell_type": "code",
      "execution_count": 12,
      "metadata": {
        "colab": {
          "base_uri": "https://localhost:8080/"
        },
        "id": "6wbTcSJlfgqZ",
        "outputId": "deb5ddfb-294f-4bd9-c8a5-c4dc36acc2f5"
      },
      "outputs": [
        {
          "name": "stdout",
          "output_type": "stream",
          "text": [
            "Resultado: 666744.5927605826\n",
            "Tiempo for: 1.330897569656372 segundos\n"
          ]
        }
      ],
      "source": [
        "import numpy as np\n",
        "import time\n",
        "\n",
        "# Crear arreglos grandes\n",
        "n = 1000000\n",
        "a = np.random.rand(n)\n",
        "b = np.random.rand(n)\n",
        "\n",
        "# Usar un bucle for para calcular la suma de los cuadrados\n",
        "start_time = time.time()\n",
        "result = 0\n",
        "for i in range(n):\n",
        "    result += a[i]**2 + b[i]**2\n",
        "end_time = time.time()\n",
        "\n",
        "print(\"Resultado:\", result)\n",
        "print(\"Tiempo for:\", end_time - start_time, \"segundos\")\n"
      ]
    },
    {
      "cell_type": "markdown",
      "metadata": {
        "id": "SUjkBe2Egmde"
      },
      "source": [
        "**Vectorización usando NumPy**"
      ]
    },
    {
      "cell_type": "code",
      "execution_count": 13,
      "metadata": {
        "colab": {
          "base_uri": "https://localhost:8080/"
        },
        "id": "T3Y0nuuFfkAP",
        "outputId": "d2aade71-a5d2-4c86-f848-09dc6d55d283"
      },
      "outputs": [
        {
          "name": "stdout",
          "output_type": "stream",
          "text": [
            "Resultado: 667006.9062176275\n",
            "Tiempo con vectorización: 0.00972604751586914 segundos\n"
          ]
        }
      ],
      "source": [
        "import numpy as np\n",
        "import time\n",
        "\n",
        "# Crear arreglos grandes\n",
        "n = 1000000\n",
        "a = np.random.rand(n)\n",
        "b = np.random.rand(n)\n",
        "\n",
        "# Usar NumPy para calcular la suma de los cuadrados\n",
        "start_time = time.time()\n",
        "result = np.sum(a**2 + b**2)\n",
        "end_time = time.time()\n",
        "\n",
        "print(\"Resultado:\", result)\n",
        "print(\"Tiempo con vectorización:\", end_time - start_time, \"segundos\")"
      ]
    },
    {
      "cell_type": "markdown",
      "metadata": {
        "id": "j4tOlfEGgp02"
      },
      "source": [
        "**Paralelización usando joblib**"
      ]
    },
    {
      "cell_type": "code",
      "execution_count": 14,
      "metadata": {
        "colab": {
          "base_uri": "https://localhost:8080/"
        },
        "id": "3nF2RcBVfo_w",
        "outputId": "81123fe5-be69-4867-81d4-a639936fce36"
      },
      "outputs": [
        {
          "name": "stdout",
          "output_type": "stream",
          "text": [
            "Resultado: 666448.0369473177\n",
            "Tiempo con paralelización: 1.4657249450683594 segundos\n"
          ]
        }
      ],
      "source": [
        "import numpy as np\n",
        "import time\n",
        "from joblib import Parallel, delayed\n",
        "\n",
        "# Crear arreglos grandes\n",
        "n = 1000000\n",
        "a = np.random.rand(n)\n",
        "b = np.random.rand(n)\n",
        "\n",
        "# Definir una función para calcular la suma de los cuadrados de una porción del arreglo\n",
        "def suma_cuadrados(start, end):\n",
        "    result = 0\n",
        "    for i in range(start, end):\n",
        "        result += a[i]**2 + b[i]**2\n",
        "    return result\n",
        "\n",
        "# Dividir el trabajo en partes y usar joblib para paralelizarlo\n",
        "num_jobs = 4  # Número de trabajos paralelos (cambiar según el número de núcleos de tu CPU)\n",
        "chunk_size = n // num_jobs\n",
        "\n",
        "start_time = time.time()\n",
        "results = Parallel(n_jobs=num_jobs)(delayed(suma_cuadrados)(i*chunk_size, (i+1)*chunk_size) for i in range(num_jobs))\n",
        "result = sum(results)\n",
        "end_time = time.time()\n",
        "\n",
        "print(\"Resultado:\", result)\n",
        "print(\"Tiempo con paralelización:\", end_time - start_time, \"segundos\")\n"
      ]
    },
    {
      "cell_type": "markdown",
      "metadata": {
        "id": "gbNraFyIgy4W"
      },
      "source": [
        "**Multiprocessing**"
      ]
    },
    {
      "cell_type": "code",
      "execution_count": 15,
      "metadata": {
        "colab": {
          "base_uri": "https://localhost:8080/"
        },
        "id": "cTZNy1zTfscD",
        "outputId": "50ac7efb-0346-4da2-dc84-6d04efb1f4db"
      },
      "outputs": [
        {
          "name": "stdout",
          "output_type": "stream",
          "text": [
            "Resultado: 666385.9987621247\n",
            "Tiempo con multiprocessing: 1.0203678607940674 segundos\n"
          ]
        }
      ],
      "source": [
        "import numpy as np\n",
        "import time\n",
        "import multiprocessing as mp\n",
        "\n",
        "# Crear arreglos grandes\n",
        "n = 1000000\n",
        "a = np.random.rand(n)\n",
        "b = np.random.rand(n)\n",
        "\n",
        "# Definir una función para calcular la suma de los cuadrados de una porción del arreglo\n",
        "def suma_cuadrados(start, end, a, b):\n",
        "    result = 0\n",
        "    for i in range(start, end):\n",
        "        result += a[i]**2 + b[i]**2\n",
        "    return result\n",
        "\n",
        "# Dividir el trabajo en partes y usar multiprocessing para paralelizarlo\n",
        "num_processes = 4  # Número de procesos paralelos (cambiar según el número de núcleos de tu CPU)\n",
        "chunk_size = n // num_processes\n",
        "\n",
        "start_time = time.time()\n",
        "\n",
        "# Crear un pool de procesos\n",
        "pool = mp.Pool(processes=num_processes)\n",
        "\n",
        "# Dividir el trabajo y asignarlo a los procesos\n",
        "results = [pool.apply_async(suma_cuadrados, args=(i*chunk_size, (i+1)*chunk_size, a, b)) for i in range(num_processes)]\n",
        "\n",
        "# Recoger los resultados\n",
        "results = [r.get() for r in results]\n",
        "\n",
        "# Sumar los resultados parciales\n",
        "result = sum(results)\n",
        "end_time = time.time()\n",
        "\n",
        "print(\"Resultado:\", result)\n",
        "print(\"Tiempo con multiprocessing:\", end_time - start_time, \"segundos\")\n",
        "\n",
        "# Cerrar el pool\n",
        "pool.close()\n",
        "pool.join()"
      ]
    },
    {
      "cell_type": "markdown",
      "metadata": {
        "id": "z7090rKog01r"
      },
      "source": [
        "**Comparación de tiempos**"
      ]
    },
    {
      "cell_type": "code",
      "execution_count": 16,
      "metadata": {
        "colab": {
          "base_uri": "https://localhost:8080/"
        },
        "id": "WoZYrDxMgS-l",
        "outputId": "156a8ddb-04a7-4391-b650-98e46087f11d"
      },
      "outputs": [
        {
          "name": "stdout",
          "output_type": "stream",
          "text": [
            "Resultado de for_loop: 666454.3555772392\n",
            "Tiempo con bucle for: 0.6184866428375244 segundos\n",
            "Resultado de vectorization: 666454.3555772238\n",
            "Tiempo con vectorización: 0.011045694351196289 segundos\n",
            "Resultado de joblib_parallel: 666454.3555772294\n",
            "Tiempo con joblib: 1.4504971504211426 segundos\n",
            "Resultado de multiprocessing_parallel: 666454.3555772294\n",
            "Tiempo con multiprocessing: 1.056535005569458 segundos\n"
          ]
        }
      ],
      "source": [
        "import numpy as np\n",
        "import time\n",
        "from joblib import Parallel, delayed\n",
        "import multiprocessing as mp\n",
        "\n",
        "# Crear arreglos grandes\n",
        "n = 1000000\n",
        "a = np.random.rand(n)\n",
        "b = np.random.rand(n)\n",
        "\n",
        "# Función para el bucle for\n",
        "def for_loop(a, b):\n",
        "    result = 0\n",
        "    for i in range(n):\n",
        "        result += a[i]**2 + b[i]**2\n",
        "    return result\n",
        "\n",
        "# Función para la vectorización\n",
        "def vectorization(a, b):\n",
        "    return np.sum(a**2 + b**2)\n",
        "\n",
        "# Función auxiliar para joblib y multiprocessing\n",
        "def suma_cuadrados(start, end, a, b):\n",
        "    result = 0\n",
        "    for i in range(start, end):\n",
        "        result += a[i]**2 + b[i]**2\n",
        "    return result\n",
        "\n",
        "# Función para joblib\n",
        "def joblib_parallel(a, b):\n",
        "    num_jobs = 4\n",
        "    chunk_size = n // num_jobs\n",
        "    results = Parallel(n_jobs=num_jobs)(delayed(suma_cuadrados)(i*chunk_size, (i+1)*chunk_size, a, b) for i in range(num_jobs))\n",
        "    return sum(results)\n",
        "\n",
        "# Función para multiprocessing\n",
        "def multiprocessing_parallel(a, b):\n",
        "    num_processes = 4\n",
        "    chunk_size = n // num_processes\n",
        "\n",
        "    pool = mp.Pool(processes=num_processes)\n",
        "    results = [pool.apply_async(suma_cuadrados, args=(i*chunk_size, (i+1)*chunk_size, a, b)) for i in range(num_processes)]\n",
        "    results = [r.get() for r in results]\n",
        "    pool.close()\n",
        "    pool.join()\n",
        "    return sum(results)\n",
        "\n",
        "def time_function(func, *args):\n",
        "    start_time = time.time()\n",
        "    result = func(*args)\n",
        "    end_time = time.time()\n",
        "    print(f\"Resultado de {func.__name__}: {result}\")\n",
        "    return end_time - start_time\n",
        "\n",
        "if __name__ == '__main__':\n",
        "    for_time = time_function(for_loop, a, b)\n",
        "    print(f\"Tiempo con bucle for: {for_time} segundos\")\n",
        "\n",
        "    vec_time = time_function(vectorization, a, b)\n",
        "    print(f\"Tiempo con vectorización: {vec_time} segundos\")\n",
        "\n",
        "    joblib_time = time_function(joblib_parallel, a, b)\n",
        "    print(f\"Tiempo con joblib: {joblib_time} segundos\")\n",
        "\n",
        "    mp_time = time_function(multiprocessing_parallel, a, b)\n",
        "    print(f\"Tiempo con multiprocessing: {mp_time} segundos\")\n"
      ]
    }
  ],
  "metadata": {
    "colab": {
      "provenance": []
    },
    "kernelspec": {
      "display_name": "Python 3",
      "name": "python3"
    },
    "language_info": {
      "name": "python"
    }
  },
  "nbformat": 4,
  "nbformat_minor": 0
}
