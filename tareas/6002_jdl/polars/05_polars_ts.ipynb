{
 "cells": [
  {
   "cell_type": "code",
   "execution_count": 16,
   "metadata": {},
   "outputs": [],
   "source": [
    "import polars as pl\n",
    "import numpy as np\n",
    "import random\n",
    "from math import sin, cos, asin, sqrt, pi\n",
    "from datetime import datetime, timedelta"
   ]
  },
  {
   "cell_type": "markdown",
   "metadata": {},
   "source": [
    "# Descripcion"
   ]
  },
  {
   "cell_type": "markdown",
   "metadata": {},
   "source": [
    "Los datos son notificaciones de dispositivos GPS en Mexico. En promedio generan notificaciones automatizadas cada 5 minutos si el carro esta encendido, y 30 si esta apagado.  \n",
    "\n",
    "Cada notificacion esta acompannada de un evento de lo que esta ocurriendo, y trae la latitud y longitud.  \n",
    "\n",
    "El objetico es predecir si un vehiculo esta siendo robado de acuerdo a sus notificaciones, por lo que el primer paso seria limpiar datos y hacer ingenieria de variables.\n",
    "\n",
    "Trata de hacerlo **lazy** si puedes."
   ]
  },
  {
   "cell_type": "code",
   "execution_count": 17,
   "metadata": {},
   "outputs": [],
   "source": [
    "def generate_dummy_data(num_cars, start_time, end_time, working_hours_interval, non_working_hours_interval):\n",
    "    data = []\n",
    "\n",
    "    # Define the latitude and longitude ranges for Mexico\n",
    "    min_latitude, max_latitude = 14.5388, 32.7186\n",
    "    min_longitude, max_longitude = -118.4662, -86.7104\n",
    "\n",
    "    for car_id in range(num_cars):\n",
    "        current_time = start_time\n",
    "\n",
    "        # Generate random initial latitude and longitude for each car\n",
    "        latitude = random.uniform(min_latitude, max_latitude)\n",
    "        longitude = random.uniform(min_longitude, max_longitude)\n",
    "\n",
    "        while current_time < end_time:\n",
    "            if current_time.weekday() < 5 and 9 <= current_time.hour < 17:\n",
    "                # Working hours (Monday to Friday, 9 AM to 5 PM)\n",
    "                interval = working_hours_interval\n",
    "            else:\n",
    "                # Non-working hours\n",
    "                interval = non_working_hours_interval\n",
    "\n",
    "            # Generate notification with 99% probability\n",
    "            if random.random() < 0.99:\n",
    "                notification = random.choice([\"low_fuel\", \"tire_pressure\", \"engine_check\", None])\n",
    "                data.append((f\"car_{car_id}\", current_time.isoformat(), latitude, longitude, notification))\n",
    "\n",
    "            # Generate additional notifications between intervals\n",
    "            while True:\n",
    "                additional_interval = random.expovariate(1 / (interval / 2))\n",
    "                additional_time = current_time + timedelta(minutes=additional_interval)\n",
    "                if additional_time >= current_time + timedelta(minutes=interval):\n",
    "                    break\n",
    "                notification = random.choice([\"low_fuel\", \"tire_pressure\", \"engine_check\", None])\n",
    "                data.append((f\"car_{car_id}\", additional_time.isoformat(), latitude, longitude, notification))\n",
    "\n",
    "            # Update latitude and longitude for car movement\n",
    "            latitude += random.uniform(-0.01, 0.01)\n",
    "            longitude += random.uniform(-0.01, 0.01)\n",
    "\n",
    "            # Check if the car is among the 1% that can have 100 notifications within 5 minutes\n",
    "            if random.random() < 0.01:\n",
    "                burst_start_time = current_time + timedelta(minutes=random.uniform(0, interval))\n",
    "                burst_end_time = burst_start_time + timedelta(minutes=5)\n",
    "                while current_time < burst_end_time:\n",
    "                    notification = random.choice([\"low_fuel\", \"tire_pressure\", \"engine_check\", None])\n",
    "                    data.append((f\"car_{car_id}\", current_time.isoformat(), latitude, longitude, notification))\n",
    "                    current_time += timedelta(seconds=random.uniform(1, 10))\n",
    "\n",
    "            current_time += timedelta(minutes=interval)\n",
    "\n",
    "    # Create a Polars DataFrame from the generated data\n",
    "    df = pl.DataFrame(\n",
    "        {\n",
    "            \"car_id\": [record[0] for record in data],\n",
    "            \"timestamp\": [record[1] for record in data],\n",
    "            \"latitude\": [record[2] for record in data],\n",
    "            \"longitude\": [record[3] for record in data],\n",
    "            \"notification\": [record[4] for record in data],\n",
    "        }\n",
    "    )\n",
    "\n",
    "    return df.lazy()"
   ]
  },
  {
   "cell_type": "code",
   "execution_count": 18,
   "metadata": {},
   "outputs": [
    {
     "name": "stdout",
     "output_type": "stream",
     "text": [
      "shape: (632_325, 5)\n",
      "┌────────┬────────────────────────────┬───────────┬────────────┬───────────────┐\n",
      "│ car_id ┆ timestamp                  ┆ latitude  ┆ longitude  ┆ notification  │\n",
      "│ ---    ┆ ---                        ┆ ---       ┆ ---        ┆ ---           │\n",
      "│ str    ┆ str                        ┆ f64       ┆ f64        ┆ str           │\n",
      "╞════════╪════════════════════════════╪═══════════╪════════════╪═══════════════╡\n",
      "│ car_0  ┆ 2023-01-01T00:00:00        ┆ 22.260871 ┆ -97.047137 ┆ low_fuel      │\n",
      "│ car_0  ┆ 2023-01-01T00:03:02.026513 ┆ 22.260871 ┆ -97.047137 ┆ low_fuel      │\n",
      "│ car_0  ┆ 2023-01-01T00:30:00        ┆ 22.260341 ┆ -97.037515 ┆ engine_check  │\n",
      "│ car_0  ┆ 2023-01-01T00:35:55.764636 ┆ 22.260341 ┆ -97.037515 ┆ null          │\n",
      "│ car_0  ┆ 2023-01-01T01:00:00        ┆ 22.254072 ┆ -97.029059 ┆ low_fuel      │\n",
      "│ …      ┆ …                          ┆ …         ┆ …          ┆ …             │\n",
      "│ car_99 ┆ 2023-01-07T23:35:31.648220 ┆ 22.540984 ┆ -91.205333 ┆ null          │\n",
      "│ car_99 ┆ 2023-01-07T23:34:42.008231 ┆ 22.540984 ┆ -91.205333 ┆ engine_check  │\n",
      "│ car_99 ┆ 2023-01-07T23:37:11.132376 ┆ 22.540984 ┆ -91.205333 ┆ low_fuel      │\n",
      "│ car_99 ┆ 2023-01-07T23:32:32.682437 ┆ 22.540984 ┆ -91.205333 ┆ engine_check  │\n",
      "│ car_99 ┆ 2023-01-07T23:32:37.735734 ┆ 22.540984 ┆ -91.205333 ┆ tire_pressure │\n",
      "└────────┴────────────────────────────┴───────────┴────────────┴───────────────┘\n"
     ]
    }
   ],
   "source": [
    "num_cars = 100\n",
    "start_time = datetime(2023, 1, 1, 0, 0, 0)  # Start of the week\n",
    "end_time = start_time + timedelta(weeks=1)  # End of the week\n",
    "working_hours_interval = 5  # Interval of 5 minutes during working hours\n",
    "non_working_hours_interval = 30  # Interval of 30 minutes during non-working hours\n",
    "\n",
    "# Generate the dummy data\n",
    "data = generate_dummy_data(num_cars, start_time, end_time, working_hours_interval, non_working_hours_interval)\n",
    "\n",
    "# Print the first few rows of the generated data\n",
    "#print(data.head())\n",
    "print(data.collect())"
   ]
  },
  {
   "cell_type": "markdown",
   "metadata": {},
   "source": [
    "## Limpieza de datos"
   ]
  },
  {
   "cell_type": "markdown",
   "metadata": {},
   "source": [
    "### Timestamp"
   ]
  },
  {
   "cell_type": "markdown",
   "metadata": {},
   "source": [
    "Convierte el `timestamp` que actualmente es string a formato de tiempo en polars"
   ]
  },
  {
   "cell_type": "code",
   "execution_count": 19,
   "metadata": {},
   "outputs": [
    {
     "name": "stdout",
     "output_type": "stream",
     "text": [
      "shape: (632_325, 5)\n",
      "┌────────┬────────────────────────────┬───────────┬────────────┬───────────────┐\n",
      "│ car_id ┆ timestamp                  ┆ latitude  ┆ longitude  ┆ notification  │\n",
      "│ ---    ┆ ---                        ┆ ---       ┆ ---        ┆ ---           │\n",
      "│ str    ┆ datetime[ns]               ┆ f64       ┆ f64        ┆ str           │\n",
      "╞════════╪════════════════════════════╪═══════════╪════════════╪═══════════════╡\n",
      "│ car_0  ┆ 2023-01-01 00:00:00        ┆ 22.260871 ┆ -97.047137 ┆ low_fuel      │\n",
      "│ car_0  ┆ 2023-01-01 00:03:02.026513 ┆ 22.260871 ┆ -97.047137 ┆ low_fuel      │\n",
      "│ car_0  ┆ 2023-01-01 00:30:00        ┆ 22.260341 ┆ -97.037515 ┆ engine_check  │\n",
      "│ car_0  ┆ 2023-01-01 00:35:55.764636 ┆ 22.260341 ┆ -97.037515 ┆ null          │\n",
      "│ car_0  ┆ 2023-01-01 01:00:00        ┆ 22.254072 ┆ -97.029059 ┆ low_fuel      │\n",
      "│ …      ┆ …                          ┆ …         ┆ …          ┆ …             │\n",
      "│ car_99 ┆ 2023-01-07 23:39:41.457879 ┆ 22.540984 ┆ -91.205333 ┆ engine_check  │\n",
      "│ car_99 ┆ 2023-01-07 23:41:47.450933 ┆ 22.540984 ┆ -91.205333 ┆ tire_pressure │\n",
      "│ car_99 ┆ 2023-01-07 23:44:01.379213 ┆ 22.540984 ┆ -91.205333 ┆ engine_check  │\n",
      "│ car_99 ┆ 2023-01-07 23:54:01.031867 ┆ 22.540984 ┆ -91.205333 ┆ low_fuel      │\n",
      "│ car_99 ┆ 2023-01-07 23:55:53.097701 ┆ 22.540984 ┆ -91.205333 ┆ low_fuel      │\n",
      "└────────┴────────────────────────────┴───────────┴────────────┴───────────────┘\n"
     ]
    }
   ],
   "source": [
    "def order_data(data):\n",
    "    data = data.sort(\"car_id\", \"timestamp\")\n",
    "    return data\n",
    "#es importate añadir ns para que todo quede en ell mismo timepo\n",
    "data = data.with_columns(pl.col(\"timestamp\").str.strptime(pl.Datetime(\"ns\")))\n",
    "\n",
    "data = order_data(data)\n",
    "\n",
    "print(data.collect())"
   ]
  },
  {
   "cell_type": "markdown",
   "metadata": {},
   "source": [
    "### Ingenieria de variables"
   ]
  },
  {
   "cell_type": "markdown",
   "metadata": {},
   "source": [
    "Dado que va a entrar a un modelo de machine learning es encesario que todas las variables sean numericas, y esten en formnato tidy. Cada observacion en una fila, y cada variable en una columna. Por lo tanto se decidio crear estadisticos y agregar los datos a intervalos uniformes de `x` minutos.  \n",
    "\n",
    "Por ejemplo, colapsar toda la informacion que ocurrion en el intervalo, como el numero de notificaciones en esos 5 minutos, el promedio entre notificaciones, y el tipo de notificaciones."
   ]
  },
  {
   "cell_type": "markdown",
   "metadata": {},
   "source": [
    "Existen varias formas de hacer esto, puedes hacerlo con `group_by` primero para crear las nuevas variables, o `group_by` (`rolling`, `dynamic`) usando operaciones sobre listas. Utiliza claude o chat_gpt\n"
   ]
  },
  {
   "cell_type": "code",
   "execution_count": null,
   "metadata": {},
   "outputs": [],
   "source": []
  },
  {
   "cell_type": "markdown",
   "metadata": {},
   "source": [
    "1. Crea una nueva variable que compute la diferencia de tiempo entre notificaciones del mismo vehiculo. Piensa como lo vas a hacer. Llama a esta variable `notification_time`\n",
    "   \n"
   ]
  },
  {
   "cell_type": "code",
   "execution_count": 20,
   "metadata": {},
   "outputs": [
    {
     "name": "stdout",
     "output_type": "stream",
     "text": [
      "shape: (632_325, 6)\n",
      "┌────────┬────────────────────────────┬───────────┬────────────┬───────────────┬───────────────────┐\n",
      "│ car_id ┆ timestamp                  ┆ latitude  ┆ longitude  ┆ notification  ┆ notification_time │\n",
      "│ ---    ┆ ---                        ┆ ---       ┆ ---        ┆ ---           ┆ ---               │\n",
      "│ str    ┆ datetime[ns]               ┆ f64       ┆ f64        ┆ str           ┆ duration[ns]      │\n",
      "╞════════╪════════════════════════════╪═══════════╪════════════╪═══════════════╪═══════════════════╡\n",
      "│ car_0  ┆ 2023-01-01 00:00:00        ┆ 22.260871 ┆ -97.047137 ┆ low_fuel      ┆ null              │\n",
      "│ car_0  ┆ 2023-01-01 00:03:02.026513 ┆ 22.260871 ┆ -97.047137 ┆ low_fuel      ┆ 3m 2s 26513µs     │\n",
      "│ car_0  ┆ 2023-01-01 00:30:00        ┆ 22.260341 ┆ -97.037515 ┆ engine_check  ┆ 26m 57s 973487µs  │\n",
      "│ car_0  ┆ 2023-01-01 00:35:55.764636 ┆ 22.260341 ┆ -97.037515 ┆ null          ┆ 5m 55s 764636µs   │\n",
      "│ car_0  ┆ 2023-01-01 01:00:00        ┆ 22.254072 ┆ -97.029059 ┆ low_fuel      ┆ 24m 4s 235364µs   │\n",
      "│ …      ┆ …                          ┆ …         ┆ …          ┆ …             ┆ …                 │\n",
      "│ car_99 ┆ 2023-01-07 23:39:41.457879 ┆ 22.540984 ┆ -91.205333 ┆ engine_check  ┆ 2m 30s 325503µs   │\n",
      "│ car_99 ┆ 2023-01-07 23:41:47.450933 ┆ 22.540984 ┆ -91.205333 ┆ tire_pressure ┆ 2m 5s 993054µs    │\n",
      "│ car_99 ┆ 2023-01-07 23:44:01.379213 ┆ 22.540984 ┆ -91.205333 ┆ engine_check  ┆ 2m 13s 928280µs   │\n",
      "│ car_99 ┆ 2023-01-07 23:54:01.031867 ┆ 22.540984 ┆ -91.205333 ┆ low_fuel      ┆ 9m 59s 652654µs   │\n",
      "│ car_99 ┆ 2023-01-07 23:55:53.097701 ┆ 22.540984 ┆ -91.205333 ┆ low_fuel      ┆ 1m 52s 65834µs    │\n",
      "└────────┴────────────────────────────┴───────────┴────────────┴───────────────┴───────────────────┘\n"
     ]
    }
   ],
   "source": [
    "data = (\n",
    "    data.lazy()\n",
    "    .sort([\"car_id\", \"timestamp\"])\n",
    "    .with_columns(\n",
    "        #en polars existe la funcion diff() que calcula la diferencia entre dos columnas\n",
    "        #por default usa la row pasada y por ejmeplo diff(2) usa dos row atras\n",
    "        pl.col(\"timestamp\").diff().over(\"car_id\").alias(\"notification_time\")\n",
    "    )\n",
    ")\n",
    "\n",
    "data = data.with_columns(\n",
    "    pl.when(pl.col(\"notification_time\").is_null())\n",
    "    .then(pl.lit(None))\n",
    "    .otherwise(pl.col(\"notification_time\"))\n",
    "    .alias(\"notification_time\")\n",
    ")\n",
    "data = data.collect()\n",
    "\n",
    "print(data)\n"
   ]
  },
  {
   "cell_type": "markdown",
   "metadata": {},
   "source": []
  },
  {
   "cell_type": "markdown",
   "metadata": {},
   "source": [
    "2. Crea una nueva variable que compute la distancia que viajo el vehiculo desde la ultima notificacion. Llamala `distance`"
   ]
  },
  {
   "cell_type": "code",
   "execution_count": 21,
   "metadata": {},
   "outputs": [
    {
     "name": "stderr",
     "output_type": "stream",
     "text": [
      "/var/folders/rw/9dc4ss41167dpttmz9h6f1xr0000gn/T/ipykernel_18287/2158031673.py:37: DeprecationWarning: `apply` is deprecated. It has been renamed to `map_elements`.\n",
      "  pl.struct([\"latitude\", \"longitude\", \"latitude_shifted\", \"longitude_shifted\"]).apply(\n",
      "sys:1: MapWithoutReturnDtypeWarning: Calling `map_elements` without specifying `return_dtype` can lead to unpredictable results. Specify `return_dtype` to silence this warning.\n"
     ]
    },
    {
     "name": "stdout",
     "output_type": "stream",
     "text": [
      "shape: (632_325, 7)\n",
      "┌────────┬──────────────────┬───────────┬────────────┬───────────────┬──────────────────┬──────────┐\n",
      "│ car_id ┆ timestamp        ┆ latitude  ┆ longitude  ┆ notification  ┆ notification_tim ┆ distance │\n",
      "│ ---    ┆ ---              ┆ ---       ┆ ---        ┆ ---           ┆ e                ┆ ---      │\n",
      "│ str    ┆ datetime[ns]     ┆ f64       ┆ f64        ┆ str           ┆ ---              ┆ f64      │\n",
      "│        ┆                  ┆           ┆            ┆               ┆ duration[ns]     ┆          │\n",
      "╞════════╪══════════════════╪═══════════╪════════════╪═══════════════╪══════════════════╪══════════╡\n",
      "│ car_0  ┆ 2023-01-01       ┆ 22.260871 ┆ -97.047137 ┆ low_fuel      ┆ null             ┆ null     │\n",
      "│        ┆ 00:00:00         ┆           ┆            ┆               ┆                  ┆          │\n",
      "│ car_0  ┆ 2023-01-01       ┆ 22.260871 ┆ -97.047137 ┆ low_fuel      ┆ 3m 2s 26513µs    ┆ 0.0      │\n",
      "│        ┆ 00:03:02.026513  ┆           ┆            ┆               ┆                  ┆          │\n",
      "│ car_0  ┆ 2023-01-01       ┆ 22.260341 ┆ -97.037515 ┆ engine_check  ┆ 26m 57s 973487µs ┆ 0.991953 │\n",
      "│        ┆ 00:30:00         ┆           ┆            ┆               ┆                  ┆          │\n",
      "│ car_0  ┆ 2023-01-01       ┆ 22.260341 ┆ -97.037515 ┆ null          ┆ 5m 55s 764636µs  ┆ 0.0      │\n",
      "│        ┆ 00:35:55.764636  ┆           ┆            ┆               ┆                  ┆          │\n",
      "│ car_0  ┆ 2023-01-01       ┆ 22.254072 ┆ -97.029059 ┆ low_fuel      ┆ 24m 4s 235364µs  ┆ 1.114988 │\n",
      "│        ┆ 01:00:00         ┆           ┆            ┆               ┆                  ┆          │\n",
      "│ …      ┆ …                ┆ …         ┆ …          ┆ …             ┆ …                ┆ …        │\n",
      "│ car_99 ┆ 2023-01-07       ┆ 22.540984 ┆ -91.205333 ┆ engine_check  ┆ 2m 30s 325503µs  ┆ 0.0      │\n",
      "│        ┆ 23:39:41.457879  ┆           ┆            ┆               ┆                  ┆          │\n",
      "│ car_99 ┆ 2023-01-07       ┆ 22.540984 ┆ -91.205333 ┆ tire_pressure ┆ 2m 5s 993054µs   ┆ 0.0      │\n",
      "│        ┆ 23:41:47.450933  ┆           ┆            ┆               ┆                  ┆          │\n",
      "│ car_99 ┆ 2023-01-07       ┆ 22.540984 ┆ -91.205333 ┆ engine_check  ┆ 2m 13s 928280µs  ┆ 0.0      │\n",
      "│        ┆ 23:44:01.379213  ┆           ┆            ┆               ┆                  ┆          │\n",
      "│ car_99 ┆ 2023-01-07       ┆ 22.540984 ┆ -91.205333 ┆ low_fuel      ┆ 9m 59s 652654µs  ┆ 0.0      │\n",
      "│        ┆ 23:54:01.031867  ┆           ┆            ┆               ┆                  ┆          │\n",
      "│ car_99 ┆ 2023-01-07       ┆ 22.540984 ┆ -91.205333 ┆ low_fuel      ┆ 1m 52s 65834µs   ┆ 0.0      │\n",
      "│        ┆ 23:55:53.097701  ┆           ┆            ┆               ┆                  ┆          │\n",
      "└────────┴──────────────────┴───────────┴────────────┴───────────────┴──────────────────┴──────────┘\n"
     ]
    }
   ],
   "source": [
    "from math import radians, sin, cos, sqrt, atan2\n",
    "\n",
    "# Formula de haversine que calcula la distancia entre dos puntos en la tierra\n",
    "def haversine(lat1, lon1, lat2, lon2):\n",
    "    if None in (lat1, lon1, lat2, lon2):\n",
    "        return None\n",
    "\n",
    "    lat1 = radians(lat1)\n",
    "    lon1 = radians(lon1)\n",
    "    lat2 = radians(lat2)\n",
    "    lon2 = radians(lon2)\n",
    "\n",
    "    dlat = lat2 - lat1\n",
    "    dlon = lon2 - lon1\n",
    "    a = sin(dlat / 2) ** 2 + cos(lat1) * cos(lat2) * sin(dlon / 2) ** 2\n",
    "    c = 2 * atan2(sqrt(a), sqrt(1 - a))\n",
    "    radius_of_earth = 6371  # Radio de la tierra\n",
    "    distance = radius_of_earth * c\n",
    "\n",
    "    return distance\n",
    "\n",
    "# Columnas intermedias para calcular distancia\n",
    "#intente hacerlo sin estas columnas auxiliares como en el inciso anterior\n",
    "#pero como no es una funcion integra de polars pude\n",
    "data = data.with_columns(pl.col(\"latitude\").shift().alias(\"latitude_shifted\"))\n",
    "data = data.with_columns(pl.col(\"longitude\").shift().alias(\"longitude_shifted\"))\n",
    "\n",
    "data = data.with_columns(\n",
    "    pl.when(\n",
    "        #es importante que ninguna sea nula sino solo le ponemos el valor de nulo \n",
    "        pl.col(\"latitude\").is_not_null() &\n",
    "        pl.col(\"longitude\").is_not_null() &\n",
    "        pl.col(\"latitude_shifted\").is_not_null() &\n",
    "        pl.col(\"longitude_shifted\").is_not_null()\n",
    "    ).then(\n",
    "        #usamos una funcion lambda para apllicar funciones no predeterminadas por polalrs\n",
    "        pl.struct([\"latitude\", \"longitude\", \"latitude_shifted\", \"longitude_shifted\"]).apply(\n",
    "            lambda row: haversine(row[\"latitude\"], row[\"longitude\"], row[\"latitude_shifted\"], row[\"longitude_shifted\"])\n",
    "        )\n",
    "    ).otherwise(pl.lit(None)).alias(\"distance\")\n",
    ")\n",
    "#los usuarios facilemtne pueden leer la latitud/longitud anterior, no tiene sentido mantener estas columnas\n",
    "data=data.drop(\"latitude_shifted\", \"longitude_shifted\")\n",
    "print(data)\n",
    "\n"
   ]
  },
  {
   "cell_type": "markdown",
   "metadata": {},
   "source": [
    "3. Crea intervalos de `x` minutos por carro. Como el numero de notificaciones en esos intervalos no es uniforme tienes que buscar funciones de polars distanceespecificas, pero ademas tienen que ser por vehiculo, pues tienen que ser del mismo. Revisa las funciones de `group_by` `dynamic` y `rolling`.\n",
    "   1. Computa la media, mediana, varianza, max y min de `notification_time` los intervalos de `x` minutos\n",
    "   2. Computa la media, mediana, varianza, max y min de ``\n"
   ]
  },
  {
   "cell_type": "code",
   "execution_count": 22,
   "metadata": {},
   "outputs": [
    {
     "name": "stderr",
     "output_type": "stream",
     "text": [
      "/var/folders/rw/9dc4ss41167dpttmz9h6f1xr0000gn/T/ipykernel_18287/1011679719.py:4: DeprecationWarning: `groupby_dynamic` is deprecated. It has been renamed to `group_by_dynamic`.\n",
      "  result_notification = data.groupby_dynamic(\n",
      "/var/folders/rw/9dc4ss41167dpttmz9h6f1xr0000gn/T/ipykernel_18287/1011679719.py:11: DeprecationWarning: `truncate` is deprecated and will be removed in a future version. Please replace `truncate=True` with `label='left'` to silence this warning.\n",
      "  ).agg([\n"
     ]
    },
    {
     "name": "stdout",
     "output_type": "stream",
     "text": [
      "shape: (137_895, 9)\n",
      "┌────────┬────────────┬────────────┬───────────┬───┬───────────┬───────────┬───────────┬───────────┐\n",
      "│ car_id ┆ _lower_bou ┆ _upper_bou ┆ timestamp ┆ … ┆ median_ti ┆ variance_ ┆ max_time_ ┆ min_time_ │\n",
      "│ ---    ┆ ndary      ┆ ndary      ┆ ---       ┆   ┆ me_ns     ┆ time_ns   ┆ ns        ┆ ns        │\n",
      "│ str    ┆ ---        ┆ ---        ┆ datetime[ ┆   ┆ ---       ┆ ---       ┆ ---       ┆ ---       │\n",
      "│        ┆ datetime[n ┆ datetime[n ┆ ns]       ┆   ┆ duration[ ┆ duration[ ┆ duration[ ┆ duration[ │\n",
      "│        ┆ s]         ┆ s]         ┆           ┆   ┆ ns]       ┆ ns]       ┆ ns]       ┆ ns]       │\n",
      "╞════════╪════════════╪════════════╪═══════════╪═══╪═══════════╪═══════════╪═══════════╪═══════════╡\n",
      "│ car_0  ┆ 2022-12-31 ┆ 2023-01-01 ┆ 2022-12-3 ┆ … ┆ null      ┆ null      ┆ null      ┆ null      │\n",
      "│        ┆ 23:55:00   ┆ 00:00:00   ┆ 1         ┆   ┆           ┆           ┆           ┆           │\n",
      "│        ┆            ┆            ┆ 23:55:00  ┆   ┆           ┆           ┆           ┆           │\n",
      "│ car_0  ┆ 2023-01-01 ┆ 2023-01-01 ┆ 2023-01-0 ┆ … ┆ 3m 2s     ┆ null      ┆ 3m 2s     ┆ 3m 2s     │\n",
      "│        ┆ 00:00:00   ┆ 00:05:00   ┆ 1         ┆   ┆ 26513µs   ┆           ┆ 26513µs   ┆ 26513µs   │\n",
      "│        ┆            ┆            ┆ 00:00:00  ┆   ┆           ┆           ┆           ┆           │\n",
      "│ car_0  ┆ 2023-01-01 ┆ 2023-01-01 ┆ 2023-01-0 ┆ … ┆ 26m 57s   ┆ null      ┆ 26m 57s   ┆ 26m 57s   │\n",
      "│        ┆ 00:25:00   ┆ 00:30:00   ┆ 1         ┆   ┆ 973487µs  ┆           ┆ 973487µs  ┆ 973487µs  │\n",
      "│        ┆            ┆            ┆ 00:25:00  ┆   ┆           ┆           ┆           ┆           │\n",
      "│ car_0  ┆ 2023-01-01 ┆ 2023-01-01 ┆ 2023-01-0 ┆ … ┆ 26m 57s   ┆ null      ┆ 26m 57s   ┆ 26m 57s   │\n",
      "│        ┆ 00:30:00   ┆ 00:35:00   ┆ 1         ┆   ┆ 973487µs  ┆           ┆ 973487µs  ┆ 973487µs  │\n",
      "│        ┆            ┆            ┆ 00:30:00  ┆   ┆           ┆           ┆           ┆           │\n",
      "│ car_0  ┆ 2023-01-01 ┆ 2023-01-01 ┆ 2023-01-0 ┆ … ┆ 5m 55s    ┆ null      ┆ 5m 55s    ┆ 5m 55s    │\n",
      "│        ┆ 00:35:00   ┆ 00:40:00   ┆ 1         ┆   ┆ 764636µs  ┆           ┆ 764636µs  ┆ 764636µs  │\n",
      "│        ┆            ┆            ┆ 00:35:00  ┆   ┆           ┆           ┆           ┆           │\n",
      "│ …      ┆ …          ┆ …          ┆ …         ┆ … ┆ …         ┆ …         ┆ …         ┆ …         │\n",
      "│ car_99 ┆ 2023-01-07 ┆ 2023-01-07 ┆ 2023-01-0 ┆ … ┆ 50s       ┆ null      ┆ 3m 6s     ┆ 5s        │\n",
      "│        ┆ 23:30:00   ┆ 23:35:00   ┆ 7         ┆   ┆ 923125µs  ┆           ┆ 398519µs  ┆ 53297µs   │\n",
      "│        ┆            ┆            ┆ 23:30:00  ┆   ┆           ┆           ┆           ┆           │\n",
      "│ car_99 ┆ 2023-01-07 ┆ 2023-01-07 ┆ 2023-01-0 ┆ … ┆ 1m 39s    ┆ null      ┆ 2m 30s    ┆ 49s       │\n",
      "│        ┆ 23:35:00   ┆ 23:40:00   ┆ 7         ┆   ┆ 484156µs  ┆           ┆ 325503µs  ┆ 639989µs  │\n",
      "│        ┆            ┆            ┆ 23:35:00  ┆   ┆           ┆           ┆           ┆           │\n",
      "│ car_99 ┆ 2023-01-07 ┆ 2023-01-07 ┆ 2023-01-0 ┆ … ┆ 2m 9s     ┆ null      ┆ 2m 13s    ┆ 2m 5s     │\n",
      "│        ┆ 23:40:00   ┆ 23:45:00   ┆ 7         ┆   ┆ 960667µs  ┆           ┆ 928280µs  ┆ 993054µs  │\n",
      "│        ┆            ┆            ┆ 23:40:00  ┆   ┆           ┆           ┆           ┆           │\n",
      "│ car_99 ┆ 2023-01-07 ┆ 2023-01-07 ┆ 2023-01-0 ┆ … ┆ 9m 59s    ┆ null      ┆ 9m 59s    ┆ 9m 59s    │\n",
      "│        ┆ 23:50:00   ┆ 23:55:00   ┆ 7         ┆   ┆ 652654µs  ┆           ┆ 652654µs  ┆ 652654µs  │\n",
      "│        ┆            ┆            ┆ 23:50:00  ┆   ┆           ┆           ┆           ┆           │\n",
      "│ car_99 ┆ 2023-01-07 ┆ 2023-01-08 ┆ 2023-01-0 ┆ … ┆ 1m 52s    ┆ null      ┆ 1m 52s    ┆ 1m 52s    │\n",
      "│        ┆ 23:55:00   ┆ 00:00:00   ┆ 7         ┆   ┆ 65834µs   ┆           ┆ 65834µs   ┆ 65834µs   │\n",
      "│        ┆            ┆            ┆ 23:55:00  ┆   ┆           ┆           ┆           ┆           │\n",
      "└────────┴────────────┴────────────┴───────────┴───┴───────────┴───────────┴───────────┴───────────┘\n",
      "shape: (137_895, 9)\n",
      "┌────────┬────────────┬────────────┬───────────┬───┬───────────┬───────────┬───────────┬───────────┐\n",
      "│ car_id ┆ _lower_bou ┆ _upper_bou ┆ timestamp ┆ … ┆ median_di ┆ variance_ ┆ max_dista ┆ min_dista │\n",
      "│ ---    ┆ ndary      ┆ ndary      ┆ ---       ┆   ┆ stance    ┆ distance  ┆ nce       ┆ nce       │\n",
      "│ str    ┆ ---        ┆ ---        ┆ datetime[ ┆   ┆ ---       ┆ ---       ┆ ---       ┆ ---       │\n",
      "│        ┆ datetime[n ┆ datetime[n ┆ ns]       ┆   ┆ f64       ┆ f64       ┆ f64       ┆ f64       │\n",
      "│        ┆ s]         ┆ s]         ┆           ┆   ┆           ┆           ┆           ┆           │\n",
      "╞════════╪════════════╪════════════╪═══════════╪═══╪═══════════╪═══════════╪═══════════╪═══════════╡\n",
      "│ car_0  ┆ 2022-12-31 ┆ 2023-01-01 ┆ 2022-12-3 ┆ … ┆ null      ┆ null      ┆ null      ┆ null      │\n",
      "│        ┆ 23:55:00   ┆ 00:00:00   ┆ 1         ┆   ┆           ┆           ┆           ┆           │\n",
      "│        ┆            ┆            ┆ 23:55:00  ┆   ┆           ┆           ┆           ┆           │\n",
      "│ car_0  ┆ 2023-01-01 ┆ 2023-01-01 ┆ 2023-01-0 ┆ … ┆ 0.0       ┆ null      ┆ 0.0       ┆ 0.0       │\n",
      "│        ┆ 00:00:00   ┆ 00:05:00   ┆ 1         ┆   ┆           ┆           ┆           ┆           │\n",
      "│        ┆            ┆            ┆ 00:00:00  ┆   ┆           ┆           ┆           ┆           │\n",
      "│ car_0  ┆ 2023-01-01 ┆ 2023-01-01 ┆ 2023-01-0 ┆ … ┆ 0.991953  ┆ null      ┆ 0.991953  ┆ 0.991953  │\n",
      "│        ┆ 00:25:00   ┆ 00:30:00   ┆ 1         ┆   ┆           ┆           ┆           ┆           │\n",
      "│        ┆            ┆            ┆ 00:25:00  ┆   ┆           ┆           ┆           ┆           │\n",
      "│ car_0  ┆ 2023-01-01 ┆ 2023-01-01 ┆ 2023-01-0 ┆ … ┆ 0.991953  ┆ null      ┆ 0.991953  ┆ 0.991953  │\n",
      "│        ┆ 00:30:00   ┆ 00:35:00   ┆ 1         ┆   ┆           ┆           ┆           ┆           │\n",
      "│        ┆            ┆            ┆ 00:30:00  ┆   ┆           ┆           ┆           ┆           │\n",
      "│ car_0  ┆ 2023-01-01 ┆ 2023-01-01 ┆ 2023-01-0 ┆ … ┆ 0.0       ┆ null      ┆ 0.0       ┆ 0.0       │\n",
      "│        ┆ 00:35:00   ┆ 00:40:00   ┆ 1         ┆   ┆           ┆           ┆           ┆           │\n",
      "│        ┆            ┆            ┆ 00:35:00  ┆   ┆           ┆           ┆           ┆           │\n",
      "│ …      ┆ …          ┆ …          ┆ …         ┆ … ┆ …         ┆ …         ┆ …         ┆ …         │\n",
      "│ car_99 ┆ 2023-01-07 ┆ 2023-01-07 ┆ 2023-01-0 ┆ … ┆ 0.0       ┆ 0.053641  ┆ 0.517887  ┆ 0.0       │\n",
      "│        ┆ 23:30:00   ┆ 23:35:00   ┆ 7         ┆   ┆           ┆           ┆           ┆           │\n",
      "│        ┆            ┆            ┆ 23:30:00  ┆   ┆           ┆           ┆           ┆           │\n",
      "│ car_99 ┆ 2023-01-07 ┆ 2023-01-07 ┆ 2023-01-0 ┆ … ┆ 0.0       ┆ 0.0       ┆ 0.0       ┆ 0.0       │\n",
      "│        ┆ 23:35:00   ┆ 23:40:00   ┆ 7         ┆   ┆           ┆           ┆           ┆           │\n",
      "│        ┆            ┆            ┆ 23:35:00  ┆   ┆           ┆           ┆           ┆           │\n",
      "│ car_99 ┆ 2023-01-07 ┆ 2023-01-07 ┆ 2023-01-0 ┆ … ┆ 0.0       ┆ 0.0       ┆ 0.0       ┆ 0.0       │\n",
      "│        ┆ 23:40:00   ┆ 23:45:00   ┆ 7         ┆   ┆           ┆           ┆           ┆           │\n",
      "│        ┆            ┆            ┆ 23:40:00  ┆   ┆           ┆           ┆           ┆           │\n",
      "│ car_99 ┆ 2023-01-07 ┆ 2023-01-07 ┆ 2023-01-0 ┆ … ┆ 0.0       ┆ null      ┆ 0.0       ┆ 0.0       │\n",
      "│        ┆ 23:50:00   ┆ 23:55:00   ┆ 7         ┆   ┆           ┆           ┆           ┆           │\n",
      "│        ┆            ┆            ┆ 23:50:00  ┆   ┆           ┆           ┆           ┆           │\n",
      "│ car_99 ┆ 2023-01-07 ┆ 2023-01-08 ┆ 2023-01-0 ┆ … ┆ 0.0       ┆ null      ┆ 0.0       ┆ 0.0       │\n",
      "│        ┆ 23:55:00   ┆ 00:00:00   ┆ 7         ┆   ┆           ┆           ┆           ┆           │\n",
      "│        ┆            ┆            ┆ 23:55:00  ┆   ┆           ┆           ┆           ┆           │\n",
      "└────────┴────────────┴────────────┴───────────┴───┴───────────┴───────────┴───────────┴───────────┘\n"
     ]
    },
    {
     "name": "stderr",
     "output_type": "stream",
     "text": [
      "/var/folders/rw/9dc4ss41167dpttmz9h6f1xr0000gn/T/ipykernel_18287/1011679719.py:21: DeprecationWarning: `groupby_dynamic` is deprecated. It has been renamed to `group_by_dynamic`.\n",
      "  result_distance = data.groupby_dynamic(\n",
      "/var/folders/rw/9dc4ss41167dpttmz9h6f1xr0000gn/T/ipykernel_18287/1011679719.py:28: DeprecationWarning: `truncate` is deprecated and will be removed in a future version. Please replace `truncate=True` with `label='left'` to silence this warning.\n",
      "  ).agg([\n"
     ]
    }
   ],
   "source": [
    "interval = \"5m\" #intervalos de 5 mins\n",
    "\n",
    "#usamos groupby_dynamic para agrupar los datos que vayan en itervalos no uniformes\n",
    "result_notification = data.groupby_dynamic(\n",
    "    by=\"car_id\",\n",
    "    index_column=\"timestamp\",\n",
    "    every=interval,\n",
    "    period=interval,\n",
    "    closed=\"both\",\n",
    "    include_boundaries=True\n",
    ").agg([\n",
    "    pl.col(\"notification_time\").mean().alias(\"mean_time_ns\"),\n",
    "    pl.col(\"notification_time\").median().alias(\"median_time_ns\"),\n",
    "    pl.col(\"notification_time\").var().alias(\"variance_time_ns\"),\n",
    "    pl.col(\"notification_time\").max().alias(\"max_time_ns\"),\n",
    "    pl.col(\"notification_time\").min().alias(\"min_time_ns\")\n",
    "])\n",
    "\n",
    "print(result_notification)\n",
    "\n",
    "result_distance = data.groupby_dynamic(\n",
    "    by=\"car_id\",\n",
    "    index_column=\"timestamp\",\n",
    "    every=interval,\n",
    "    period=interval,\n",
    "    closed=\"both\",\n",
    "    include_boundaries=True\n",
    ").agg([\n",
    "    pl.col(\"distance\").mean().alias(\"mean_distance\"),\n",
    "    pl.col(\"distance\").median().alias(\"median_distance\"),\n",
    "    pl.col(\"distance\").var().alias(\"variance_distance\"),\n",
    "    pl.col(\"distance\").max().alias(\"max_distance\"),\n",
    "    pl.col(\"distance\").min().alias(\"min_distance\")\n",
    "])\n",
    "\n",
    "print(result_distance)"
   ]
  }
 ],
 "metadata": {
  "kernelspec": {
   "display_name": "itam",
   "language": "python",
   "name": "python3"
  },
  "language_info": {
   "codemirror_mode": {
    "name": "ipython",
    "version": 3
   },
   "file_extension": ".py",
   "mimetype": "text/x-python",
   "name": "python",
   "nbconvert_exporter": "python",
   "pygments_lexer": "ipython3",
   "version": "3.11.7"
  }
 },
 "nbformat": 4,
 "nbformat_minor": 2
}
