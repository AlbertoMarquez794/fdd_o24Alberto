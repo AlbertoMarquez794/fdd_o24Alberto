{
 "cells": [
  {
   "cell_type": "code",
   "execution_count": 1,
   "metadata": {},
   "outputs": [],
   "source": [
    "import polars as pl\n",
    "import numpy as np\n",
    "import random\n",
    "from datetime import datetime, timedelta"
   ]
  },
  {
   "cell_type": "markdown",
   "metadata": {},
   "source": [
    "# Descripcion"
   ]
  },
  {
   "cell_type": "markdown",
   "metadata": {},
   "source": [
    "Los datos son notificaciones de dispositivos GPS en Mexico. En promedio generan notificaciones automatizadas cada 5 minutos si el carro esta encendido, y 30 si esta apagado.  \n",
    "\n",
    "Cada notificacion esta acompannada de un evento de lo que esta ocurriendo, y trae la latitud y longitud.  \n",
    "\n",
    "El objetico es predecir si un vehiculo esta siendo robado de acuerdo a sus notificaciones, por lo que el primer paso seria limpiar datos y hacer ingenieria de variables.\n",
    "\n",
    "Trata de hacerlo **lazy** si puedes."
   ]
  },
  {
   "cell_type": "code",
   "execution_count": 2,
   "metadata": {},
   "outputs": [],
   "source": [
    "def generate_dummy_data(num_cars, start_time, end_time, working_hours_interval, non_working_hours_interval):\n",
    "    data = []\n",
    "\n",
    "    # Define the latitude and longitude ranges for Mexico\n",
    "    min_latitude, max_latitude = 14.5388, 32.7186\n",
    "    min_longitude, max_longitude = -118.4662, -86.7104\n",
    "\n",
    "    for car_id in range(num_cars):\n",
    "        current_time = start_time\n",
    "\n",
    "        # Generate random initial latitude and longitude for each car\n",
    "        latitude = random.uniform(min_latitude, max_latitude)\n",
    "        longitude = random.uniform(min_longitude, max_longitude)\n",
    "\n",
    "        while current_time < end_time:\n",
    "            if current_time.weekday() < 5 and 9 <= current_time.hour < 17:\n",
    "                # Working hours (Monday to Friday, 9 AM to 5 PM)\n",
    "                interval = working_hours_interval\n",
    "            else:\n",
    "                # Non-working hours\n",
    "                interval = non_working_hours_interval\n",
    "\n",
    "            # Generate notification with 99% probability\n",
    "            if random.random() < 0.99:\n",
    "                notification = random.choice([\"low_fuel\", \"tire_pressure\", \"engine_check\", None])\n",
    "                data.append((f\"car_{car_id}\", current_time.isoformat(), latitude, longitude, notification))\n",
    "\n",
    "            # Generate additional notifications between intervals\n",
    "            while True:\n",
    "                additional_interval = random.expovariate(1 / (interval / 2))\n",
    "                additional_time = current_time + timedelta(minutes=additional_interval)\n",
    "                if additional_time >= current_time + timedelta(minutes=interval):\n",
    "                    break\n",
    "                notification = random.choice([\"low_fuel\", \"tire_pressure\", \"engine_check\", None])\n",
    "                data.append((f\"car_{car_id}\", additional_time.isoformat(), latitude, longitude, notification))\n",
    "\n",
    "            # Update latitude and longitude for car movement\n",
    "            latitude += random.uniform(-0.01, 0.01)\n",
    "            longitude += random.uniform(-0.01, 0.01)\n",
    "\n",
    "            # Check if the car is among the 1% that can have 100 notifications within 5 minutes\n",
    "            if random.random() < 0.01:\n",
    "                burst_start_time = current_time + timedelta(minutes=random.uniform(0, interval))\n",
    "                burst_end_time = burst_start_time + timedelta(minutes=5)\n",
    "                while current_time < burst_end_time:\n",
    "                    notification = random.choice([\"low_fuel\", \"tire_pressure\", \"engine_check\", None])\n",
    "                    data.append((f\"car_{car_id}\", current_time.isoformat(), latitude, longitude, notification))\n",
    "                    current_time += timedelta(seconds=random.uniform(1, 10))\n",
    "\n",
    "            current_time += timedelta(minutes=interval)\n",
    "\n",
    "    # Create a Polars DataFrame from the generated data\n",
    "    df = pl.DataFrame(\n",
    "        {\n",
    "            \"car_id\": [record[0] for record in data],\n",
    "            \"timestamp\": [record[1] for record in data],\n",
    "            \"latitude\": [record[2] for record in data],\n",
    "            \"longitude\": [record[3] for record in data],\n",
    "            \"notification\": [record[4] for record in data],\n",
    "        }\n",
    "    )\n",
    "\n",
    "    return df.lazy()"
   ]
  },
  {
   "cell_type": "code",
   "execution_count": 3,
   "metadata": {},
   "outputs": [
    {
     "name": "stdout",
     "output_type": "stream",
     "text": [
      "naive plan: (run LazyFrame.explain(optimized=True) to see the optimized plan)\n",
      "\n",
      "SLICE[offset: 0, len: 5]\n",
      "  DF [\"car_id\", \"timestamp\", \"latitude\", \"longitude\"]; PROJECT */5 COLUMNS; SELECTION: \"None\"\n"
     ]
    }
   ],
   "source": [
    "num_cars = 1000\n",
    "start_time = datetime(2023, 1, 1, 0, 0, 0)  # Start of the week\n",
    "end_time = start_time + timedelta(weeks=1)  # End of the week\n",
    "working_hours_interval = 5  # Interval of 5 minutes during working hours\n",
    "non_working_hours_interval = 30  # Interval of 30 minutes during non-working hours\n",
    "\n",
    "# Generate the dummy data\n",
    "data = generate_dummy_data(num_cars, start_time, end_time, working_hours_interval, non_working_hours_interval)\n",
    "\n",
    "# Print the first few rows of the generated data\n",
    "print(data.head())"
   ]
  },
  {
   "cell_type": "code",
   "execution_count": 4,
   "metadata": {},
   "outputs": [
    {
     "name": "stdout",
     "output_type": "stream",
     "text": [
      "shape: (6_296_894, 5)\n",
      "┌─────────┬────────────────────────────┬───────────┬─────────────┬───────────────┐\n",
      "│ car_id  ┆ timestamp                  ┆ latitude  ┆ longitude   ┆ notification  │\n",
      "│ ---     ┆ ---                        ┆ ---       ┆ ---         ┆ ---           │\n",
      "│ str     ┆ str                        ┆ f64       ┆ f64         ┆ str           │\n",
      "╞═════════╪════════════════════════════╪═══════════╪═════════════╪═══════════════╡\n",
      "│ car_0   ┆ 2023-01-01T00:00:00        ┆ 27.37124  ┆ -100.629631 ┆ low_fuel      │\n",
      "│ car_0   ┆ 2023-01-01T00:30:00        ┆ 27.374879 ┆ -100.638245 ┆ engine_check  │\n",
      "│ car_0   ┆ 2023-01-01T01:00:00        ┆ 27.373578 ┆ -100.632955 ┆ low_fuel      │\n",
      "│ car_0   ┆ 2023-01-01T01:19:14.797138 ┆ 27.373578 ┆ -100.632955 ┆ null          │\n",
      "│ car_0   ┆ 2023-01-01T01:21:13.087529 ┆ 27.373578 ┆ -100.632955 ┆ tire_pressure │\n",
      "│ …       ┆ …                          ┆ …         ┆ …           ┆ …             │\n",
      "│ car_999 ┆ 2023-01-08T00:01:50.380764 ┆ 25.872271 ┆ -98.759214  ┆ tire_pressure │\n",
      "│ car_999 ┆ 2023-01-07T23:43:19.480068 ┆ 25.872271 ┆ -98.759214  ┆ engine_check  │\n",
      "│ car_999 ┆ 2023-01-07T23:38:37.300720 ┆ 25.872271 ┆ -98.759214  ┆ engine_check  │\n",
      "│ car_999 ┆ 2023-01-07T23:36:45.418749 ┆ 25.872271 ┆ -98.759214  ┆ engine_check  │\n",
      "│ car_999 ┆ 2023-01-07T23:40:42.450620 ┆ 25.872271 ┆ -98.759214  ┆ null          │\n",
      "└─────────┴────────────────────────────┴───────────┴─────────────┴───────────────┘\n"
     ]
    }
   ],
   "source": [
    "print(data.collect())"
   ]
  },
  {
   "cell_type": "markdown",
   "metadata": {},
   "source": [
    "## Limpieza de datos"
   ]
  },
  {
   "cell_type": "markdown",
   "metadata": {},
   "source": [
    "### Timestamp"
   ]
  },
  {
   "cell_type": "markdown",
   "metadata": {},
   "source": [
    "Convierte el `timestamp` que actualmente es string a formato de tiempo en polars"
   ]
  },
  {
   "cell_type": "code",
   "execution_count": 5,
   "metadata": {},
   "outputs": [
    {
     "name": "stdout",
     "output_type": "stream",
     "text": [
      "shape: (6_296_894, 5)\n",
      "┌─────────┬────────────────────────────┬───────────┬─────────────┬───────────────┐\n",
      "│ car_id  ┆ timestamp                  ┆ latitude  ┆ longitude   ┆ notification  │\n",
      "│ ---     ┆ ---                        ┆ ---       ┆ ---         ┆ ---           │\n",
      "│ str     ┆ datetime[μs]               ┆ f64       ┆ f64         ┆ str           │\n",
      "╞═════════╪════════════════════════════╪═══════════╪═════════════╪═══════════════╡\n",
      "│ car_0   ┆ 2023-01-01 00:00:00        ┆ 27.37124  ┆ -100.629631 ┆ low_fuel      │\n",
      "│ car_0   ┆ 2023-01-01 00:30:00        ┆ 27.374879 ┆ -100.638245 ┆ engine_check  │\n",
      "│ car_0   ┆ 2023-01-01 01:00:00        ┆ 27.373578 ┆ -100.632955 ┆ low_fuel      │\n",
      "│ car_0   ┆ 2023-01-01 01:19:14.797138 ┆ 27.373578 ┆ -100.632955 ┆ null          │\n",
      "│ car_0   ┆ 2023-01-01 01:21:13.087529 ┆ 27.373578 ┆ -100.632955 ┆ tire_pressure │\n",
      "│ …       ┆ …                          ┆ …         ┆ …           ┆ …             │\n",
      "│ car_999 ┆ 2023-01-08 00:01:50.380764 ┆ 25.872271 ┆ -98.759214  ┆ tire_pressure │\n",
      "│ car_999 ┆ 2023-01-07 23:43:19.480068 ┆ 25.872271 ┆ -98.759214  ┆ engine_check  │\n",
      "│ car_999 ┆ 2023-01-07 23:38:37.300720 ┆ 25.872271 ┆ -98.759214  ┆ engine_check  │\n",
      "│ car_999 ┆ 2023-01-07 23:36:45.418749 ┆ 25.872271 ┆ -98.759214  ┆ engine_check  │\n",
      "│ car_999 ┆ 2023-01-07 23:40:42.450620 ┆ 25.872271 ┆ -98.759214  ┆ null          │\n",
      "└─────────┴────────────────────────────┴───────────┴─────────────┴───────────────┘\n"
     ]
    }
   ],
   "source": [
    "data = data.with_columns(pl.col(\"timestamp\").str.strptime(pl.Datetime))\n",
    "\n",
    "print(data.collect())"
   ]
  },
  {
   "cell_type": "markdown",
   "metadata": {},
   "source": [
    "### Ingenieria de variables"
   ]
  },
  {
   "cell_type": "markdown",
   "metadata": {},
   "source": [
    "Dado que va a entrar a un modelo de machine learning es encesario que todas las variables sean numericas, y esten en formnato tidy. Cada observacion en una fila, y cada variable en una columna. Por lo tanto se decidio crear estadisticos y agregar los datos a intervalos uniformes de `x` minutos.  \n",
    "\n",
    "Por ejemplo, colapsar toda la informacion que ocurrion en el intervalo, como el numero de notificaciones en esos 5 minutos, el promedio entre notificaciones, y el tipo de notificaciones."
   ]
  },
  {
   "cell_type": "markdown",
   "metadata": {},
   "source": [
    "Existen varias formas de hacer esto, puedes hacerlo con `group_by` primero para crear las nuevas variables, o `group_by` (`rolling`, `dynamic`) usando operaciones sobre listas. Utiliza claude o chat_gpt"
   ]
  },
  {
   "cell_type": "markdown",
   "metadata": {},
   "source": [
    "1. Crea una nueva variable que compute la diferencia de tiempo entre notificaciones del mismo vehiculo. Piensa como lo vas a hacer. Llama a esta variable `notification_time`\n",
    "   \n"
   ]
  },
  {
   "cell_type": "code",
   "execution_count": 6,
   "metadata": {},
   "outputs": [
    {
     "data": {
      "text/html": [
       "<div><style>\n",
       ".dataframe > thead > tr,\n",
       ".dataframe > tbody > tr {\n",
       "  text-align: right;\n",
       "  white-space: pre-wrap;\n",
       "}\n",
       "</style>\n",
       "<small>shape: (6_296_894, 6)</small><table border=\"1\" class=\"dataframe\"><thead><tr><th>car_id</th><th>timestamp</th><th>latitude</th><th>longitude</th><th>notification</th><th>notification_time</th></tr><tr><td>str</td><td>datetime[μs]</td><td>f64</td><td>f64</td><td>str</td><td>duration[μs]</td></tr></thead><tbody><tr><td>&quot;car_0&quot;</td><td>2023-01-01 00:00:00</td><td>27.37124</td><td>-100.629631</td><td>&quot;low_fuel&quot;</td><td>null</td></tr><tr><td>&quot;car_0&quot;</td><td>2023-01-01 00:30:00</td><td>27.374879</td><td>-100.638245</td><td>&quot;engine_check&quot;</td><td>30m</td></tr><tr><td>&quot;car_0&quot;</td><td>2023-01-01 01:00:00</td><td>27.373578</td><td>-100.632955</td><td>&quot;low_fuel&quot;</td><td>30m</td></tr><tr><td>&quot;car_0&quot;</td><td>2023-01-01 01:00:52.394505</td><td>27.373578</td><td>-100.632955</td><td>&quot;engine_check&quot;</td><td>52s 394505µs</td></tr><tr><td>&quot;car_0&quot;</td><td>2023-01-01 01:01:42.964122</td><td>27.373578</td><td>-100.632955</td><td>&quot;tire_pressure&quot;</td><td>50s 569617µs</td></tr><tr><td>&hellip;</td><td>&hellip;</td><td>&hellip;</td><td>&hellip;</td><td>&hellip;</td><td>&hellip;</td></tr><tr><td>&quot;car_999&quot;</td><td>2023-01-07 23:43:19.480068</td><td>25.872271</td><td>-98.759214</td><td>&quot;engine_check&quot;</td><td>43s 658162µs</td></tr><tr><td>&quot;car_999&quot;</td><td>2023-01-07 23:49:31.067630</td><td>25.872271</td><td>-98.759214</td><td>&quot;low_fuel&quot;</td><td>6m 11s 587562µs</td></tr><tr><td>&quot;car_999&quot;</td><td>2023-01-07 23:49:37.393064</td><td>25.872271</td><td>-98.759214</td><td>&quot;low_fuel&quot;</td><td>6s 325434µs</td></tr><tr><td>&quot;car_999&quot;</td><td>2023-01-07 23:55:01.911068</td><td>25.872271</td><td>-98.759214</td><td>&quot;low_fuel&quot;</td><td>5m 24s 518004µs</td></tr><tr><td>&quot;car_999&quot;</td><td>2023-01-08 00:01:50.380764</td><td>25.872271</td><td>-98.759214</td><td>&quot;tire_pressure&quot;</td><td>6m 48s 469696µs</td></tr></tbody></table></div>"
      ],
      "text/plain": [
       "shape: (6_296_894, 6)\n",
       "┌─────────┬─────────────────────┬───────────┬─────────────┬───────────────┬───────────────────┐\n",
       "│ car_id  ┆ timestamp           ┆ latitude  ┆ longitude   ┆ notification  ┆ notification_time │\n",
       "│ ---     ┆ ---                 ┆ ---       ┆ ---         ┆ ---           ┆ ---               │\n",
       "│ str     ┆ datetime[μs]        ┆ f64       ┆ f64         ┆ str           ┆ duration[μs]      │\n",
       "╞═════════╪═════════════════════╪═══════════╪═════════════╪═══════════════╪═══════════════════╡\n",
       "│ car_0   ┆ 2023-01-01 00:00:00 ┆ 27.37124  ┆ -100.629631 ┆ low_fuel      ┆ null              │\n",
       "│ car_0   ┆ 2023-01-01 00:30:00 ┆ 27.374879 ┆ -100.638245 ┆ engine_check  ┆ 30m               │\n",
       "│ car_0   ┆ 2023-01-01 01:00:00 ┆ 27.373578 ┆ -100.632955 ┆ low_fuel      ┆ 30m               │\n",
       "│ car_0   ┆ 2023-01-01          ┆ 27.373578 ┆ -100.632955 ┆ engine_check  ┆ 52s 394505µs      │\n",
       "│         ┆ 01:00:52.394505     ┆           ┆             ┆               ┆                   │\n",
       "│ car_0   ┆ 2023-01-01          ┆ 27.373578 ┆ -100.632955 ┆ tire_pressure ┆ 50s 569617µs      │\n",
       "│         ┆ 01:01:42.964122     ┆           ┆             ┆               ┆                   │\n",
       "│ …       ┆ …                   ┆ …         ┆ …           ┆ …             ┆ …                 │\n",
       "│ car_999 ┆ 2023-01-07          ┆ 25.872271 ┆ -98.759214  ┆ engine_check  ┆ 43s 658162µs      │\n",
       "│         ┆ 23:43:19.480068     ┆           ┆             ┆               ┆                   │\n",
       "│ car_999 ┆ 2023-01-07          ┆ 25.872271 ┆ -98.759214  ┆ low_fuel      ┆ 6m 11s 587562µs   │\n",
       "│         ┆ 23:49:31.067630     ┆           ┆             ┆               ┆                   │\n",
       "│ car_999 ┆ 2023-01-07          ┆ 25.872271 ┆ -98.759214  ┆ low_fuel      ┆ 6s 325434µs       │\n",
       "│         ┆ 23:49:37.393064     ┆           ┆             ┆               ┆                   │\n",
       "│ car_999 ┆ 2023-01-07          ┆ 25.872271 ┆ -98.759214  ┆ low_fuel      ┆ 5m 24s 518004µs   │\n",
       "│         ┆ 23:55:01.911068     ┆           ┆             ┆               ┆                   │\n",
       "│ car_999 ┆ 2023-01-08          ┆ 25.872271 ┆ -98.759214  ┆ tire_pressure ┆ 6m 48s 469696µs   │\n",
       "│         ┆ 00:01:50.380764     ┆           ┆             ┆               ┆                   │\n",
       "└─────────┴─────────────────────┴───────────┴─────────────┴───────────────┴───────────────────┘"
      ]
     },
     "execution_count": 6,
     "metadata": {},
     "output_type": "execute_result"
    }
   ],
   "source": [
    "data = data.sort([\"car_id\", \"timestamp\"], descending=[False, False])\n",
    "data = data.with_columns([\n",
    "    pl.col(\"timestamp\").diff().over('car_id').alias(\"notification_time\")\n",
    "    ])\n",
    "data.collect()"
   ]
  },
  {
   "cell_type": "markdown",
   "metadata": {},
   "source": [
    "2. Crea una nueva variable que compute la distancia que viajo el vehiculo desde la ultima notificacion. Llamala `distance`"
   ]
  },
  {
   "cell_type": "code",
   "execution_count": 7,
   "metadata": {},
   "outputs": [],
   "source": [
    "\n",
    "#! pip install geopy\n",
    "from geopy import distance\n",
    "def calculate_distance(lat1, lon1, lat2, lon2):\n",
    "    if None in [lat1, lon1, lat2, lon2]:\n",
    "        return None\n",
    "    return distance.distance((lat1, lon1), (lat2, lon2)).meters\n",
    "\n",
    "data = data.collect()"
   ]
  },
  {
   "cell_type": "code",
   "execution_count": 8,
   "metadata": {},
   "outputs": [],
   "source": [
    "\n",
    "data = data.with_columns([\n",
    "    pl.col(\"latitude\").shift(1).over(\"car_id\").alias(\"prev_latitude\"),\n",
    "    pl.col(\"longitude\").shift(1).over(\"car_id\").alias(\"prev_longitude\"), \n",
    "])\n",
    "\n",
    "df2 = data.map_rows(lambda t: calculate_distance(t[2], t[3], t[6], t[7]))\n",
    "\n",
    "data = data.with_columns(pl.Series(name=\"distance\", values=df2)) \n",
    "\n"
   ]
  },
  {
   "cell_type": "markdown",
   "metadata": {},
   "source": [
    "3. Crea intervalos de `x` minutos por carro. Como el numero de notificaciones en esos intervalos no es uniforme tienes que buscar funciones de polars especificas, pero ademas tienen que ser por vehiculo, pues tienen que ser del mismo. Revisa las funciones de `group_by` `dynamic` y `rolling`.\n",
    "   1. Computa la media, mediana, varianza, max y min de `notification_time` los intervalos de `x` minutos\n",
    "   2. Computa la media, mediana, varianza, max y min de `distance`\n"
   ]
  },
  {
   "cell_type": "code",
   "execution_count": 9,
   "metadata": {},
   "outputs": [
    {
     "name": "stderr",
     "output_type": "stream",
     "text": [
      "/var/folders/2x/gfyvyqkn6m14010xg_kz1xr80000gn/T/ipykernel_52801/1993981362.py:5: DeprecationWarning: `groupby` is deprecated. It has been renamed to `group_by`.\n",
      "  data2 = data.groupby([\"car_id\", \"intervalo_manual\"])\n"
     ]
    },
    {
     "data": {
      "text/plain": [
       "<polars.dataframe.group_by.GroupBy at 0x17bbcc380>"
      ]
     },
     "execution_count": 9,
     "metadata": {},
     "output_type": "execute_result"
    }
   ],
   "source": [
    "x=\"5m\"\n",
    "data = data.with_columns(\n",
    "    pl.col(\"timestamp\").dt.truncate(x).alias(\"intervalo_manual\")\n",
    ")\n",
    "data2 = data.groupby([\"car_id\", \"intervalo_manual\"])\n",
    "\n",
    "data2"
   ]
  },
  {
   "cell_type": "code",
   "execution_count": 10,
   "metadata": {},
   "outputs": [
    {
     "name": "stderr",
     "output_type": "stream",
     "text": [
      "/var/folders/2x/gfyvyqkn6m14010xg_kz1xr80000gn/T/ipykernel_52801/2582669398.py:2: DeprecationWarning: `seconds` is deprecated. It has been renamed to `total_seconds`.\n",
      "  pl.col(\"notification_time\").dt.seconds().mean().alias(\"mean\"),\n",
      "/var/folders/2x/gfyvyqkn6m14010xg_kz1xr80000gn/T/ipykernel_52801/2582669398.py:3: DeprecationWarning: `seconds` is deprecated. It has been renamed to `total_seconds`.\n",
      "  pl.col(\"notification_time\").dt.seconds().median().alias(\"median\"),\n",
      "/var/folders/2x/gfyvyqkn6m14010xg_kz1xr80000gn/T/ipykernel_52801/2582669398.py:4: DeprecationWarning: `seconds` is deprecated. It has been renamed to `total_seconds`.\n",
      "  pl.col(\"notification_time\").dt.seconds().var().alias(\"variance\"),\n",
      "/var/folders/2x/gfyvyqkn6m14010xg_kz1xr80000gn/T/ipykernel_52801/2582669398.py:5: DeprecationWarning: `seconds` is deprecated. It has been renamed to `total_seconds`.\n",
      "  pl.col(\"notification_time\").dt.seconds().max().alias(\"max\"),\n",
      "/var/folders/2x/gfyvyqkn6m14010xg_kz1xr80000gn/T/ipykernel_52801/2582669398.py:6: DeprecationWarning: `seconds` is deprecated. It has been renamed to `total_seconds`.\n",
      "  pl.col(\"notification_time\").dt.seconds().min().alias(\"min\"),\n"
     ]
    },
    {
     "data": {
      "text/html": [
       "<div><style>\n",
       ".dataframe > thead > tr,\n",
       ".dataframe > tbody > tr {\n",
       "  text-align: right;\n",
       "  white-space: pre-wrap;\n",
       "}\n",
       "</style>\n",
       "<small>shape: (1_334_781, 7)</small><table border=\"1\" class=\"dataframe\"><thead><tr><th>car_id</th><th>intervalo_manual</th><th>mean</th><th>median</th><th>variance</th><th>max</th><th>min</th></tr><tr><td>str</td><td>datetime[μs]</td><td>f64</td><td>f64</td><td>f64</td><td>i64</td><td>i64</td></tr></thead><tbody><tr><td>&quot;car_0&quot;</td><td>2023-01-01 00:00:00</td><td>null</td><td>null</td><td>null</td><td>null</td><td>null</td></tr><tr><td>&quot;car_0&quot;</td><td>2023-01-01 00:30:00</td><td>1800.0</td><td>1800.0</td><td>null</td><td>1800</td><td>1800</td></tr><tr><td>&quot;car_0&quot;</td><td>2023-01-01 01:00:00</td><td>259.5</td><td>51.0</td><td>388066.0</td><td>1800</td><td>8</td></tr><tr><td>&quot;car_0&quot;</td><td>2023-01-01 01:05:00</td><td>81.333333</td><td>97.0</td><td>2734.333333</td><td>124</td><td>23</td></tr><tr><td>&quot;car_0&quot;</td><td>2023-01-01 01:10:00</td><td>107.0</td><td>107.0</td><td>11858.0</td><td>184</td><td>30</td></tr><tr><td>&hellip;</td><td>&hellip;</td><td>&hellip;</td><td>&hellip;</td><td>&hellip;</td><td>&hellip;</td><td>&hellip;</td></tr><tr><td>&quot;car_999&quot;</td><td>2023-01-07 23:35:00</td><td>53.8</td><td>31.0</td><td>1287.7</td><td>101</td><td>26</td></tr><tr><td>&quot;car_999&quot;</td><td>2023-01-07 23:40:00</td><td>84.333333</td><td>97.0</td><td>1345.333333</td><td>113</td><td>43</td></tr><tr><td>&quot;car_999&quot;</td><td>2023-01-07 23:45:00</td><td>188.5</td><td>188.5</td><td>66612.5</td><td>371</td><td>6</td></tr><tr><td>&quot;car_999&quot;</td><td>2023-01-07 23:55:00</td><td>324.0</td><td>324.0</td><td>null</td><td>324</td><td>324</td></tr><tr><td>&quot;car_999&quot;</td><td>2023-01-08 00:00:00</td><td>408.0</td><td>408.0</td><td>null</td><td>408</td><td>408</td></tr></tbody></table></div>"
      ],
      "text/plain": [
       "shape: (1_334_781, 7)\n",
       "┌─────────┬─────────────────────┬───────────┬────────┬─────────────┬──────┬──────┐\n",
       "│ car_id  ┆ intervalo_manual    ┆ mean      ┆ median ┆ variance    ┆ max  ┆ min  │\n",
       "│ ---     ┆ ---                 ┆ ---       ┆ ---    ┆ ---         ┆ ---  ┆ ---  │\n",
       "│ str     ┆ datetime[μs]        ┆ f64       ┆ f64    ┆ f64         ┆ i64  ┆ i64  │\n",
       "╞═════════╪═════════════════════╪═══════════╪════════╪═════════════╪══════╪══════╡\n",
       "│ car_0   ┆ 2023-01-01 00:00:00 ┆ null      ┆ null   ┆ null        ┆ null ┆ null │\n",
       "│ car_0   ┆ 2023-01-01 00:30:00 ┆ 1800.0    ┆ 1800.0 ┆ null        ┆ 1800 ┆ 1800 │\n",
       "│ car_0   ┆ 2023-01-01 01:00:00 ┆ 259.5     ┆ 51.0   ┆ 388066.0    ┆ 1800 ┆ 8    │\n",
       "│ car_0   ┆ 2023-01-01 01:05:00 ┆ 81.333333 ┆ 97.0   ┆ 2734.333333 ┆ 124  ┆ 23   │\n",
       "│ car_0   ┆ 2023-01-01 01:10:00 ┆ 107.0     ┆ 107.0  ┆ 11858.0     ┆ 184  ┆ 30   │\n",
       "│ …       ┆ …                   ┆ …         ┆ …      ┆ …           ┆ …    ┆ …    │\n",
       "│ car_999 ┆ 2023-01-07 23:35:00 ┆ 53.8      ┆ 31.0   ┆ 1287.7      ┆ 101  ┆ 26   │\n",
       "│ car_999 ┆ 2023-01-07 23:40:00 ┆ 84.333333 ┆ 97.0   ┆ 1345.333333 ┆ 113  ┆ 43   │\n",
       "│ car_999 ┆ 2023-01-07 23:45:00 ┆ 188.5     ┆ 188.5  ┆ 66612.5     ┆ 371  ┆ 6    │\n",
       "│ car_999 ┆ 2023-01-07 23:55:00 ┆ 324.0     ┆ 324.0  ┆ null        ┆ 324  ┆ 324  │\n",
       "│ car_999 ┆ 2023-01-08 00:00:00 ┆ 408.0     ┆ 408.0  ┆ null        ┆ 408  ┆ 408  │\n",
       "└─────────┴─────────────────────┴───────────┴────────┴─────────────┴──────┴──────┘"
      ]
     },
     "execution_count": 10,
     "metadata": {},
     "output_type": "execute_result"
    }
   ],
   "source": [
    "stats = data2.agg([\n",
    "    pl.col(\"notification_time\").dt.seconds().mean().alias(\"mean\"),\n",
    "    pl.col(\"notification_time\").dt.seconds().median().alias(\"median\"),\n",
    "    pl.col(\"notification_time\").dt.seconds().var().alias(\"variance\"),\n",
    "    pl.col(\"notification_time\").dt.seconds().max().alias(\"max\"),\n",
    "    pl.col(\"notification_time\").dt.seconds().min().alias(\"min\"),\n",
    "])\n",
    "stats=stats.sort([\"car_id\", \"intervalo_manual\"])\n",
    "stats"
   ]
  },
  {
   "cell_type": "code",
   "execution_count": 11,
   "metadata": {},
   "outputs": [
    {
     "data": {
      "text/html": [
       "<div><style>\n",
       ".dataframe > thead > tr,\n",
       ".dataframe > tbody > tr {\n",
       "  text-align: right;\n",
       "  white-space: pre-wrap;\n",
       "}\n",
       "</style>\n",
       "<small>shape: (1_334_781, 7)</small><table border=\"1\" class=\"dataframe\"><thead><tr><th>car_id</th><th>intervalo_manual</th><th>mean_distance</th><th>median_distance</th><th>variance_distance</th><th>max_distance</th><th>min_distance</th></tr><tr><td>str</td><td>datetime[μs]</td><td>f64</td><td>f64</td><td>f64</td><td>f64</td><td>f64</td></tr></thead><tbody><tr><td>&quot;car_0&quot;</td><td>2023-01-01 00:00:00</td><td>null</td><td>null</td><td>null</td><td>null</td><td>null</td></tr><tr><td>&quot;car_0&quot;</td><td>2023-01-01 00:30:00</td><td>942.742388</td><td>942.742388</td><td>null</td><td>942.742388</td><td>942.742388</td></tr><tr><td>&quot;car_0&quot;</td><td>2023-01-01 01:00:00</td><td>67.84482</td><td>0.0</td><td>36823.357153</td><td>542.758563</td><td>0.0</td></tr><tr><td>&quot;car_0&quot;</td><td>2023-01-01 01:05:00</td><td>0.0</td><td>0.0</td><td>0.0</td><td>0.0</td><td>0.0</td></tr><tr><td>&quot;car_0&quot;</td><td>2023-01-01 01:10:00</td><td>0.0</td><td>0.0</td><td>0.0</td><td>0.0</td><td>0.0</td></tr><tr><td>&hellip;</td><td>&hellip;</td><td>&hellip;</td><td>&hellip;</td><td>&hellip;</td><td>&hellip;</td><td>&hellip;</td></tr><tr><td>&quot;car_999&quot;</td><td>2023-01-07 23:35:00</td><td>0.0</td><td>0.0</td><td>0.0</td><td>0.0</td><td>0.0</td></tr><tr><td>&quot;car_999&quot;</td><td>2023-01-07 23:40:00</td><td>0.0</td><td>0.0</td><td>0.0</td><td>0.0</td><td>0.0</td></tr><tr><td>&quot;car_999&quot;</td><td>2023-01-07 23:45:00</td><td>0.0</td><td>0.0</td><td>0.0</td><td>0.0</td><td>0.0</td></tr><tr><td>&quot;car_999&quot;</td><td>2023-01-07 23:55:00</td><td>0.0</td><td>0.0</td><td>null</td><td>0.0</td><td>0.0</td></tr><tr><td>&quot;car_999&quot;</td><td>2023-01-08 00:00:00</td><td>0.0</td><td>0.0</td><td>null</td><td>0.0</td><td>0.0</td></tr></tbody></table></div>"
      ],
      "text/plain": [
       "shape: (1_334_781, 7)\n",
       "┌─────────┬──────────────┬──────────────┬──────────────┬──────────────┬──────────────┬─────────────┐\n",
       "│ car_id  ┆ intervalo_ma ┆ mean_distanc ┆ median_dista ┆ variance_dis ┆ max_distance ┆ min_distanc │\n",
       "│ ---     ┆ nual         ┆ e            ┆ nce          ┆ tance        ┆ ---          ┆ e           │\n",
       "│ str     ┆ ---          ┆ ---          ┆ ---          ┆ ---          ┆ f64          ┆ ---         │\n",
       "│         ┆ datetime[μs] ┆ f64          ┆ f64          ┆ f64          ┆              ┆ f64         │\n",
       "╞═════════╪══════════════╪══════════════╪══════════════╪══════════════╪══════════════╪═════════════╡\n",
       "│ car_0   ┆ 2023-01-01   ┆ null         ┆ null         ┆ null         ┆ null         ┆ null        │\n",
       "│         ┆ 00:00:00     ┆              ┆              ┆              ┆              ┆             │\n",
       "│ car_0   ┆ 2023-01-01   ┆ 942.742388   ┆ 942.742388   ┆ null         ┆ 942.742388   ┆ 942.742388  │\n",
       "│         ┆ 00:30:00     ┆              ┆              ┆              ┆              ┆             │\n",
       "│ car_0   ┆ 2023-01-01   ┆ 67.84482     ┆ 0.0          ┆ 36823.357153 ┆ 542.758563   ┆ 0.0         │\n",
       "│         ┆ 01:00:00     ┆              ┆              ┆              ┆              ┆             │\n",
       "│ car_0   ┆ 2023-01-01   ┆ 0.0          ┆ 0.0          ┆ 0.0          ┆ 0.0          ┆ 0.0         │\n",
       "│         ┆ 01:05:00     ┆              ┆              ┆              ┆              ┆             │\n",
       "│ car_0   ┆ 2023-01-01   ┆ 0.0          ┆ 0.0          ┆ 0.0          ┆ 0.0          ┆ 0.0         │\n",
       "│         ┆ 01:10:00     ┆              ┆              ┆              ┆              ┆             │\n",
       "│ …       ┆ …            ┆ …            ┆ …            ┆ …            ┆ …            ┆ …           │\n",
       "│ car_999 ┆ 2023-01-07   ┆ 0.0          ┆ 0.0          ┆ 0.0          ┆ 0.0          ┆ 0.0         │\n",
       "│         ┆ 23:35:00     ┆              ┆              ┆              ┆              ┆             │\n",
       "│ car_999 ┆ 2023-01-07   ┆ 0.0          ┆ 0.0          ┆ 0.0          ┆ 0.0          ┆ 0.0         │\n",
       "│         ┆ 23:40:00     ┆              ┆              ┆              ┆              ┆             │\n",
       "│ car_999 ┆ 2023-01-07   ┆ 0.0          ┆ 0.0          ┆ 0.0          ┆ 0.0          ┆ 0.0         │\n",
       "│         ┆ 23:45:00     ┆              ┆              ┆              ┆              ┆             │\n",
       "│ car_999 ┆ 2023-01-07   ┆ 0.0          ┆ 0.0          ┆ null         ┆ 0.0          ┆ 0.0         │\n",
       "│         ┆ 23:55:00     ┆              ┆              ┆              ┆              ┆             │\n",
       "│ car_999 ┆ 2023-01-08   ┆ 0.0          ┆ 0.0          ┆ null         ┆ 0.0          ┆ 0.0         │\n",
       "│         ┆ 00:00:00     ┆              ┆              ┆              ┆              ┆             │\n",
       "└─────────┴──────────────┴──────────────┴──────────────┴──────────────┴──────────────┴─────────────┘"
      ]
     },
     "execution_count": 11,
     "metadata": {},
     "output_type": "execute_result"
    }
   ],
   "source": [
    "stats2 = data2.agg([\n",
    "    pl.col(\"distance\").mean().alias(\"mean_distance\"),\n",
    "    pl.col(\"distance\").median().alias(\"median_distance\"),\n",
    "    pl.col(\"distance\").var().alias(\"variance_distance\"),\n",
    "    pl.col(\"distance\").max().alias(\"max_distance\"),\n",
    "    pl.col(\"distance\").min().alias(\"min_distance\"),\n",
    "])\n",
    "\n",
    "stats2 = stats2.sort([\"car_id\", \"intervalo_manual\"])\n",
    "stats2\n"
   ]
  }
 ],
 "metadata": {
  "kernelspec": {
   "display_name": "itam",
   "language": "python",
   "name": "python3"
  },
  "language_info": {
   "codemirror_mode": {
    "name": "ipython",
    "version": 3
   },
   "file_extension": ".py",
   "mimetype": "text/x-python",
   "name": "python",
   "nbconvert_exporter": "python",
   "pygments_lexer": "ipython3",
   "version": "3.12.1"
  }
 },
 "nbformat": 4,
 "nbformat_minor": 2
}
