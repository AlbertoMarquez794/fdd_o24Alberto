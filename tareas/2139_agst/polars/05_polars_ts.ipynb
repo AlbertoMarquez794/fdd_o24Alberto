{
 "cells": [
  {
   "cell_type": "code",
   "execution_count": 2,
   "metadata": {},
   "outputs": [],
   "source": [
    "import polars as pl\n",
    "from typing import Literal, Sequence\n",
    "import numpy as np\n",
    "import random\n",
    "from datetime import datetime, timedelta"
   ]
  },
  {
   "cell_type": "markdown",
   "metadata": {},
   "source": [
    "# Descripcion"
   ]
  },
  {
   "cell_type": "markdown",
   "metadata": {},
   "source": [
    "Los datos son notificaciones de dispositivos GPS en Mexico. En promedio generan notificaciones automatizadas cada 5 minutos si el carro esta encendido, y 30 si esta apagado.  \n",
    "\n",
    "Cada notificacion esta acompannada de un evento de lo que esta ocurriendo, y trae la latitud y longitud.  \n",
    "\n",
    "El objetico es predecir si un vehiculo esta siendo robado de acuerdo a sus notificaciones, por lo que el primer paso seria limpiar datos y hacer ingenieria de variables.\n",
    "\n",
    "Trata de hacerlo **lazy** si puedes."
   ]
  },
  {
   "cell_type": "code",
   "execution_count": 3,
   "metadata": {},
   "outputs": [],
   "source": [
    "def generate_dummy_data(num_cars, start_time, end_time, working_hours_interval, non_working_hours_interval):\n",
    "    data = []\n",
    "\n",
    "    # Define the latitude and longitude ranges for Mexico\n",
    "    min_latitude, max_latitude = 14.5388, 32.7186\n",
    "    min_longitude, max_longitude = -118.4662, -86.7104\n",
    "\n",
    "    for car_id in range(num_cars):\n",
    "        current_time = start_time\n",
    "\n",
    "        # Generate random initial latitude and longitude for each car\n",
    "        latitude = random.uniform(min_latitude, max_latitude)\n",
    "        longitude = random.uniform(min_longitude, max_longitude)\n",
    "\n",
    "        while current_time < end_time:\n",
    "            if current_time.weekday() < 5 and 9 <= current_time.hour < 17:\n",
    "                # Working hours (Monday to Friday, 9 AM to 5 PM)\n",
    "                interval = working_hours_interval\n",
    "            else:\n",
    "                # Non-working hours\n",
    "                interval = non_working_hours_interval\n",
    "\n",
    "            # Generate notification with 99% probability\n",
    "            if random.random() < 0.99:\n",
    "                notification = random.choice([\"low_fuel\", \"tire_pressure\", \"engine_check\", None])\n",
    "                data.append((f\"car_{car_id}\", current_time.isoformat(), latitude, longitude, notification))\n",
    "\n",
    "            # Generate additional notifications between intervals\n",
    "            while True:\n",
    "                additional_interval = random.expovariate(1 / (interval / 2))\n",
    "                additional_time = current_time + timedelta(minutes=additional_interval)\n",
    "                if additional_time >= current_time + timedelta(minutes=interval):\n",
    "                    break\n",
    "                notification = random.choice([\"low_fuel\", \"tire_pressure\", \"engine_check\", None])\n",
    "                data.append((f\"car_{car_id}\", additional_time.isoformat(), latitude, longitude, notification))\n",
    "\n",
    "            # Update latitude and longitude for car movement\n",
    "            latitude += random.uniform(-0.01, 0.01)\n",
    "            longitude += random.uniform(-0.01, 0.01)\n",
    "\n",
    "            # Check if the car is among the 1% that can have 100 notifications within 5 minutes\n",
    "            if random.random() < 0.01:\n",
    "                burst_start_time = current_time + timedelta(minutes=random.uniform(0, interval))\n",
    "                burst_end_time = burst_start_time + timedelta(minutes=5)\n",
    "                while current_time < burst_end_time:\n",
    "                    notification = random.choice([\"low_fuel\", \"tire_pressure\", \"engine_check\", None])\n",
    "                    data.append((f\"car_{car_id}\", current_time.isoformat(), latitude, longitude, notification))\n",
    "                    current_time += timedelta(seconds=random.uniform(1, 10))\n",
    "\n",
    "            current_time += timedelta(minutes=interval)\n",
    "\n",
    "    # Create a Polars DataFrame from the generated data\n",
    "    df = pl.DataFrame(\n",
    "        {\n",
    "            \"car_id\": [record[0] for record in data],\n",
    "            \"timestamp\": [record[1] for record in data],\n",
    "            \"latitude\": [record[2] for record in data],\n",
    "            \"longitude\": [record[3] for record in data],\n",
    "            \"notification\": [record[4] for record in data],\n",
    "        }\n",
    "    )\n",
    "\n",
    "    return df.lazy()"
   ]
  },
  {
   "cell_type": "code",
   "execution_count": 4,
   "metadata": {},
   "outputs": [
    {
     "name": "stdout",
     "output_type": "stream",
     "text": [
      "naive plan: (run LazyFrame.explain(optimized=True) to see the optimized plan)\n",
      "\n",
      "SLICE[offset: 0, len: 5]\n",
      "  DF [\"car_id\", \"timestamp\", \"latitude\", \"longitude\"]; PROJECT */5 COLUMNS; SELECTION: \"None\"\n",
      "shape: (5, 5)\n",
      "┌────────┬────────────────────────────┬───────────┬─────────────┬───────────────┐\n",
      "│ car_id ┆ timestamp                  ┆ latitude  ┆ longitude   ┆ notification  │\n",
      "│ ---    ┆ ---                        ┆ ---       ┆ ---         ┆ ---           │\n",
      "│ str    ┆ str                        ┆ f64       ┆ f64         ┆ str           │\n",
      "╞════════╪════════════════════════════╪═══════════╪═════════════╪═══════════════╡\n",
      "│ car_0  ┆ 2023-01-01T00:00:00        ┆ 24.873056 ┆ -101.559926 ┆ null          │\n",
      "│ car_0  ┆ 2023-01-01T00:08:10.675876 ┆ 24.873056 ┆ -101.559926 ┆ low_fuel      │\n",
      "│ car_0  ┆ 2023-01-01T00:30:00        ┆ 24.878691 ┆ -101.566722 ┆ engine_check  │\n",
      "│ car_0  ┆ 2023-01-01T00:35:34.824417 ┆ 24.878691 ┆ -101.566722 ┆ tire_pressure │\n",
      "│ car_0  ┆ 2023-01-01T00:34:03.351879 ┆ 24.878691 ┆ -101.566722 ┆ null          │\n",
      "└────────┴────────────────────────────┴───────────┴─────────────┴───────────────┘\n"
     ]
    }
   ],
   "source": [
    "num_cars = 1000\n",
    "start_time = datetime(2023, 1, 1, 0, 0, 0)  # Start of the week\n",
    "end_time = start_time + timedelta(weeks=1)  # End of the week\n",
    "working_hours_interval = 5  # Interval of 5 minutes during working hours\n",
    "non_working_hours_interval = 30  # Interval of 30 minutes during non-working hours\n",
    "\n",
    "# Generate the dummy data\n",
    "data = generate_dummy_data(num_cars, start_time, end_time, working_hours_interval, non_working_hours_interval)\n",
    "\n",
    "# Print the first few rows of the generated data\n",
    "print(data.head())\n",
    "print(data.collect().limit(5))"
   ]
  },
  {
   "cell_type": "markdown",
   "metadata": {},
   "source": [
    "## Limpieza de datos"
   ]
  },
  {
   "cell_type": "markdown",
   "metadata": {},
   "source": [
    "### Timestamp"
   ]
  },
  {
   "cell_type": "markdown",
   "metadata": {},
   "source": [
    "Convierte el `timestamp` que actualmente es string a formato de tiempo en polars"
   ]
  },
  {
   "cell_type": "code",
   "execution_count": 5,
   "metadata": {},
   "outputs": [
    {
     "name": "stdout",
     "output_type": "stream",
     "text": [
      "shape: (6_292_648, 5)\n",
      "┌─────────┬────────────────────────────┬───────────┬─────────────┬───────────────┐\n",
      "│ car_id  ┆ timestamp                  ┆ latitude  ┆ longitude   ┆ notification  │\n",
      "│ ---     ┆ ---                        ┆ ---       ┆ ---         ┆ ---           │\n",
      "│ str     ┆ str                        ┆ f64       ┆ f64         ┆ str           │\n",
      "╞═════════╪════════════════════════════╪═══════════╪═════════════╪═══════════════╡\n",
      "│ car_0   ┆ 2023-01-01T00:00:00.000000 ┆ 24.873056 ┆ -101.559926 ┆ null          │\n",
      "│ car_0   ┆ 2023-01-01T00:08:10.675876 ┆ 24.873056 ┆ -101.559926 ┆ low_fuel      │\n",
      "│ car_0   ┆ 2023-01-01T00:30:00.000000 ┆ 24.878691 ┆ -101.566722 ┆ engine_check  │\n",
      "│ car_0   ┆ 2023-01-01T00:35:34.824417 ┆ 24.878691 ┆ -101.566722 ┆ tire_pressure │\n",
      "│ car_0   ┆ 2023-01-01T00:34:03.351879 ┆ 24.878691 ┆ -101.566722 ┆ null          │\n",
      "│ …       ┆ …                          ┆ …         ┆ …           ┆ …             │\n",
      "│ car_999 ┆ 2023-01-07T23:57:56.798783 ┆ 16.60377  ┆ -90.89839   ┆ tire_pressure │\n",
      "│ car_999 ┆ 2023-01-07T23:45:27.206492 ┆ 16.60377  ┆ -90.89839   ┆ low_fuel      │\n",
      "│ car_999 ┆ 2023-01-08T00:04:13.472280 ┆ 16.60377  ┆ -90.89839   ┆ engine_check  │\n",
      "│ car_999 ┆ 2023-01-08T00:09:59.876368 ┆ 16.60377  ┆ -90.89839   ┆ tire_pressure │\n",
      "│ car_999 ┆ 2023-01-07T23:51:35.639114 ┆ 16.60377  ┆ -90.89839   ┆ tire_pressure │\n",
      "└─────────┴────────────────────────────┴───────────┴─────────────┴───────────────┘\n"
     ]
    }
   ],
   "source": [
    "data = data.with_columns(pl.when(pl.col(\"timestamp\").str.contains(r\"\\.\")).then(pl.col(\"timestamp\")).otherwise(pl.col(\"timestamp\") + \".000000\").alias(\"timestamp\"))\n",
    "print(data.collect())"
   ]
  },
  {
   "cell_type": "code",
   "execution_count": 6,
   "metadata": {},
   "outputs": [
    {
     "name": "stderr",
     "output_type": "stream",
     "text": [
      "/tmp/ipykernel_3951/1544832978.py:1: ChronoFormatWarning: Detected the pattern `.%f` in the chrono format string. This pattern should not be used to parse values after a decimal point. Use `%.f` instead. See the full specification: https://docs.rs/chrono/latest/chrono/format/strftime\n",
      "  data = data.with_columns(pl.col(\"timestamp\").str.strptime(pl.Datetime, \"%Y-%m-%dT%H:%M:%S.%f\"))\n"
     ]
    },
    {
     "name": "stdout",
     "output_type": "stream",
     "text": [
      "shape: (6_292_648, 5)\n",
      "┌─────────┬───────────────────────────────┬───────────┬─────────────┬───────────────┐\n",
      "│ car_id  ┆ timestamp                     ┆ latitude  ┆ longitude   ┆ notification  │\n",
      "│ ---     ┆ ---                           ┆ ---       ┆ ---         ┆ ---           │\n",
      "│ str     ┆ datetime[ns]                  ┆ f64       ┆ f64         ┆ str           │\n",
      "╞═════════╪═══════════════════════════════╪═══════════╪═════════════╪═══════════════╡\n",
      "│ car_0   ┆ 2023-01-01 00:00:00           ┆ 24.873056 ┆ -101.559926 ┆ null          │\n",
      "│ car_0   ┆ 2023-01-01 00:08:10.000675876 ┆ 24.873056 ┆ -101.559926 ┆ low_fuel      │\n",
      "│ car_0   ┆ 2023-01-01 00:30:00           ┆ 24.878691 ┆ -101.566722 ┆ engine_check  │\n",
      "│ car_0   ┆ 2023-01-01 00:35:34.000824417 ┆ 24.878691 ┆ -101.566722 ┆ tire_pressure │\n",
      "│ car_0   ┆ 2023-01-01 00:34:03.000351879 ┆ 24.878691 ┆ -101.566722 ┆ null          │\n",
      "│ …       ┆ …                             ┆ …         ┆ …           ┆ …             │\n",
      "│ car_999 ┆ 2023-01-07 23:57:56.000798783 ┆ 16.60377  ┆ -90.89839   ┆ tire_pressure │\n",
      "│ car_999 ┆ 2023-01-07 23:45:27.000206492 ┆ 16.60377  ┆ -90.89839   ┆ low_fuel      │\n",
      "│ car_999 ┆ 2023-01-08 00:04:13.000472280 ┆ 16.60377  ┆ -90.89839   ┆ engine_check  │\n",
      "│ car_999 ┆ 2023-01-08 00:09:59.000876368 ┆ 16.60377  ┆ -90.89839   ┆ tire_pressure │\n",
      "│ car_999 ┆ 2023-01-07 23:51:35.000639114 ┆ 16.60377  ┆ -90.89839   ┆ tire_pressure │\n",
      "└─────────┴───────────────────────────────┴───────────┴─────────────┴───────────────┘\n"
     ]
    }
   ],
   "source": [
    "data = data.with_columns(pl.col(\"timestamp\").str.strptime(pl.Datetime, \"%Y-%m-%dT%H:%M:%S.%f\"))\n",
    "print(data.collect())"
   ]
  },
  {
   "cell_type": "markdown",
   "metadata": {},
   "source": [
    "### Ingenieria de variables"
   ]
  },
  {
   "cell_type": "markdown",
   "metadata": {},
   "source": [
    "Dado que va a entrar a un modelo de machine learning es encesario que todas las variables sean numericas, y esten en formnato tidy. Cada observacion en una fila, y cada variable en una columna. Por lo tanto se decidio crear estadisticos y agregar los datos a intervalos uniformes de `x` minutos.  \n",
    "\n",
    "Por ejemplo, colapsar toda la informacion que ocurrion en el intervalo, como el numero de notificaciones en esos 5 minutos, el promedio entre notificaciones, y el tipo de notificaciones."
   ]
  },
  {
   "cell_type": "markdown",
   "metadata": {},
   "source": [
    "Existen varias formas de hacer esto, puedes hacerlo con `group_by` primero para crear las nuevas variables, o `group_by` (`rolling`, `dynamic`) usando operaciones sobre listas. Utiliza claude o chat_gpt"
   ]
  },
  {
   "cell_type": "markdown",
   "metadata": {},
   "source": [
    "1. Crea una nueva variable que compute la diferencia de tiempo entre notificaciones del mismo vehiculo. Piensa como lo vas a hacer. Llama a esta variable `notification_time`\n",
    "   \n"
   ]
  },
  {
   "cell_type": "code",
   "execution_count": 7,
   "metadata": {},
   "outputs": [
    {
     "name": "stdout",
     "output_type": "stream",
     "text": [
      "\n",
      "Después de explode:\n",
      "shape: (10, 8)\n",
      "┌────────┬────────────┬───────────┬────────────┬────────────┬────────────┬────────────┬────────────┐\n",
      "│ car_id ┆ timestamp  ┆ latitude  ┆ longitude  ┆ notificati ┆ latitude_f ┆ longitude_ ┆ previous_t │\n",
      "│ ---    ┆ ---        ┆ ---       ┆ ---        ┆ on         ┆ loat       ┆ float      ┆ imestamp   │\n",
      "│ str    ┆ datetime[n ┆ f64       ┆ f64        ┆ ---        ┆ ---        ┆ ---        ┆ ---        │\n",
      "│        ┆ s]         ┆           ┆            ┆ str        ┆ str        ┆ str        ┆ datetime[n │\n",
      "│        ┆            ┆           ┆            ┆            ┆            ┆            ┆ s]         │\n",
      "╞════════╪════════════╪═══════════╪════════════╪════════════╪════════════╪════════════╪════════════╡\n",
      "│ car_0  ┆ 2023-01-01 ┆ 24.873056 ┆ -101.55992 ┆ null       ┆ 24.8730556 ┆ -101.55992 ┆ null       │\n",
      "│        ┆ 00:00:00   ┆           ┆ 6          ┆            ┆ 49960033   ┆ 606261663  ┆            │\n",
      "│ car_0  ┆ 2023-01-01 ┆ 24.873056 ┆ -101.55992 ┆ low_fuel   ┆ 24.8730556 ┆ -101.55992 ┆ 2023-01-01 │\n",
      "│        ┆ 00:08:10.0 ┆           ┆ 6          ┆            ┆ 49960033   ┆ 606261663  ┆ 00:00:00   │\n",
      "│        ┆ 00675876   ┆           ┆            ┆            ┆            ┆            ┆            │\n",
      "│ car_0  ┆ 2023-01-01 ┆ 24.878691 ┆ -101.56672 ┆ engine_che ┆ 24.8786914 ┆ -101.56672 ┆ 2023-01-01 │\n",
      "│        ┆ 00:30:00   ┆           ┆ 2          ┆ ck         ┆ 44386224   ┆ 20694398   ┆ 00:08:10.0 │\n",
      "│        ┆            ┆           ┆            ┆            ┆            ┆            ┆ 00675876   │\n",
      "│ car_0  ┆ 2023-01-01 ┆ 24.878691 ┆ -101.56672 ┆ engine_che ┆ 24.8786914 ┆ -101.56672 ┆ 2023-01-01 │\n",
      "│        ┆ 00:32:13.0 ┆           ┆ 2          ┆ ck         ┆ 44386224   ┆ 20694398   ┆ 00:30:00   │\n",
      "│        ┆ 00894101   ┆           ┆            ┆            ┆            ┆            ┆            │\n",
      "│ car_0  ┆ 2023-01-01 ┆ 24.878691 ┆ -101.56672 ┆ null       ┆ 24.8786914 ┆ -101.56672 ┆ 2023-01-01 │\n",
      "│        ┆ 00:34:03.0 ┆           ┆ 2          ┆            ┆ 44386224   ┆ 20694398   ┆ 00:32:13.0 │\n",
      "│        ┆ 00351879   ┆           ┆            ┆            ┆            ┆            ┆ 00894101   │\n",
      "│ car_0  ┆ 2023-01-01 ┆ 24.878691 ┆ -101.56672 ┆ tire_press ┆ 24.8786914 ┆ -101.56672 ┆ 2023-01-01 │\n",
      "│        ┆ 00:35:34.0 ┆           ┆ 2          ┆ ure        ┆ 44386224   ┆ 20694398   ┆ 00:34:03.0 │\n",
      "│        ┆ 00824417   ┆           ┆            ┆            ┆            ┆            ┆ 00351879   │\n",
      "│ car_0  ┆ 2023-01-01 ┆ 24.869949 ┆ -101.55897 ┆ null       ┆ 24.8699494 ┆ -101.55897 ┆ 2023-01-01 │\n",
      "│        ┆ 01:00:00   ┆           ┆ 6          ┆            ┆ 70947113   ┆ 612627787  ┆ 00:35:34.0 │\n",
      "│        ┆            ┆           ┆            ┆            ┆            ┆            ┆ 00824417   │\n",
      "│ car_0  ┆ 2023-01-01 ┆ 24.869949 ┆ -101.55897 ┆ engine_che ┆ 24.8699494 ┆ -101.55897 ┆ 2023-01-01 │\n",
      "│        ┆ 01:04:36.0 ┆           ┆ 6          ┆ ck         ┆ 70947113   ┆ 612627787  ┆ 01:00:00   │\n",
      "│        ┆ 00272900   ┆           ┆            ┆            ┆            ┆            ┆            │\n",
      "│ car_0  ┆ 2023-01-01 ┆ 24.869949 ┆ -101.55897 ┆ engine_che ┆ 24.8699494 ┆ -101.55897 ┆ 2023-01-01 │\n",
      "│        ┆ 01:06:43.0 ┆           ┆ 6          ┆ ck         ┆ 70947113   ┆ 612627787  ┆ 01:04:36.0 │\n",
      "│        ┆ 00852688   ┆           ┆            ┆            ┆            ┆            ┆ 00272900   │\n",
      "│ car_0  ┆ 2023-01-01 ┆ 24.869949 ┆ -101.55897 ┆ low_fuel   ┆ 24.8699494 ┆ -101.55897 ┆ 2023-01-01 │\n",
      "│        ┆ 01:06:47.0 ┆           ┆ 6          ┆            ┆ 70947113   ┆ 612627787  ┆ 01:06:43.0 │\n",
      "│        ┆ 00522958   ┆           ┆            ┆            ┆            ┆            ┆ 00852688   │\n",
      "└────────┴────────────┴───────────┴────────────┴────────────┴────────────┴────────────┴────────────┘\n",
      "\n",
      "Después de restar:\n",
      "shape: (6_292_648, 9)\n",
      "┌─────────┬────────────┬───────────┬───────────┬───┬───────────┬───────────┬───────────┬───────────┐\n",
      "│ car_id  ┆ timestamp  ┆ latitude  ┆ longitude ┆ … ┆ latitude_ ┆ longitude ┆ previous_ ┆ notificat │\n",
      "│ ---     ┆ ---        ┆ ---       ┆ ---       ┆   ┆ float     ┆ _float    ┆ timestamp ┆ ion_time  │\n",
      "│ str     ┆ datetime[n ┆ f64       ┆ f64       ┆   ┆ ---       ┆ ---       ┆ ---       ┆ ---       │\n",
      "│         ┆ s]         ┆           ┆           ┆   ┆ str       ┆ str       ┆ datetime[ ┆ duration[ │\n",
      "│         ┆            ┆           ┆           ┆   ┆           ┆           ┆ ns]       ┆ ns]       │\n",
      "╞═════════╪════════════╪═══════════╪═══════════╪═══╪═══════════╪═══════════╪═══════════╪═══════════╡\n",
      "│ car_0   ┆ 2023-01-01 ┆ 24.873056 ┆ -101.5599 ┆ … ┆ 24.873055 ┆ -101.5599 ┆ null      ┆ null      │\n",
      "│         ┆ 00:00:00   ┆           ┆ 26        ┆   ┆ 649960033 ┆ 260626166 ┆           ┆           │\n",
      "│         ┆            ┆           ┆           ┆   ┆           ┆ 3         ┆           ┆           │\n",
      "│ car_0   ┆ 2023-01-01 ┆ 24.873056 ┆ -101.5599 ┆ … ┆ 24.873055 ┆ -101.5599 ┆ 2023-01-0 ┆ 8m 10s    │\n",
      "│         ┆ 00:08:10.0 ┆           ┆ 26        ┆   ┆ 649960033 ┆ 260626166 ┆ 1         ┆ 675876ns  │\n",
      "│         ┆ 00675876   ┆           ┆           ┆   ┆           ┆ 3         ┆ 00:00:00  ┆           │\n",
      "│ car_0   ┆ 2023-01-01 ┆ 24.878691 ┆ -101.5667 ┆ … ┆ 24.878691 ┆ -101.5667 ┆ 2023-01-0 ┆ 21m 49s   │\n",
      "│         ┆ 00:30:00   ┆           ┆ 22        ┆   ┆ 444386224 ┆ 220694398 ┆ 1 00:08:1 ┆ 999324124 │\n",
      "│         ┆            ┆           ┆           ┆   ┆           ┆           ┆ 0.0006758 ┆ ns        │\n",
      "│         ┆            ┆           ┆           ┆   ┆           ┆           ┆ 76        ┆           │\n",
      "│ car_0   ┆ 2023-01-01 ┆ 24.878691 ┆ -101.5667 ┆ … ┆ 24.878691 ┆ -101.5667 ┆ 2023-01-0 ┆ 2m 13s    │\n",
      "│         ┆ 00:32:13.0 ┆           ┆ 22        ┆   ┆ 444386224 ┆ 220694398 ┆ 1         ┆ 894101ns  │\n",
      "│         ┆ 00894101   ┆           ┆           ┆   ┆           ┆           ┆ 00:30:00  ┆           │\n",
      "│ car_0   ┆ 2023-01-01 ┆ 24.878691 ┆ -101.5667 ┆ … ┆ 24.878691 ┆ -101.5667 ┆ 2023-01-0 ┆ 1m 49s    │\n",
      "│         ┆ 00:34:03.0 ┆           ┆ 22        ┆   ┆ 444386224 ┆ 220694398 ┆ 1 00:32:1 ┆ 999457778 │\n",
      "│         ┆ 00351879   ┆           ┆           ┆   ┆           ┆           ┆ 3.0008941 ┆ ns        │\n",
      "│         ┆            ┆           ┆           ┆   ┆           ┆           ┆ 01        ┆           │\n",
      "│ …       ┆ …          ┆ …         ┆ …         ┆ … ┆ …         ┆ …         ┆ …         ┆ …         │\n",
      "│ car_999 ┆ 2023-01-07 ┆ 16.60377  ┆ -90.89839 ┆ … ┆ 16.603769 ┆ -90.89838 ┆ 2023-01-0 ┆ 5m 4s     │\n",
      "│         ┆ 23:56:39.0 ┆           ┆           ┆   ┆ 679180495 ┆ 962521382 ┆ 7 23:51:3 ┆ 191133ns  │\n",
      "│         ┆ 00830247   ┆           ┆           ┆   ┆           ┆           ┆ 5.0006391 ┆           │\n",
      "│         ┆            ┆           ┆           ┆   ┆           ┆           ┆ 14        ┆           │\n",
      "│ car_999 ┆ 2023-01-07 ┆ 16.60377  ┆ -90.89839 ┆ … ┆ 16.603769 ┆ -90.89838 ┆ 2023-01-0 ┆ 30s 99955 │\n",
      "│         ┆ 23:57:10.0 ┆           ┆           ┆   ┆ 679180495 ┆ 962521382 ┆ 7 23:56:3 ┆ 8836ns    │\n",
      "│         ┆ 00389083   ┆           ┆           ┆   ┆           ┆           ┆ 9.0008302 ┆           │\n",
      "│         ┆            ┆           ┆           ┆   ┆           ┆           ┆ 47        ┆           │\n",
      "│ car_999 ┆ 2023-01-07 ┆ 16.60377  ┆ -90.89839 ┆ … ┆ 16.603769 ┆ -90.89838 ┆ 2023-01-0 ┆ 46s       │\n",
      "│         ┆ 23:57:56.0 ┆           ┆           ┆   ┆ 679180495 ┆ 962521382 ┆ 7 23:57:1 ┆ 409700ns  │\n",
      "│         ┆ 00798783   ┆           ┆           ┆   ┆           ┆           ┆ 0.0003890 ┆           │\n",
      "│         ┆            ┆           ┆           ┆   ┆           ┆           ┆ 83        ┆           │\n",
      "│ car_999 ┆ 2023-01-08 ┆ 16.60377  ┆ -90.89839 ┆ … ┆ 16.603769 ┆ -90.89838 ┆ 2023-01-0 ┆ 6m 16s    │\n",
      "│         ┆ 00:04:13.0 ┆           ┆           ┆   ┆ 679180495 ┆ 962521382 ┆ 7 23:57:5 ┆ 999673497 │\n",
      "│         ┆ 00472280   ┆           ┆           ┆   ┆           ┆           ┆ 6.0007987 ┆ ns        │\n",
      "│         ┆            ┆           ┆           ┆   ┆           ┆           ┆ 83        ┆           │\n",
      "│ car_999 ┆ 2023-01-08 ┆ 16.60377  ┆ -90.89839 ┆ … ┆ 16.603769 ┆ -90.89838 ┆ 2023-01-0 ┆ 5m 46s    │\n",
      "│         ┆ 00:09:59.0 ┆           ┆           ┆   ┆ 679180495 ┆ 962521382 ┆ 8 00:04:1 ┆ 404088ns  │\n",
      "│         ┆ 00876368   ┆           ┆           ┆   ┆           ┆           ┆ 3.0004722 ┆           │\n",
      "│         ┆            ┆           ┆           ┆   ┆           ┆           ┆ 80        ┆           │\n",
      "└─────────┴────────────┴───────────┴───────────┴───┴───────────┴───────────┴───────────┴───────────┘\n"
     ]
    }
   ],
   "source": [
    "data = data.with_columns([\n",
    "    pl.col(\"latitude\").str.replace(\",\", \".\").str.extract(r\"(-?\\d+\\.?\\d*)\").alias(\"latitude_float\"),\n",
    "    pl.col(\"longitude\").str.replace(\",\", \".\").str.extract(r\"(-?\\d+\\.?\\d*)\").alias(\"longitude_float\")\n",
    "])\n",
    "\n",
    "#A function to order data by id_car and timestamp\n",
    "def order_data(data):\n",
    "    data = data.sort(\"car_id\", \"timestamp\")\n",
    "    return data\n",
    "#Ordena las filas por car_id y timestamp\n",
    "data = order_data(data)\n",
    "df_pre_time = data.group_by(\"car_id\", maintain_order=True).agg(pl.all(), pl.col(\"timestamp\").shift(1).alias(\"previous_timestamp\"))\n",
    "#print(agrupacion.collect().limit(5))\n",
    "#Crea la tiempo previo y agrupa por car_id\n",
    "columnas_a_explotar = [col for col in df_pre_time.columns if col != 'car_id']\n",
    "df_pre_time = df_pre_time.explode(columnas_a_explotar)\n",
    "print(\"\\nDespués de explode:\")\n",
    "print(df_pre_time.collect().limit(10))\n",
    "#Resta el timestamp actual con el timestamp previo, creando la columna notification_time\n",
    "df_pre_time = df_pre_time.with_columns((pl.col(\"timestamp\") - pl.col(\"previous_timestamp\")).alias(\"notification_time\"))\n",
    "print(\"\\nDespués de restar:\")\n",
    "\n",
    "#Copio el Df para trabajar con el mas adelante\n",
    "data = df_pre_time.clone()\n",
    "print(data.collect())"
   ]
  },
  {
   "cell_type": "markdown",
   "metadata": {},
   "source": [
    "2. Crea una nueva variable que compute la distancia que viajo el vehiculo desde la ultima notificacion. Llamala `distance`"
   ]
  },
  {
   "cell_type": "code",
   "execution_count": 8,
   "metadata": {},
   "outputs": [
    {
     "name": "stdout",
     "output_type": "stream",
     "text": [
      "\n",
      "Después de explode:\n",
      "shape: (6_292_648, 11)\n",
      "┌─────────┬────────────┬───────────┬───────────┬───┬───────────┬───────────┬───────────┬───────────┐\n",
      "│ car_id  ┆ timestamp  ┆ latitude  ┆ longitude ┆ … ┆ previous_ ┆ notificat ┆ prevlatit ┆ prevlongi │\n",
      "│ ---     ┆ ---        ┆ ---       ┆ ---       ┆   ┆ timestamp ┆ ion_time  ┆ ude       ┆ tude      │\n",
      "│ str     ┆ datetime[n ┆ f64       ┆ f64       ┆   ┆ ---       ┆ ---       ┆ ---       ┆ ---       │\n",
      "│         ┆ s]         ┆           ┆           ┆   ┆ datetime[ ┆ duration[ ┆ f64       ┆ f64       │\n",
      "│         ┆            ┆           ┆           ┆   ┆ ns]       ┆ ns]       ┆           ┆           │\n",
      "╞═════════╪════════════╪═══════════╪═══════════╪═══╪═══════════╪═══════════╪═══════════╪═══════════╡\n",
      "│ car_0   ┆ 2023-01-01 ┆ 24.873056 ┆ -101.5599 ┆ … ┆ null      ┆ null      ┆ null      ┆ null      │\n",
      "│         ┆ 00:00:00   ┆           ┆ 26        ┆   ┆           ┆           ┆           ┆           │\n",
      "│ car_0   ┆ 2023-01-01 ┆ 24.873056 ┆ -101.5599 ┆ … ┆ 2023-01-0 ┆ 8m 10s    ┆ 24.873056 ┆ -101.5599 │\n",
      "│         ┆ 00:08:10.0 ┆           ┆ 26        ┆   ┆ 1         ┆ 675876ns  ┆           ┆ 26        │\n",
      "│         ┆ 00675876   ┆           ┆           ┆   ┆ 00:00:00  ┆           ┆           ┆           │\n",
      "│ car_0   ┆ 2023-01-01 ┆ 24.878691 ┆ -101.5667 ┆ … ┆ 2023-01-0 ┆ 21m 49s   ┆ 24.873056 ┆ -101.5599 │\n",
      "│         ┆ 00:30:00   ┆           ┆ 22        ┆   ┆ 1 00:08:1 ┆ 999324124 ┆           ┆ 26        │\n",
      "│         ┆            ┆           ┆           ┆   ┆ 0.0006758 ┆ ns        ┆           ┆           │\n",
      "│         ┆            ┆           ┆           ┆   ┆ 76        ┆           ┆           ┆           │\n",
      "│ car_0   ┆ 2023-01-01 ┆ 24.878691 ┆ -101.5667 ┆ … ┆ 2023-01-0 ┆ 2m 13s    ┆ 24.878691 ┆ -101.5667 │\n",
      "│         ┆ 00:32:13.0 ┆           ┆ 22        ┆   ┆ 1         ┆ 894101ns  ┆           ┆ 22        │\n",
      "│         ┆ 00894101   ┆           ┆           ┆   ┆ 00:30:00  ┆           ┆           ┆           │\n",
      "│ car_0   ┆ 2023-01-01 ┆ 24.878691 ┆ -101.5667 ┆ … ┆ 2023-01-0 ┆ 1m 49s    ┆ 24.878691 ┆ -101.5667 │\n",
      "│         ┆ 00:34:03.0 ┆           ┆ 22        ┆   ┆ 1 00:32:1 ┆ 999457778 ┆           ┆ 22        │\n",
      "│         ┆ 00351879   ┆           ┆           ┆   ┆ 3.0008941 ┆ ns        ┆           ┆           │\n",
      "│         ┆            ┆           ┆           ┆   ┆ 01        ┆           ┆           ┆           │\n",
      "│ …       ┆ …          ┆ …         ┆ …         ┆ … ┆ …         ┆ …         ┆ …         ┆ …         │\n",
      "│ car_999 ┆ 2023-01-07 ┆ 16.60377  ┆ -90.89839 ┆ … ┆ 2023-01-0 ┆ 5m 4s     ┆ 16.60377  ┆ -90.89839 │\n",
      "│         ┆ 23:56:39.0 ┆           ┆           ┆   ┆ 7 23:51:3 ┆ 191133ns  ┆           ┆           │\n",
      "│         ┆ 00830247   ┆           ┆           ┆   ┆ 5.0006391 ┆           ┆           ┆           │\n",
      "│         ┆            ┆           ┆           ┆   ┆ 14        ┆           ┆           ┆           │\n",
      "│ car_999 ┆ 2023-01-07 ┆ 16.60377  ┆ -90.89839 ┆ … ┆ 2023-01-0 ┆ 30s 99955 ┆ 16.60377  ┆ -90.89839 │\n",
      "│         ┆ 23:57:10.0 ┆           ┆           ┆   ┆ 7 23:56:3 ┆ 8836ns    ┆           ┆           │\n",
      "│         ┆ 00389083   ┆           ┆           ┆   ┆ 9.0008302 ┆           ┆           ┆           │\n",
      "│         ┆            ┆           ┆           ┆   ┆ 47        ┆           ┆           ┆           │\n",
      "│ car_999 ┆ 2023-01-07 ┆ 16.60377  ┆ -90.89839 ┆ … ┆ 2023-01-0 ┆ 46s       ┆ 16.60377  ┆ -90.89839 │\n",
      "│         ┆ 23:57:56.0 ┆           ┆           ┆   ┆ 7 23:57:1 ┆ 409700ns  ┆           ┆           │\n",
      "│         ┆ 00798783   ┆           ┆           ┆   ┆ 0.0003890 ┆           ┆           ┆           │\n",
      "│         ┆            ┆           ┆           ┆   ┆ 83        ┆           ┆           ┆           │\n",
      "│ car_999 ┆ 2023-01-08 ┆ 16.60377  ┆ -90.89839 ┆ … ┆ 2023-01-0 ┆ 6m 16s    ┆ 16.60377  ┆ -90.89839 │\n",
      "│         ┆ 00:04:13.0 ┆           ┆           ┆   ┆ 7 23:57:5 ┆ 999673497 ┆           ┆           │\n",
      "│         ┆ 00472280   ┆           ┆           ┆   ┆ 6.0007987 ┆ ns        ┆           ┆           │\n",
      "│         ┆            ┆           ┆           ┆   ┆ 83        ┆           ┆           ┆           │\n",
      "│ car_999 ┆ 2023-01-08 ┆ 16.60377  ┆ -90.89839 ┆ … ┆ 2023-01-0 ┆ 5m 46s    ┆ 16.60377  ┆ -90.89839 │\n",
      "│         ┆ 00:09:59.0 ┆           ┆           ┆   ┆ 8 00:04:1 ┆ 404088ns  ┆           ┆           │\n",
      "│         ┆ 00876368   ┆           ┆           ┆   ┆ 3.0004722 ┆           ┆           ┆           │\n",
      "│         ┆            ┆           ┆           ┆   ┆ 80        ┆           ┆           ┆           │\n",
      "└─────────┴────────────┴───────────┴───────────┴───┴───────────┴───────────┴───────────┴───────────┘\n"
     ]
    }
   ],
   "source": [
    "#Agrego las columnas de latitud y longitud previas\n",
    "df_distance = data.group_by(\"car_id\", maintain_order=True).agg(pl.all(), pl.col(\"latitude\").shift(1).alias(\"prevlatitude\"), pl.col(\"longitude\").shift(1).alias(\"prevlongitude\"))\n",
    "columnas_a_explotar = [col for col in df_distance.columns if col != 'car_id']\n",
    "df_distance = df_distance.explode(columnas_a_explotar)\n",
    "print(\"\\nDespués de explode:\")\n",
    "print(df_distance.collect())"
   ]
  },
  {
   "cell_type": "code",
   "execution_count": 9,
   "metadata": {},
   "outputs": [
    {
     "name": "stderr",
     "output_type": "stream",
     "text": [
      "/tmp/ipykernel_3951/436578380.py:23: DeprecationWarning: `apply` is deprecated. It has been renamed to `map_elements`.\n",
      "  pl.struct([\"latitude\", \"longitude\", \"prevlatitude\", \"prevlongitude\"]).apply(\n",
      "sys:1: MapWithoutReturnDtypeWarning: Calling `map_elements` without specifying `return_dtype` can lead to unpredictable results. Specify `return_dtype` to silence this warning.\n"
     ]
    },
    {
     "name": "stdout",
     "output_type": "stream",
     "text": [
      "shape: (10, 12)\n",
      "┌────────┬────────────┬───────────┬────────────┬───┬────────────┬───────────┬───────────┬──────────┐\n",
      "│ car_id ┆ timestamp  ┆ latitude  ┆ longitude  ┆ … ┆ notificati ┆ prevlatit ┆ prevlongi ┆ distance │\n",
      "│ ---    ┆ ---        ┆ ---       ┆ ---        ┆   ┆ on_time    ┆ ude       ┆ tude      ┆ ---      │\n",
      "│ str    ┆ datetime[n ┆ f64       ┆ f64        ┆   ┆ ---        ┆ ---       ┆ ---       ┆ f64      │\n",
      "│        ┆ s]         ┆           ┆            ┆   ┆ duration[n ┆ f64       ┆ f64       ┆          │\n",
      "│        ┆            ┆           ┆            ┆   ┆ s]         ┆           ┆           ┆          │\n",
      "╞════════╪════════════╪═══════════╪════════════╪═══╪════════════╪═══════════╪═══════════╪══════════╡\n",
      "│ car_0  ┆ 2023-01-01 ┆ 24.873056 ┆ -101.55992 ┆ … ┆ null       ┆ null      ┆ null      ┆ null     │\n",
      "│        ┆ 00:00:00   ┆           ┆ 6          ┆   ┆            ┆           ┆           ┆          │\n",
      "│ car_0  ┆ 2023-01-01 ┆ 24.873056 ┆ -101.55992 ┆ … ┆ 8m 10s     ┆ 24.873056 ┆ -101.5599 ┆ 0.0      │\n",
      "│        ┆ 00:08:10.0 ┆           ┆ 6          ┆   ┆ 675876ns   ┆           ┆ 26        ┆          │\n",
      "│        ┆ 00675876   ┆           ┆            ┆   ┆            ┆           ┆           ┆          │\n",
      "│ car_0  ┆ 2023-01-01 ┆ 24.878691 ┆ -101.56672 ┆ … ┆ 21m 49s    ┆ 24.873056 ┆ -101.5599 ┆ 0.928829 │\n",
      "│        ┆ 00:30:00   ┆           ┆ 2          ┆   ┆ 999324124n ┆           ┆ 26        ┆          │\n",
      "│        ┆            ┆           ┆            ┆   ┆ s          ┆           ┆           ┆          │\n",
      "│ car_0  ┆ 2023-01-01 ┆ 24.878691 ┆ -101.56672 ┆ … ┆ 2m 13s     ┆ 24.878691 ┆ -101.5667 ┆ 0.0      │\n",
      "│        ┆ 00:32:13.0 ┆           ┆ 2          ┆   ┆ 894101ns   ┆           ┆ 22        ┆          │\n",
      "│        ┆ 00894101   ┆           ┆            ┆   ┆            ┆           ┆           ┆          │\n",
      "│ car_0  ┆ 2023-01-01 ┆ 24.878691 ┆ -101.56672 ┆ … ┆ 1m 49s 999 ┆ 24.878691 ┆ -101.5667 ┆ 0.0      │\n",
      "│        ┆ 00:34:03.0 ┆           ┆ 2          ┆   ┆ 457778ns   ┆           ┆ 22        ┆          │\n",
      "│        ┆ 00351879   ┆           ┆            ┆   ┆            ┆           ┆           ┆          │\n",
      "│ car_0  ┆ 2023-01-01 ┆ 24.878691 ┆ -101.56672 ┆ … ┆ 1m 31s     ┆ 24.878691 ┆ -101.5667 ┆ 0.0      │\n",
      "│        ┆ 00:35:34.0 ┆           ┆ 2          ┆   ┆ 472538ns   ┆           ┆ 22        ┆          │\n",
      "│        ┆ 00824417   ┆           ┆            ┆   ┆            ┆           ┆           ┆          │\n",
      "│ car_0  ┆ 2023-01-01 ┆ 24.869949 ┆ -101.55897 ┆ … ┆ 24m 25s    ┆ 24.878691 ┆ -101.5667 ┆ 1.247199 │\n",
      "│        ┆ 01:00:00   ┆           ┆ 6          ┆   ┆ 999175583n ┆           ┆ 22        ┆          │\n",
      "│        ┆            ┆           ┆            ┆   ┆ s          ┆           ┆           ┆          │\n",
      "│ car_0  ┆ 2023-01-01 ┆ 24.869949 ┆ -101.55897 ┆ … ┆ 4m 36s     ┆ 24.869949 ┆ -101.5589 ┆ 0.0      │\n",
      "│        ┆ 01:04:36.0 ┆           ┆ 6          ┆   ┆ 272900ns   ┆           ┆ 76        ┆          │\n",
      "│        ┆ 00272900   ┆           ┆            ┆   ┆            ┆           ┆           ┆          │\n",
      "│ car_0  ┆ 2023-01-01 ┆ 24.869949 ┆ -101.55897 ┆ … ┆ 2m 7s      ┆ 24.869949 ┆ -101.5589 ┆ 0.0      │\n",
      "│        ┆ 01:06:43.0 ┆           ┆ 6          ┆   ┆ 579788ns   ┆           ┆ 76        ┆          │\n",
      "│        ┆ 00852688   ┆           ┆            ┆   ┆            ┆           ┆           ┆          │\n",
      "│ car_0  ┆ 2023-01-01 ┆ 24.869949 ┆ -101.55897 ┆ … ┆ 3s 9996702 ┆ 24.869949 ┆ -101.5589 ┆ 0.0      │\n",
      "│        ┆ 01:06:47.0 ┆           ┆ 6          ┆   ┆ 70ns       ┆           ┆ 76        ┆          │\n",
      "│        ┆ 00522958   ┆           ┆            ┆   ┆            ┆           ┆           ┆          │\n",
      "└────────┴────────────┴───────────┴────────────┴───┴────────────┴───────────┴───────────┴──────────┘\n"
     ]
    }
   ],
   "source": [
    "from math import radians, sin, cos, sqrt, atan2\n",
    "\n",
    "# Función Haversine para calcular la distancia en km\n",
    "def haversine(lat1, lon1, lat2, lon2):\n",
    "    if None in (lat1, lon1, lat2, lon2):\n",
    "        return None\n",
    "\n",
    "    R = 6371.0  # Radio de la Tierra en km\n",
    "    lat1, lon1, lat2, lon2 = map(radians, [lat1, lon1, lat2, lon2])\n",
    "    dlon = lon2 - lon1\n",
    "    dlat = lat2 - lat1\n",
    "    a = sin(dlat / 2)**2 + cos(lat1) * cos(lat2) * sin(dlon / 2)**2\n",
    "    c = 2 * atan2(sqrt(a), sqrt(1 - a))\n",
    "    return R * c\n",
    "\n",
    "# Calcula la distancia solo si todas las coordenadas están presentes\n",
    "distance_expr = pl.when(\n",
    "    pl.col(\"latitude\").is_not_null() &\n",
    "    pl.col(\"longitude\").is_not_null() &\n",
    "    pl.col(\"prevlatitude\").is_not_null() &\n",
    "    pl.col(\"prevlongitude\").is_not_null()\n",
    ").then(\n",
    "    pl.struct([\"latitude\", \"longitude\", \"prevlatitude\", \"prevlongitude\"]).apply(\n",
    "        lambda row: haversine(row[\"latitude\"], row[\"longitude\"], row[\"prevlatitude\"], row[\"prevlongitude\"])\n",
    "    )\n",
    ").otherwise(pl.lit(None)).alias(\"distance\")\n",
    "\n",
    "# Aplicar la expresión al DataFrame\n",
    "df_with_distance = df_distance.with_columns(distance_expr)\n",
    "\n",
    "# Visualizar el resultado\n",
    "print(df_with_distance.collect().limit(10))"
   ]
  },
  {
   "cell_type": "markdown",
   "metadata": {},
   "source": [
    "3. Crea intervalos de `x` minutos por carro. Como el numero de notificaciones en esos intervalos no es uniforme tienes que buscar funciones de polars especificas, pero ademas tienen que ser por vehiculo, pues tienen que ser del mismo. Revisa las funciones de `group_by` `dynamic` y `rolling`.\n",
    "   1. Computa la media, mediana, varianza, max y min de `notification_time` los intervalos de `x` minutos\n",
    "   2. Computa la media, mediana, varianza, max y min de `distance`\n"
   ]
  },
  {
   "cell_type": "code",
   "execution_count": 12,
   "metadata": {},
   "outputs": [
    {
     "ename": "AttributeError",
     "evalue": "'ExprDateTimeNameSpace' object has no attribute 'to_timestamp'",
     "output_type": "error",
     "traceback": [
      "\u001b[0;31m---------------------------------------------------------------------------\u001b[0m",
      "\u001b[0;31mAttributeError\u001b[0m                            Traceback (most recent call last)",
      "Cell \u001b[0;32mIn[12], line 13\u001b[0m\n\u001b[1;32m      7\u001b[0m intervalo_nanosegundos \u001b[38;5;241m=\u001b[39m x_minutos \u001b[38;5;241m*\u001b[39m \u001b[38;5;241m60\u001b[39m \u001b[38;5;241m*\u001b[39m \u001b[38;5;241m1_000_000_000\u001b[39m\n\u001b[1;32m      9\u001b[0m \u001b[38;5;66;03m# Crear una columna con los intervalos de tiempo\u001b[39;00m\n\u001b[1;32m     10\u001b[0m df_with_distance \u001b[38;5;241m=\u001b[39m df_with_distance\u001b[38;5;241m.\u001b[39mwith_columns(\n\u001b[1;32m     11\u001b[0m     \u001b[43mpl\u001b[49m\u001b[38;5;241;43m.\u001b[39;49m\u001b[43mcol\u001b[49m\u001b[43m(\u001b[49m\u001b[38;5;124;43m\"\u001b[39;49m\u001b[38;5;124;43mnotification_time\u001b[39;49m\u001b[38;5;124;43m\"\u001b[39;49m\u001b[43m)\u001b[49m\n\u001b[1;32m     12\u001b[0m \u001b[43m    \u001b[49m\u001b[38;5;241;43m.\u001b[39;49m\u001b[43mdt\u001b[49m\u001b[38;5;241;43m.\u001b[39;49m\u001b[43mtruncate\u001b[49m\u001b[43m(\u001b[49m\u001b[38;5;124;43m\"\u001b[39;49m\u001b[38;5;124;43m1s\u001b[39;49m\u001b[38;5;124;43m\"\u001b[39;49m\u001b[43m)\u001b[49m\n\u001b[0;32m---> 13\u001b[0m \u001b[43m    \u001b[49m\u001b[38;5;241;43m.\u001b[39;49m\u001b[43mdt\u001b[49m\u001b[38;5;241;43m.\u001b[39;49m\u001b[43mto_timestamp\u001b[49m()\n\u001b[1;32m     14\u001b[0m     \u001b[38;5;241m.\u001b[39mapply(\u001b[38;5;28;01mlambda\u001b[39;00m x: (x \u001b[38;5;241m/\u001b[39m\u001b[38;5;241m/\u001b[39m intervalo_nanosegundos) \u001b[38;5;241m*\u001b[39m intervalo_nanosegundos)\n\u001b[1;32m     15\u001b[0m     \u001b[38;5;241m.\u001b[39malias(\u001b[38;5;124m\"\u001b[39m\u001b[38;5;124mintervalo\u001b[39m\u001b[38;5;124m\"\u001b[39m)\n\u001b[1;32m     16\u001b[0m )\n\u001b[1;32m     18\u001b[0m \u001b[38;5;66;03m# Agrupar por carro y calcular estadísticas utilizando group_by_dynamic\u001b[39;00m\n\u001b[1;32m     19\u001b[0m df_stats \u001b[38;5;241m=\u001b[39m (\n\u001b[1;32m     20\u001b[0m     df_with_distance\u001b[38;5;241m.\u001b[39mgroup_by_dynamic(\n\u001b[1;32m     21\u001b[0m         [\u001b[38;5;124m\"\u001b[39m\u001b[38;5;124mcar_id\u001b[39m\u001b[38;5;124m\"\u001b[39m, pl\u001b[38;5;241m.\u001b[39mcol(\u001b[38;5;124m\"\u001b[39m\u001b[38;5;124mintervalo\u001b[39m\u001b[38;5;124m\"\u001b[39m)],\n\u001b[0;32m   (...)\u001b[0m\n\u001b[1;32m     41\u001b[0m     \u001b[38;5;241m.\u001b[39msort([\u001b[38;5;124m\"\u001b[39m\u001b[38;5;124mcar_id\u001b[39m\u001b[38;5;124m\"\u001b[39m, \u001b[38;5;124m\"\u001b[39m\u001b[38;5;124mintervalo\u001b[39m\u001b[38;5;124m\"\u001b[39m])\n\u001b[1;32m     42\u001b[0m )\n",
      "\u001b[0;31mAttributeError\u001b[0m: 'ExprDateTimeNameSpace' object has no attribute 'to_timestamp'"
     ]
    }
   ],
   "source": [
    "import polars as pl\n",
    "\n",
    "# Definir el tamaño del intervalo en minutos\n",
    "x_minutos = 5\n",
    "\n",
    "# Calcular el intervalo de tiempo en nanosegundos\n",
    "intervalo_nanosegundos = x_minutos * 60 * 1_000_000_000\n",
    "\n",
    "# Crear una columna con los intervalos de tiempo\n",
    "df_with_distance = df_with_distance.with_columns(\n",
    "    pl.col(\"notification_time\")\n",
    "    .dt.truncate(\"1s\")\n",
    "    .dt.to_timestamp()\n",
    "    .apply(lambda x: (x // intervalo_nanosegundos) * intervalo_nanosegundos)\n",
    "    .alias(\"intervalo\")\n",
    ")\n",
    "\n",
    "# Agrupar por carro y calcular estadísticas utilizando group_by_dynamic\n",
    "df_stats = (\n",
    "    df_with_distance.group_by_dynamic(\n",
    "        [\"car_id\", pl.col(\"intervalo\")],\n",
    "        every=\"5m\",\n",
    "        closed=\"left\",\n",
    "        label_encodings={\n",
    "            \"notification_time\": [\n",
    "                (\"mean_time\", pl.col(\"notification_time\").mean()),\n",
    "                (\"median_time\", pl.col(\"notification_time\").median()),\n",
    "                (\"var_time\", pl.col(\"notification_time\").var()),\n",
    "                (\"max_time\", pl.col(\"notification_time\").max()),\n",
    "                (\"min_time\", pl.col(\"notification_time\").min()),\n",
    "            ],\n",
    "            \"distance\": [\n",
    "                (\"mean_distance\", pl.col(\"distance\").mean()),\n",
    "                (\"median_distance\", pl.col(\"distance\").median()),\n",
    "                (\"var_distance\", pl.col(\"distance\").var()),\n",
    "                (\"max_distance\", pl.col(\"distance\").max()),\n",
    "                (\"min_distance\", pl.col(\"distance\").min()),\n",
    "            ],\n",
    "        },\n",
    "    )\n",
    "    .sort([\"car_id\", \"intervalo\"])\n",
    ")\n",
    "\n",
    "print(df_stats)"
   ]
  },
  {
   "cell_type": "code",
   "execution_count": null,
   "metadata": {},
   "outputs": [],
   "source": []
  }
 ],
 "metadata": {
  "kernelspec": {
   "display_name": "itam",
   "language": "python",
   "name": "python3"
  },
  "language_info": {
   "codemirror_mode": {
    "name": "ipython",
    "version": 3
   },
   "file_extension": ".py",
   "mimetype": "text/x-python",
   "name": "python",
   "nbconvert_exporter": "python",
   "pygments_lexer": "ipython3",
   "version": "3.11.8"
  }
 },
 "nbformat": 4,
 "nbformat_minor": 2
}
