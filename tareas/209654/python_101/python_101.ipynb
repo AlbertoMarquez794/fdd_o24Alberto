Miguel de Jesús Palacios Rivera 209654

Sin gráficos:
import numpy as np
from joblib import Parallel, delayed
import multiprocessing
import time

# Example array with 100000 random numbers
data = np.random.rand(100000)

# Function to calculate the square of a number
def square(x):
  return x**2

  # 1. Using a for loop
  start_time = time.time()
  sum_for = 0
  for x in data:
    sum_for += x**2
    end_time = time.time()
    print(f"Sum using for loop: {sum_for} - Time: {end_time - start_time} seconds")

    # 2. Using NumPy vectorization
    start_time = time.time()
    sum_np = np.sum(data**2)
    end_time = time.time()
    print(f"Sum using NumPy: {sum_np} - Time: {end_time - start_time} seconds")

    # 3. Using joblib
    start_time = time.time()
    results = Parallel(n_jobs=-1)(delayed(square)(x) for x in data)
    sum_joblib = np.sum(results)
    end_time = time.time()
    print(f"Sum using joblib: {sum_joblib} - Time: {end_time - start_time} seconds")

    # 4. Using multiprocessing
    start_time = time.time()
    pool = multiprocessing.Pool(processes=multiprocessing.cpu_count())
    results = pool.map(square, data)
    pool.close()
    pool.join()
    sum_multiprocessing = np.sum(results)
    end_time = time.time()
    print(f"Sum using multiprocessing: {sum_multiprocessing} - Time: {end_time - start_time} seconds")

Con gráficos:

import numpy as np
from joblib import Parallel, delayed
import multiprocessing
import time
import matplotlib.pyplot as plt

# Example array with 100000 random numbers
data = np.random.rand(100000)

# Function to calculate the square of a number
def square(x):
  return x**2

# Number of experiments to run
num_experiments = 10

# Store the results for each method
results = {
    "for": [],
    "numpy": [],
    "joblib": [],
    "multiprocessing": []
}

# Run the experiments
for _ in range(num_experiments):
  # 1. Using a for loop
  start_time = time.time()
  sum_for = 0
  for x in data:
    sum_for += x**2
  end_time = time.time()
  results["for"].append(end_time - start_time)

  # 2. Using NumPy vectorization
  start_time = time.time()
  sum_np = np.sum(data**2)
  end_time = time.time()
  results["numpy"].append(end_time - start_time)

  # 3. Using joblib
  start_time = time.time()
  temp_results = Parallel(n_jobs=-1)(delayed(square)(x) for x in data)
  sum_joblib = np.sum(temp_results)
  end_time = time.time()
  results["joblib"].append(end_time - start_time)

  # 4. Using multiprocessing
  start_time = time.time()
  pool = multiprocessing.Pool(processes=multiprocessing.cpu_count())
  temp_results = pool.map(square, data)
  pool.close()
  pool.join()
  sum_multiprocessing = np.sum(temp_results)
  end_time = time.time()
  results["multiprocessing"].append(end_time - start_time)

# Calculate basic statistics
for method, times in results.items():
  print(f"{method}:")
  print(f"  Mean: {np.mean(times):.4f} seconds")
  print(f"  Standard Deviation: {np.std(times):.4f} seconds")

# Create a box plot to compare execution times
plt.figure(figsize=(10, 6))
plt.boxplot(results.values(), labels=results.keys())
plt.ylabel("Execution Time (seconds)")
plt.title("Comparison of Execution Times for Different Methods")
plt.show()
