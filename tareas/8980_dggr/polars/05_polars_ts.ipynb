{
 "cells": [
  {
   "cell_type": "code",
   "execution_count": 491,
   "metadata": {},
   "outputs": [],
   "source": [
    "import polars as pl\n",
    "import numpy as np\n",
    "import random\n",
    "from datetime import datetime, timedelta\n",
    "import math"
   ]
  },
  {
   "cell_type": "markdown",
   "metadata": {},
   "source": [
    "# Descripcion"
   ]
  },
  {
   "cell_type": "markdown",
   "metadata": {},
   "source": [
    "Los datos son notificaciones de dispositivos GPS en Mexico. En promedio generan notificaciones automatizadas cada 5 minutos si el carro esta encendido, y 30 si esta apagado.  \n",
    "\n",
    "Cada notificacion esta acompannada de un evento de lo que esta ocurriendo, y trae la latitud y longitud.  \n",
    "\n",
    "El objetico es predecir si un vehiculo esta siendo robado de acuerdo a sus notificaciones, por lo que el primer paso seria limpiar datos y hacer ingenieria de variables.\n",
    "\n",
    "Trata de hacerlo **lazy** si puedes."
   ]
  },
  {
   "cell_type": "code",
   "execution_count": 492,
   "metadata": {},
   "outputs": [],
   "source": [
    "def generate_dummy_data(num_cars, start_time, end_time, working_hours_interval, non_working_hours_interval):\n",
    "    data = []\n",
    "\n",
    "    # Define the latitude and longitude ranges for Mexico\n",
    "    min_latitude, max_latitude = 14.5388, 32.7186\n",
    "    min_longitude, max_longitude = -118.4662, -86.7104\n",
    "\n",
    "    for car_id in range(num_cars):\n",
    "        current_time = start_time\n",
    "\n",
    "        # Generate random initial latitude and longitude for each car\n",
    "        latitude = random.uniform(min_latitude, max_latitude)\n",
    "        longitude = random.uniform(min_longitude, max_longitude)\n",
    "\n",
    "        while current_time < end_time:\n",
    "            if current_time.weekday() < 5 and 9 <= current_time.hour < 17:\n",
    "                # Working hours (Monday to Friday, 9 AM to 5 PM)\n",
    "                interval = working_hours_interval\n",
    "            else:\n",
    "                # Non-working hours\n",
    "                interval = non_working_hours_interval\n",
    "\n",
    "            # Generate notification with 99% probability\n",
    "            if random.random() < 0.99:\n",
    "                notification = random.choice([\"low_fuel\", \"tire_pressure\", \"engine_check\", None])\n",
    "                data.append((f\"car_{car_id}\", current_time.isoformat(), latitude, longitude, notification))\n",
    "\n",
    "            # Generate additional notifications between intervals\n",
    "            while True:\n",
    "                additional_interval = random.expovariate(1 / (interval / 2))\n",
    "                additional_time = current_time + timedelta(minutes=additional_interval)\n",
    "                if additional_time >= current_time + timedelta(minutes=interval):\n",
    "                    break\n",
    "                notification = random.choice([\"low_fuel\", \"tire_pressure\", \"engine_check\", None])\n",
    "                data.append((f\"car_{car_id}\", additional_time.isoformat(), latitude, longitude, notification))\n",
    "\n",
    "            # Update latitude and longitude for car movement\n",
    "            latitude += random.uniform(-0.01, 0.01)\n",
    "            longitude += random.uniform(-0.01, 0.01)\n",
    "\n",
    "            # Check if the car is among the 1% that can have 100 notifications within 5 minutes\n",
    "            if random.random() < 0.01:\n",
    "                burst_start_time = current_time + timedelta(minutes=random.uniform(0, interval))\n",
    "                burst_end_time = burst_start_time + timedelta(minutes=5)\n",
    "                while current_time < burst_end_time:\n",
    "                    notification = random.choice([\"low_fuel\", \"tire_pressure\", \"engine_check\", None])\n",
    "                    data.append((f\"car_{car_id}\", current_time.isoformat(), latitude, longitude, notification))\n",
    "                    current_time += timedelta(seconds=random.uniform(1, 10))\n",
    "\n",
    "            current_time += timedelta(minutes=interval)\n",
    "\n",
    "    # Create a Polars DataFrame from the generated data\n",
    "    df = pl.DataFrame(\n",
    "        {\n",
    "            \"car_id\": [record[0] for record in data],\n",
    "            \"timestamp\": [record[1] for record in data],\n",
    "            \"latitude\": [record[2] for record in data],\n",
    "            \"longitude\": [record[3] for record in data],\n",
    "            \"notification\": [record[4] for record in data],\n",
    "        }\n",
    "    )\n",
    "\n",
    "    return df.lazy()"
   ]
  },
  {
   "cell_type": "code",
   "execution_count": 493,
   "metadata": {},
   "outputs": [
    {
     "name": "stdout",
     "output_type": "stream",
     "text": [
      "shape: (626_765, 5)\n",
      "┌────────┬────────────────────────────┬───────────┬────────────┬───────────────┐\n",
      "│ car_id ┆ timestamp                  ┆ latitude  ┆ longitude  ┆ notification  │\n",
      "│ ---    ┆ ---                        ┆ ---       ┆ ---        ┆ ---           │\n",
      "│ str    ┆ str                        ┆ f64       ┆ f64        ┆ str           │\n",
      "╞════════╪════════════════════════════╪═══════════╪════════════╪═══════════════╡\n",
      "│ car_0  ┆ 2023-01-01T00:00:00        ┆ 22.215707 ┆ -87.247012 ┆ null          │\n",
      "│ car_0  ┆ 2023-01-01T00:00:12.072124 ┆ 22.215707 ┆ -87.247012 ┆ low_fuel      │\n",
      "│ car_0  ┆ 2023-01-01T00:03:23.479548 ┆ 22.215707 ┆ -87.247012 ┆ null          │\n",
      "│ car_0  ┆ 2023-01-01T00:01:48.588853 ┆ 22.215707 ┆ -87.247012 ┆ low_fuel      │\n",
      "│ car_0  ┆ 2023-01-01T00:07:12.508478 ┆ 22.215707 ┆ -87.247012 ┆ low_fuel      │\n",
      "│ …      ┆ …                          ┆ …         ┆ …          ┆ …             │\n",
      "│ car_99 ┆ 2023-01-07T23:30:43.638660 ┆ 28.315187 ┆ -109.47264 ┆ low_fuel      │\n",
      "│ car_99 ┆ 2023-01-07T23:49:06.192804 ┆ 28.315187 ┆ -109.47264 ┆ tire_pressure │\n",
      "│ car_99 ┆ 2023-01-07T23:38:03.584758 ┆ 28.315187 ┆ -109.47264 ┆ engine_check  │\n",
      "│ car_99 ┆ 2023-01-07T23:42:07.505176 ┆ 28.315187 ┆ -109.47264 ┆ low_fuel      │\n",
      "│ car_99 ┆ 2023-01-07T23:49:32.149881 ┆ 28.315187 ┆ -109.47264 ┆ null          │\n",
      "└────────┴────────────────────────────┴───────────┴────────────┴───────────────┘\n"
     ]
    }
   ],
   "source": [
    "num_cars = 100\n",
    "start_time = datetime(2023, 1, 1, 0, 0, 0)  # Start of the week\n",
    "end_time = start_time + timedelta(weeks=1)  # End of the week\n",
    "working_hours_interval = 5  # Interval of 5 minutes during working hours\n",
    "non_working_hours_interval = 30  # Interval of 30 minutes during non-working hours\n",
    "\n",
    "# Generate the dummy data\n",
    "data = generate_dummy_data(num_cars, start_time, end_time, working_hours_interval, non_working_hours_interval)\n",
    "\n",
    "# Print the first few rows of the generated data\n",
    "print(data.collect())"
   ]
  },
  {
   "cell_type": "markdown",
   "metadata": {},
   "source": [
    "## Limpieza de datos"
   ]
  },
  {
   "cell_type": "markdown",
   "metadata": {},
   "source": [
    "### Timestamp"
   ]
  },
  {
   "cell_type": "markdown",
   "metadata": {},
   "source": [
    "Convierte el `timestamp` que actualmente es string a formato de tiempo en polars"
   ]
  },
  {
   "cell_type": "code",
   "execution_count": 494,
   "metadata": {},
   "outputs": [
    {
     "name": "stdout",
     "output_type": "stream",
     "text": [
      "shape: (626_765, 5)\n",
      "┌────────┬────────────────────────────┬───────────┬────────────┬───────────────┐\n",
      "│ car_id ┆ timestamp                  ┆ latitude  ┆ longitude  ┆ notification  │\n",
      "│ ---    ┆ ---                        ┆ ---       ┆ ---        ┆ ---           │\n",
      "│ str    ┆ datetime[μs]               ┆ f64       ┆ f64        ┆ str           │\n",
      "╞════════╪════════════════════════════╪═══════════╪════════════╪═══════════════╡\n",
      "│ car_0  ┆ 2023-01-01 00:00:00        ┆ 22.215707 ┆ -87.247012 ┆ null          │\n",
      "│ car_0  ┆ 2023-01-01 00:00:12.072124 ┆ 22.215707 ┆ -87.247012 ┆ low_fuel      │\n",
      "│ car_0  ┆ 2023-01-01 00:03:23.479548 ┆ 22.215707 ┆ -87.247012 ┆ null          │\n",
      "│ car_0  ┆ 2023-01-01 00:01:48.588853 ┆ 22.215707 ┆ -87.247012 ┆ low_fuel      │\n",
      "│ car_0  ┆ 2023-01-01 00:07:12.508478 ┆ 22.215707 ┆ -87.247012 ┆ low_fuel      │\n",
      "│ …      ┆ …                          ┆ …         ┆ …          ┆ …             │\n",
      "│ car_99 ┆ 2023-01-07 23:30:43.638660 ┆ 28.315187 ┆ -109.47264 ┆ low_fuel      │\n",
      "│ car_99 ┆ 2023-01-07 23:49:06.192804 ┆ 28.315187 ┆ -109.47264 ┆ tire_pressure │\n",
      "│ car_99 ┆ 2023-01-07 23:38:03.584758 ┆ 28.315187 ┆ -109.47264 ┆ engine_check  │\n",
      "│ car_99 ┆ 2023-01-07 23:42:07.505176 ┆ 28.315187 ┆ -109.47264 ┆ low_fuel      │\n",
      "│ car_99 ┆ 2023-01-07 23:49:32.149881 ┆ 28.315187 ┆ -109.47264 ┆ null          │\n",
      "└────────┴────────────────────────────┴───────────┴────────────┴───────────────┘\n"
     ]
    }
   ],
   "source": [
    "data = data.with_columns(pl.col(\"timestamp\").cast(pl.Datetime))\n",
    "print(data.collect())"
   ]
  },
  {
   "cell_type": "markdown",
   "metadata": {},
   "source": [
    "### Ingenieria de variables"
   ]
  },
  {
   "cell_type": "markdown",
   "metadata": {},
   "source": [
    "Dado que va a entrar a un modelo de machine learning es encesario que todas las variables sean numericas, y esten en formnato tidy. Cada observacion en una fila, y cada variable en una columna. Por lo tanto se decidio crear estadisticos y agregar los datos a intervalos uniformes de `x` minutos.  \n",
    "\n",
    "Por ejemplo, colapsar toda la informacion que ocurrion en el intervalo, como el numero de notificaciones en esos 5 minutos, el promedio entre notificaciones, y el tipo de notificaciones."
   ]
  },
  {
   "cell_type": "markdown",
   "metadata": {},
   "source": [
    "Existen varias formas de hacer esto, puedes hacerlo con `group_by` primero para crear las nuevas variables, o `group_by` (`rolling`, `dynamic`) usando operaciones sobre listas. Utiliza claude o chat_gpt"
   ]
  },
  {
   "cell_type": "markdown",
   "metadata": {},
   "source": [
    "1. Crea una nueva variable que compute la diferencia de tiempo entre notificaciones del mismo vehiculo. Piensa como lo vas a hacer. Llama a esta variable `notification_time`\n",
    "   \n"
   ]
  },
  {
   "cell_type": "code",
   "execution_count": 495,
   "metadata": {},
   "outputs": [
    {
     "name": "stdout",
     "output_type": "stream",
     "text": [
      "shape: (626_765, 6)\n",
      "┌────────┬────────────────────────────┬───────────┬────────────┬───────────────┬───────────────────┐\n",
      "│ car_id ┆ timestamp                  ┆ latitude  ┆ longitude  ┆ notification  ┆ notification_time │\n",
      "│ ---    ┆ ---                        ┆ ---       ┆ ---        ┆ ---           ┆ ---               │\n",
      "│ str    ┆ datetime[μs]               ┆ f64       ┆ f64        ┆ str           ┆ duration[μs]      │\n",
      "╞════════╪════════════════════════════╪═══════════╪════════════╪═══════════════╪═══════════════════╡\n",
      "│ car_0  ┆ 2023-01-01 00:00:00        ┆ 22.215707 ┆ -87.247012 ┆ null          ┆ null              │\n",
      "│ car_0  ┆ 2023-01-01 00:00:12.072124 ┆ 22.215707 ┆ -87.247012 ┆ low_fuel      ┆ 12s 72124µs       │\n",
      "│ car_0  ┆ 2023-01-01 00:01:48.588853 ┆ 22.215707 ┆ -87.247012 ┆ low_fuel      ┆ 1m 36s 516729µs   │\n",
      "│ car_0  ┆ 2023-01-01 00:03:23.479548 ┆ 22.215707 ┆ -87.247012 ┆ null          ┆ 1m 34s 890695µs   │\n",
      "│ car_0  ┆ 2023-01-01 00:04:20.635662 ┆ 22.215707 ┆ -87.247012 ┆ engine_check  ┆ 57s 156114µs      │\n",
      "│ …      ┆ …                          ┆ …         ┆ …          ┆ …             ┆ …                 │\n",
      "│ car_99 ┆ 2023-01-07 23:49:06.192804 ┆ 28.315187 ┆ -109.47264 ┆ tire_pressure ┆ 1m 24s 220704µs   │\n",
      "│ car_99 ┆ 2023-01-07 23:49:32.149881 ┆ 28.315187 ┆ -109.47264 ┆ null          ┆ 25s 957077µs      │\n",
      "│ car_99 ┆ 2023-01-07 23:51:27.519741 ┆ 28.315187 ┆ -109.47264 ┆ engine_check  ┆ 1m 55s 369860µs   │\n",
      "│ car_99 ┆ 2023-01-07 23:57:54.617490 ┆ 28.315187 ┆ -109.47264 ┆ low_fuel      ┆ 6m 27s 97749µs    │\n",
      "│ car_99 ┆ 2023-01-07 23:58:34.921941 ┆ 28.315187 ┆ -109.47264 ┆ engine_check  ┆ 40s 304451µs      │\n",
      "└────────┴────────────────────────────┴───────────┴────────────┴───────────────┴───────────────────┘\n"
     ]
    }
   ],
   "source": [
    "data = data.sort('car_id', 'timestamp')\n",
    "data = data.with_columns([pl.col(\"timestamp\").diff().over(\"car_id\").alias(\"notification_time\")])\n",
    "print(data.collect())"
   ]
  },
  {
   "cell_type": "markdown",
   "metadata": {},
   "source": [
    "2. Crea una nueva variable que compute la distancia que viajo el vehiculo desde la ultima notificacion. Llamala `distance`"
   ]
  },
  {
   "cell_type": "code",
   "execution_count": 496,
   "metadata": {},
   "outputs": [
    {
     "name": "stdout",
     "output_type": "stream",
     "text": [
      "shape: (626_765, 8)\n",
      "┌────────┬────────────┬───────────┬────────────┬────────────┬────────────┬────────────┬────────────┐\n",
      "│ car_id ┆ timestamp  ┆ latitude  ┆ longitude  ┆ notificati ┆ notificati ┆ delta_lati ┆ delta_long │\n",
      "│ ---    ┆ ---        ┆ ---       ┆ ---        ┆ on         ┆ on_time    ┆ tude       ┆ itude      │\n",
      "│ str    ┆ datetime[μ ┆ f64       ┆ f64        ┆ ---        ┆ ---        ┆ ---        ┆ ---        │\n",
      "│        ┆ s]         ┆           ┆            ┆ str        ┆ duration[μ ┆ f64        ┆ f64        │\n",
      "│        ┆            ┆           ┆            ┆            ┆ s]         ┆            ┆            │\n",
      "╞════════╪════════════╪═══════════╪════════════╪════════════╪════════════╪════════════╪════════════╡\n",
      "│ car_0  ┆ 2023-01-01 ┆ 22.215707 ┆ -87.247012 ┆ null       ┆ null       ┆ null       ┆ null       │\n",
      "│        ┆ 00:00:00   ┆           ┆            ┆            ┆            ┆            ┆            │\n",
      "│ car_0  ┆ 2023-01-01 ┆ 22.215707 ┆ -87.247012 ┆ low_fuel   ┆ 12s        ┆ 0.0        ┆ 0.0        │\n",
      "│        ┆ 00:00:12.0 ┆           ┆            ┆            ┆ 72124µs    ┆            ┆            │\n",
      "│        ┆ 72124      ┆           ┆            ┆            ┆            ┆            ┆            │\n",
      "│ car_0  ┆ 2023-01-01 ┆ 22.215707 ┆ -87.247012 ┆ low_fuel   ┆ 1m 36s     ┆ 0.0        ┆ 0.0        │\n",
      "│        ┆ 00:01:48.5 ┆           ┆            ┆            ┆ 516729µs   ┆            ┆            │\n",
      "│        ┆ 88853      ┆           ┆            ┆            ┆            ┆            ┆            │\n",
      "│ car_0  ┆ 2023-01-01 ┆ 22.215707 ┆ -87.247012 ┆ null       ┆ 1m 34s     ┆ 0.0        ┆ 0.0        │\n",
      "│        ┆ 00:03:23.4 ┆           ┆            ┆            ┆ 890695µs   ┆            ┆            │\n",
      "│        ┆ 79548      ┆           ┆            ┆            ┆            ┆            ┆            │\n",
      "│ car_0  ┆ 2023-01-01 ┆ 22.215707 ┆ -87.247012 ┆ engine_che ┆ 57s        ┆ 0.0        ┆ 0.0        │\n",
      "│        ┆ 00:04:20.6 ┆           ┆            ┆ ck         ┆ 156114µs   ┆            ┆            │\n",
      "│        ┆ 35662      ┆           ┆            ┆            ┆            ┆            ┆            │\n",
      "│ …      ┆ …          ┆ …         ┆ …          ┆ …          ┆ …          ┆ …          ┆ …          │\n",
      "│ car_99 ┆ 2023-01-07 ┆ 28.315187 ┆ -109.47264 ┆ tire_press ┆ 1m 24s     ┆ 0.0        ┆ 0.0        │\n",
      "│        ┆ 23:49:06.1 ┆           ┆            ┆ ure        ┆ 220704µs   ┆            ┆            │\n",
      "│        ┆ 92804      ┆           ┆            ┆            ┆            ┆            ┆            │\n",
      "│ car_99 ┆ 2023-01-07 ┆ 28.315187 ┆ -109.47264 ┆ null       ┆ 25s        ┆ 0.0        ┆ 0.0        │\n",
      "│        ┆ 23:49:32.1 ┆           ┆            ┆            ┆ 957077µs   ┆            ┆            │\n",
      "│        ┆ 49881      ┆           ┆            ┆            ┆            ┆            ┆            │\n",
      "│ car_99 ┆ 2023-01-07 ┆ 28.315187 ┆ -109.47264 ┆ engine_che ┆ 1m 55s     ┆ 0.0        ┆ 0.0        │\n",
      "│        ┆ 23:51:27.5 ┆           ┆            ┆ ck         ┆ 369860µs   ┆            ┆            │\n",
      "│        ┆ 19741      ┆           ┆            ┆            ┆            ┆            ┆            │\n",
      "│ car_99 ┆ 2023-01-07 ┆ 28.315187 ┆ -109.47264 ┆ low_fuel   ┆ 6m 27s     ┆ 0.0        ┆ 0.0        │\n",
      "│        ┆ 23:57:54.6 ┆           ┆            ┆            ┆ 97749µs    ┆            ┆            │\n",
      "│        ┆ 17490      ┆           ┆            ┆            ┆            ┆            ┆            │\n",
      "│ car_99 ┆ 2023-01-07 ┆ 28.315187 ┆ -109.47264 ┆ engine_che ┆ 40s        ┆ 0.0        ┆ 0.0        │\n",
      "│        ┆ 23:58:34.9 ┆           ┆            ┆ ck         ┆ 304451µs   ┆            ┆            │\n",
      "│        ┆ 21941      ┆           ┆            ┆            ┆            ┆            ┆            │\n",
      "└────────┴────────────┴───────────┴────────────┴────────────┴────────────┴────────────┴────────────┘\n"
     ]
    }
   ],
   "source": [
    "data = data.with_columns([\n",
    "    pl.col(\"latitude\").diff().over(\"car_id\").alias(\"delta_latitude\"),\n",
    "    pl.col(\"longitude\").diff().over(\"car_id\").alias(\"delta_longitude\"),\n",
    "])\n",
    "print(data.collect())"
   ]
  },
  {
   "cell_type": "code",
   "execution_count": 497,
   "metadata": {},
   "outputs": [
    {
     "name": "stdout",
     "output_type": "stream",
     "text": [
      "shape: (626_765, 9)\n",
      "┌────────┬────────────┬───────────┬────────────┬───┬────────────┬───────────┬───────────┬──────────┐\n",
      "│ car_id ┆ timestamp  ┆ latitude  ┆ longitude  ┆ … ┆ notificati ┆ delta_lat ┆ delta_lon ┆ distance │\n",
      "│ ---    ┆ ---        ┆ ---       ┆ ---        ┆   ┆ on_time    ┆ itude     ┆ gitude    ┆ ---      │\n",
      "│ str    ┆ datetime[μ ┆ f64       ┆ f64        ┆   ┆ ---        ┆ ---       ┆ ---       ┆ f64      │\n",
      "│        ┆ s]         ┆           ┆            ┆   ┆ duration[μ ┆ f64       ┆ f64       ┆          │\n",
      "│        ┆            ┆           ┆            ┆   ┆ s]         ┆           ┆           ┆          │\n",
      "╞════════╪════════════╪═══════════╪════════════╪═══╪════════════╪═══════════╪═══════════╪══════════╡\n",
      "│ car_0  ┆ 2023-01-01 ┆ 22.215707 ┆ -87.247012 ┆ … ┆ null       ┆ null      ┆ null      ┆ NaN      │\n",
      "│        ┆ 00:00:00   ┆           ┆            ┆   ┆            ┆           ┆           ┆          │\n",
      "│ car_0  ┆ 2023-01-01 ┆ 22.215707 ┆ -87.247012 ┆ … ┆ 12s        ┆ 0.0       ┆ 0.0       ┆ 0.0      │\n",
      "│        ┆ 00:00:12.0 ┆           ┆            ┆   ┆ 72124µs    ┆           ┆           ┆          │\n",
      "│        ┆ 72124      ┆           ┆            ┆   ┆            ┆           ┆           ┆          │\n",
      "│ car_0  ┆ 2023-01-01 ┆ 22.215707 ┆ -87.247012 ┆ … ┆ 1m 36s     ┆ 0.0       ┆ 0.0       ┆ 0.0      │\n",
      "│        ┆ 00:01:48.5 ┆           ┆            ┆   ┆ 516729µs   ┆           ┆           ┆          │\n",
      "│        ┆ 88853      ┆           ┆            ┆   ┆            ┆           ┆           ┆          │\n",
      "│ car_0  ┆ 2023-01-01 ┆ 22.215707 ┆ -87.247012 ┆ … ┆ 1m 34s     ┆ 0.0       ┆ 0.0       ┆ 0.0      │\n",
      "│        ┆ 00:03:23.4 ┆           ┆            ┆   ┆ 890695µs   ┆           ┆           ┆          │\n",
      "│        ┆ 79548      ┆           ┆            ┆   ┆            ┆           ┆           ┆          │\n",
      "│ car_0  ┆ 2023-01-01 ┆ 22.215707 ┆ -87.247012 ┆ … ┆ 57s        ┆ 0.0       ┆ 0.0       ┆ 0.0      │\n",
      "│        ┆ 00:04:20.6 ┆           ┆            ┆   ┆ 156114µs   ┆           ┆           ┆          │\n",
      "│        ┆ 35662      ┆           ┆            ┆   ┆            ┆           ┆           ┆          │\n",
      "│ …      ┆ …          ┆ …         ┆ …          ┆ … ┆ …          ┆ …         ┆ …         ┆ …        │\n",
      "│ car_99 ┆ 2023-01-07 ┆ 28.315187 ┆ -109.47264 ┆ … ┆ 1m 24s     ┆ 0.0       ┆ 0.0       ┆ 0.0      │\n",
      "│        ┆ 23:49:06.1 ┆           ┆            ┆   ┆ 220704µs   ┆           ┆           ┆          │\n",
      "│        ┆ 92804      ┆           ┆            ┆   ┆            ┆           ┆           ┆          │\n",
      "│ car_99 ┆ 2023-01-07 ┆ 28.315187 ┆ -109.47264 ┆ … ┆ 25s        ┆ 0.0       ┆ 0.0       ┆ 0.0      │\n",
      "│        ┆ 23:49:32.1 ┆           ┆            ┆   ┆ 957077µs   ┆           ┆           ┆          │\n",
      "│        ┆ 49881      ┆           ┆            ┆   ┆            ┆           ┆           ┆          │\n",
      "│ car_99 ┆ 2023-01-07 ┆ 28.315187 ┆ -109.47264 ┆ … ┆ 1m 55s     ┆ 0.0       ┆ 0.0       ┆ 0.0      │\n",
      "│        ┆ 23:51:27.5 ┆           ┆            ┆   ┆ 369860µs   ┆           ┆           ┆          │\n",
      "│        ┆ 19741      ┆           ┆            ┆   ┆            ┆           ┆           ┆          │\n",
      "│ car_99 ┆ 2023-01-07 ┆ 28.315187 ┆ -109.47264 ┆ … ┆ 6m 27s     ┆ 0.0       ┆ 0.0       ┆ 0.0      │\n",
      "│        ┆ 23:57:54.6 ┆           ┆            ┆   ┆ 97749µs    ┆           ┆           ┆          │\n",
      "│        ┆ 17490      ┆           ┆            ┆   ┆            ┆           ┆           ┆          │\n",
      "│ car_99 ┆ 2023-01-07 ┆ 28.315187 ┆ -109.47264 ┆ … ┆ 40s        ┆ 0.0       ┆ 0.0       ┆ 0.0      │\n",
      "│        ┆ 23:58:34.9 ┆           ┆            ┆   ┆ 304451µs   ┆           ┆           ┆          │\n",
      "│        ┆ 21941      ┆           ┆            ┆   ┆            ┆           ┆           ┆          │\n",
      "└────────┴────────────┴───────────┴────────────┴───┴────────────┴───────────┴───────────┴──────────┘\n"
     ]
    }
   ],
   "source": [
    "def haversine_distance(groups):\n",
    "    earth_radius = 6371.0\n",
    "\n",
    "    delta_lat = groups[0].to_numpy()\n",
    "    delta_lon = groups[1].to_numpy()\n",
    "\n",
    "    delta_lat = [math.radians(x) for x in delta_lat]\n",
    "    delta_lon = [math.radians(x) for x in delta_lon]\n",
    "\n",
    "    a = [(math.sin(lat / 2))**2 + math.cos(lat) * (math.sin(lon / 2))**2 for lat, lon in zip(delta_lat, delta_lon)]\n",
    "    c = [2 * math.atan2(math.sqrt(x), math.sqrt(1 - x)) for x in a]\n",
    "    distance = [earth_radius * x for x in c]\n",
    "\n",
    "    return pl.Series(distance)\n",
    "\n",
    "data = data.with_columns([\n",
    "    pl.map_groups([\"delta_latitude\", \"delta_longitude\"], haversine_distance).alias(\"distance\")\n",
    "])\n",
    "\n",
    "print(data.collect())"
   ]
  },
  {
   "cell_type": "markdown",
   "metadata": {},
   "source": [
    "3. Crea intervalos de `x` minutos por carro. Como el numero de notificaciones en esos intervalos no es uniforme tienes que buscar funciones de polars especificas, pero ademas tienen que ser por vehiculo, pues tienen que ser del mismo. Revisa las funciones de `group_by` `dynamic` y `rolling`.\n",
    "   1. Computa la media, mediana, varianza, max y min de `notification_time` los intervalos de `x` minutos\n",
    "   2. Computa la media, mediana, varianza, max y min de `distance`\n"
   ]
  },
  {
   "cell_type": "code",
   "execution_count": 498,
   "metadata": {},
   "outputs": [
    {
     "name": "stdout",
     "output_type": "stream",
     "text": [
      "shape: (626_765, 10)\n",
      "┌────────┬────────────┬───────────┬────────────┬───┬────────────┬───────────┬──────────┬───────────┐\n",
      "│ car_id ┆ timestamp  ┆ latitude  ┆ longitude  ┆ … ┆ delta_lati ┆ delta_lon ┆ distance ┆ interval  │\n",
      "│ ---    ┆ ---        ┆ ---       ┆ ---        ┆   ┆ tude       ┆ gitude    ┆ ---      ┆ ---       │\n",
      "│ str    ┆ datetime[μ ┆ f64       ┆ f64        ┆   ┆ ---        ┆ ---       ┆ f64      ┆ datetime[ │\n",
      "│        ┆ s]         ┆           ┆            ┆   ┆ f64        ┆ f64       ┆          ┆ μs]       │\n",
      "╞════════╪════════════╪═══════════╪════════════╪═══╪════════════╪═══════════╪══════════╪═══════════╡\n",
      "│ car_0  ┆ 2023-01-01 ┆ 22.215707 ┆ -87.247012 ┆ … ┆ null       ┆ null      ┆ NaN      ┆ 2023-01-0 │\n",
      "│        ┆ 00:00:00   ┆           ┆            ┆   ┆            ┆           ┆          ┆ 1         │\n",
      "│        ┆            ┆           ┆            ┆   ┆            ┆           ┆          ┆ 00:00:00  │\n",
      "│ car_0  ┆ 2023-01-01 ┆ 22.215707 ┆ -87.247012 ┆ … ┆ 0.0        ┆ 0.0       ┆ 0.0      ┆ 2023-01-0 │\n",
      "│        ┆ 00:00:12.0 ┆           ┆            ┆   ┆            ┆           ┆          ┆ 1         │\n",
      "│        ┆ 72124      ┆           ┆            ┆   ┆            ┆           ┆          ┆ 00:00:00  │\n",
      "│ car_0  ┆ 2023-01-01 ┆ 22.215707 ┆ -87.247012 ┆ … ┆ 0.0        ┆ 0.0       ┆ 0.0      ┆ 2023-01-0 │\n",
      "│        ┆ 00:01:48.5 ┆           ┆            ┆   ┆            ┆           ┆          ┆ 1         │\n",
      "│        ┆ 88853      ┆           ┆            ┆   ┆            ┆           ┆          ┆ 00:00:00  │\n",
      "│ car_0  ┆ 2023-01-01 ┆ 22.215707 ┆ -87.247012 ┆ … ┆ 0.0        ┆ 0.0       ┆ 0.0      ┆ 2023-01-0 │\n",
      "│        ┆ 00:03:23.4 ┆           ┆            ┆   ┆            ┆           ┆          ┆ 1         │\n",
      "│        ┆ 79548      ┆           ┆            ┆   ┆            ┆           ┆          ┆ 00:00:00  │\n",
      "│ car_0  ┆ 2023-01-01 ┆ 22.215707 ┆ -87.247012 ┆ … ┆ 0.0        ┆ 0.0       ┆ 0.0      ┆ 2023-01-0 │\n",
      "│        ┆ 00:04:20.6 ┆           ┆            ┆   ┆            ┆           ┆          ┆ 1         │\n",
      "│        ┆ 35662      ┆           ┆            ┆   ┆            ┆           ┆          ┆ 00:00:00  │\n",
      "│ …      ┆ …          ┆ …         ┆ …          ┆ … ┆ …          ┆ …         ┆ …        ┆ …         │\n",
      "│ car_99 ┆ 2023-01-07 ┆ 28.315187 ┆ -109.47264 ┆ … ┆ 0.0        ┆ 0.0       ┆ 0.0      ┆ 2023-01-0 │\n",
      "│        ┆ 23:49:06.1 ┆           ┆            ┆   ┆            ┆           ┆          ┆ 7         │\n",
      "│        ┆ 92804      ┆           ┆            ┆   ┆            ┆           ┆          ┆ 23:00:00  │\n",
      "│ car_99 ┆ 2023-01-07 ┆ 28.315187 ┆ -109.47264 ┆ … ┆ 0.0        ┆ 0.0       ┆ 0.0      ┆ 2023-01-0 │\n",
      "│        ┆ 23:49:32.1 ┆           ┆            ┆   ┆            ┆           ┆          ┆ 7         │\n",
      "│        ┆ 49881      ┆           ┆            ┆   ┆            ┆           ┆          ┆ 23:00:00  │\n",
      "│ car_99 ┆ 2023-01-07 ┆ 28.315187 ┆ -109.47264 ┆ … ┆ 0.0        ┆ 0.0       ┆ 0.0      ┆ 2023-01-0 │\n",
      "│        ┆ 23:51:27.5 ┆           ┆            ┆   ┆            ┆           ┆          ┆ 7         │\n",
      "│        ┆ 19741      ┆           ┆            ┆   ┆            ┆           ┆          ┆ 23:00:00  │\n",
      "│ car_99 ┆ 2023-01-07 ┆ 28.315187 ┆ -109.47264 ┆ … ┆ 0.0        ┆ 0.0       ┆ 0.0      ┆ 2023-01-0 │\n",
      "│        ┆ 23:57:54.6 ┆           ┆            ┆   ┆            ┆           ┆          ┆ 7         │\n",
      "│        ┆ 17490      ┆           ┆            ┆   ┆            ┆           ┆          ┆ 23:00:00  │\n",
      "│ car_99 ┆ 2023-01-07 ┆ 28.315187 ┆ -109.47264 ┆ … ┆ 0.0        ┆ 0.0       ┆ 0.0      ┆ 2023-01-0 │\n",
      "│        ┆ 23:58:34.9 ┆           ┆            ┆   ┆            ┆           ┆          ┆ 7         │\n",
      "│        ┆ 21941      ┆           ┆            ┆   ┆            ┆           ┆          ┆ 23:00:00  │\n",
      "└────────┴────────────┴───────────┴────────────┴───┴────────────┴───────────┴──────────┴───────────┘\n"
     ]
    }
   ],
   "source": [
    "data = data.with_columns(pl.col('timestamp').dt.truncate('1h').alias('interval'))\n",
    "print(data.collect())"
   ]
  },
  {
   "cell_type": "code",
   "execution_count": 499,
   "metadata": {},
   "outputs": [
    {
     "name": "stdout",
     "output_type": "stream",
     "text": [
      "shape: (16_840, 10)\n",
      "┌────────┬────────────┬────────────┬───────────┬───┬───────────┬───────────┬───────────┬───────────┐\n",
      "│ car_id ┆ interval   ┆ notificati ┆ notificat ┆ … ┆ distance_ ┆ distance_ ┆ distance_ ┆ desviacio │\n",
      "│ ---    ┆ ---        ┆ on_time_pr ┆ ion_time_ ┆   ┆ promedio  ┆ minimo    ┆ maximo    ┆ n_distanc │\n",
      "│ str    ┆ datetime[μ ┆ omedio     ┆ minimo    ┆   ┆ ---       ┆ ---       ┆ ---       ┆ e         │\n",
      "│        ┆ s]         ┆ ---        ┆ ---       ┆   ┆ f64       ┆ f64       ┆ f64       ┆ ---       │\n",
      "│        ┆            ┆ duration[μ ┆ duration[ ┆   ┆           ┆           ┆           ┆ f64       │\n",
      "│        ┆            ┆ s]         ┆ μs]       ┆   ┆           ┆           ┆           ┆           │\n",
      "╞════════╪════════════╪════════════╪═══════════╪═══╪═══════════╪═══════════╪═══════════╪═══════════╡\n",
      "│ car_0  ┆ 2023-01-01 ┆ 2m 21s     ┆ 497391µs  ┆ … ┆ NaN       ┆ 0.0       ┆ 0.670633  ┆ NaN       │\n",
      "│        ┆ 00:00:00   ┆ 755313µs   ┆           ┆   ┆           ┆           ┆           ┆           │\n",
      "│ car_0  ┆ 2023-01-01 ┆ 16m 38s    ┆ 3m 17s    ┆ … ┆ 1.183899  ┆ 1.068877  ┆ 1.29892   ┆ 0.162665  │\n",
      "│        ┆ 01:00:00   ┆ 936235µs   ┆ 872471µs  ┆   ┆           ┆           ┆           ┆           │\n",
      "│ car_0  ┆ 2023-01-01 ┆ 5m 10s     ┆ 732615µs  ┆ … ┆ 0.078937  ┆ 0.0       ┆ 0.835735  ┆ 0.23032   │\n",
      "│        ┆ 02:00:00   ┆ 709452µs   ┆           ┆   ┆           ┆           ┆           ┆           │\n",
      "│ car_0  ┆ 2023-01-01 ┆ 4m 20s     ┆ 8s        ┆ … ┆ 0.092097  ┆ 0.0       ┆ 0.984695  ┆ 0.274552  │\n",
      "│        ┆ 03:00:00   ┆ 34368µs    ┆ 955828µs  ┆   ┆           ┆           ┆           ┆           │\n",
      "│ car_0  ┆ 2023-01-01 ┆ 4m 33s     ┆ 4s        ┆ … ┆ 0.180754  ┆ 0.0       ┆ 1.0716    ┆ 0.403641  │\n",
      "│        ┆ 04:00:00   ┆ 798350µs   ┆ 290107µs  ┆   ┆           ┆           ┆           ┆           │\n",
      "│ …      ┆ …          ┆ …          ┆ …         ┆ … ┆ …         ┆ …         ┆ …         ┆ …         │\n",
      "│ car_99 ┆ 2023-01-07 ┆ 5m 20s     ┆ 6s        ┆ … ┆ 0.243792  ┆ 0.0       ┆ 1.346587  ┆ 0.499589  │\n",
      "│        ┆ 19:00:00   ┆ 350892µs   ┆ 533831µs  ┆   ┆           ┆           ┆           ┆           │\n",
      "│ car_99 ┆ 2023-01-07 ┆ 2m 6s      ┆ 181393µs  ┆ … ┆ 0.060676  ┆ 0.0       ┆ 0.944554  ┆ 0.231087  │\n",
      "│        ┆ 20:00:00   ┆ 706796µs   ┆           ┆   ┆           ┆           ┆           ┆           │\n",
      "│ car_99 ┆ 2023-01-07 ┆ 5m 47s     ┆ 3s        ┆ … ┆ 0.154261  ┆ 0.0       ┆ 1.192978  ┆ 0.37789   │\n",
      "│        ┆ 21:00:00   ┆ 857790µs   ┆ 216267µs  ┆   ┆           ┆           ┆           ┆           │\n",
      "│ car_99 ┆ 2023-01-07 ┆ 11m 32s    ┆ 4m 37s    ┆ … ┆ 0.668461  ┆ 0.0       ┆ 1.142445  ┆ 0.595535  │\n",
      "│        ┆ 22:00:00   ┆ 476734µs   ┆ 430203µs  ┆   ┆           ┆           ┆           ┆           │\n",
      "│ car_99 ┆ 2023-01-07 ┆ 4m 25s     ┆ 395965µs  ┆ … ┆ 0.079908  ┆ 0.0       ┆ 1.092179  ┆ 0.263695  │\n",
      "│        ┆ 23:00:00   ┆ 746097µs   ┆           ┆   ┆           ┆           ┆           ┆           │\n",
      "└────────┴────────────┴────────────┴───────────┴───┴───────────┴───────────┴───────────┴───────────┘\n"
     ]
    }
   ],
   "source": [
    "resultado = data.group_by(\"car_id\", \"interval\", maintain_order=True).agg([\n",
    "    pl.col(\"notification_time\").mean().alias(\"notification_time_promedio\"),\n",
    "    pl.col(\"notification_time\").min().alias(\"notification_time_minimo\"),\n",
    "    pl.col(\"notification_time\").max().alias(\"notification_time_maximo\"),\n",
    "    pl.col(\"notification_time\").std().alias(\"desviacion_notification_time\"),\n",
    "    pl.col(\"distance\").mean().alias(\"distance_promedio\"),\n",
    "    pl.col(\"distance\").min().alias(\"distance_minimo\"),\n",
    "    pl.col(\"distance\").max().alias(\"distance_maximo\"),\n",
    "    pl.col(\"distance\").std().alias(\"desviacion_distance\")\n",
    "])\n",
    "\n",
    "print(resultado.collect())"
   ]
  }
 ],
 "metadata": {
  "kernelspec": {
   "display_name": "itam",
   "language": "python",
   "name": "python3"
  },
  "language_info": {
   "codemirror_mode": {
    "name": "ipython",
    "version": 3
   },
   "file_extension": ".py",
   "mimetype": "text/x-python",
   "name": "python",
   "nbconvert_exporter": "python",
   "pygments_lexer": "ipython3",
   "version": "3.10.5"
  }
 },
 "nbformat": 4,
 "nbformat_minor": 2
}
