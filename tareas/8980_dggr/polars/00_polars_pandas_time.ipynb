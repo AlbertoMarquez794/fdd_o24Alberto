{
 "cells": [
  {
   "cell_type": "markdown",
   "metadata": {},
   "source": [
    "<a target=\"_blank\" href=\"https://colab.research.google.com/github/sonder-art/fdd_o23/blob/main/codigo/polars/00_polars_pandas_time.ipynb\">\n",
    "  <img src=\"https://colab.research.google.com/assets/colab-badge.svg\" alt=\"Open In Colab\"/>\n",
    "</a>"
   ]
  },
  {
   "cell_type": "code",
   "execution_count": 6,
   "metadata": {},
   "outputs": [
    {
     "name": "stdout",
     "output_type": "stream",
     "text": [
      "Collecting polars\n",
      "  Using cached polars-0.20.19-cp38-abi3-macosx_11_0_arm64.whl.metadata (14 kB)\n",
      "Downloading polars-0.20.19-cp38-abi3-macosx_11_0_arm64.whl (22.8 MB)\n",
      "\u001b[2K   \u001b[90m━━━━━━━━━━━━━━━━━━━━━━━━━━━━━━━━━━━━━━━━\u001b[0m \u001b[32m22.8/22.8 MB\u001b[0m \u001b[31m2.3 MB/s\u001b[0m eta \u001b[36m0:00:00\u001b[0m00:01\u001b[0m00:01\u001b[0m\n",
      "\u001b[?25hInstalling collected packages: polars\n",
      "Successfully installed polars-0.20.19\n",
      "Collecting pyarrow\n",
      "  Downloading pyarrow-15.0.2-cp312-cp312-macosx_11_0_arm64.whl.metadata (3.0 kB)\n",
      "Requirement already satisfied: numpy<2,>=1.16.6 in /Users/gayou/fdd_p24/.venv/lib/python3.12/site-packages (from pyarrow) (1.26.4)\n",
      "Downloading pyarrow-15.0.2-cp312-cp312-macosx_11_0_arm64.whl (24.2 MB)\n",
      "\u001b[2K   \u001b[90m━━━━━━━━━━━━━━━━━━━━━━━━━━━━━━━━━━━━━━━━\u001b[0m \u001b[32m24.2/24.2 MB\u001b[0m \u001b[31m797.4 kB/s\u001b[0m eta \u001b[36m0:00:00\u001b[0m00:01\u001b[0m00:02\u001b[0m\n",
      "\u001b[?25hInstalling collected packages: pyarrow\n",
      "Successfully installed pyarrow-15.0.2\n"
     ]
    }
   ],
   "source": [
    "!pip install polars\n",
    "! pip install pyarrow"
   ]
  },
  {
   "cell_type": "code",
   "execution_count": 7,
   "metadata": {},
   "outputs": [],
   "source": [
    "import pandas as pd\n",
    "import polars as pl\n",
    "import numpy as np\n"
   ]
  },
  {
   "cell_type": "code",
   "execution_count": 8,
   "metadata": {},
   "outputs": [],
   "source": [
    "# Configuramos el número de filas\n",
    "num_rows = 10_000_000\n",
    "\n",
    "# Creamos un DataFrame de pandas\n",
    "df_pandas = pd.DataFrame({\n",
    "    \"A\": np.random.rand(num_rows),\n",
    "    \"B\": np.random.randint(0, 100, num_rows)\n",
    "})\n",
    "\n",
    "# Convertimos el DataFrame de pandas a un DataFrame de Polars\n",
    "df_polars = pl.from_pandas(df_pandas)\n"
   ]
  },
  {
   "cell_type": "markdown",
   "metadata": {},
   "source": [
    "# Operaciones a comparar"
   ]
  },
  {
   "cell_type": "code",
   "execution_count": 10,
   "metadata": {},
   "outputs": [],
   "source": [
    "import timeit\n"
   ]
  },
  {
   "cell_type": "markdown",
   "metadata": {},
   "source": [
    "## Filtrado"
   ]
  },
  {
   "cell_type": "code",
   "execution_count": 12,
   "metadata": {},
   "outputs": [
    {
     "name": "stdout",
     "output_type": "stream",
     "text": [
      "Pandas Filtrado: 0.3827826250344515 segundos\n",
      "Polars Filtrado: 0.07537025003693998 segundos\n"
     ]
    }
   ],
   "source": [
    "\n",
    "# Filtrado en pandas\n",
    "def filter_pandas():\n",
    "    return df_pandas[df_pandas[\"A\"] < 0.5]\n",
    "\n",
    "# Filtrado en Polars\n",
    "def filter_polars():\n",
    "    return df_polars.filter(pl.col(\"A\") < 0.5)\n",
    "\n",
    "time_pandas_filter = timeit.timeit(filter_pandas, number=1)\n",
    "time_polars_filter = timeit.timeit(filter_polars, number=1)\n",
    "\n",
    "print(f\"Pandas Filtrado: {time_pandas_filter} segundos\")\n",
    "print(f\"Polars Filtrado: {time_polars_filter} segundos\")\n"
   ]
  },
  {
   "cell_type": "markdown",
   "metadata": {},
   "source": [
    "## Agregacion"
   ]
  },
  {
   "cell_type": "code",
   "execution_count": 15,
   "metadata": {},
   "outputs": [
    {
     "name": "stdout",
     "output_type": "stream",
     "text": [
      "Pandas Agregación: 0.15800670895259827 segundos\n",
      "Polars Agregación: 0.034853207995183766 segundos\n"
     ]
    },
    {
     "name": "stderr",
     "output_type": "stream",
     "text": [
      "/var/folders/6q/cms58_810s5_h8d5z81swljr0000gn/T/ipykernel_79826/2454587715.py:7: DeprecationWarning: `groupby` is deprecated. It has been renamed to `group_by`.\n",
      "  return df_polars.groupby(\"B\").agg(pl.col(\"A\").mean())\n"
     ]
    },
    {
     "data": {
      "text/html": [
       "<div>\n",
       "<style scoped>\n",
       "    .dataframe tbody tr th:only-of-type {\n",
       "        vertical-align: middle;\n",
       "    }\n",
       "\n",
       "    .dataframe tbody tr th {\n",
       "        vertical-align: top;\n",
       "    }\n",
       "\n",
       "    .dataframe thead th {\n",
       "        text-align: right;\n",
       "    }\n",
       "</style>\n",
       "<table border=\"1\" class=\"dataframe\">\n",
       "  <thead>\n",
       "    <tr style=\"text-align: right;\">\n",
       "      <th></th>\n",
       "      <th>A</th>\n",
       "      <th>B</th>\n",
       "    </tr>\n",
       "  </thead>\n",
       "  <tbody>\n",
       "    <tr>\n",
       "      <th>0</th>\n",
       "      <td>0.921443</td>\n",
       "      <td>97</td>\n",
       "    </tr>\n",
       "    <tr>\n",
       "      <th>1</th>\n",
       "      <td>0.452158</td>\n",
       "      <td>84</td>\n",
       "    </tr>\n",
       "    <tr>\n",
       "      <th>2</th>\n",
       "      <td>0.583124</td>\n",
       "      <td>85</td>\n",
       "    </tr>\n",
       "    <tr>\n",
       "      <th>3</th>\n",
       "      <td>0.672659</td>\n",
       "      <td>26</td>\n",
       "    </tr>\n",
       "    <tr>\n",
       "      <th>4</th>\n",
       "      <td>0.993347</td>\n",
       "      <td>81</td>\n",
       "    </tr>\n",
       "    <tr>\n",
       "      <th>...</th>\n",
       "      <td>...</td>\n",
       "      <td>...</td>\n",
       "    </tr>\n",
       "    <tr>\n",
       "      <th>9999995</th>\n",
       "      <td>0.776835</td>\n",
       "      <td>53</td>\n",
       "    </tr>\n",
       "    <tr>\n",
       "      <th>9999996</th>\n",
       "      <td>0.780732</td>\n",
       "      <td>85</td>\n",
       "    </tr>\n",
       "    <tr>\n",
       "      <th>9999997</th>\n",
       "      <td>0.092155</td>\n",
       "      <td>17</td>\n",
       "    </tr>\n",
       "    <tr>\n",
       "      <th>9999998</th>\n",
       "      <td>0.238079</td>\n",
       "      <td>57</td>\n",
       "    </tr>\n",
       "    <tr>\n",
       "      <th>9999999</th>\n",
       "      <td>0.145584</td>\n",
       "      <td>77</td>\n",
       "    </tr>\n",
       "  </tbody>\n",
       "</table>\n",
       "<p>10000000 rows × 2 columns</p>\n",
       "</div>"
      ],
      "text/plain": [
       "                A   B\n",
       "0        0.921443  97\n",
       "1        0.452158  84\n",
       "2        0.583124  85\n",
       "3        0.672659  26\n",
       "4        0.993347  81\n",
       "...           ...  ..\n",
       "9999995  0.776835  53\n",
       "9999996  0.780732  85\n",
       "9999997  0.092155  17\n",
       "9999998  0.238079  57\n",
       "9999999  0.145584  77\n",
       "\n",
       "[10000000 rows x 2 columns]"
      ]
     },
     "execution_count": 15,
     "metadata": {},
     "output_type": "execute_result"
    }
   ],
   "source": [
    "# Agregación en pandas\n",
    "def aggregate_pandas():\n",
    "    return df_pandas.groupby(\"B\").agg({\"A\": \"mean\"})\n",
    "\n",
    "# Agregación en Polars\n",
    "def aggregate_polars():\n",
    "    return df_polars.groupby(\"B\").agg(pl.col(\"A\").mean())\n",
    "\n",
    "time_pandas_agg = timeit.timeit(aggregate_pandas, number=1)\n",
    "time_polars_agg = timeit.timeit(aggregate_polars, number=1)\n",
    "\n",
    "print(f\"Pandas Agregación: {time_pandas_agg} segundos\")\n",
    "print(f\"Polars Agregación: {time_polars_agg} segundos\")\n",
    "\n",
    "df_pandas\n"
   ]
  },
  {
   "cell_type": "markdown",
   "metadata": {},
   "source": [
    "## Operaciones Columna"
   ]
  },
  {
   "cell_type": "code",
   "execution_count": 25,
   "metadata": {},
   "outputs": [
    {
     "name": "stdout",
     "output_type": "stream",
     "text": [
      "Pandas Operaciones de Columna: 0.05672362504992634 segundos\n",
      "Polars Operaciones de Columna: 0.025430375011637807 segundos\n"
     ]
    }
   ],
   "source": [
    "# Operaciones de columna en pandas\n",
    "def column_ops_pandas():\n",
    "    df_pandas[\"C\"] = df_pandas[\"A\"] + df_pandas[\"B\"]\n",
    "\n",
    "# Operaciones de columna en Polars\n",
    "def column_ops_polars():\n",
    "    df_polars.with_columns((pl.col(\"A\") + pl.col(\"B\")).alias(\"C\"))\n",
    "\n",
    "time_pandas_col_ops = timeit.timeit(column_ops_pandas, number=1)\n",
    "time_polars_col_ops = timeit.timeit(column_ops_polars, number=1)\n",
    "\n",
    "print(f\"Pandas Operaciones de Columna: {time_pandas_col_ops} segundos\")\n",
    "print(f\"Polars Operaciones de Columna: {time_polars_col_ops} segundos\")\n"
   ]
  },
  {
   "cell_type": "markdown",
   "metadata": {},
   "source": [
    "# Guardar Datos"
   ]
  },
  {
   "cell_type": "code",
   "execution_count": 26,
   "metadata": {},
   "outputs": [],
   "source": [
    "import os"
   ]
  },
  {
   "cell_type": "code",
   "execution_count": 27,
   "metadata": {},
   "outputs": [
    {
     "name": "stdout",
     "output_type": "stream",
     "text": [
      "Tiempo de escritura en CSV (pandas): 20.561170249944553 segundos\n",
      "Tamaño del archivo CSV: 403519076 bytes\n"
     ]
    }
   ],
   "source": [
    "def write_csv_pandas():\n",
    "    df_pandas.to_csv(\"data_pandas.csv\", index=False)\n",
    "\n",
    "time_write_csv_pandas = timeit.timeit(write_csv_pandas, number=1)\n",
    "print(f\"Tiempo de escritura en CSV (pandas): {time_write_csv_pandas} segundos\")\n",
    "\n",
    "# Tamaño del archivo CSV\n",
    "size_csv = os.path.getsize(\"data_pandas.csv\")\n",
    "print(f\"Tamaño del archivo CSV: {size_csv} bytes\")\n"
   ]
  },
  {
   "cell_type": "code",
   "execution_count": 32,
   "metadata": {},
   "outputs": [
    {
     "name": "stdout",
     "output_type": "stream",
     "text": [
      "Tiempo de escritura en Parquet (Polars): 0.6530922920210287 segundos\n",
      "Tamaño del archivo Parquet: 86367297 bytes\n"
     ]
    }
   ],
   "source": [
    "def write_parquet_polars():\n",
    "    df_polars.write_parquet(\"data_polars.parquet\")\n",
    "\n",
    "time_write_parquet_polars = timeit.timeit(write_parquet_polars, number=1)\n",
    "print(f\"Tiempo de escritura en Parquet (Polars): {time_write_parquet_polars} segundos\")\n",
    "\n",
    "# Tamaño del archivo Parquet\n",
    "size_parquet = os.path.getsize(\"data_polars.parquet\")\n",
    "print(f\"Tamaño del archivo Parquet: {size_parquet} bytes\")\n"
   ]
  },
  {
   "cell_type": "markdown",
   "metadata": {},
   "source": [
    "## Leer Datos"
   ]
  },
  {
   "cell_type": "code",
   "execution_count": 33,
   "metadata": {},
   "outputs": [
    {
     "name": "stdout",
     "output_type": "stream",
     "text": [
      "Tiempo de lectura desde CSV (pandas): 1.8900433329399675 segundos\n"
     ]
    }
   ],
   "source": [
    "def read_csv_pandas():\n",
    "    pd.read_csv(\"data_pandas.csv\")\n",
    "\n",
    "time_read_csv_pandas = timeit.timeit(read_csv_pandas, number=1)\n",
    "print(f\"Tiempo de lectura desde CSV (pandas): {time_read_csv_pandas} segundos\")\n"
   ]
  },
  {
   "cell_type": "code",
   "execution_count": 36,
   "metadata": {},
   "outputs": [
    {
     "name": "stdout",
     "output_type": "stream",
     "text": [
      "Tiempo de lectura desde Parquet (Polars): 0.06913816602900624 segundos\n"
     ]
    }
   ],
   "source": [
    "def read_parquet_polars():\n",
    "    pl.read_parquet(\"data_polars.parquet\")\n",
    "\n",
    "time_read_parquet_polars = timeit.timeit(read_parquet_polars, number=1)\n",
    "print(f\"Tiempo de lectura desde Parquet (Polars): {time_read_parquet_polars} segundos\")\n"
   ]
  }
 ],
 "metadata": {
  "kernelspec": {
   "display_name": ".venv",
   "language": "python",
   "name": "python3"
  },
  "language_info": {
   "codemirror_mode": {
    "name": "ipython",
    "version": 3
   },
   "file_extension": ".py",
   "mimetype": "text/x-python",
   "name": "python",
   "nbconvert_exporter": "python",
   "pygments_lexer": "ipython3",
   "version": "3.12.2"
  }
 },
 "nbformat": 4,
 "nbformat_minor": 2
}
